{
 "cells": [
  {
   "cell_type": "code",
   "execution_count": 1,
   "metadata": {},
   "outputs": [],
   "source": [
    "# Import Packages\n",
    "import pandas as pd\n",
    "import numpy as np\n",
    "import seaborn as sns\n",
    "import matplotlib.pyplot as plt"
   ]
  },
  {
   "cell_type": "markdown",
   "metadata": {},
   "source": [
    "# Center For Community Service\n",
    "#### Project: Data Analysis on E-bike Survey Collected on 04/29/2023"
   ]
  },
  {
   "cell_type": "markdown",
   "metadata": {},
   "source": [
    "## Part I: Data Cleaning"
   ]
  },
  {
   "cell_type": "code",
   "execution_count": 2,
   "metadata": {},
   "outputs": [
    {
     "data": {
      "text/html": [
       "<div>\n",
       "<style scoped>\n",
       "    .dataframe tbody tr th:only-of-type {\n",
       "        vertical-align: middle;\n",
       "    }\n",
       "\n",
       "    .dataframe tbody tr th {\n",
       "        vertical-align: top;\n",
       "    }\n",
       "\n",
       "    .dataframe thead th {\n",
       "        text-align: right;\n",
       "    }\n",
       "</style>\n",
       "<table border=\"1\" class=\"dataframe\">\n",
       "  <thead>\n",
       "    <tr style=\"text-align: right;\">\n",
       "      <th></th>\n",
       "      <th>Timestamp</th>\n",
       "      <th>Who took this survey (initials)</th>\n",
       "      <th>Are you a bike rider?</th>\n",
       "      <th>What is your zip code?</th>\n",
       "      <th>Do you or anyone in your family ride an e-bike?</th>\n",
       "      <th>How do you commute - to work, school, or for other purposes?</th>\n",
       "      <th>How far (ROUND TRIP) do you commute for any purpose each day?</th>\n",
       "      <th>Would you commute by e-bike if given the opportunity?</th>\n",
       "      <th>Do you know the differences between Class 1, Class 1, and Class 3 e-bikes?</th>\n",
       "      <th>How comfortable would you be storing your bike in a bike locker while you are commuting? -- secure private locker like this:</th>\n",
       "      <th>How comfortable would you be storing your bike in a bike locker while you are commuting? -- group locker like this:</th>\n",
       "      <th>How familiar are you and those in your family with the rules of the road for e-bikes?</th>\n",
       "      <th>How concerned are you about e-bikes and e-bike safety in San Diego County?</th>\n",
       "      <th>Are you interested in learning more about e-bikes?</th>\n",
       "      <th>Any additional comments?</th>\n",
       "      <th>Who's survey is this?</th>\n",
       "      <th>Unnamed: 16</th>\n",
       "    </tr>\n",
       "  </thead>\n",
       "  <tbody>\n",
       "    <tr>\n",
       "      <th>0</th>\n",
       "      <td>April 29, 2023</td>\n",
       "      <td>JTB</td>\n",
       "      <td>No</td>\n",
       "      <td>92115.0</td>\n",
       "      <td>No</td>\n",
       "      <td>I do not commute</td>\n",
       "      <td>NaN</td>\n",
       "      <td>Maybe</td>\n",
       "      <td>No</td>\n",
       "      <td>Very</td>\n",
       "      <td>Very</td>\n",
       "      <td>Don't know</td>\n",
       "      <td>Not very</td>\n",
       "      <td>No</td>\n",
       "      <td>NaN</td>\n",
       "      <td>carsonator0898@gmail.com</td>\n",
       "      <td>NaN</td>\n",
       "    </tr>\n",
       "    <tr>\n",
       "      <th>1</th>\n",
       "      <td>April 29, 2023</td>\n",
       "      <td>JTB</td>\n",
       "      <td>No</td>\n",
       "      <td>92129.0</td>\n",
       "      <td>No</td>\n",
       "      <td>Car</td>\n",
       "      <td>No</td>\n",
       "      <td>No</td>\n",
       "      <td>A bit</td>\n",
       "      <td>NaN</td>\n",
       "      <td>NaN</td>\n",
       "      <td>Not very</td>\n",
       "      <td>somewhat</td>\n",
       "      <td>No</td>\n",
       "      <td>NaN</td>\n",
       "      <td>NaN</td>\n",
       "      <td>NaN</td>\n",
       "    </tr>\n",
       "    <tr>\n",
       "      <th>2</th>\n",
       "      <td>April 29, 2023</td>\n",
       "      <td>JTB</td>\n",
       "      <td>No</td>\n",
       "      <td>92115.0</td>\n",
       "      <td>Dad</td>\n",
       "      <td>Public transportation</td>\n",
       "      <td>1 mile</td>\n",
       "      <td>Maybe</td>\n",
       "      <td>A bit</td>\n",
       "      <td>Very</td>\n",
       "      <td>somewhat</td>\n",
       "      <td>Don't know</td>\n",
       "      <td>Very</td>\n",
       "      <td>Yes</td>\n",
       "      <td>NaN</td>\n",
       "      <td>risela.delosangles@gmail.com</td>\n",
       "      <td>NaN</td>\n",
       "    </tr>\n",
       "    <tr>\n",
       "      <th>3</th>\n",
       "      <td>April 29, 2023</td>\n",
       "      <td>JTB</td>\n",
       "      <td>No</td>\n",
       "      <td>92562.0</td>\n",
       "      <td>No</td>\n",
       "      <td>I do not commute</td>\n",
       "      <td>NaN</td>\n",
       "      <td>NaN</td>\n",
       "      <td>No</td>\n",
       "      <td>NaN</td>\n",
       "      <td>NaN</td>\n",
       "      <td>Don't know</td>\n",
       "      <td>Not concerned</td>\n",
       "      <td>May be</td>\n",
       "      <td>NaN</td>\n",
       "      <td>NaN</td>\n",
       "      <td>NaN</td>\n",
       "    </tr>\n",
       "    <tr>\n",
       "      <th>4</th>\n",
       "      <td>April 29, 2023</td>\n",
       "      <td>JTB</td>\n",
       "      <td>Yes</td>\n",
       "      <td>92109.0</td>\n",
       "      <td>No</td>\n",
       "      <td>I do not commute</td>\n",
       "      <td>NaN</td>\n",
       "      <td>NaN</td>\n",
       "      <td>No</td>\n",
       "      <td>NaN</td>\n",
       "      <td>NaN</td>\n",
       "      <td>Don't know</td>\n",
       "      <td>Not concerned</td>\n",
       "      <td>No</td>\n",
       "      <td>NaN</td>\n",
       "      <td>NaN</td>\n",
       "      <td>NaN</td>\n",
       "    </tr>\n",
       "  </tbody>\n",
       "</table>\n",
       "</div>"
      ],
      "text/plain": [
       "        Timestamp Who took this survey (initials) Are you a bike rider?  \\\n",
       "0  April 29, 2023                             JTB                    No   \n",
       "1  April 29, 2023                             JTB                    No   \n",
       "2  April 29, 2023                             JTB                    No   \n",
       "3  April 29, 2023                             JTB                    No   \n",
       "4  April 29, 2023                             JTB                   Yes   \n",
       "\n",
       "   What is your zip code? Do you or anyone in your family ride an e-bike?  \\\n",
       "0                 92115.0                                              No   \n",
       "1                 92129.0                                              No   \n",
       "2                 92115.0                                             Dad   \n",
       "3                 92562.0                                              No   \n",
       "4                 92109.0                                              No   \n",
       "\n",
       "  How do you commute - to work, school, or for other purposes?  \\\n",
       "0                                   I do not commute             \n",
       "1                                                Car             \n",
       "2                              Public transportation             \n",
       "3                                   I do not commute             \n",
       "4                                   I do not commute             \n",
       "\n",
       "  How far (ROUND TRIP) do you commute for any purpose each day?  \\\n",
       "0                                                NaN              \n",
       "1                                                 No              \n",
       "2                                             1 mile              \n",
       "3                                                NaN              \n",
       "4                                                NaN              \n",
       "\n",
       "  Would you commute by e-bike if given the opportunity?  \\\n",
       "0                                              Maybe      \n",
       "1                                                 No      \n",
       "2                                              Maybe      \n",
       "3                                                NaN      \n",
       "4                                                NaN      \n",
       "\n",
       "  Do you know the differences between Class 1, Class 1, and Class 3 e-bikes?  \\\n",
       "0                                                 No                           \n",
       "1                                              A bit                           \n",
       "2                                              A bit                           \n",
       "3                                                 No                           \n",
       "4                                                 No                           \n",
       "\n",
       "  How comfortable would you be storing your bike in a bike locker while you are commuting? -- secure private locker like this:  \\\n",
       "0                                               Very                                                                             \n",
       "1                                                NaN                                                                             \n",
       "2                                               Very                                                                             \n",
       "3                                                NaN                                                                             \n",
       "4                                                NaN                                                                             \n",
       "\n",
       "  How comfortable would you be storing your bike in a bike locker while you are commuting? -- group locker like this:  \\\n",
       "0                                               Very                                                                    \n",
       "1                                                NaN                                                                    \n",
       "2                                           somewhat                                                                    \n",
       "3                                                NaN                                                                    \n",
       "4                                                NaN                                                                    \n",
       "\n",
       "  How familiar are you and those in your family with the rules of the road for e-bikes?  \\\n",
       "0                                         Don't know                                      \n",
       "1                                           Not very                                      \n",
       "2                                         Don't know                                      \n",
       "3                                         Don't know                                      \n",
       "4                                         Don't know                                      \n",
       "\n",
       "  How concerned are you about e-bikes and e-bike safety in San Diego County?  \\\n",
       "0                                           Not very                           \n",
       "1                                           somewhat                           \n",
       "2                                               Very                           \n",
       "3                                      Not concerned                           \n",
       "4                                      Not concerned                           \n",
       "\n",
       "  Are you interested in learning more about e-bikes? Any additional comments?  \\\n",
       "0                                                 No                      NaN   \n",
       "1                                                 No                      NaN   \n",
       "2                                                Yes                      NaN   \n",
       "3                                             May be                      NaN   \n",
       "4                                                 No                      NaN   \n",
       "\n",
       "          Who's survey is this? Unnamed: 16  \n",
       "0      carsonator0898@gmail.com         NaN  \n",
       "1                           NaN         NaN  \n",
       "2  risela.delosangles@gmail.com         NaN  \n",
       "3                           NaN         NaN  \n",
       "4                           NaN         NaN  "
      ]
     },
     "execution_count": 2,
     "metadata": {},
     "output_type": "execute_result"
    }
   ],
   "source": [
    "# Read survey data from the csv file\n",
    "df = pd.read_csv(\"4.29.2023_Survey_Results.csv\")\n",
    "df.head()"
   ]
  },
  {
   "cell_type": "code",
   "execution_count": 3,
   "metadata": {},
   "outputs": [
    {
     "data": {
      "text/plain": [
       "(65, 17)"
      ]
     },
     "execution_count": 3,
     "metadata": {},
     "output_type": "execute_result"
    }
   ],
   "source": [
    "df.shape"
   ]
  },
  {
   "cell_type": "code",
   "execution_count": 4,
   "metadata": {
    "scrolled": true
   },
   "outputs": [
    {
     "data": {
      "text/html": [
       "<div>\n",
       "<style scoped>\n",
       "    .dataframe tbody tr th:only-of-type {\n",
       "        vertical-align: middle;\n",
       "    }\n",
       "\n",
       "    .dataframe tbody tr th {\n",
       "        vertical-align: top;\n",
       "    }\n",
       "\n",
       "    .dataframe thead th {\n",
       "        text-align: right;\n",
       "    }\n",
       "</style>\n",
       "<table border=\"1\" class=\"dataframe\">\n",
       "  <thead>\n",
       "    <tr style=\"text-align: right;\">\n",
       "      <th></th>\n",
       "      <th>bike_rider</th>\n",
       "      <th>zipcode</th>\n",
       "      <th>ebike_rider</th>\n",
       "      <th>commute_purpose</th>\n",
       "      <th>miles</th>\n",
       "      <th>try_bike</th>\n",
       "      <th>ebike_class</th>\n",
       "      <th>private_locker</th>\n",
       "      <th>group_locker</th>\n",
       "      <th>ebike_rules</th>\n",
       "      <th>safty</th>\n",
       "      <th>interested</th>\n",
       "    </tr>\n",
       "  </thead>\n",
       "  <tbody>\n",
       "    <tr>\n",
       "      <th>0</th>\n",
       "      <td>No</td>\n",
       "      <td>92115.0</td>\n",
       "      <td>No</td>\n",
       "      <td>I do not commute</td>\n",
       "      <td>NaN</td>\n",
       "      <td>Maybe</td>\n",
       "      <td>No</td>\n",
       "      <td>Very</td>\n",
       "      <td>Very</td>\n",
       "      <td>Don't know</td>\n",
       "      <td>Not very</td>\n",
       "      <td>No</td>\n",
       "    </tr>\n",
       "    <tr>\n",
       "      <th>1</th>\n",
       "      <td>No</td>\n",
       "      <td>92129.0</td>\n",
       "      <td>No</td>\n",
       "      <td>Car</td>\n",
       "      <td>No</td>\n",
       "      <td>No</td>\n",
       "      <td>A bit</td>\n",
       "      <td>NaN</td>\n",
       "      <td>NaN</td>\n",
       "      <td>Not very</td>\n",
       "      <td>somewhat</td>\n",
       "      <td>No</td>\n",
       "    </tr>\n",
       "    <tr>\n",
       "      <th>2</th>\n",
       "      <td>No</td>\n",
       "      <td>92115.0</td>\n",
       "      <td>Dad</td>\n",
       "      <td>Public transportation</td>\n",
       "      <td>1 mile</td>\n",
       "      <td>Maybe</td>\n",
       "      <td>A bit</td>\n",
       "      <td>Very</td>\n",
       "      <td>somewhat</td>\n",
       "      <td>Don't know</td>\n",
       "      <td>Very</td>\n",
       "      <td>Yes</td>\n",
       "    </tr>\n",
       "    <tr>\n",
       "      <th>3</th>\n",
       "      <td>No</td>\n",
       "      <td>92562.0</td>\n",
       "      <td>No</td>\n",
       "      <td>I do not commute</td>\n",
       "      <td>NaN</td>\n",
       "      <td>NaN</td>\n",
       "      <td>No</td>\n",
       "      <td>NaN</td>\n",
       "      <td>NaN</td>\n",
       "      <td>Don't know</td>\n",
       "      <td>Not concerned</td>\n",
       "      <td>May be</td>\n",
       "    </tr>\n",
       "    <tr>\n",
       "      <th>4</th>\n",
       "      <td>Yes</td>\n",
       "      <td>92109.0</td>\n",
       "      <td>No</td>\n",
       "      <td>I do not commute</td>\n",
       "      <td>NaN</td>\n",
       "      <td>NaN</td>\n",
       "      <td>No</td>\n",
       "      <td>NaN</td>\n",
       "      <td>NaN</td>\n",
       "      <td>Don't know</td>\n",
       "      <td>Not concerned</td>\n",
       "      <td>No</td>\n",
       "    </tr>\n",
       "  </tbody>\n",
       "</table>\n",
       "</div>"
      ],
      "text/plain": [
       "  bike_rider  zipcode ebike_rider        commute_purpose   miles try_bike  \\\n",
       "0         No  92115.0          No       I do not commute     NaN    Maybe   \n",
       "1         No  92129.0          No                    Car      No       No   \n",
       "2         No  92115.0         Dad  Public transportation  1 mile    Maybe   \n",
       "3         No  92562.0          No       I do not commute     NaN      NaN   \n",
       "4        Yes  92109.0          No       I do not commute     NaN      NaN   \n",
       "\n",
       "  ebike_class private_locker group_locker ebike_rules          safty  \\\n",
       "0          No           Very         Very  Don't know       Not very   \n",
       "1       A bit            NaN          NaN    Not very       somewhat   \n",
       "2       A bit           Very     somewhat  Don't know           Very   \n",
       "3          No            NaN          NaN  Don't know  Not concerned   \n",
       "4          No            NaN          NaN  Don't know  Not concerned   \n",
       "\n",
       "  interested  \n",
       "0         No  \n",
       "1         No  \n",
       "2        Yes  \n",
       "3     May be  \n",
       "4         No  "
      ]
     },
     "execution_count": 4,
     "metadata": {},
     "output_type": "execute_result"
    }
   ],
   "source": [
    "# Keep numerical and binary columns\n",
    "quant_df = df.drop(\"Who took this survey (initials)\", axis=1)\n",
    "quant_df.drop(\"Any additional comments?\", axis=1, inplace=True)\n",
    "quant_df.drop(\"Who's survey is this?\", axis=1, inplace=True)\n",
    "quant_df.drop(\"Timestamp\", axis=1, inplace=True)\n",
    "quant_df.drop(\"Unnamed: 16\", axis=1, inplace=True)\n",
    "\n",
    "# Change headers\n",
    "quant_df.columns = ['bike_rider', 'zipcode', 'ebike_rider', 'commute_purpose',\n",
    "                   'miles', 'try_bike', 'ebike_class', 'private_locker', 'group_locker',\n",
    "                   'ebike_rules', 'safty', 'interested']\n",
    "\n",
    "quant_df.head()"
   ]
  },
  {
   "cell_type": "code",
   "execution_count": 5,
   "metadata": {},
   "outputs": [
    {
     "data": {
      "text/plain": [
       "(65, 12)"
      ]
     },
     "execution_count": 5,
     "metadata": {},
     "output_type": "execute_result"
    }
   ],
   "source": [
    "quant_df.shape"
   ]
  },
  {
   "cell_type": "markdown",
   "metadata": {},
   "source": [
    "Here's a description of each feature (column) in the quant_df DataFrame:\n",
    "\n",
    "Header | Description\n",
    "-------|------------\n",
    "bike_rider | Are you a bike rider?\n",
    "zipcode | What is your zip code?\n",
    "ebike_rider | Do you or anyone in your family ride an e-bike?\n",
    "commute_purpose | How do you commute - to work, school, or for other purposes?\n",
    "miles | How far (ROUND TRIP) do you commute for any purpose each day?\n",
    "try_bike | Would you commute by e-bike if given the opportunity?\n",
    "ebike_class | Do you know the differences between Class 1, Class 1, and Class 3 e-bikes?\n",
    "private_locker | How comfortable would you be storing your bike in a private bike locker while you are commuting?\n",
    "group_locker | How comfortable would you be storing your bike in a group bike locker while you are commuting?\n",
    "ebike_rules | How familiar are you and those in your family with the rules of the road for e-bikes?\n",
    "safty | How concerned are you about e-bikes and e-bike safety in San Diego County?\n",
    "interested | Are you interested in learning more about e-bikes?\n"
   ]
  },
  {
   "cell_type": "code",
   "execution_count": 6,
   "metadata": {},
   "outputs": [
    {
     "data": {
      "text/html": [
       "<div>\n",
       "<style scoped>\n",
       "    .dataframe tbody tr th:only-of-type {\n",
       "        vertical-align: middle;\n",
       "    }\n",
       "\n",
       "    .dataframe tbody tr th {\n",
       "        vertical-align: top;\n",
       "    }\n",
       "\n",
       "    .dataframe thead th {\n",
       "        text-align: right;\n",
       "    }\n",
       "</style>\n",
       "<table border=\"1\" class=\"dataframe\">\n",
       "  <thead>\n",
       "    <tr style=\"text-align: right;\">\n",
       "      <th></th>\n",
       "      <th>bike_rider</th>\n",
       "      <th>zipcode</th>\n",
       "      <th>ebike_rider</th>\n",
       "      <th>commute_purpose</th>\n",
       "      <th>miles</th>\n",
       "      <th>try_bike</th>\n",
       "      <th>ebike_class</th>\n",
       "      <th>private_locker</th>\n",
       "      <th>group_locker</th>\n",
       "      <th>ebike_rules</th>\n",
       "      <th>safty</th>\n",
       "      <th>interested</th>\n",
       "    </tr>\n",
       "  </thead>\n",
       "  <tbody>\n",
       "    <tr>\n",
       "      <th>0</th>\n",
       "      <td>no</td>\n",
       "      <td>92115.0</td>\n",
       "      <td>no</td>\n",
       "      <td>i do not commute</td>\n",
       "      <td>NaN</td>\n",
       "      <td>maybe</td>\n",
       "      <td>no</td>\n",
       "      <td>very</td>\n",
       "      <td>very</td>\n",
       "      <td>don't know</td>\n",
       "      <td>not very</td>\n",
       "      <td>no</td>\n",
       "    </tr>\n",
       "    <tr>\n",
       "      <th>1</th>\n",
       "      <td>no</td>\n",
       "      <td>92129.0</td>\n",
       "      <td>no</td>\n",
       "      <td>car</td>\n",
       "      <td>no</td>\n",
       "      <td>no</td>\n",
       "      <td>a bit</td>\n",
       "      <td>NaN</td>\n",
       "      <td>NaN</td>\n",
       "      <td>not very</td>\n",
       "      <td>somewhat</td>\n",
       "      <td>no</td>\n",
       "    </tr>\n",
       "    <tr>\n",
       "      <th>2</th>\n",
       "      <td>no</td>\n",
       "      <td>92115.0</td>\n",
       "      <td>dad</td>\n",
       "      <td>public transportation</td>\n",
       "      <td>1 mile</td>\n",
       "      <td>maybe</td>\n",
       "      <td>a bit</td>\n",
       "      <td>very</td>\n",
       "      <td>somewhat</td>\n",
       "      <td>don't know</td>\n",
       "      <td>very</td>\n",
       "      <td>yes</td>\n",
       "    </tr>\n",
       "    <tr>\n",
       "      <th>3</th>\n",
       "      <td>no</td>\n",
       "      <td>92562.0</td>\n",
       "      <td>no</td>\n",
       "      <td>i do not commute</td>\n",
       "      <td>NaN</td>\n",
       "      <td>NaN</td>\n",
       "      <td>no</td>\n",
       "      <td>NaN</td>\n",
       "      <td>NaN</td>\n",
       "      <td>don't know</td>\n",
       "      <td>not concerned</td>\n",
       "      <td>may be</td>\n",
       "    </tr>\n",
       "    <tr>\n",
       "      <th>4</th>\n",
       "      <td>yes</td>\n",
       "      <td>92109.0</td>\n",
       "      <td>no</td>\n",
       "      <td>i do not commute</td>\n",
       "      <td>NaN</td>\n",
       "      <td>NaN</td>\n",
       "      <td>no</td>\n",
       "      <td>NaN</td>\n",
       "      <td>NaN</td>\n",
       "      <td>don't know</td>\n",
       "      <td>not concerned</td>\n",
       "      <td>no</td>\n",
       "    </tr>\n",
       "  </tbody>\n",
       "</table>\n",
       "</div>"
      ],
      "text/plain": [
       "  bike_rider  zipcode ebike_rider        commute_purpose   miles try_bike  \\\n",
       "0         no  92115.0          no       i do not commute     NaN    maybe   \n",
       "1         no  92129.0          no                    car      no       no   \n",
       "2         no  92115.0         dad  public transportation  1 mile    maybe   \n",
       "3         no  92562.0          no       i do not commute     NaN      NaN   \n",
       "4        yes  92109.0          no       i do not commute     NaN      NaN   \n",
       "\n",
       "  ebike_class private_locker group_locker ebike_rules          safty  \\\n",
       "0          no           very         very  don't know       not very   \n",
       "1       a bit            NaN          NaN    not very       somewhat   \n",
       "2       a bit           very     somewhat  don't know           very   \n",
       "3          no            NaN          NaN  don't know  not concerned   \n",
       "4          no            NaN          NaN  don't know  not concerned   \n",
       "\n",
       "  interested  \n",
       "0         no  \n",
       "1         no  \n",
       "2        yes  \n",
       "3     may be  \n",
       "4         no  "
      ]
     },
     "execution_count": 6,
     "metadata": {},
     "output_type": "execute_result"
    }
   ],
   "source": [
    "# convert all letters to lowercase\n",
    "columns = quant_df.columns\n",
    "for column in columns:\n",
    "    if column != 'zipcode':\n",
    "        quant_df[column] = quant_df[column].str.lower()\n",
    "\n",
    "\n",
    "# remove unit in miles\n",
    "quant_df.head()"
   ]
  },
  {
   "cell_type": "code",
   "execution_count": 7,
   "metadata": {},
   "outputs": [
    {
     "data": {
      "text/html": [
       "<div>\n",
       "<style scoped>\n",
       "    .dataframe tbody tr th:only-of-type {\n",
       "        vertical-align: middle;\n",
       "    }\n",
       "\n",
       "    .dataframe tbody tr th {\n",
       "        vertical-align: top;\n",
       "    }\n",
       "\n",
       "    .dataframe thead th {\n",
       "        text-align: right;\n",
       "    }\n",
       "</style>\n",
       "<table border=\"1\" class=\"dataframe\">\n",
       "  <thead>\n",
       "    <tr style=\"text-align: right;\">\n",
       "      <th></th>\n",
       "      <th>bike_rider</th>\n",
       "      <th>zipcode</th>\n",
       "      <th>ebike_rider</th>\n",
       "      <th>commute_purpose</th>\n",
       "      <th>miles</th>\n",
       "      <th>try_bike</th>\n",
       "      <th>ebike_class</th>\n",
       "      <th>private_locker</th>\n",
       "      <th>group_locker</th>\n",
       "      <th>ebike_rules</th>\n",
       "      <th>safty</th>\n",
       "      <th>interested</th>\n",
       "    </tr>\n",
       "  </thead>\n",
       "  <tbody>\n",
       "    <tr>\n",
       "      <th>0</th>\n",
       "      <td>no</td>\n",
       "      <td>92115.0</td>\n",
       "      <td>no</td>\n",
       "      <td>i do not commute</td>\n",
       "      <td>&lt;NA&gt;</td>\n",
       "      <td>maybe</td>\n",
       "      <td>no</td>\n",
       "      <td>very</td>\n",
       "      <td>very</td>\n",
       "      <td>don't know</td>\n",
       "      <td>not very</td>\n",
       "      <td>no</td>\n",
       "    </tr>\n",
       "    <tr>\n",
       "      <th>1</th>\n",
       "      <td>no</td>\n",
       "      <td>92129.0</td>\n",
       "      <td>no</td>\n",
       "      <td>car</td>\n",
       "      <td>&lt;NA&gt;</td>\n",
       "      <td>no</td>\n",
       "      <td>a bit</td>\n",
       "      <td>NaN</td>\n",
       "      <td>NaN</td>\n",
       "      <td>not very</td>\n",
       "      <td>somewhat</td>\n",
       "      <td>no</td>\n",
       "    </tr>\n",
       "    <tr>\n",
       "      <th>2</th>\n",
       "      <td>no</td>\n",
       "      <td>92115.0</td>\n",
       "      <td>dad</td>\n",
       "      <td>public transportation</td>\n",
       "      <td>1</td>\n",
       "      <td>maybe</td>\n",
       "      <td>a bit</td>\n",
       "      <td>very</td>\n",
       "      <td>somewhat</td>\n",
       "      <td>don't know</td>\n",
       "      <td>very</td>\n",
       "      <td>yes</td>\n",
       "    </tr>\n",
       "    <tr>\n",
       "      <th>3</th>\n",
       "      <td>no</td>\n",
       "      <td>92562.0</td>\n",
       "      <td>no</td>\n",
       "      <td>i do not commute</td>\n",
       "      <td>&lt;NA&gt;</td>\n",
       "      <td>NaN</td>\n",
       "      <td>no</td>\n",
       "      <td>NaN</td>\n",
       "      <td>NaN</td>\n",
       "      <td>don't know</td>\n",
       "      <td>not concerned</td>\n",
       "      <td>may be</td>\n",
       "    </tr>\n",
       "    <tr>\n",
       "      <th>4</th>\n",
       "      <td>yes</td>\n",
       "      <td>92109.0</td>\n",
       "      <td>no</td>\n",
       "      <td>i do not commute</td>\n",
       "      <td>&lt;NA&gt;</td>\n",
       "      <td>NaN</td>\n",
       "      <td>no</td>\n",
       "      <td>NaN</td>\n",
       "      <td>NaN</td>\n",
       "      <td>don't know</td>\n",
       "      <td>not concerned</td>\n",
       "      <td>no</td>\n",
       "    </tr>\n",
       "  </tbody>\n",
       "</table>\n",
       "</div>"
      ],
      "text/plain": [
       "  bike_rider  zipcode ebike_rider        commute_purpose  miles try_bike  \\\n",
       "0         no  92115.0          no       i do not commute   <NA>    maybe   \n",
       "1         no  92129.0          no                    car   <NA>       no   \n",
       "2         no  92115.0         dad  public transportation      1    maybe   \n",
       "3         no  92562.0          no       i do not commute   <NA>      NaN   \n",
       "4        yes  92109.0          no       i do not commute   <NA>      NaN   \n",
       "\n",
       "  ebike_class private_locker group_locker ebike_rules          safty  \\\n",
       "0          no           very         very  don't know       not very   \n",
       "1       a bit            NaN          NaN    not very       somewhat   \n",
       "2       a bit           very     somewhat  don't know           very   \n",
       "3          no            NaN          NaN  don't know  not concerned   \n",
       "4          no            NaN          NaN  don't know  not concerned   \n",
       "\n",
       "  interested  \n",
       "0         no  \n",
       "1         no  \n",
       "2        yes  \n",
       "3     may be  \n",
       "4         no  "
      ]
     },
     "execution_count": 7,
     "metadata": {},
     "output_type": "execute_result"
    }
   ],
   "source": [
    "# miles column cleaning - keep numbers only\n",
    "quant_df['miles'] = quant_df['miles'].str.extract(r'(\\d+)', expand=False).astype(float).astype(pd.Int64Dtype())\n",
    "quant_df.head()"
   ]
  },
  {
   "cell_type": "markdown",
   "metadata": {},
   "source": [
    "## Part II: Analysis on Numerical and Categorical Features"
   ]
  },
  {
   "cell_type": "markdown",
   "metadata": {},
   "source": [
    "#### Survey Question: Are you a bike rider? | Column: bike_rider"
   ]
  },
  {
   "cell_type": "code",
   "execution_count": 8,
   "metadata": {},
   "outputs": [
    {
     "data": {
      "image/png": "[encoded data removed]",
      "text/plain": [
       "<Figure size 432x288 with 1 Axes>"
      ]
     },
     "metadata": {
      "needs_background": "light"
     },
     "output_type": "display_data"
    },
    {
     "name": "stdout",
     "output_type": "stream",
     "text": [
      "55% of the participants are bike riders\n",
      "45% of the participants are NOT bike riders\n"
     ]
    }
   ],
   "source": [
    "# count number of bike rider and non-bike rider\n",
    "bike_rider_count = quant_df['bike_rider'].value_counts()\n",
    "bike_rider_yes = bike_rider_count[0] + bike_rider_count[2] + bike_rider_count[4]\n",
    "bike_rider_no = bike_rider_count[1] + bike_rider_count[3]\n",
    "\n",
    "# create bar plot\n",
    "x = ['Bike Riders', 'None Bike Riders']\n",
    "y = [bike_rider_yes, bike_rider_no]\n",
    "plt.bar(x, y)\n",
    "\n",
    "# add label to bar plot\n",
    "plt.xlabel('Riders')\n",
    "plt.ylabel('Number of People')\n",
    "plt.title('Number of Bike Riders vs. None Bike Riders')\n",
    "\n",
    "# display the plot\n",
    "plt.show()\n",
    "\n",
    "# show number of bike riders vs. none bike riders\n",
    "bike_percent_yes = round(bike_rider_yes / (bike_rider_yes + bike_rider_no) * 100)\n",
    "bike_percent_no = round(bike_rider_no / (bike_rider_no + bike_rider_yes) * 100)\n",
    "print(f'{bike_percent_yes}% of the participants are bike riders')\n",
    "print(f'{bike_percent_no}% of the participants are NOT bike riders')"
   ]
  },
  {
   "cell_type": "markdown",
   "metadata": {},
   "source": [
    "#### Survey Question: What is your zip code? | Column: zipcode"
   ]
  },
  {
   "cell_type": "code",
   "execution_count": 9,
   "metadata": {},
   "outputs": [],
   "source": [
    "# ENTER CODE HERE\n"
   ]
  },
  {
   "cell_type": "markdown",
   "metadata": {},
   "source": [
    "#### Survey Question: Are you a ebike_rider? | Column: ebike_rider"
   ]
  },
  {
   "cell_type": "code",
   "execution_count": 10,
   "metadata": {},
   "outputs": [
    {
     "data": {
      "image/png": "[encoded data removed]",
      "text/plain": [
       "<Figure size 432x288 with 1 Axes>"
      ]
     },
     "metadata": {
      "needs_background": "light"
     },
     "output_type": "display_data"
    },
    {
     "name": "stdout",
     "output_type": "stream",
     "text": [
      "23% of the participants are e-bike riders\n",
      "77% of the participants are NOT e-bike riders\n"
     ]
    }
   ],
   "source": [
    "# count number of ebike rider vs. non-ebike rider\n",
    "ebike_rider_no = quant_df[quant_df['ebike_rider'] == 'no'].shape[0]\n",
    "ebike_rider_yes = quant_df.shape[0] - ebike_rider_no\n",
    "\n",
    "# create bar plot\n",
    "x = ['E-Bike Riders', 'None E-Bike Riders']\n",
    "y = [ebike_rider_yes, ebike_rider_no]\n",
    "plt.bar(x, y)\n",
    "\n",
    "# add label to bar plot\n",
    "plt.xlabel('Riders')\n",
    "plt.ylabel('Number of People')\n",
    "plt.title('Number of E-Bike Riders vs. None E-Bike Riders')\n",
    "\n",
    "# display the plot\n",
    "plt.show()\n",
    "\n",
    "# show number of bike riders vs. none bike riders\n",
    "ebike_percent_yes = round(ebike_rider_yes / (ebike_rider_yes + ebike_rider_no) * 100)\n",
    "ebike_percent_no = round(ebike_rider_no / (ebike_rider_no + ebike_rider_yes) * 100)\n",
    "print(f'{ebike_percent_yes}% of the participants are e-bike riders')\n",
    "print(f'{ebike_percent_no}% of the participants are NOT e-bike riders')"
   ]
  },
  {
   "cell_type": "markdown",
   "metadata": {},
   "source": [
    "#### Survey Question: How do you commute - to work, school, or for other purposes? | Column: commute_purpose"
   ]
  },
  {
   "cell_type": "code",
   "execution_count": null,
   "metadata": {},
   "outputs": [],
   "source": []
  },
  {
   "cell_type": "markdown",
   "metadata": {},
   "source": [
    "#### Survey Question: How far (ROUND TRIP) do you commute for any purpose each day? | Column: miles"
   ]
  },
  {
   "cell_type": "code",
   "execution_count": 11,
   "metadata": {},
   "outputs": [
    {
     "data": {
      "image/png": "[encoded data removed]",
      "text/plain": [
       "<Figure size 432x288 with 1 Axes>"
      ]
     },
     "metadata": {
      "needs_background": "light"
     },
     "output_type": "display_data"
    }
   ],
   "source": [
    "# count number of miles\n",
    "miles_count = quant_df['miles'].value_counts()\n",
    "\n",
    "# create bar plot\n",
    "x = miles_count.index\n",
    "y = miles_count.values\n",
    "plt.bar(x, y)\n",
    "\n",
    "# add label to bar plot\n",
    "plt.xlabel('Miles')\n",
    "plt.ylabel('Number of People')\n",
    "plt.title('Number of People by Miles')\n",
    "\n",
    "# display the plot\n",
    "plt.show()"
   ]
  },
  {
   "cell_type": "code",
   "execution_count": 12,
   "metadata": {},
   "outputs": [
    {
     "data": {
      "image/png": "[encoded data removed]",
      "text/plain": [
       "<Figure size 576x432 with 1 Axes>"
      ]
     },
     "metadata": {
      "needs_background": "light"
     },
     "output_type": "display_data"
    }
   ],
   "source": [
    "# count number of miles\n",
    "mile_counts = quant_df['miles'].value_counts(sort = False)\n",
    "\n",
    "# create bar plot\n",
    "fig, ax = plt.subplots(figsize = (8, 6))\n",
    "bars = ax.bar(mile_counts.index, mile_counts.values, color = 'teal')\n",
    "ax.set_xlabel('Miles')\n",
    "ax.set_ylabel('Number of People')\n",
    "ax.set_title('Number of Participants by Miles')\n",
    "\n",
    "# add a vertical line to show the average and median miles\n",
    "ax.grid(axis = 'y', alpha = 0.5)\n",
    "avg_miles = quant_df['miles'].mean()\n",
    "med_miles = quant_df['miles'].median()\n",
    "ax.axvline(x = avg_miles, color = 'orange', linestyle = '--', label = f'Average Miles: {avg_miles:.2f}')\n",
    "ax.axvline(x = med_miles, color = 'green', linestyle = '--', label = f'Median Miles: {med_miles}')\n",
    "ax.set_xticks(range(0, 51, 10))\n",
    "\n",
    "# show the plot\n",
    "ax.legend()\n",
    "plt.show()"
   ]
  },
  {
   "cell_type": "markdown",
   "metadata": {},
   "source": [
    "#### Survey Question: Would you commute by e-bike if given the opportunity? | Column: try_bike"
   ]
  },
  {
   "cell_type": "code",
   "execution_count": 44,
   "metadata": {},
   "outputs": [
    {
     "data": {
      "image/png": "[encoded data removed]",
      "text/plain": [
       "<Figure size 1800x432 with 1 Axes>"
      ]
     },
     "metadata": {
      "needs_background": "light"
     },
     "output_type": "display_data"
    }
   ],
   "source": [
    "# Count the number of occurrences of each unique value in the try_bike column\n",
    "try_bike_counts = quant_df['try_bike'].value_counts()\n",
    "\n",
    "# Create a bar plot\n",
    "f, ax = plt.subplots(figsize=(25, 6))\n",
    "sns.despine(f)\n",
    "plt.bar(try_bike_counts.index, try_bike_counts.values)\n",
    "\n",
    "# Set the title and axis labels\n",
    "plt.title('Have you ever tried a bike before?', fontsize = 20)\n",
    "plt.xlabel('Answer')\n",
    "plt.ylabel('Count')\n",
    "\n",
    "# Show the plot\n",
    "plt.show()"
   ]
  },
  {
   "cell_type": "markdown",
   "metadata": {},
   "source": [
    "#### Survey Question: Do you know the differences between Class 1, Class 1, and Class 3 e-bikes? | Column: ebike_class"
   ]
  },
  {
   "cell_type": "code",
   "execution_count": 46,
   "metadata": {},
   "outputs": [
    {
     "data": {
      "text/plain": [
       "Text(0, 0.5, 'Count')"
      ]
     },
     "execution_count": 46,
     "metadata": {},
     "output_type": "execute_result"
    },
    {
     "data": {
      "image/png": "[encoded data removed]",
      "text/plain": [
       "<Figure size 504x360 with 1 Axes>"
      ]
     },
     "metadata": {
      "needs_background": "light"
     },
     "output_type": "display_data"
    }
   ],
   "source": [
    "# Count the number of occurrences of each unique value in the ebike_class column\n",
    "ebike_class_count = quant_df['ebike_class'].value_counts()\n",
    "\n",
    "# Create a bar graph\n",
    "f, ax = plt.subplots(figsize=(7, 5))\n",
    "sns.despine(f)\n",
    "sns.barplot(x=ebike_class_count.index, y = ebike_class_count.values, palette='magma', order = ['yes', 'a bit', 'no'])\n",
    "\n",
    "# Set title and labels to the graph\n",
    "plt.title('Do you know the differences between Class 1, Class 1, and Class 3 e-bikes?')\n",
    "plt.xlabel('Answer')\n",
    "plt.ylabel('Count')\n"
   ]
  },
  {
   "cell_type": "markdown",
   "metadata": {},
   "source": [
    "#### Survey Question: How comfortable would you be storing your bike in a private bike locker while you are commuting? | Column: private_locker"
   ]
  },
  {
   "cell_type": "code",
   "execution_count": 15,
   "metadata": {},
   "outputs": [],
   "source": [
    "# ENTER CODE HERE\n",
    "..."
   ]
  },
  {
   "cell_type": "markdown",
   "metadata": {},
   "source": [
    "#### Survey Question: How comfortable would you be storing your bike in a group bike locker while you are commuting? | Column: group_locker"
   ]
  },
  {
   "cell_type": "code",
   "execution_count": 16,
   "metadata": {},
   "outputs": [],
   "source": [
    "# ENTER CODE HERE\n",
    "..."
   ]
  },
  {
   "cell_type": "markdown",
   "metadata": {},
   "source": [
    "#### Survey Question: How familiar are you and those in your family with the rules of the road for e-bikes? | Column: ebike_rules"
   ]
  },
  {
   "cell_type": "code",
   "execution_count": 17,
   "metadata": {},
   "outputs": [],
   "source": [
    "# ENTER CODE HERE\n",
    "..."
   ]
  },
  {
   "cell_type": "markdown",
   "metadata": {},
   "source": [
    "#### Survey Question: How concerned are you about e-bikes and e-bike safety in San Diego County? | Column: safty"
   ]
  },
  {
   "cell_type": "code",
   "execution_count": 18,
   "metadata": {},
   "outputs": [],
   "source": [
    "# ENTER CODE HERE\n",
    "..."
   ]
  },
  {
   "cell_type": "markdown",
   "metadata": {},
   "source": [
    "#### Survey Question: Are you interested in learning more about e-bikes? | Column: interested"
   ]
  },
  {
   "cell_type": "code",
   "execution_count": 45,
   "metadata": {},
   "outputs": [
    {
     "data": {
      "text/plain": [
       "Text(0, 0.5, 'Count')"
      ]
     },
     "execution_count": 45,
     "metadata": {},
     "output_type": "execute_result"
    },
    {
     "data": {
      "image/png": "[encoded data removed]",
      "text/plain": [
       "<Figure size 504x360 with 1 Axes>"
      ]
     },
     "metadata": {
      "needs_background": "light"
     },
     "output_type": "display_data"
    }
   ],
   "source": [
    "# Fix typo and category in answers\n",
    "quant_df['interested'] = quant_df['interested'].str.strip()\n",
    "quant_df['interested'] = quant_df['interested'].str.replace('may be', 'maybe')\n",
    "quant_df['interested'] = quant_df['interested'].str.replace('already know', 'yes')\n",
    "quant_df['interested'] = quant_df['interested'].str.replace('knows enough', 'yes')\n",
    "\n",
    "# Count the number of occurrences of each unique value in the interested column\n",
    "interested_count = quant_df['interested'].value_counts()\n",
    "\n",
    "f, ax = plt.subplots(figsize=(7, 5))\n",
    "sns.despine(f)\n",
    "sns.barplot(x=interested_count.index, y = interested_count.values, palette='magma', order = ['yes', 'maybe', 'no'])\n",
    "\n",
    "# Set title and labels to the graph\n",
    "plt.title('Are you interested in learning more about e-bikes?')\n",
    "plt.xlabel('Answer')\n",
    "plt.ylabel('Count')"
   ]
  },
  {
   "cell_type": "markdown",
   "metadata": {},
   "source": [
    "## Part III: ..."
   ]
  },
  {
   "cell_type": "code",
   "execution_count": null,
   "metadata": {},
   "outputs": [],
   "source": []
  }
 ],
 "metadata": {
  "kernelspec": {
   "display_name": "Python 3",
   "language": "python",
   "name": "python3"
  },
  "language_info": {
   "codemirror_mode": {
    "name": "ipython",
    "version": 3
   },
   "file_extension": ".py",
   "mimetype": "text/x-python",
   "name": "python",
   "nbconvert_exporter": "python",
   "pygments_lexer": "ipython3",
   "version": "3.8.5"
  }
 },
 "nbformat": 4,
 "nbformat_minor": 4
}

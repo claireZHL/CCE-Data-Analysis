{
 "cells": [
  {
   "cell_type": "code",
   "execution_count": 1,
   "metadata": {
    "is_executing": true
   },
   "outputs": [
    {
     "name": "stdout",
     "output_type": "stream",
     "text": [
      "Requirement already satisfied: geopandas in /Users/lizhihan/opt/anaconda3/lib/python3.8/site-packages (0.13.0)\n",
      "Requirement already satisfied: pyproj>=3.0.1 in /Users/lizhihan/opt/anaconda3/lib/python3.8/site-packages (from geopandas) (3.5.0)\n",
      "Requirement already satisfied: fiona>=1.8.19 in /Users/lizhihan/opt/anaconda3/lib/python3.8/site-packages (from geopandas) (1.9.4.post1)\n",
      "Requirement already satisfied: pandas>=1.1.0 in /Users/lizhihan/opt/anaconda3/lib/python3.8/site-packages (from geopandas) (1.1.3)\n",
      "Requirement already satisfied: packaging in /Users/lizhihan/opt/anaconda3/lib/python3.8/site-packages (from geopandas) (20.4)\n",
      "Requirement already satisfied: shapely>=1.7.1 in /Users/lizhihan/opt/anaconda3/lib/python3.8/site-packages (from geopandas) (2.0.1)\n",
      "Requirement already satisfied: certifi in /Users/lizhihan/opt/anaconda3/lib/python3.8/site-packages (from pyproj>=3.0.1->geopandas) (2020.6.20)\n",
      "Requirement already satisfied: click~=8.0 in /Users/lizhihan/opt/anaconda3/lib/python3.8/site-packages (from fiona>=1.8.19->geopandas) (8.1.3)\n",
      "Requirement already satisfied: importlib-metadata; python_version < \"3.10\" in /Users/lizhihan/opt/anaconda3/lib/python3.8/site-packages (from fiona>=1.8.19->geopandas) (2.0.0)\n",
      "Requirement already satisfied: click-plugins>=1.0 in /Users/lizhihan/opt/anaconda3/lib/python3.8/site-packages (from fiona>=1.8.19->geopandas) (1.1.1)\n",
      "Requirement already satisfied: attrs>=19.2.0 in /Users/lizhihan/opt/anaconda3/lib/python3.8/site-packages (from fiona>=1.8.19->geopandas) (20.3.0)\n",
      "Requirement already satisfied: cligj>=0.5 in /Users/lizhihan/opt/anaconda3/lib/python3.8/site-packages (from fiona>=1.8.19->geopandas) (0.7.2)\n",
      "Requirement already satisfied: six in /Users/lizhihan/opt/anaconda3/lib/python3.8/site-packages (from fiona>=1.8.19->geopandas) (1.15.0)\n",
      "Requirement already satisfied: pytz>=2017.2 in /Users/lizhihan/opt/anaconda3/lib/python3.8/site-packages (from pandas>=1.1.0->geopandas) (2020.1)\n",
      "Requirement already satisfied: python-dateutil>=2.7.3 in /Users/lizhihan/opt/anaconda3/lib/python3.8/site-packages (from pandas>=1.1.0->geopandas) (2.8.1)\n",
      "Requirement already satisfied: numpy>=1.15.4 in /Users/lizhihan/opt/anaconda3/lib/python3.8/site-packages (from pandas>=1.1.0->geopandas) (1.19.2)\n",
      "Requirement already satisfied: pyparsing>=2.0.2 in /Users/lizhihan/opt/anaconda3/lib/python3.8/site-packages (from packaging->geopandas) (2.4.7)\n",
      "Requirement already satisfied: zipp>=0.5 in /Users/lizhihan/opt/anaconda3/lib/python3.8/site-packages (from importlib-metadata; python_version < \"3.10\"->fiona>=1.8.19->geopandas) (3.4.0)\n",
      "Note: you may need to restart the kernel to use updated packages.\n",
      "Requirement already satisfied: pgeocode in /Users/lizhihan/opt/anaconda3/lib/python3.8/site-packages (0.4.0)\n",
      "Requirement already satisfied: numpy in /Users/lizhihan/opt/anaconda3/lib/python3.8/site-packages (from pgeocode) (1.19.2)\n",
      "Requirement already satisfied: pandas in /Users/lizhihan/opt/anaconda3/lib/python3.8/site-packages (from pgeocode) (1.1.3)\n",
      "Requirement already satisfied: requests in /Users/lizhihan/opt/anaconda3/lib/python3.8/site-packages (from pgeocode) (2.24.0)\n",
      "Requirement already satisfied: python-dateutil>=2.7.3 in /Users/lizhihan/opt/anaconda3/lib/python3.8/site-packages (from pandas->pgeocode) (2.8.1)\n",
      "Requirement already satisfied: pytz>=2017.2 in /Users/lizhihan/opt/anaconda3/lib/python3.8/site-packages (from pandas->pgeocode) (2020.1)\n",
      "Requirement already satisfied: idna<3,>=2.5 in /Users/lizhihan/opt/anaconda3/lib/python3.8/site-packages (from requests->pgeocode) (2.10)\n",
      "Requirement already satisfied: certifi>=2017.4.17 in /Users/lizhihan/opt/anaconda3/lib/python3.8/site-packages (from requests->pgeocode) (2020.6.20)\n",
      "Requirement already satisfied: chardet<4,>=3.0.2 in /Users/lizhihan/opt/anaconda3/lib/python3.8/site-packages (from requests->pgeocode) (3.0.4)\n",
      "Requirement already satisfied: urllib3!=1.25.0,!=1.25.1,<1.26,>=1.21.1 in /Users/lizhihan/opt/anaconda3/lib/python3.8/site-packages (from requests->pgeocode) (1.25.11)\n",
      "Requirement already satisfied: six>=1.5 in /Users/lizhihan/opt/anaconda3/lib/python3.8/site-packages (from python-dateutil>=2.7.3->pandas->pgeocode) (1.15.0)\n",
      "Note: you may need to restart the kernel to use updated packages.\n",
      "Requirement already satisfied: geopy in /Users/lizhihan/opt/anaconda3/lib/python3.8/site-packages (2.3.0)\n",
      "Requirement already satisfied: geographiclib<3,>=1.52 in /Users/lizhihan/opt/anaconda3/lib/python3.8/site-packages (from geopy) (2.0)\n",
      "Note: you may need to restart the kernel to use updated packages.\n",
      "Requirement already satisfied: plotly in /Users/lizhihan/opt/anaconda3/lib/python3.8/site-packages (5.15.0)\n",
      "Requirement already satisfied: packaging in /Users/lizhihan/opt/anaconda3/lib/python3.8/site-packages (from plotly) (20.4)\n",
      "Requirement already satisfied: tenacity>=6.2.0 in /Users/lizhihan/opt/anaconda3/lib/python3.8/site-packages (from plotly) (8.2.2)\n",
      "Requirement already satisfied: six in /Users/lizhihan/opt/anaconda3/lib/python3.8/site-packages (from packaging->plotly) (1.15.0)\n",
      "Requirement already satisfied: pyparsing>=2.0.2 in /Users/lizhihan/opt/anaconda3/lib/python3.8/site-packages (from packaging->plotly) (2.4.7)\n",
      "Note: you may need to restart the kernel to use updated packages.\n"
     ]
    }
   ],
   "source": [
    "# Import Packages\n",
    "import pandas as pd\n",
    "import numpy as np\n",
    "import seaborn as sns\n",
    "import matplotlib.pyplot as plt\n",
    "%pip install geopandas\n",
    "import geopandas as gpd\n",
    "%pip install pgeocode\n",
    "import pgeocode\n",
    "%pip install geopy\n",
    "from geopy.geocoders import Nominatim\n",
    "import pgeocode\n",
    "%pip install plotly\n",
    "import plotly.graph_objects as go"
   ]
  },
  {
   "cell_type": "markdown",
   "metadata": {},
   "source": [
    "# Center For Community Service\n",
    "#### Project: Data Analysis on E-bike Survey Collected on 04/29/2023"
   ]
  },
  {
   "cell_type": "markdown",
   "metadata": {},
   "source": [
    "## Supporting Datasets"
   ]
  },
  {
   "cell_type": "markdown",
   "metadata": {},
   "source": [
    "##### CSV: San Diego Per Capita Income by Zipcode\n",
    "###### Reference: \n",
    "- San Diego Per Capita Income by Zip Code\n",
    "    - URL: https://zipatlas.com/us/ca/san-diego/zip-code-comparison/highest-per-capita-income.htm\n",
    "- Social Explorer\n",
    "    - URL: https://www.socialexplorer.com/profiles/essential-report/92114-zcta5.html\n",
    "- Government Census Data\n",
    "    - URL: https://data.census.gov/"
   ]
  },
  {
   "cell_type": "code",
   "execution_count": 2,
   "metadata": {},
   "outputs": [
    {
     "data": {
      "text/html": [
       "<div>\n",
       "<style scoped>\n",
       "    .dataframe tbody tr th:only-of-type {\n",
       "        vertical-align: middle;\n",
       "    }\n",
       "\n",
       "    .dataframe tbody tr th {\n",
       "        vertical-align: top;\n",
       "    }\n",
       "\n",
       "    .dataframe thead th {\n",
       "        text-align: right;\n",
       "    }\n",
       "</style>\n",
       "<table border=\"1\" class=\"dataframe\">\n",
       "  <thead>\n",
       "    <tr style=\"text-align: right;\">\n",
       "      <th></th>\n",
       "      <th>zipcode</th>\n",
       "      <th>income</th>\n",
       "    </tr>\n",
       "  </thead>\n",
       "  <tbody>\n",
       "    <tr>\n",
       "      <th>0</th>\n",
       "      <td>92145</td>\n",
       "      <td>72060</td>\n",
       "    </tr>\n",
       "    <tr>\n",
       "      <th>1</th>\n",
       "      <td>92130</td>\n",
       "      <td>71263</td>\n",
       "    </tr>\n",
       "    <tr>\n",
       "      <th>2</th>\n",
       "      <td>92101</td>\n",
       "      <td>63001</td>\n",
       "    </tr>\n",
       "    <tr>\n",
       "      <th>3</th>\n",
       "      <td>92106</td>\n",
       "      <td>60984</td>\n",
       "    </tr>\n",
       "    <tr>\n",
       "      <th>4</th>\n",
       "      <td>92103</td>\n",
       "      <td>60318</td>\n",
       "    </tr>\n",
       "  </tbody>\n",
       "</table>\n",
       "</div>"
      ],
      "text/plain": [
       "   zipcode  income\n",
       "0    92145   72060\n",
       "1    92130   71263\n",
       "2    92101   63001\n",
       "3    92106   60984\n",
       "4    92103   60318"
      ]
     },
     "execution_count": 2,
     "metadata": {},
     "output_type": "execute_result"
    }
   ],
   "source": [
    "# Read csv file\n",
    "sd_income = pd.read_csv(\"SD_Income_Zipcode.csv\")\n",
    "sd_income.head()"
   ]
  },
  {
   "cell_type": "markdown",
   "metadata": {},
   "source": [
    "## Part I: Data Cleaning"
   ]
  },
  {
   "cell_type": "markdown",
   "metadata": {},
   "source": [
    "##### CSV File 1: 4.29.2023_Survey_Results.csv"
   ]
  },
  {
   "cell_type": "code",
   "execution_count": 3,
   "metadata": {},
   "outputs": [],
   "source": [
    "# Read survey data from the csv file\n",
    "df = pd.read_csv(\"4.29.2023_Survey_Results.csv\")"
   ]
  },
  {
   "cell_type": "code",
   "execution_count": 4,
   "metadata": {
    "scrolled": false
   },
   "outputs": [],
   "source": [
    "# Keep numerical and binary columns\n",
    "quant_df = df.drop(\"Who took this survey (initials)\", axis=1)\n",
    "quant_df.drop(\"Any additional comments?\", axis=1, inplace=True)\n",
    "quant_df.drop(\"Who's survey is this?\", axis=1, inplace=True)\n",
    "quant_df.drop(\"Timestamp\", axis=1, inplace=True)\n",
    "quant_df.drop(\"Unnamed: 16\", axis=1, inplace=True)\n",
    "\n",
    "# Change headers\n",
    "quant_df.columns = ['bike_rider', 'zipcode', 'ebike_rider', 'commute_purpose',\n",
    "                   'miles', 'try_bike', 'ebike_class', 'private_locker', 'group_locker',\n",
    "                   'ebike_rules', 'safty', 'interested']"
   ]
  },
  {
   "cell_type": "code",
   "execution_count": 5,
   "metadata": {},
   "outputs": [],
   "source": [
    "# convert zipcode values to string\n",
    "quant_df['zipcode'] = quant_df['zipcode'].apply(lambda x: str(x).replace('.0', ''))\n",
    "\n",
    "# convert all letters to lowercase\n",
    "columns = quant_df.columns\n",
    "for column in columns:\n",
    "    quant_df[column] = quant_df[column].str.lower()"
   ]
  },
  {
   "cell_type": "code",
   "execution_count": 6,
   "metadata": {},
   "outputs": [],
   "source": [
    "# Set cells to null if its unit is time\n",
    "quant_df['miles'] = quant_df['miles'].apply(lambda x: np.nan if pd.isnull(x) or 'min' in x else x)\n",
    "quant_df['miles'] = quant_df['miles'].str.extract(r'(\\d+)', expand=False).astype(float).astype(pd.Int64Dtype())"
   ]
  },
  {
   "cell_type": "markdown",
   "metadata": {},
   "source": [
    " "
   ]
  },
  {
   "cell_type": "markdown",
   "metadata": {},
   "source": [
    "##### CSV File 2: 6.08.2023_Online_Survey_Results.csv"
   ]
  },
  {
   "cell_type": "code",
   "execution_count": 7,
   "metadata": {},
   "outputs": [],
   "source": [
    "df2= pd.read_csv(\"6.08.2023_Online_Survey_Results.csv\")"
   ]
  },
  {
   "cell_type": "code",
   "execution_count": 8,
   "metadata": {
    "scrolled": false
   },
   "outputs": [],
   "source": [
    "# Keep question columns only\n",
    "df2 = df2[['Q1', 'Q2', 'Q3',\n",
    "           'Q4_1', 'Q4_2', 'Q4_3', 'Q4_4', \n",
    "           'Q4_5', 'Q4_6', 'Q4_7', 'Q5', 'Q6',\n",
    "           'Q7', 'Q8', 'Q9', 'Q10', 'Q11']]\n",
    "\n",
    "# Drop row 1\n",
    "df2 = df2.drop(1)"
   ]
  },
  {
   "cell_type": "code",
   "execution_count": 9,
   "metadata": {},
   "outputs": [],
   "source": [
    "# Change column names\n",
    "df2.columns = ['bike_rider', 'zipcode', 'ebike_rider', 'commute_purpose_1', 'commute_purpose_2',\n",
    "               'commute_purpose_3', 'commute_purpose_4', 'commute_purpose_5', 'commute_purpose_6',\n",
    "               'commute_purpose_7', 'miles', 'try_bike', 'ebike_class', 'locker',\n",
    "               'ebike_rules', 'safty', 'interested']\n",
    "df2 = df2.drop(0)"
   ]
  },
  {
   "cell_type": "code",
   "execution_count": 10,
   "metadata": {},
   "outputs": [],
   "source": [
    "# Set cells to null if its unit is time\n",
    "df2['miles'] = df2['miles'].apply(lambda x: np.nan if pd.isnull(x) or 'min' in x else x)\n",
    "df2['miles'] = df2['miles'].str.extract(r'(\\d+)', expand=False).astype(float).astype(pd.Int64Dtype())"
   ]
  },
  {
   "cell_type": "code",
   "execution_count": 11,
   "metadata": {},
   "outputs": [],
   "source": [
    "# Keep U.S. zipcodes only\n",
    "df2['zipcode'] = df2['zipcode'].apply(lambda x: np.nan if pd.isnull(x) or len(x) != 5 else x)"
   ]
  },
  {
   "cell_type": "markdown",
   "metadata": {},
   "source": [
    " "
   ]
  },
  {
   "cell_type": "markdown",
   "metadata": {},
   "source": [
    "##### Merge quant_df Dataframe and df2 Dataframe"
   ]
  },
  {
   "cell_type": "code",
   "execution_count": 12,
   "metadata": {},
   "outputs": [],
   "source": [
    "# Combine two dataframes\n",
    "df = pd.concat([quant_df, df2], ignore_index=True)\n",
    "\n",
    "# Convert all letters to lowercase\n",
    "columns = df.columns\n",
    "for column in columns:\n",
    "    if column != 'zipcode' and column != 'miles':\n",
    "        df[column] = df[column].str.lower()\n",
    "\n",
    "# Drop the column for 'combination' among communte_purpose\n",
    "df = df.drop('commute_purpose_6', axis=1)"
   ]
  },
  {
   "cell_type": "code",
   "execution_count": 13,
   "metadata": {},
   "outputs": [],
   "source": [
    "# Convert all columns except for 'miles' and 'zipcode' to string\n",
    "columns = df.columns\n",
    "for column in columns:\n",
    "    if column != 'zipcode' and column != 'miles':\n",
    "        df[column] = df[column].astype(str)\n",
    "\n",
    "# Rename each commute purpose columns\n",
    "df = df.rename(columns={'commute_purpose_1': 'by_public', \n",
    "                        'commute_purpose_2': 'by_car',\n",
    "                        'commute_purpose_3': 'by_bike',\n",
    "                        'commute_purpose_4': 'by_ebike',\n",
    "                        'commute_purpose_5': 'by_walking',\n",
    "                        'commute_purpose_7': 'no_commute'})"
   ]
  },
  {
   "cell_type": "code",
   "execution_count": 14,
   "metadata": {},
   "outputs": [],
   "source": [
    "# Transfer information in 'commute_purpose' column in to 'by_' columns\n",
    "df['by_public'] = df.apply(lambda row: 1 if 'public' in row['commute_purpose']\n",
    "                                                          or 'trolley' in row['commute_purpose'] \n",
    "                                                          or 'mts' in row['commute_purpose'] \n",
    "                                                          or 'bus' in row['commute_purpose']\n",
    "                                          else row['by_public'], axis=1)\n",
    "\n",
    "df['by_car'] = df.apply(lambda row: 1 if 'car' in row['commute_purpose'] or 'uber' in row['commute_purpose'] \n",
    "                                      else row['by_car'], axis=1)\n",
    "df['by_bike'] = df.apply(lambda row: 1 if 'bike' in row['commute_purpose'] and 'e bike' not in row['commute_purpose']\n",
    "                                       else row['by_bike'], axis=1)\n",
    "df['by_ebike'] = df.apply(lambda row: 1 if 'e bike' in row['commute_purpose']\n",
    "                                       else row['by_ebike'], axis=1)\n",
    "df['by_walking'] = df.apply(lambda row: 1 if 'walk' in row['commute_purpose']\n",
    "                                       else row['by_walking'], axis=1)\n",
    "df['no_commute'] = df.apply(lambda row: 1 if 'i do not commute' in row['commute_purpose']\n",
    "                                       else row['no_commute'], axis=1)\n",
    "\n",
    "# Convert value in 'by_' columns to 1 if the cell != nan\n",
    "df['by_public'] = df['by_public'].apply(lambda x: 1 if x != 'nan' else 0)\n",
    "df['by_car'] = df['by_car'].apply(lambda x: 1 if x != 'nan' else 0)\n",
    "df['by_bike'] = df['by_bike'].apply(lambda x: 1 if x != 'nan' else 0)\n",
    "df['by_ebike'] = df['by_ebike'].apply(lambda x: 1 if x != 'nan' else 0)\n",
    "df['by_walking'] = df['by_walking'].apply(lambda x: 1 if x != 'nan' else 0)\n",
    "df['no_commute'] = df['no_commute'].apply(lambda x: 1 if x != 'nan' else 0)\n",
    "\n",
    "# Drop 'commute_purpose' column since it's been one-hot encoded into 'by_' columns\n",
    "df = df.drop('commute_purpose', axis=1)"
   ]
  },
  {
   "cell_type": "code",
   "execution_count": 15,
   "metadata": {},
   "outputs": [],
   "source": [
    "# Keep answersin the 'ebike_rider' column to either yes or no\n",
    "df['ebike_rider'] = df['ebike_rider'].apply(lambda x: 'yes' if x != 'nan' and x != 'no' else x)"
   ]
  },
  {
   "cell_type": "code",
   "execution_count": 16,
   "metadata": {},
   "outputs": [],
   "source": [
    "# Reorder the columns to make it align with the order of the survey questions\n",
    "df = df[['bike_rider', 'zipcode', 'ebike_rider',\n",
    "         'by_public', 'by_car', 'by_bike', 'by_ebike', 'by_walking', 'no_commute',\n",
    "         'miles', 'try_bike', 'ebike_class', 'private_locker', 'group_locker', 'locker',\n",
    "         'ebike_rules', 'safty', 'interested']]"
   ]
  },
  {
   "cell_type": "code",
   "execution_count": 17,
   "metadata": {
    "scrolled": true
   },
   "outputs": [],
   "source": [
    "# Save df as quant_df, which is the name of the df that will be used in the analysis\n",
    "quant_df = df"
   ]
  },
  {
   "cell_type": "markdown",
   "metadata": {},
   "source": [
    " "
   ]
  },
  {
   "cell_type": "markdown",
   "metadata": {},
   "source": [
    "##### CSV File 3: June_10_2023_Survey_Data.csv"
   ]
  },
  {
   "cell_type": "code",
   "execution_count": 18,
   "metadata": {},
   "outputs": [],
   "source": [
    "df3 = pd.read_csv('June_10_2023_Survey_Data.csv')"
   ]
  },
  {
   "cell_type": "code",
   "execution_count": 19,
   "metadata": {
    "scrolled": true
   },
   "outputs": [],
   "source": [
    "concatenated_df = pd.concat([quant_df, df3], sort=False)\n",
    "\n",
    "# Reset the index of the concatenated dataframe\n",
    "concatenated_df = concatenated_df.reindex(columns=df.columns)"
   ]
  },
  {
   "cell_type": "code",
   "execution_count": 20,
   "metadata": {},
   "outputs": [],
   "source": [
    "def replace_with_yes(row):\n",
    "    if type(row) != float:\n",
    "        if 'yes' in row:\n",
    "            return 'yes'\n",
    "    return row\n",
    "\n",
    "def replace_with_no(row):\n",
    "    if type(row) != float:\n",
    "        if 'no' in row or 'but' in row:\n",
    "            return 'no'\n",
    "    return row\n",
    "\n",
    "def replace_with_maybe(row):\n",
    "    if type(row) != float:\n",
    "        if 'may' in row:\n",
    "            return 'maybe'\n",
    "    return row\n",
    "\n",
    "def replace_with_dn(row):\n",
    "    if type(row) != float:\n",
    "        if \"don't know\" in row or 'don’t know' in row:\n",
    "            return 'don\\'t know'\n",
    "    return row\n",
    "\n",
    "def replace_with_nan(row):\n",
    "    if type(row) != float:\n",
    "        if 'nan' in row:\n",
    "            return np.nan\n",
    "    return row\n",
    "\n",
    "def replace_with_depends(row):\n",
    "    if type(row) != float:\n",
    "        if 'depends' in row:\n",
    "            return 'somewhat'\n",
    "    return row"
   ]
  },
  {
   "cell_type": "code",
   "execution_count": 21,
   "metadata": {},
   "outputs": [],
   "source": [
    "concatenated_df['bike_rider'] = concatenated_df['bike_rider'].apply(replace_with_yes)\n",
    "concatenated_df['bike_rider'] =concatenated_df['bike_rider'].apply(replace_with_no)"
   ]
  },
  {
   "cell_type": "code",
   "execution_count": 22,
   "metadata": {},
   "outputs": [],
   "source": [
    "concatenated_df['ebike_rules'] = concatenated_df['ebike_rules'].apply(replace_with_dn)"
   ]
  },
  {
   "cell_type": "code",
   "execution_count": 23,
   "metadata": {},
   "outputs": [],
   "source": [
    "# convert zipcode values to string\n",
    "concatenated_df['zipcode'] = concatenated_df['zipcode'].apply(lambda x: str(x).replace('.0', ''))"
   ]
  },
  {
   "cell_type": "code",
   "execution_count": 24,
   "metadata": {},
   "outputs": [],
   "source": [
    "concatenated_df['try_bike'] = concatenated_df['try_bike'].apply(replace_with_nan)\n",
    "concatenated_df['private_locker'] = concatenated_df['private_locker'].apply(replace_with_nan)\n",
    "concatenated_df['group_locker'] = concatenated_df['group_locker'].apply(replace_with_nan)\n",
    "concatenated_df['group_locker'] = concatenated_df['group_locker'].apply(replace_with_depends)\n",
    "concatenated_df['locker'] = concatenated_df['locker'].apply(replace_with_nan)\n",
    "concatenated_df['safty'] = concatenated_df['safty'].apply(replace_with_nan)\n",
    "concatenated_df['interested'] = concatenated_df['interested'].apply(replace_with_nan)\n",
    "concatenated_df['interested'] = concatenated_df['interested'].apply(replace_with_no)\n",
    "concatenated_df['interested'] = concatenated_df['interested'].apply(replace_with_yes)\n",
    "concatenated_df['interested'] = concatenated_df['interested'].apply(replace_with_maybe)"
   ]
  },
  {
   "cell_type": "code",
   "execution_count": 25,
   "metadata": {},
   "outputs": [
    {
     "data": {
      "text/html": [
       "<div>\n",
       "<style scoped>\n",
       "    .dataframe tbody tr th:only-of-type {\n",
       "        vertical-align: middle;\n",
       "    }\n",
       "\n",
       "    .dataframe tbody tr th {\n",
       "        vertical-align: top;\n",
       "    }\n",
       "\n",
       "    .dataframe thead th {\n",
       "        text-align: right;\n",
       "    }\n",
       "</style>\n",
       "<table border=\"1\" class=\"dataframe\">\n",
       "  <thead>\n",
       "    <tr style=\"text-align: right;\">\n",
       "      <th></th>\n",
       "      <th>bike_rider</th>\n",
       "      <th>zipcode</th>\n",
       "      <th>ebike_rider</th>\n",
       "      <th>by_public</th>\n",
       "      <th>by_car</th>\n",
       "      <th>by_bike</th>\n",
       "      <th>by_ebike</th>\n",
       "      <th>by_walking</th>\n",
       "      <th>no_commute</th>\n",
       "      <th>miles</th>\n",
       "      <th>try_bike</th>\n",
       "      <th>ebike_class</th>\n",
       "      <th>private_locker</th>\n",
       "      <th>group_locker</th>\n",
       "      <th>locker</th>\n",
       "      <th>ebike_rules</th>\n",
       "      <th>safty</th>\n",
       "      <th>interested</th>\n",
       "    </tr>\n",
       "  </thead>\n",
       "  <tbody>\n",
       "    <tr>\n",
       "      <th>0</th>\n",
       "      <td>no</td>\n",
       "      <td>92115</td>\n",
       "      <td>no</td>\n",
       "      <td>0</td>\n",
       "      <td>0</td>\n",
       "      <td>0.0</td>\n",
       "      <td>0</td>\n",
       "      <td>0</td>\n",
       "      <td>1</td>\n",
       "      <td>&lt;NA&gt;</td>\n",
       "      <td>maybe</td>\n",
       "      <td>no</td>\n",
       "      <td>very</td>\n",
       "      <td>very</td>\n",
       "      <td>NaN</td>\n",
       "      <td>don't know</td>\n",
       "      <td>not very</td>\n",
       "      <td>no</td>\n",
       "    </tr>\n",
       "    <tr>\n",
       "      <th>1</th>\n",
       "      <td>no</td>\n",
       "      <td>92129</td>\n",
       "      <td>no</td>\n",
       "      <td>0</td>\n",
       "      <td>1</td>\n",
       "      <td>0.0</td>\n",
       "      <td>0</td>\n",
       "      <td>0</td>\n",
       "      <td>0</td>\n",
       "      <td>&lt;NA&gt;</td>\n",
       "      <td>no</td>\n",
       "      <td>a bit</td>\n",
       "      <td>NaN</td>\n",
       "      <td>NaN</td>\n",
       "      <td>NaN</td>\n",
       "      <td>not very</td>\n",
       "      <td>somewhat</td>\n",
       "      <td>no</td>\n",
       "    </tr>\n",
       "    <tr>\n",
       "      <th>2</th>\n",
       "      <td>no</td>\n",
       "      <td>92115</td>\n",
       "      <td>yes</td>\n",
       "      <td>1</td>\n",
       "      <td>0</td>\n",
       "      <td>0.0</td>\n",
       "      <td>0</td>\n",
       "      <td>0</td>\n",
       "      <td>0</td>\n",
       "      <td>1</td>\n",
       "      <td>maybe</td>\n",
       "      <td>a bit</td>\n",
       "      <td>very</td>\n",
       "      <td>somewhat</td>\n",
       "      <td>NaN</td>\n",
       "      <td>don't know</td>\n",
       "      <td>very</td>\n",
       "      <td>yes</td>\n",
       "    </tr>\n",
       "    <tr>\n",
       "      <th>3</th>\n",
       "      <td>no</td>\n",
       "      <td>92562</td>\n",
       "      <td>no</td>\n",
       "      <td>0</td>\n",
       "      <td>0</td>\n",
       "      <td>0.0</td>\n",
       "      <td>0</td>\n",
       "      <td>0</td>\n",
       "      <td>1</td>\n",
       "      <td>&lt;NA&gt;</td>\n",
       "      <td>NaN</td>\n",
       "      <td>no</td>\n",
       "      <td>NaN</td>\n",
       "      <td>NaN</td>\n",
       "      <td>NaN</td>\n",
       "      <td>don't know</td>\n",
       "      <td>not concerned</td>\n",
       "      <td>maybe</td>\n",
       "    </tr>\n",
       "    <tr>\n",
       "      <th>4</th>\n",
       "      <td>yes</td>\n",
       "      <td>92109</td>\n",
       "      <td>no</td>\n",
       "      <td>0</td>\n",
       "      <td>0</td>\n",
       "      <td>0.0</td>\n",
       "      <td>0</td>\n",
       "      <td>0</td>\n",
       "      <td>1</td>\n",
       "      <td>&lt;NA&gt;</td>\n",
       "      <td>NaN</td>\n",
       "      <td>no</td>\n",
       "      <td>NaN</td>\n",
       "      <td>NaN</td>\n",
       "      <td>NaN</td>\n",
       "      <td>don't know</td>\n",
       "      <td>not concerned</td>\n",
       "      <td>no</td>\n",
       "    </tr>\n",
       "    <tr>\n",
       "      <th>...</th>\n",
       "      <td>...</td>\n",
       "      <td>...</td>\n",
       "      <td>...</td>\n",
       "      <td>...</td>\n",
       "      <td>...</td>\n",
       "      <td>...</td>\n",
       "      <td>...</td>\n",
       "      <td>...</td>\n",
       "      <td>...</td>\n",
       "      <td>...</td>\n",
       "      <td>...</td>\n",
       "      <td>...</td>\n",
       "      <td>...</td>\n",
       "      <td>...</td>\n",
       "      <td>...</td>\n",
       "      <td>...</td>\n",
       "      <td>...</td>\n",
       "      <td>...</td>\n",
       "    </tr>\n",
       "    <tr>\n",
       "      <th>36</th>\n",
       "      <td>no</td>\n",
       "      <td>91945</td>\n",
       "      <td>no</td>\n",
       "      <td>0</td>\n",
       "      <td>1</td>\n",
       "      <td>NaN</td>\n",
       "      <td>0</td>\n",
       "      <td>0</td>\n",
       "      <td>0</td>\n",
       "      <td>20</td>\n",
       "      <td>NaN</td>\n",
       "      <td>a bit</td>\n",
       "      <td>NaN</td>\n",
       "      <td>NaN</td>\n",
       "      <td>somewhat</td>\n",
       "      <td>not very</td>\n",
       "      <td>NaN</td>\n",
       "      <td>yes</td>\n",
       "    </tr>\n",
       "    <tr>\n",
       "      <th>37</th>\n",
       "      <td>yes</td>\n",
       "      <td>92108</td>\n",
       "      <td>no</td>\n",
       "      <td>0</td>\n",
       "      <td>1</td>\n",
       "      <td>NaN</td>\n",
       "      <td>0</td>\n",
       "      <td>0</td>\n",
       "      <td>0</td>\n",
       "      <td>10</td>\n",
       "      <td>NaN</td>\n",
       "      <td>no</td>\n",
       "      <td>NaN</td>\n",
       "      <td>NaN</td>\n",
       "      <td>somewhat</td>\n",
       "      <td>not very</td>\n",
       "      <td>NaN</td>\n",
       "      <td>yes</td>\n",
       "    </tr>\n",
       "    <tr>\n",
       "      <th>38</th>\n",
       "      <td>yes</td>\n",
       "      <td>92117</td>\n",
       "      <td>no</td>\n",
       "      <td>0</td>\n",
       "      <td>1</td>\n",
       "      <td>NaN</td>\n",
       "      <td>0</td>\n",
       "      <td>0</td>\n",
       "      <td>0</td>\n",
       "      <td>15</td>\n",
       "      <td>NaN</td>\n",
       "      <td>no</td>\n",
       "      <td>NaN</td>\n",
       "      <td>NaN</td>\n",
       "      <td>very</td>\n",
       "      <td>not very</td>\n",
       "      <td>NaN</td>\n",
       "      <td>maybe</td>\n",
       "    </tr>\n",
       "    <tr>\n",
       "      <th>39</th>\n",
       "      <td>yes</td>\n",
       "      <td>92102</td>\n",
       "      <td>no</td>\n",
       "      <td>0</td>\n",
       "      <td>1</td>\n",
       "      <td>NaN</td>\n",
       "      <td>0</td>\n",
       "      <td>0</td>\n",
       "      <td>0</td>\n",
       "      <td>12</td>\n",
       "      <td>NaN</td>\n",
       "      <td>no</td>\n",
       "      <td>NaN</td>\n",
       "      <td>NaN</td>\n",
       "      <td>somewhat</td>\n",
       "      <td>somewhat</td>\n",
       "      <td>NaN</td>\n",
       "      <td>maybe</td>\n",
       "    </tr>\n",
       "    <tr>\n",
       "      <th>40</th>\n",
       "      <td>no</td>\n",
       "      <td>92139</td>\n",
       "      <td>no</td>\n",
       "      <td>1</td>\n",
       "      <td>0</td>\n",
       "      <td>NaN</td>\n",
       "      <td>0</td>\n",
       "      <td>0</td>\n",
       "      <td>0</td>\n",
       "      <td>15</td>\n",
       "      <td>NaN</td>\n",
       "      <td>no</td>\n",
       "      <td>NaN</td>\n",
       "      <td>NaN</td>\n",
       "      <td>no opinon</td>\n",
       "      <td>don't know</td>\n",
       "      <td>NaN</td>\n",
       "      <td>no</td>\n",
       "    </tr>\n",
       "  </tbody>\n",
       "</table>\n",
       "<p>166 rows × 18 columns</p>\n",
       "</div>"
      ],
      "text/plain": [
       "   bike_rider zipcode ebike_rider  by_public  by_car  by_bike  by_ebike  \\\n",
       "0          no   92115          no          0       0      0.0         0   \n",
       "1          no   92129          no          0       1      0.0         0   \n",
       "2          no   92115         yes          1       0      0.0         0   \n",
       "3          no   92562          no          0       0      0.0         0   \n",
       "4         yes   92109          no          0       0      0.0         0   \n",
       "..        ...     ...         ...        ...     ...      ...       ...   \n",
       "36         no   91945          no          0       1      NaN         0   \n",
       "37        yes   92108          no          0       1      NaN         0   \n",
       "38        yes   92117          no          0       1      NaN         0   \n",
       "39        yes   92102          no          0       1      NaN         0   \n",
       "40         no   92139          no          1       0      NaN         0   \n",
       "\n",
       "    by_walking  no_commute  miles try_bike ebike_class private_locker  \\\n",
       "0            0           1   <NA>    maybe          no           very   \n",
       "1            0           0   <NA>       no       a bit            NaN   \n",
       "2            0           0      1    maybe       a bit           very   \n",
       "3            0           1   <NA>      NaN          no            NaN   \n",
       "4            0           1   <NA>      NaN          no            NaN   \n",
       "..         ...         ...    ...      ...         ...            ...   \n",
       "36           0           0     20      NaN       a bit            NaN   \n",
       "37           0           0     10      NaN          no            NaN   \n",
       "38           0           0     15      NaN          no            NaN   \n",
       "39           0           0     12      NaN          no            NaN   \n",
       "40           0           0     15      NaN          no            NaN   \n",
       "\n",
       "   group_locker     locker ebike_rules          safty interested  \n",
       "0          very        NaN  don't know       not very         no  \n",
       "1           NaN        NaN    not very       somewhat         no  \n",
       "2      somewhat        NaN  don't know           very        yes  \n",
       "3           NaN        NaN  don't know  not concerned      maybe  \n",
       "4           NaN        NaN  don't know  not concerned         no  \n",
       "..          ...        ...         ...            ...        ...  \n",
       "36          NaN   somewhat    not very            NaN        yes  \n",
       "37          NaN   somewhat    not very            NaN        yes  \n",
       "38          NaN       very    not very            NaN      maybe  \n",
       "39          NaN   somewhat    somewhat            NaN      maybe  \n",
       "40          NaN  no opinon  don't know            NaN         no  \n",
       "\n",
       "[166 rows x 18 columns]"
      ]
     },
     "execution_count": 25,
     "metadata": {},
     "output_type": "execute_result"
    }
   ],
   "source": [
    "concatenated_df"
   ]
  },
  {
   "cell_type": "markdown",
   "metadata": {},
   "source": [
    "Here's a description of each feature (column) in the quant_df DataFrame:\n",
    "\n",
    "Header | Description\n",
    "-------|------------\n",
    "bike_rider | Are you a bike rider?\n",
    "zipcode | What is your zip code?\n",
    "ebike_rider | Do you or anyone in your family ride an e-bike?\n",
    "by_public | How do you commute - to work, school, or for other purposes? - Answered by public transportaion\n",
    "by_car | How do you commute - to work, school, or for other purposes? - Answered by car\n",
    "by_bike | How do you commute - to work, school, or for other purposes? - Answered by bike\n",
    "by_ebike | How do you commute - to work, school, or for other purposes? - Answered by e bike\n",
    "by_walking | How do you commute - to work, school, or for other purposes? - Answered by walking\n",
    "no_commute | How do you commute - to work, school, or for other purposes? - Answered no need for commute\n",
    "miles | How far (ROUND TRIP) do you commute for any purpose each day?\n",
    "try_bike | Would you commute by e-bike if given the opportunity?\n",
    "ebike_class | Do you know the differences between Class 1, Class 1, and Class 3 e-bikes?\n",
    "private_locker | How comfortable would you be storing your bike in a private bike locker while you are commuting?\n",
    "group_locker | How comfortable would you be storing your bike in a group bike locker while you are commuting?\n",
    "locker | How comfortable would you be storing your bike in a bike locker while you are commuting?\n",
    "ebike_rules | How familiar are you and those in your family with the rules of the road for e-bikes?\n",
    "safty | How concerned are you about e-bikes and e-bike safety in San Diego County?\n",
    "interested | Are you interested in learning more about e-bikes?\n"
   ]
  },
  {
   "cell_type": "markdown",
   "metadata": {},
   "source": [
    "#### Export Data Frame as Excel"
   ]
  },
  {
   "cell_type": "code",
   "execution_count": 48,
   "metadata": {},
   "outputs": [],
   "source": [
    "# Export DataFrame to Excel\n",
    "excel_filename = 'cce_survey_data.xlsx'\n",
    "concatenated_df.to_excel(excel_filename, index=False)"
   ]
  },
  {
   "cell_type": "markdown",
   "metadata": {},
   "source": [
    "## Part II: Analysis on Numerical and Categorical Features"
   ]
  },
  {
   "cell_type": "markdown",
   "metadata": {},
   "source": [
    "#### Survey Question: Are you a bike rider? | Column: bike_rider"
   ]
  },
  {
   "cell_type": "code",
   "execution_count": 26,
   "metadata": {},
   "outputs": [
    {
     "data": {
      "image/png": "[encoded data removed]",
      "text/plain": [
       "<Figure size 432x288 with 1 Axes>"
      ]
     },
     "metadata": {
      "needs_background": "light"
     },
     "output_type": "display_data"
    },
    {
     "name": "stdout",
     "output_type": "stream",
     "text": [
      "54% of the participants are bike riders\n",
      "46% of the participants are NOT bike riders\n"
     ]
    }
   ],
   "source": [
    "# count number of bike rider and non-bike rider\n",
    "bike_rider_count = quant_df['bike_rider'].value_counts()\n",
    "bike_rider_yes = bike_rider_count[0] + bike_rider_count[2] + bike_rider_count[4]\n",
    "bike_rider_no = bike_rider_count[1] + bike_rider_count[3]\n",
    "\n",
    "# create bar plot\n",
    "x = ['Bike Riders', 'None Bike Riders']\n",
    "y = [bike_rider_yes, bike_rider_no]\n",
    "plt.bar(x, y)\n",
    "\n",
    "# add label to bar plot\n",
    "plt.xlabel('Riders')\n",
    "plt.ylabel('Number of People')\n",
    "plt.title('Number of Bike Riders vs. None Bike Riders')\n",
    "\n",
    "# display the plot\n",
    "plt.show()\n",
    "\n",
    "# show number of bike riders vs. none bike riders\n",
    "bike_percent_yes = round(bike_rider_yes / (bike_rider_yes + bike_rider_no) * 100)\n",
    "bike_percent_no = round(bike_rider_no / (bike_rider_no + bike_rider_yes) * 100)\n",
    "print(f'{bike_percent_yes}% of the participants are bike riders')\n",
    "print(f'{bike_percent_no}% of the participants are NOT bike riders')"
   ]
  },
  {
   "cell_type": "markdown",
   "metadata": {},
   "source": [
    "#### Survey Question: What is your zip code? | Column: zipcode"
   ]
  },
  {
   "cell_type": "code",
   "execution_count": 27,
   "metadata": {},
   "outputs": [],
   "source": [
    "# Create a dataframe for zipcode counts\n",
    "zipcode_count = quant_df[['zipcode']].dropna()\n",
    "zipcode_count['count'] = 1\n",
    "zipcode_df = zipcode_count.groupby('zipcode').sum().reset_index()\n",
    "zipcode_df = zipcode_df[zipcode_df['zipcode'] != 'nan']"
   ]
  },
  {
   "cell_type": "code",
   "execution_count": 28,
   "metadata": {},
   "outputs": [
    {
     "ename": "GeocoderUnavailable",
     "evalue": "HTTPSConnectionPool(host='nominatim.openstreetmap.org', port=443): Max retries exceeded with url: /search?q=05753&format=json&limit=1 (Caused by ProxyError('Cannot connect to proxy.', timeout('_ssl.c:1106: The handshake operation timed out')))",
     "output_type": "error",
     "traceback": [
      "\u001b[0;31m---------------------------------------------------------------------------\u001b[0m",
      "\u001b[0;31mtimeout\u001b[0m                                   Traceback (most recent call last)",
      "\u001b[0;32m~/opt/anaconda3/lib/python3.8/site-packages/urllib3/connectionpool.py\u001b[0m in \u001b[0;36murlopen\u001b[0;34m(self, method, url, body, headers, retries, redirect, assert_same_host, timeout, pool_timeout, release_conn, chunked, body_pos, **response_kw)\u001b[0m\n\u001b[1;32m    666\u001b[0m             \u001b[0;32mif\u001b[0m \u001b[0mis_new_proxy_conn\u001b[0m\u001b[0;34m:\u001b[0m\u001b[0;34m\u001b[0m\u001b[0;34m\u001b[0m\u001b[0m\n\u001b[0;32m--> 667\u001b[0;31m                 \u001b[0mself\u001b[0m\u001b[0;34m.\u001b[0m\u001b[0m_prepare_proxy\u001b[0m\u001b[0;34m(\u001b[0m\u001b[0mconn\u001b[0m\u001b[0;34m)\u001b[0m\u001b[0;34m\u001b[0m\u001b[0;34m\u001b[0m\u001b[0m\n\u001b[0m\u001b[1;32m    668\u001b[0m \u001b[0;34m\u001b[0m\u001b[0m\n",
      "\u001b[0;32m~/opt/anaconda3/lib/python3.8/site-packages/urllib3/connectionpool.py\u001b[0m in \u001b[0;36m_prepare_proxy\u001b[0;34m(self, conn)\u001b[0m\n\u001b[1;32m    931\u001b[0m         \u001b[0mconn\u001b[0m\u001b[0;34m.\u001b[0m\u001b[0mset_tunnel\u001b[0m\u001b[0;34m(\u001b[0m\u001b[0mself\u001b[0m\u001b[0;34m.\u001b[0m\u001b[0m_proxy_host\u001b[0m\u001b[0;34m,\u001b[0m \u001b[0mself\u001b[0m\u001b[0;34m.\u001b[0m\u001b[0mport\u001b[0m\u001b[0;34m,\u001b[0m \u001b[0mself\u001b[0m\u001b[0;34m.\u001b[0m\u001b[0mproxy_headers\u001b[0m\u001b[0;34m)\u001b[0m\u001b[0;34m\u001b[0m\u001b[0;34m\u001b[0m\u001b[0m\n\u001b[0;32m--> 932\u001b[0;31m         \u001b[0mconn\u001b[0m\u001b[0;34m.\u001b[0m\u001b[0mconnect\u001b[0m\u001b[0;34m(\u001b[0m\u001b[0;34m)\u001b[0m\u001b[0;34m\u001b[0m\u001b[0;34m\u001b[0m\u001b[0m\n\u001b[0m\u001b[1;32m    933\u001b[0m \u001b[0;34m\u001b[0m\u001b[0m\n",
      "\u001b[0;32m~/opt/anaconda3/lib/python3.8/site-packages/urllib3/connection.py\u001b[0m in \u001b[0;36mconnect\u001b[0;34m(self)\u001b[0m\n\u001b[1;32m    361\u001b[0m \u001b[0;34m\u001b[0m\u001b[0m\n\u001b[0;32m--> 362\u001b[0;31m         self.sock = ssl_wrap_socket(\n\u001b[0m\u001b[1;32m    363\u001b[0m             \u001b[0msock\u001b[0m\u001b[0;34m=\u001b[0m\u001b[0mconn\u001b[0m\u001b[0;34m,\u001b[0m\u001b[0;34m\u001b[0m\u001b[0;34m\u001b[0m\u001b[0m\n",
      "\u001b[0;32m~/opt/anaconda3/lib/python3.8/site-packages/urllib3/util/ssl_.py\u001b[0m in \u001b[0;36mssl_wrap_socket\u001b[0;34m(sock, keyfile, certfile, cert_reqs, ca_certs, server_hostname, ssl_version, ciphers, ssl_context, ca_cert_dir, key_password, ca_cert_data)\u001b[0m\n\u001b[1;32m    385\u001b[0m         \u001b[0;32mif\u001b[0m \u001b[0mHAS_SNI\u001b[0m \u001b[0;32mand\u001b[0m \u001b[0mserver_hostname\u001b[0m \u001b[0;32mis\u001b[0m \u001b[0;32mnot\u001b[0m \u001b[0;32mNone\u001b[0m\u001b[0;34m:\u001b[0m\u001b[0;34m\u001b[0m\u001b[0;34m\u001b[0m\u001b[0m\n\u001b[0;32m--> 386\u001b[0;31m             \u001b[0;32mreturn\u001b[0m \u001b[0mcontext\u001b[0m\u001b[0;34m.\u001b[0m\u001b[0mwrap_socket\u001b[0m\u001b[0;34m(\u001b[0m\u001b[0msock\u001b[0m\u001b[0;34m,\u001b[0m \u001b[0mserver_hostname\u001b[0m\u001b[0;34m=\u001b[0m\u001b[0mserver_hostname\u001b[0m\u001b[0;34m)\u001b[0m\u001b[0;34m\u001b[0m\u001b[0;34m\u001b[0m\u001b[0m\n\u001b[0m\u001b[1;32m    387\u001b[0m \u001b[0;34m\u001b[0m\u001b[0m\n",
      "\u001b[0;32m~/opt/anaconda3/lib/python3.8/ssl.py\u001b[0m in \u001b[0;36mwrap_socket\u001b[0;34m(self, sock, server_side, do_handshake_on_connect, suppress_ragged_eofs, server_hostname, session)\u001b[0m\n\u001b[1;32m    499\u001b[0m         \u001b[0;31m# ctx._wrap_socket()\u001b[0m\u001b[0;34m\u001b[0m\u001b[0;34m\u001b[0m\u001b[0;34m\u001b[0m\u001b[0m\n\u001b[0;32m--> 500\u001b[0;31m         return self.sslsocket_class._create(\n\u001b[0m\u001b[1;32m    501\u001b[0m             \u001b[0msock\u001b[0m\u001b[0;34m=\u001b[0m\u001b[0msock\u001b[0m\u001b[0;34m,\u001b[0m\u001b[0;34m\u001b[0m\u001b[0;34m\u001b[0m\u001b[0m\n",
      "\u001b[0;32m~/opt/anaconda3/lib/python3.8/ssl.py\u001b[0m in \u001b[0;36m_create\u001b[0;34m(cls, sock, server_side, do_handshake_on_connect, suppress_ragged_eofs, server_hostname, context, session)\u001b[0m\n\u001b[1;32m   1039\u001b[0m                         \u001b[0;32mraise\u001b[0m \u001b[0mValueError\u001b[0m\u001b[0;34m(\u001b[0m\u001b[0;34m\"do_handshake_on_connect should not be specified for non-blocking sockets\"\u001b[0m\u001b[0;34m)\u001b[0m\u001b[0;34m\u001b[0m\u001b[0;34m\u001b[0m\u001b[0m\n\u001b[0;32m-> 1040\u001b[0;31m                     \u001b[0mself\u001b[0m\u001b[0;34m.\u001b[0m\u001b[0mdo_handshake\u001b[0m\u001b[0;34m(\u001b[0m\u001b[0;34m)\u001b[0m\u001b[0;34m\u001b[0m\u001b[0;34m\u001b[0m\u001b[0m\n\u001b[0m\u001b[1;32m   1041\u001b[0m             \u001b[0;32mexcept\u001b[0m \u001b[0;34m(\u001b[0m\u001b[0mOSError\u001b[0m\u001b[0;34m,\u001b[0m \u001b[0mValueError\u001b[0m\u001b[0;34m)\u001b[0m\u001b[0;34m:\u001b[0m\u001b[0;34m\u001b[0m\u001b[0;34m\u001b[0m\u001b[0m\n",
      "\u001b[0;32m~/opt/anaconda3/lib/python3.8/ssl.py\u001b[0m in \u001b[0;36mdo_handshake\u001b[0;34m(self, block)\u001b[0m\n\u001b[1;32m   1308\u001b[0m                 \u001b[0mself\u001b[0m\u001b[0;34m.\u001b[0m\u001b[0msettimeout\u001b[0m\u001b[0;34m(\u001b[0m\u001b[0;32mNone\u001b[0m\u001b[0;34m)\u001b[0m\u001b[0;34m\u001b[0m\u001b[0;34m\u001b[0m\u001b[0m\n\u001b[0;32m-> 1309\u001b[0;31m             \u001b[0mself\u001b[0m\u001b[0;34m.\u001b[0m\u001b[0m_sslobj\u001b[0m\u001b[0;34m.\u001b[0m\u001b[0mdo_handshake\u001b[0m\u001b[0;34m(\u001b[0m\u001b[0;34m)\u001b[0m\u001b[0;34m\u001b[0m\u001b[0;34m\u001b[0m\u001b[0m\n\u001b[0m\u001b[1;32m   1310\u001b[0m         \u001b[0;32mfinally\u001b[0m\u001b[0;34m:\u001b[0m\u001b[0;34m\u001b[0m\u001b[0;34m\u001b[0m\u001b[0m\n",
      "\u001b[0;31mtimeout\u001b[0m: _ssl.c:1106: The handshake operation timed out",
      "\nDuring handling of the above exception, another exception occurred:\n",
      "\u001b[0;31mMaxRetryError\u001b[0m                             Traceback (most recent call last)",
      "\u001b[0;32m~/opt/anaconda3/lib/python3.8/site-packages/requests/adapters.py\u001b[0m in \u001b[0;36msend\u001b[0;34m(self, request, stream, timeout, verify, cert, proxies)\u001b[0m\n\u001b[1;32m    438\u001b[0m             \u001b[0;32mif\u001b[0m \u001b[0;32mnot\u001b[0m \u001b[0mchunked\u001b[0m\u001b[0;34m:\u001b[0m\u001b[0;34m\u001b[0m\u001b[0;34m\u001b[0m\u001b[0m\n\u001b[0;32m--> 439\u001b[0;31m                 resp = conn.urlopen(\n\u001b[0m\u001b[1;32m    440\u001b[0m                     \u001b[0mmethod\u001b[0m\u001b[0;34m=\u001b[0m\u001b[0mrequest\u001b[0m\u001b[0;34m.\u001b[0m\u001b[0mmethod\u001b[0m\u001b[0;34m,\u001b[0m\u001b[0;34m\u001b[0m\u001b[0;34m\u001b[0m\u001b[0m\n",
      "\u001b[0;32m~/opt/anaconda3/lib/python3.8/site-packages/urllib3/connectionpool.py\u001b[0m in \u001b[0;36murlopen\u001b[0;34m(self, method, url, body, headers, retries, redirect, assert_same_host, timeout, pool_timeout, release_conn, chunked, body_pos, **response_kw)\u001b[0m\n\u001b[1;32m    753\u001b[0m             )\n\u001b[0;32m--> 754\u001b[0;31m             return self.urlopen(\n\u001b[0m\u001b[1;32m    755\u001b[0m                 \u001b[0mmethod\u001b[0m\u001b[0;34m,\u001b[0m\u001b[0;34m\u001b[0m\u001b[0;34m\u001b[0m\u001b[0m\n",
      "\u001b[0;32m~/opt/anaconda3/lib/python3.8/site-packages/urllib3/connectionpool.py\u001b[0m in \u001b[0;36murlopen\u001b[0;34m(self, method, url, body, headers, retries, redirect, assert_same_host, timeout, pool_timeout, release_conn, chunked, body_pos, **response_kw)\u001b[0m\n\u001b[1;32m    753\u001b[0m             )\n\u001b[0;32m--> 754\u001b[0;31m             return self.urlopen(\n\u001b[0m\u001b[1;32m    755\u001b[0m                 \u001b[0mmethod\u001b[0m\u001b[0;34m,\u001b[0m\u001b[0;34m\u001b[0m\u001b[0;34m\u001b[0m\u001b[0m\n",
      "\u001b[0;32m~/opt/anaconda3/lib/python3.8/site-packages/urllib3/connectionpool.py\u001b[0m in \u001b[0;36murlopen\u001b[0;34m(self, method, url, body, headers, retries, redirect, assert_same_host, timeout, pool_timeout, release_conn, chunked, body_pos, **response_kw)\u001b[0m\n\u001b[1;32m    725\u001b[0m \u001b[0;34m\u001b[0m\u001b[0m\n\u001b[0;32m--> 726\u001b[0;31m             retries = retries.increment(\n\u001b[0m\u001b[1;32m    727\u001b[0m                 \u001b[0mmethod\u001b[0m\u001b[0;34m,\u001b[0m \u001b[0murl\u001b[0m\u001b[0;34m,\u001b[0m \u001b[0merror\u001b[0m\u001b[0;34m=\u001b[0m\u001b[0me\u001b[0m\u001b[0;34m,\u001b[0m \u001b[0m_pool\u001b[0m\u001b[0;34m=\u001b[0m\u001b[0mself\u001b[0m\u001b[0;34m,\u001b[0m \u001b[0m_stacktrace\u001b[0m\u001b[0;34m=\u001b[0m\u001b[0msys\u001b[0m\u001b[0;34m.\u001b[0m\u001b[0mexc_info\u001b[0m\u001b[0;34m(\u001b[0m\u001b[0;34m)\u001b[0m\u001b[0;34m[\u001b[0m\u001b[0;36m2\u001b[0m\u001b[0;34m]\u001b[0m\u001b[0;34m\u001b[0m\u001b[0;34m\u001b[0m\u001b[0m\n",
      "\u001b[0;32m~/opt/anaconda3/lib/python3.8/site-packages/urllib3/util/retry.py\u001b[0m in \u001b[0;36mincrement\u001b[0;34m(self, method, url, response, error, _pool, _stacktrace)\u001b[0m\n\u001b[1;32m    445\u001b[0m         \u001b[0;32mif\u001b[0m \u001b[0mnew_retry\u001b[0m\u001b[0;34m.\u001b[0m\u001b[0mis_exhausted\u001b[0m\u001b[0;34m(\u001b[0m\u001b[0;34m)\u001b[0m\u001b[0;34m:\u001b[0m\u001b[0;34m\u001b[0m\u001b[0;34m\u001b[0m\u001b[0m\n\u001b[0;32m--> 446\u001b[0;31m             \u001b[0;32mraise\u001b[0m \u001b[0mMaxRetryError\u001b[0m\u001b[0;34m(\u001b[0m\u001b[0m_pool\u001b[0m\u001b[0;34m,\u001b[0m \u001b[0murl\u001b[0m\u001b[0;34m,\u001b[0m \u001b[0merror\u001b[0m \u001b[0;32mor\u001b[0m \u001b[0mResponseError\u001b[0m\u001b[0;34m(\u001b[0m\u001b[0mcause\u001b[0m\u001b[0;34m)\u001b[0m\u001b[0;34m)\u001b[0m\u001b[0;34m\u001b[0m\u001b[0;34m\u001b[0m\u001b[0m\n\u001b[0m\u001b[1;32m    447\u001b[0m \u001b[0;34m\u001b[0m\u001b[0m\n",
      "\u001b[0;31mMaxRetryError\u001b[0m: HTTPSConnectionPool(host='nominatim.openstreetmap.org', port=443): Max retries exceeded with url: /search?q=05753&format=json&limit=1 (Caused by ProxyError('Cannot connect to proxy.', timeout('_ssl.c:1106: The handshake operation timed out')))",
      "\nDuring handling of the above exception, another exception occurred:\n",
      "\u001b[0;31mProxyError\u001b[0m                                Traceback (most recent call last)",
      "\u001b[0;32m~/opt/anaconda3/lib/python3.8/site-packages/geopy/adapters.py\u001b[0m in \u001b[0;36m_request\u001b[0;34m(self, url, timeout, headers)\u001b[0m\n\u001b[1;32m    456\u001b[0m         \u001b[0;32mtry\u001b[0m\u001b[0;34m:\u001b[0m\u001b[0;34m\u001b[0m\u001b[0;34m\u001b[0m\u001b[0m\n\u001b[0;32m--> 457\u001b[0;31m             \u001b[0mresp\u001b[0m \u001b[0;34m=\u001b[0m \u001b[0mself\u001b[0m\u001b[0;34m.\u001b[0m\u001b[0msession\u001b[0m\u001b[0;34m.\u001b[0m\u001b[0mget\u001b[0m\u001b[0;34m(\u001b[0m\u001b[0murl\u001b[0m\u001b[0;34m,\u001b[0m \u001b[0mtimeout\u001b[0m\u001b[0;34m=\u001b[0m\u001b[0mtimeout\u001b[0m\u001b[0;34m,\u001b[0m \u001b[0mheaders\u001b[0m\u001b[0;34m=\u001b[0m\u001b[0mheaders\u001b[0m\u001b[0;34m)\u001b[0m\u001b[0;34m\u001b[0m\u001b[0;34m\u001b[0m\u001b[0m\n\u001b[0m\u001b[1;32m    458\u001b[0m         \u001b[0;32mexcept\u001b[0m \u001b[0mException\u001b[0m \u001b[0;32mas\u001b[0m \u001b[0merror\u001b[0m\u001b[0;34m:\u001b[0m\u001b[0;34m\u001b[0m\u001b[0;34m\u001b[0m\u001b[0m\n",
      "\u001b[0;32m~/opt/anaconda3/lib/python3.8/site-packages/requests/sessions.py\u001b[0m in \u001b[0;36mget\u001b[0;34m(self, url, **kwargs)\u001b[0m\n\u001b[1;32m    542\u001b[0m         \u001b[0mkwargs\u001b[0m\u001b[0;34m.\u001b[0m\u001b[0msetdefault\u001b[0m\u001b[0;34m(\u001b[0m\u001b[0;34m'allow_redirects'\u001b[0m\u001b[0;34m,\u001b[0m \u001b[0;32mTrue\u001b[0m\u001b[0;34m)\u001b[0m\u001b[0;34m\u001b[0m\u001b[0;34m\u001b[0m\u001b[0m\n\u001b[0;32m--> 543\u001b[0;31m         \u001b[0;32mreturn\u001b[0m \u001b[0mself\u001b[0m\u001b[0;34m.\u001b[0m\u001b[0mrequest\u001b[0m\u001b[0;34m(\u001b[0m\u001b[0;34m'GET'\u001b[0m\u001b[0;34m,\u001b[0m \u001b[0murl\u001b[0m\u001b[0;34m,\u001b[0m \u001b[0;34m**\u001b[0m\u001b[0mkwargs\u001b[0m\u001b[0;34m)\u001b[0m\u001b[0;34m\u001b[0m\u001b[0;34m\u001b[0m\u001b[0m\n\u001b[0m\u001b[1;32m    544\u001b[0m \u001b[0;34m\u001b[0m\u001b[0m\n",
      "\u001b[0;32m~/opt/anaconda3/lib/python3.8/site-packages/requests/sessions.py\u001b[0m in \u001b[0;36mrequest\u001b[0;34m(self, method, url, params, data, headers, cookies, files, auth, timeout, allow_redirects, proxies, hooks, stream, verify, cert, json)\u001b[0m\n\u001b[1;32m    529\u001b[0m         \u001b[0msend_kwargs\u001b[0m\u001b[0;34m.\u001b[0m\u001b[0mupdate\u001b[0m\u001b[0;34m(\u001b[0m\u001b[0msettings\u001b[0m\u001b[0;34m)\u001b[0m\u001b[0;34m\u001b[0m\u001b[0;34m\u001b[0m\u001b[0m\n\u001b[0;32m--> 530\u001b[0;31m         \u001b[0mresp\u001b[0m \u001b[0;34m=\u001b[0m \u001b[0mself\u001b[0m\u001b[0;34m.\u001b[0m\u001b[0msend\u001b[0m\u001b[0;34m(\u001b[0m\u001b[0mprep\u001b[0m\u001b[0;34m,\u001b[0m \u001b[0;34m**\u001b[0m\u001b[0msend_kwargs\u001b[0m\u001b[0;34m)\u001b[0m\u001b[0;34m\u001b[0m\u001b[0;34m\u001b[0m\u001b[0m\n\u001b[0m\u001b[1;32m    531\u001b[0m \u001b[0;34m\u001b[0m\u001b[0m\n",
      "\u001b[0;32m~/opt/anaconda3/lib/python3.8/site-packages/requests/sessions.py\u001b[0m in \u001b[0;36msend\u001b[0;34m(self, request, **kwargs)\u001b[0m\n\u001b[1;32m    642\u001b[0m         \u001b[0;31m# Send the request\u001b[0m\u001b[0;34m\u001b[0m\u001b[0;34m\u001b[0m\u001b[0;34m\u001b[0m\u001b[0m\n\u001b[0;32m--> 643\u001b[0;31m         \u001b[0mr\u001b[0m \u001b[0;34m=\u001b[0m \u001b[0madapter\u001b[0m\u001b[0;34m.\u001b[0m\u001b[0msend\u001b[0m\u001b[0;34m(\u001b[0m\u001b[0mrequest\u001b[0m\u001b[0;34m,\u001b[0m \u001b[0;34m**\u001b[0m\u001b[0mkwargs\u001b[0m\u001b[0;34m)\u001b[0m\u001b[0;34m\u001b[0m\u001b[0;34m\u001b[0m\u001b[0m\n\u001b[0m\u001b[1;32m    644\u001b[0m \u001b[0;34m\u001b[0m\u001b[0m\n",
      "\u001b[0;32m~/opt/anaconda3/lib/python3.8/site-packages/requests/adapters.py\u001b[0m in \u001b[0;36msend\u001b[0;34m(self, request, stream, timeout, verify, cert, proxies)\u001b[0m\n\u001b[1;32m    509\u001b[0m             \u001b[0;32mif\u001b[0m \u001b[0misinstance\u001b[0m\u001b[0;34m(\u001b[0m\u001b[0me\u001b[0m\u001b[0;34m.\u001b[0m\u001b[0mreason\u001b[0m\u001b[0;34m,\u001b[0m \u001b[0m_ProxyError\u001b[0m\u001b[0;34m)\u001b[0m\u001b[0;34m:\u001b[0m\u001b[0;34m\u001b[0m\u001b[0;34m\u001b[0m\u001b[0m\n\u001b[0;32m--> 510\u001b[0;31m                 \u001b[0;32mraise\u001b[0m \u001b[0mProxyError\u001b[0m\u001b[0;34m(\u001b[0m\u001b[0me\u001b[0m\u001b[0;34m,\u001b[0m \u001b[0mrequest\u001b[0m\u001b[0;34m=\u001b[0m\u001b[0mrequest\u001b[0m\u001b[0;34m)\u001b[0m\u001b[0;34m\u001b[0m\u001b[0;34m\u001b[0m\u001b[0m\n\u001b[0m\u001b[1;32m    511\u001b[0m \u001b[0;34m\u001b[0m\u001b[0m\n",
      "\u001b[0;31mProxyError\u001b[0m: HTTPSConnectionPool(host='nominatim.openstreetmap.org', port=443): Max retries exceeded with url: /search?q=05753&format=json&limit=1 (Caused by ProxyError('Cannot connect to proxy.', timeout('_ssl.c:1106: The handshake operation timed out')))",
      "\nDuring handling of the above exception, another exception occurred:\n",
      "\u001b[0;31mGeocoderUnavailable\u001b[0m                       Traceback (most recent call last)",
      "\u001b[0;32m<ipython-input-28-81f21f9fd184>\u001b[0m in \u001b[0;36m<module>\u001b[0;34m\u001b[0m\n\u001b[1;32m     12\u001b[0m \u001b[0;34m\u001b[0m\u001b[0m\n\u001b[1;32m     13\u001b[0m \u001b[0;34m\u001b[0m\u001b[0m\n\u001b[0;32m---> 14\u001b[0;31m \u001b[0mzipcode_df\u001b[0m\u001b[0;34m[\u001b[0m\u001b[0;34m[\u001b[0m\u001b[0;34m'Latitude'\u001b[0m\u001b[0;34m,\u001b[0m \u001b[0;34m'Longitude'\u001b[0m\u001b[0;34m]\u001b[0m\u001b[0;34m]\u001b[0m \u001b[0;34m=\u001b[0m \u001b[0mpd\u001b[0m\u001b[0;34m.\u001b[0m\u001b[0mDataFrame\u001b[0m\u001b[0;34m(\u001b[0m\u001b[0mconvert_zipcodes_to_coordinates\u001b[0m\u001b[0;34m(\u001b[0m\u001b[0mzipcode_df\u001b[0m\u001b[0;34m[\u001b[0m\u001b[0;34m'zipcode'\u001b[0m\u001b[0;34m]\u001b[0m\u001b[0;34m)\u001b[0m\u001b[0;34m)\u001b[0m\u001b[0;34m\u001b[0m\u001b[0;34m\u001b[0m\u001b[0m\n\u001b[0m",
      "\u001b[0;32m<ipython-input-28-81f21f9fd184>\u001b[0m in \u001b[0;36mconvert_zipcodes_to_coordinates\u001b[0;34m(zipcodes)\u001b[0m\n\u001b[1;32m      4\u001b[0m     \u001b[0mcoordinates\u001b[0m \u001b[0;34m=\u001b[0m \u001b[0;34m[\u001b[0m\u001b[0;34m]\u001b[0m\u001b[0;34m\u001b[0m\u001b[0;34m\u001b[0m\u001b[0m\n\u001b[1;32m      5\u001b[0m     \u001b[0;32mfor\u001b[0m \u001b[0mzipcode\u001b[0m \u001b[0;32min\u001b[0m \u001b[0mzipcodes\u001b[0m\u001b[0;34m:\u001b[0m\u001b[0;34m\u001b[0m\u001b[0;34m\u001b[0m\u001b[0m\n\u001b[0;32m----> 6\u001b[0;31m         \u001b[0mlocation\u001b[0m \u001b[0;34m=\u001b[0m \u001b[0mgeolocator\u001b[0m\u001b[0;34m.\u001b[0m\u001b[0mgeocode\u001b[0m\u001b[0;34m(\u001b[0m\u001b[0mzipcode\u001b[0m\u001b[0;34m)\u001b[0m\u001b[0;34m\u001b[0m\u001b[0;34m\u001b[0m\u001b[0m\n\u001b[0m\u001b[1;32m      7\u001b[0m         \u001b[0;32mif\u001b[0m \u001b[0mlocation\u001b[0m\u001b[0;34m:\u001b[0m\u001b[0;34m\u001b[0m\u001b[0;34m\u001b[0m\u001b[0m\n\u001b[1;32m      8\u001b[0m             \u001b[0mcoordinates\u001b[0m\u001b[0;34m.\u001b[0m\u001b[0mappend\u001b[0m\u001b[0;34m(\u001b[0m\u001b[0;34m(\u001b[0m\u001b[0mlocation\u001b[0m\u001b[0;34m.\u001b[0m\u001b[0mlatitude\u001b[0m\u001b[0;34m,\u001b[0m \u001b[0mlocation\u001b[0m\u001b[0;34m.\u001b[0m\u001b[0mlongitude\u001b[0m\u001b[0;34m)\u001b[0m\u001b[0;34m)\u001b[0m\u001b[0;34m\u001b[0m\u001b[0;34m\u001b[0m\u001b[0m\n",
      "\u001b[0;32m~/opt/anaconda3/lib/python3.8/site-packages/geopy/geocoders/nominatim.py\u001b[0m in \u001b[0;36mgeocode\u001b[0;34m(self, query, exactly_one, timeout, limit, addressdetails, language, geometry, extratags, country_codes, viewbox, bounded, featuretype, namedetails)\u001b[0m\n\u001b[1;32m    295\u001b[0m         \u001b[0mlogger\u001b[0m\u001b[0;34m.\u001b[0m\u001b[0mdebug\u001b[0m\u001b[0;34m(\u001b[0m\u001b[0;34m\"%s.geocode: %s\"\u001b[0m\u001b[0;34m,\u001b[0m \u001b[0mself\u001b[0m\u001b[0;34m.\u001b[0m\u001b[0m__class__\u001b[0m\u001b[0;34m.\u001b[0m\u001b[0m__name__\u001b[0m\u001b[0;34m,\u001b[0m \u001b[0murl\u001b[0m\u001b[0;34m)\u001b[0m\u001b[0;34m\u001b[0m\u001b[0;34m\u001b[0m\u001b[0m\n\u001b[1;32m    296\u001b[0m         \u001b[0mcallback\u001b[0m \u001b[0;34m=\u001b[0m \u001b[0mpartial\u001b[0m\u001b[0;34m(\u001b[0m\u001b[0mself\u001b[0m\u001b[0;34m.\u001b[0m\u001b[0m_parse_json\u001b[0m\u001b[0;34m,\u001b[0m \u001b[0mexactly_one\u001b[0m\u001b[0;34m=\u001b[0m\u001b[0mexactly_one\u001b[0m\u001b[0;34m)\u001b[0m\u001b[0;34m\u001b[0m\u001b[0;34m\u001b[0m\u001b[0m\n\u001b[0;32m--> 297\u001b[0;31m         \u001b[0;32mreturn\u001b[0m \u001b[0mself\u001b[0m\u001b[0;34m.\u001b[0m\u001b[0m_call_geocoder\u001b[0m\u001b[0;34m(\u001b[0m\u001b[0murl\u001b[0m\u001b[0;34m,\u001b[0m \u001b[0mcallback\u001b[0m\u001b[0;34m,\u001b[0m \u001b[0mtimeout\u001b[0m\u001b[0;34m=\u001b[0m\u001b[0mtimeout\u001b[0m\u001b[0;34m)\u001b[0m\u001b[0;34m\u001b[0m\u001b[0;34m\u001b[0m\u001b[0m\n\u001b[0m\u001b[1;32m    298\u001b[0m \u001b[0;34m\u001b[0m\u001b[0m\n\u001b[1;32m    299\u001b[0m     def reverse(\n",
      "\u001b[0;32m~/opt/anaconda3/lib/python3.8/site-packages/geopy/geocoders/base.py\u001b[0m in \u001b[0;36m_call_geocoder\u001b[0;34m(self, url, callback, timeout, is_json, headers)\u001b[0m\n\u001b[1;32m    366\u001b[0m         \u001b[0;32mtry\u001b[0m\u001b[0;34m:\u001b[0m\u001b[0;34m\u001b[0m\u001b[0;34m\u001b[0m\u001b[0m\n\u001b[1;32m    367\u001b[0m             \u001b[0;32mif\u001b[0m \u001b[0mis_json\u001b[0m\u001b[0;34m:\u001b[0m\u001b[0;34m\u001b[0m\u001b[0;34m\u001b[0m\u001b[0m\n\u001b[0;32m--> 368\u001b[0;31m                 \u001b[0mresult\u001b[0m \u001b[0;34m=\u001b[0m \u001b[0mself\u001b[0m\u001b[0;34m.\u001b[0m\u001b[0madapter\u001b[0m\u001b[0;34m.\u001b[0m\u001b[0mget_json\u001b[0m\u001b[0;34m(\u001b[0m\u001b[0murl\u001b[0m\u001b[0;34m,\u001b[0m \u001b[0mtimeout\u001b[0m\u001b[0;34m=\u001b[0m\u001b[0mtimeout\u001b[0m\u001b[0;34m,\u001b[0m \u001b[0mheaders\u001b[0m\u001b[0;34m=\u001b[0m\u001b[0mreq_headers\u001b[0m\u001b[0;34m)\u001b[0m\u001b[0;34m\u001b[0m\u001b[0;34m\u001b[0m\u001b[0m\n\u001b[0m\u001b[1;32m    369\u001b[0m             \u001b[0;32melse\u001b[0m\u001b[0;34m:\u001b[0m\u001b[0;34m\u001b[0m\u001b[0;34m\u001b[0m\u001b[0m\n\u001b[1;32m    370\u001b[0m                 \u001b[0mresult\u001b[0m \u001b[0;34m=\u001b[0m \u001b[0mself\u001b[0m\u001b[0;34m.\u001b[0m\u001b[0madapter\u001b[0m\u001b[0;34m.\u001b[0m\u001b[0mget_text\u001b[0m\u001b[0;34m(\u001b[0m\u001b[0murl\u001b[0m\u001b[0;34m,\u001b[0m \u001b[0mtimeout\u001b[0m\u001b[0;34m=\u001b[0m\u001b[0mtimeout\u001b[0m\u001b[0;34m,\u001b[0m \u001b[0mheaders\u001b[0m\u001b[0;34m=\u001b[0m\u001b[0mreq_headers\u001b[0m\u001b[0;34m)\u001b[0m\u001b[0;34m\u001b[0m\u001b[0;34m\u001b[0m\u001b[0m\n",
      "\u001b[0;32m~/opt/anaconda3/lib/python3.8/site-packages/geopy/adapters.py\u001b[0m in \u001b[0;36mget_json\u001b[0;34m(self, url, timeout, headers)\u001b[0m\n\u001b[1;32m    445\u001b[0m \u001b[0;34m\u001b[0m\u001b[0m\n\u001b[1;32m    446\u001b[0m     \u001b[0;32mdef\u001b[0m \u001b[0mget_json\u001b[0m\u001b[0;34m(\u001b[0m\u001b[0mself\u001b[0m\u001b[0;34m,\u001b[0m \u001b[0murl\u001b[0m\u001b[0;34m,\u001b[0m \u001b[0;34m*\u001b[0m\u001b[0;34m,\u001b[0m \u001b[0mtimeout\u001b[0m\u001b[0;34m,\u001b[0m \u001b[0mheaders\u001b[0m\u001b[0;34m)\u001b[0m\u001b[0;34m:\u001b[0m\u001b[0;34m\u001b[0m\u001b[0;34m\u001b[0m\u001b[0m\n\u001b[0;32m--> 447\u001b[0;31m         \u001b[0mresp\u001b[0m \u001b[0;34m=\u001b[0m \u001b[0mself\u001b[0m\u001b[0;34m.\u001b[0m\u001b[0m_request\u001b[0m\u001b[0;34m(\u001b[0m\u001b[0murl\u001b[0m\u001b[0;34m,\u001b[0m \u001b[0mtimeout\u001b[0m\u001b[0;34m=\u001b[0m\u001b[0mtimeout\u001b[0m\u001b[0;34m,\u001b[0m \u001b[0mheaders\u001b[0m\u001b[0;34m=\u001b[0m\u001b[0mheaders\u001b[0m\u001b[0;34m)\u001b[0m\u001b[0;34m\u001b[0m\u001b[0;34m\u001b[0m\u001b[0m\n\u001b[0m\u001b[1;32m    448\u001b[0m         \u001b[0;32mtry\u001b[0m\u001b[0;34m:\u001b[0m\u001b[0;34m\u001b[0m\u001b[0;34m\u001b[0m\u001b[0m\n\u001b[1;32m    449\u001b[0m             \u001b[0;32mreturn\u001b[0m \u001b[0mresp\u001b[0m\u001b[0;34m.\u001b[0m\u001b[0mjson\u001b[0m\u001b[0;34m(\u001b[0m\u001b[0;34m)\u001b[0m\u001b[0;34m\u001b[0m\u001b[0;34m\u001b[0m\u001b[0m\n",
      "\u001b[0;32m~/opt/anaconda3/lib/python3.8/site-packages/geopy/adapters.py\u001b[0m in \u001b[0;36m_request\u001b[0;34m(self, url, timeout, headers)\u001b[0m\n\u001b[1;32m    467\u001b[0m                     \u001b[0;32mraise\u001b[0m \u001b[0mGeocoderServiceError\u001b[0m\u001b[0;34m(\u001b[0m\u001b[0mmessage\u001b[0m\u001b[0;34m)\u001b[0m\u001b[0;34m\u001b[0m\u001b[0;34m\u001b[0m\u001b[0m\n\u001b[1;32m    468\u001b[0m                 \u001b[0;32melse\u001b[0m\u001b[0;34m:\u001b[0m\u001b[0;34m\u001b[0m\u001b[0;34m\u001b[0m\u001b[0m\n\u001b[0;32m--> 469\u001b[0;31m                     \u001b[0;32mraise\u001b[0m \u001b[0mGeocoderUnavailable\u001b[0m\u001b[0;34m(\u001b[0m\u001b[0mmessage\u001b[0m\u001b[0;34m)\u001b[0m\u001b[0;34m\u001b[0m\u001b[0;34m\u001b[0m\u001b[0m\n\u001b[0m\u001b[1;32m    470\u001b[0m             \u001b[0;32melif\u001b[0m \u001b[0misinstance\u001b[0m\u001b[0;34m(\u001b[0m\u001b[0merror\u001b[0m\u001b[0;34m,\u001b[0m \u001b[0mrequests\u001b[0m\u001b[0;34m.\u001b[0m\u001b[0mTimeout\u001b[0m\u001b[0;34m)\u001b[0m\u001b[0;34m:\u001b[0m\u001b[0;34m\u001b[0m\u001b[0;34m\u001b[0m\u001b[0m\n\u001b[1;32m    471\u001b[0m                 \u001b[0;32mraise\u001b[0m \u001b[0mGeocoderTimedOut\u001b[0m\u001b[0;34m(\u001b[0m\u001b[0;34m\"Service timed out\"\u001b[0m\u001b[0;34m)\u001b[0m\u001b[0;34m\u001b[0m\u001b[0;34m\u001b[0m\u001b[0m\n",
      "\u001b[0;31mGeocoderUnavailable\u001b[0m: HTTPSConnectionPool(host='nominatim.openstreetmap.org', port=443): Max retries exceeded with url: /search?q=05753&format=json&limit=1 (Caused by ProxyError('Cannot connect to proxy.', timeout('_ssl.c:1106: The handshake operation timed out')))"
     ]
    }
   ],
   "source": [
    "# Convert zipcode to longitude and latitude\n",
    "def convert_zipcodes_to_coordinates(zipcodes):\n",
    "    geolocator = Nominatim(user_agent=\"zipcode_converter\")\n",
    "    coordinates = []\n",
    "    for zipcode in zipcodes:\n",
    "        location = geolocator.geocode(zipcode)\n",
    "        if location:\n",
    "            coordinates.append((location.latitude, location.longitude))\n",
    "        else:\n",
    "            coordinates.append((None, None))\n",
    "    return coordinates\n",
    "\n",
    "\n",
    "zipcode_df[['Latitude', 'Longitude']] = pd.DataFrame(convert_zipcodes_to_coordinates(zipcode_df['zipcode']))"
   ]
  },
  {
   "cell_type": "code",
   "execution_count": null,
   "metadata": {},
   "outputs": [],
   "source": [
    "zipcode_df"
   ]
  },
  {
   "cell_type": "code",
   "execution_count": null,
   "metadata": {
    "scrolled": false
   },
   "outputs": [],
   "source": [
    "# Plot zipcode distribution of datapoints\n",
    "nomi = pgeocode.Nominatim('us')\n",
    "\n",
    "zipcode_df['Latitude'] = (nomi.query_postal_code(zipcode_df['zipcode'].tolist()).latitude)\n",
    "zipcode_df['Longitude'] = (nomi.query_postal_code(zipcode_df['zipcode'].tolist()).longitude)\n",
    "\n",
    "fig = go.Figure(data=go.Scattergeo(\n",
    "        lon = zipcode_df['Longitude'],\n",
    "        lat = zipcode_df['Latitude'],\n",
    "        mode = 'markers',\n",
    "        marker_color = zipcode_df['count'],\n",
    "        ))\n",
    "\n",
    "fig.update_layout(\n",
    "        title = 'Zipcode Distribution',\n",
    "        geo_scope='usa',\n",
    "    )\n",
    "\n",
    "fig.show()"
   ]
  },
  {
   "cell_type": "markdown",
   "metadata": {},
   "source": [
    "#### Survey Question: Are you a ebike_rider? | Column: ebike_rider"
   ]
  },
  {
   "cell_type": "code",
   "execution_count": 29,
   "metadata": {
    "scrolled": true
   },
   "outputs": [
    {
     "data": {
      "image/png": "[encoded data removed]",
      "text/plain": [
       "<Figure size 432x288 with 1 Axes>"
      ]
     },
     "metadata": {
      "needs_background": "light"
     },
     "output_type": "display_data"
    },
    {
     "name": "stdout",
     "output_type": "stream",
     "text": [
      "29% of the participants are e-bike riders\n",
      "71% of the participants are NOT e-bike riders\n"
     ]
    }
   ],
   "source": [
    "# count number of ebike rider vs. non-ebike rider\n",
    "ebike_rider_no = quant_df[quant_df['ebike_rider'] == 'no'].shape[0]\n",
    "ebike_rider_yes = quant_df.shape[0] - ebike_rider_no\n",
    "\n",
    "# create bar plot\n",
    "x = ['E-Bike Riders', 'None E-Bike Riders']\n",
    "y = [ebike_rider_yes, ebike_rider_no]\n",
    "plt.bar(x, y)\n",
    "\n",
    "# add label to bar plot\n",
    "plt.xlabel('Riders')\n",
    "plt.ylabel('Number of People')\n",
    "plt.title('Number of E-Bike Riders vs. None E-Bike Riders')\n",
    "\n",
    "# display the plot\n",
    "plt.show()\n",
    "\n",
    "# show number of bike riders vs. none bike riders\n",
    "ebike_percent_yes = round(ebike_rider_yes / (ebike_rider_yes + ebike_rider_no) * 100)\n",
    "ebike_percent_no = round(ebike_rider_no / (ebike_rider_no + ebike_rider_yes) * 100)\n",
    "print(f'{ebike_percent_yes}% of the participants are e-bike riders')\n",
    "print(f'{ebike_percent_no}% of the participants are NOT e-bike riders')"
   ]
  },
  {
   "cell_type": "markdown",
   "metadata": {},
   "source": [
    "#### Survey Question: How do you commute - to work, school, or for other purposes? | Column: by_ ..., no_commute"
   ]
  },
  {
   "cell_type": "code",
   "execution_count": 30,
   "metadata": {},
   "outputs": [
    {
     "data": {
      "image/png": "[encoded data removed]",
      "text/plain": [
       "<Figure size 576x432 with 1 Axes>"
      ]
     },
     "metadata": {
      "needs_background": "light"
     },
     "output_type": "display_data"
    }
   ],
   "source": [
    "# Enter Code Here\n",
    "x_values = ['Public Transportation', 'Car', 'Bike', 'E Bike', 'Walk', 'No Commute']\n",
    "\n",
    "y_values = [df['by_public'].sum(), df['by_car'].sum(),\n",
    "     df['by_bike'].sum(), df['by_ebike'].sum(),\n",
    "     df['by_walking'].sum(), df['no_commute'].sum()]\n",
    "\n",
    "# Plotting the bar graph\n",
    "plt.figure(figsize=(8, 6))\n",
    "sns.barplot(x=x_values, y=y_values)\n",
    "plt.xlabel('Means of Commute')\n",
    "plt.ylabel('Number of People')\n",
    "plt.title('Number of People by Commute Option')\n",
    "plt.show()"
   ]
  },
  {
   "cell_type": "markdown",
   "metadata": {},
   "source": [
    "#### Survey Question: How far (ROUND TRIP) do you commute for any purpose each day? | Column: miles"
   ]
  },
  {
   "cell_type": "code",
   "execution_count": 31,
   "metadata": {},
   "outputs": [
    {
     "data": {
      "image/png": "[encoded data removed]",
      "text/plain": [
       "<Figure size 432x288 with 1 Axes>"
      ]
     },
     "metadata": {
      "needs_background": "light"
     },
     "output_type": "display_data"
    }
   ],
   "source": [
    "# count number of miles\n",
    "miles_count = quant_df['miles'].value_counts()\n",
    "\n",
    "# create bar plot\n",
    "x = miles_count.index\n",
    "y = miles_count.values\n",
    "plt.bar(x, y)\n",
    "\n",
    "# add label to bar plot\n",
    "plt.xlabel('Miles')\n",
    "plt.ylabel('Number of People')\n",
    "plt.title('Number of People by Miles')\n",
    "\n",
    "# display the plot\n",
    "plt.show()"
   ]
  },
  {
   "cell_type": "code",
   "execution_count": 32,
   "metadata": {},
   "outputs": [
    {
     "data": {
      "image/png": "[encoded data removed]",
      "text/plain": [
       "<Figure size 576x432 with 1 Axes>"
      ]
     },
     "metadata": {
      "needs_background": "light"
     },
     "output_type": "display_data"
    }
   ],
   "source": [
    "# count number of miles\n",
    "mile_counts = quant_df['miles'].value_counts(sort = False)\n",
    "\n",
    "# create bar plot\n",
    "fig, ax = plt.subplots(figsize = (8, 6))\n",
    "bars = ax.bar(mile_counts.index, mile_counts.values, color = 'teal')\n",
    "ax.set_xlabel('Miles')\n",
    "ax.set_ylabel('Number of People')\n",
    "ax.set_title('Number of Participants by Miles')\n",
    "\n",
    "# add a vertical line to show the average and median miles\n",
    "ax.grid(axis = 'y', alpha = 0.5)\n",
    "avg_miles = quant_df['miles'].mean()\n",
    "med_miles = quant_df['miles'].median()\n",
    "ax.axvline(x = avg_miles, color = 'orange', linestyle = '--', label = f'Average Miles: {avg_miles:.2f}')\n",
    "ax.axvline(x = med_miles, color = 'green', linestyle = '--', label = f'Median Miles: {med_miles}')\n",
    "ax.set_xticks(range(0, 51, 10))\n",
    "\n",
    "# show the plot\n",
    "ax.legend()\n",
    "plt.show()"
   ]
  },
  {
   "cell_type": "markdown",
   "metadata": {},
   "source": [
    "#### Survey Question: Would you commute by e-bike if given the opportunity? | Column: try_bike"
   ]
  },
  {
   "cell_type": "code",
   "execution_count": 33,
   "metadata": {},
   "outputs": [
    {
     "data": {
      "image/png": "[encoded data removed]",
      "text/plain": [
       "<Figure size 432x288 with 1 Axes>"
      ]
     },
     "metadata": {
      "needs_background": "light"
     },
     "output_type": "display_data"
    }
   ],
   "source": [
    "# Count the number of occurrences of each unique value in the try_bike column\n",
    "try_bike_counts = quant_df['try_bike'].value_counts()\n",
    "\n",
    "# Create a bar plot\n",
    "plt.bar(try_bike_counts.index, try_bike_counts.values)\n",
    "\n",
    "# Set the title and axis labels\n",
    "plt.title('Have you ever tried a bike before?')\n",
    "plt.xlabel('Answer')\n",
    "plt.ylabel('Count')\n",
    "\n",
    "# Show the plot\n",
    "plt.show()"
   ]
  },
  {
   "cell_type": "markdown",
   "metadata": {},
   "source": [
    "#### Survey Question: Do you know the differences between Class 1, Class 1, and Class 3 e-bikes? | Column: ebike_class"
   ]
  },
  {
   "cell_type": "code",
   "execution_count": 34,
   "metadata": {},
   "outputs": [
    {
     "data": {
      "text/plain": [
       "Text(0, 0.5, 'Count')"
      ]
     },
     "execution_count": 34,
     "metadata": {},
     "output_type": "execute_result"
    },
    {
     "data": {
      "image/png": "[encoded data removed]",
      "text/plain": [
       "<Figure size 504x360 with 1 Axes>"
      ]
     },
     "metadata": {
      "needs_background": "light"
     },
     "output_type": "display_data"
    }
   ],
   "source": [
    "# Count the number of occurrences of each unique value in the ebike_class column\n",
    "ebike_class_count = quant_df['ebike_class'].value_counts()\n",
    "\n",
    "# Create a bar graph\n",
    "f, ax = plt.subplots(figsize=(7, 5))\n",
    "sns.despine(f)\n",
    "sns.barplot(x=ebike_class_count.index, y = ebike_class_count.values, palette='magma', order = ['yes', 'a bit', 'no'])\n",
    "\n",
    "# Set title and labels to the graph\n",
    "plt.title('Do you know the differences between Class 1, Class 1, and Class 3 e-bikes?')\n",
    "plt.xlabel('Answer')\n",
    "plt.ylabel('Count')\n"
   ]
  },
  {
   "cell_type": "markdown",
   "metadata": {},
   "source": [
    "#### Survey Question: How comfortable would you be storing your bike in a private bike locker while you are commuting? | Column: private_locker"
   ]
  },
  {
   "cell_type": "code",
   "execution_count": 35,
   "metadata": {},
   "outputs": [
    {
     "data": {
      "image/png": "[encoded data removed]",
      "text/plain": [
       "<Figure size 576x432 with 1 Axes>"
      ]
     },
     "metadata": {
      "needs_background": "light"
     },
     "output_type": "display_data"
    }
   ],
   "source": [
    "# Count the occurrences of each option in the 'private_locker' column\n",
    "private_locker_counts = quant_df['private_locker'].value_counts()\n",
    "\n",
    "# Plotting the bar graph\n",
    "plt.figure(figsize=(8, 6))\n",
    "sns.barplot(x=private_locker_counts.index, y=private_locker_counts.values)\n",
    "plt.xlabel('Private Locker Option')\n",
    "plt.ylabel('Number of People')\n",
    "plt.title('Number of People by Private Locker Option')\n",
    "plt.show()"
   ]
  },
  {
   "cell_type": "markdown",
   "metadata": {},
   "source": [
    "#### Survey Question: How comfortable would you be storing your bike in a group bike locker while you are commuting? | Column: group_locker"
   ]
  },
  {
   "cell_type": "code",
   "execution_count": 36,
   "metadata": {},
   "outputs": [
    {
     "data": {
      "image/png": "[encoded data removed]",
      "text/plain": [
       "<Figure size 576x432 with 1 Axes>"
      ]
     },
     "metadata": {
      "needs_background": "light"
     },
     "output_type": "display_data"
    }
   ],
   "source": [
    "category_order = ['very', 'somewhat', 'not very', 'depends', \"don't know\"]\n",
    "quant_df['group_locker'] = pd.Categorical(quant_df['group_locker'], categories=category_order, ordered=True)\n",
    "group_locker_counts = quant_df['group_locker'].value_counts()\n",
    "plt.figure(figsize=(8, 6))\n",
    "sns.barplot(x=group_locker_counts.index, y=group_locker_counts.values)\n",
    "plt.xlabel('Group Locker Option')\n",
    "plt.ylabel('Number of People')\n",
    "plt.title('Number of People by Group Locker Option')\n",
    "plt.show()"
   ]
  },
  {
   "cell_type": "markdown",
   "metadata": {},
   "source": [
    "#### Survey Question: How familiar are you and those in your family with the rules of the road for e-bikes? | Column: ebike_rules"
   ]
  },
  {
   "cell_type": "code",
   "execution_count": 37,
   "metadata": {},
   "outputs": [
    {
     "data": {
      "image/png": "[encoded data removed]",
      "text/plain": [
       "<Figure size 576x432 with 1 Axes>"
      ]
     },
     "metadata": {
      "needs_background": "light"
     },
     "output_type": "display_data"
    }
   ],
   "source": [
    "order = ['very', 'somewhat', 'not very', \"don't know\"]\n",
    "ebike_rules_counts = quant_df['ebike_rules'].value_counts()\n",
    "plt.figure(figsize=(8, 6))\n",
    "sns.barplot(x=ebike_rules_counts.index, y=ebike_rules_counts.values, order=order)\n",
    "plt.xlabel('Ebike Rules Option')\n",
    "plt.ylabel('Number of People')\n",
    "plt.title('Number of People by Ebike Rules Option')\n",
    "plt.show()"
   ]
  },
  {
   "cell_type": "markdown",
   "metadata": {},
   "source": [
    "#### Survey Question: How concerned are you about e-bikes and e-bike safety in San Diego County? | Column: safty"
   ]
  },
  {
   "cell_type": "code",
   "execution_count": 38,
   "metadata": {},
   "outputs": [
    {
     "data": {
      "image/png": "[encoded data removed]",
      "text/plain": [
       "<Figure size 576x432 with 1 Axes>"
      ]
     },
     "metadata": {
      "needs_background": "light"
     },
     "output_type": "display_data"
    }
   ],
   "source": [
    "order = ['very', 'somewhat', 'not very', 'not concerned', \"don't know\"]\n",
    "safety_counts = quant_df['safty'].value_counts()\n",
    "plt.figure(figsize=(8, 6))\n",
    "sns.barplot(x=safety_counts.index, y=safety_counts.values, order=order)\n",
    "plt.xlabel('Safety Option')\n",
    "plt.ylabel('Number of People')\n",
    "plt.title('Number of People by Safety Option')\n",
    "plt.show()"
   ]
  },
  {
   "cell_type": "markdown",
   "metadata": {},
   "source": [
    "#### Survey Question: Are you interested in learning more about e-bikes? | Column: interested"
   ]
  },
  {
   "cell_type": "code",
   "execution_count": 39,
   "metadata": {},
   "outputs": [
    {
     "data": {
      "text/plain": [
       "Text(0, 0.5, 'Count')"
      ]
     },
     "execution_count": 39,
     "metadata": {},
     "output_type": "execute_result"
    },
    {
     "data": {
      "image/png": "[encoded data removed]",
      "text/plain": [
       "<Figure size 504x360 with 1 Axes>"
      ]
     },
     "metadata": {
      "needs_background": "light"
     },
     "output_type": "display_data"
    }
   ],
   "source": [
    "# Fix typo and category in answers\n",
    "quant_df['interested'] = quant_df['interested'].str.strip()\n",
    "quant_df['interested'] = quant_df['interested'].str.replace('may be', 'maybe')\n",
    "quant_df['interested'] = quant_df['interested'].str.replace('already know', 'yes')\n",
    "quant_df['interested'] = quant_df['interested'].str.replace('knows enough', 'yes')\n",
    "\n",
    "# Count the number of occurrences of each unique value in the interested column\n",
    "interested_count = quant_df['interested'].value_counts()\n",
    "\n",
    "f, ax = plt.subplots(figsize=(7, 5))\n",
    "sns.despine(f)\n",
    "sns.barplot(x=interested_count.index, y = interested_count.values, palette='magma', order = ['yes', 'maybe', 'no'])\n",
    "\n",
    "# Set title and labels to the graph\n",
    "plt.title('Are you interested in learning more about e-bikes?')\n",
    "plt.xlabel('Answer')\n",
    "plt.ylabel('Count')"
   ]
  },
  {
   "cell_type": "markdown",
   "metadata": {},
   "source": [
    "## Part III: Correlation Analysis"
   ]
  },
  {
   "cell_type": "markdown",
   "metadata": {},
   "source": [
    "### bike_rider vs. ibike_rider, persentage show by text"
   ]
  },
  {
   "cell_type": "code",
   "execution_count": null,
   "metadata": {},
   "outputs": [],
   "source": [
    "correlation = quant_df['bike_rider'].eq('yes').astype(int).corr(quant_df['ebike_rider'].eq('yes').astype(int))\n",
    "\n",
    "yes_yes_count = quant_df[(quant_df['bike_rider'] == 'yes') & (quant_df['ebike_rider'] == 'yes')].shape[0]\n",
    "yes_no_count = quant_df[(quant_df['bike_rider'] == 'yes') & (quant_df['ebike_rider'] == 'no')].shape[0]\n",
    "no_yes_count = quant_df[(quant_df['bike_rider'] == 'no') & (quant_df['ebike_rider'] == 'yes')].shape[0]\n",
    "no_no_count = quant_df[(quant_df['bike_rider'] == 'no') & (quant_df['ebike_rider'] == 'no')].shape[0]\n",
    "\n",
    "total_count = len(quant_df)\n",
    "\n",
    "yes_yes_percent = round((yes_yes_count / total_count) * 100, 2)\n",
    "yes_no_percent = round((yes_no_count / total_count) * 100, 2)\n",
    "no_yes_percent = round((no_yes_count / total_count) * 100, 2)\n",
    "no_no_percent = round((no_no_count / total_count) * 100, 2)\n",
    "\n",
    "data = [[yes_yes_percent, yes_no_percent], [no_yes_percent, no_no_percent]]\n",
    "\n",
    "fig, ax = plt.subplots(figsize=(6, 6))\n",
    "sns.heatmap(data, cmap='YlOrBr', annot=True, fmt=\".2f\", cbar=True, linewidths=0.5)\n",
    "\n",
    "ax.set_xticklabels(['ebike_rider: Yes', 'ebike_rider: No'])\n",
    "ax.set_yticklabels(['bike_rider: Yes', 'bike_rider: No'])\n",
    "\n",
    "ax.set_xlabel('ebike_rider')\n",
    "ax.set_ylabel('bike_rider')\n",
    "ax.set_title('Percentage of Participants')\n",
    "\n",
    "plt.tight_layout()\n",
    "plt.show()"
   ]
  },
  {
   "cell_type": "markdown",
   "metadata": {},
   "source": [
    "### bike rider vs. miles, bar graph"
   ]
  },
  {
   "cell_type": "code",
   "execution_count": null,
   "metadata": {},
   "outputs": [],
   "source": []
  },
  {
   "cell_type": "raw",
   "metadata": {},
   "source": [
    "quant_df_cleaned = quant_df[(quant_df['bike_rider'] == 'yes') | (quant_df['bike_rider'] == 'no')]\n",
    "\n",
    "mean_miles_yes = quant_df_cleaned[quant_df_cleaned['bike_rider'] == 'yes']['miles'].mean()\n",
    "mean_miles_no = quant_df_cleaned[quant_df_cleaned['bike_rider'] == 'no']['miles'].mean()\n",
    "\n",
    "dot_counts = quant_df_cleaned['bike_rider'].value_counts()\n",
    "\n",
    "color_palette = ['blue', 'green']  # Add your desired colors here\n",
    "\n",
    "bars = plt.bar(dot_counts.index, dot_counts.values, color=color_palette)\n",
    "\n",
    "median_miles_yes = quant_df_cleaned[quant_df_cleaned['bike_rider'] == 'yes']['miles'].median()\n",
    "median_miles_no = quant_df_cleaned[quant_df_cleaned['bike_rider'] == 'no']['miles'].median()\n",
    "\n",
    "plt.axvline(median_miles_yes, color=color_palette[0], linestyle='--', label=f'Median Mile (Yes): {median_miles_yes:.2f}')\n",
    "plt.axvline(median_miles_no, color=color_palette[1], linestyle='--', label=f'Median Mile (No): {median_miles_no:.2f}')\n",
    "\n",
    "plt.axvline(mean_miles_yes, color=color_palette[0], linestyle='-', label=f'Mean Mile (Yes): {mean_miles_yes:.2f}')\n",
    "plt.axvline(mean_miles_no, color=color_palette[1], linestyle='-', label=f'Mean Mile (No): {mean_miles_no:.2f}')\n",
    "\n",
    "plt.xlabel('Miles')\n",
    "plt.ylabel('Number of Participants')\n",
    "plt.title('Correlation between Bike Rider and Miles')\n",
    "\n",
    "legend_handles = [plt.bar([], [], color=color, label=f'Bike Rider ({response})')\n",
    "                  for color, response in zip(color_palette, quant_df_cleaned['bike_rider'].unique())]\n",
    "\n",
    "for handle, label in zip(legend_handles, ['Bike Rider (Yes)', 'Bike Rider (No)']):\n",
    "    handle.set_label(label)\n",
    "\n",
    "plt.legend(handles=legend_handles)\n",
    "plt.show()"
   ]
  },
  {
   "cell_type": "markdown",
   "metadata": {},
   "source": [
    "### ebike_rules vs. safety, persentage by text"
   ]
  },
  {
   "cell_type": "code",
   "execution_count": null,
   "metadata": {},
   "outputs": [],
   "source": [
    "ebike_rules_categories = ['very', 'somewhat', 'not very', \"don't know\"]\n",
    "safety_categories = ['very', 'somewhat', 'not very', 'not concerned', \"don't know\"]\n",
    "\n",
    "percentages = []\n",
    "for ebike_rule in ebike_rules_categories:\n",
    "    row = []\n",
    "    for safety in safety_categories:\n",
    "        count = quant_df[(quant_df['ebike_rules'] == ebike_rule) & (quant_df['safty'] == safety)].shape[0]\n",
    "        percent = round((count / total_count) * 100, 2)\n",
    "        row.append(percent)\n",
    "    percentages.append(row)\n",
    "\n",
    "data = percentages\n",
    "\n",
    "fig, ax = plt.subplots(figsize=(8, 6))\n",
    "sns.heatmap(data, cmap='YlOrBr', annot=True, fmt=\".2f\", cbar=True, linewidths=0.5)\n",
    "\n",
    "ax.set_xticklabels(safety_categories)\n",
    "ax.set_yticklabels(ebike_rules_categories)\n",
    "\n",
    "ax.set_xlabel('Safety')\n",
    "ax.set_ylabel('ebike_rules')\n",
    "ax.set_title('Percentage of Participants')\n",
    "\n",
    "plt.tight_layout()\n",
    "plt.show()"
   ]
  },
  {
   "cell_type": "markdown",
   "metadata": {},
   "source": [
    "### ebike_rules vs. safety, persentage by heatmap"
   ]
  },
  {
   "cell_type": "code",
   "execution_count": null,
   "metadata": {},
   "outputs": [],
   "source": [
    "#heatmap\n",
    "import matplotlib.patheffects as path_effects\n",
    "safety_categories = ['very', 'somewhat', 'not very', 'not concerned', \"don't know\"]\n",
    "ebike_rules_categories = ['very', 'somewhat', 'not very', \"don't know\"]\n",
    "\n",
    "percentages = []\n",
    "for safety in safety_categories:\n",
    "    row = []\n",
    "    for ebike_rule in ebike_rules_categories:\n",
    "        count = quant_df[(quant_df['safty'] == safety) & (quant_df['ebike_rules'] == ebike_rule)].shape[0]\n",
    "        percentage = (count / total_count) * 100\n",
    "        row.append(percentage)\n",
    "    percentages.append(row)\n",
    "\n",
    "percentages = np.array(percentages)\n",
    "\n",
    "fig, ax = plt.subplots(figsize=(8, 6))\n",
    "sns.heatmap(percentages, cmap='YlOrBr', annot=True, fmt=\".1f\", cbar=True, linewidths=0.5)\n",
    "\n",
    "ax.set_xticks(np.arange(len(ebike_rules_categories)))\n",
    "ax.set_yticks(np.arange(len(safety_categories)))\n",
    "ax.set_xticklabels(ebike_rules_categories)\n",
    "ax.set_yticklabels(safety_categories)\n",
    "\n",
    "ax.set_xlabel('eBike Rules')\n",
    "ax.set_ylabel('Safety Response')\n",
    "ax.set_title('Percentage of Safety Responses by eBike Rules')\n",
    "\n",
    "plt.tight_layout()\n",
    "plt.show()"
   ]
  },
  {
   "cell_type": "markdown",
   "metadata": {},
   "source": [
    "### private_locker vs. group_locker, persentage by heatmap"
   ]
  },
  {
   "cell_type": "code",
   "execution_count": null,
   "metadata": {},
   "outputs": [],
   "source": [
    "#heatmap\n",
    "import seaborn as sns\n",
    "\n",
    "private_locker_categories = ['very', 'somewhat', 'not very', \"don't know\"]\n",
    "group_locker_categories = ['very', 'somewhat', 'not very', 'depends', \"don't know\"]\n",
    "\n",
    "percentages = []\n",
    "for private_locker in private_locker_categories:\n",
    "    row = []\n",
    "    for group_locker in group_locker_categories:\n",
    "        count = quant_df[(quant_df['private_locker'] == private_locker) & (quant_df['group_locker'] == group_locker)].shape[0]\n",
    "        percentage = (count / total_count) * 100\n",
    "        row.append(percentage)\n",
    "    percentages.append(row)\n",
    "\n",
    "percentages = np.array(percentages)\n",
    "fig, ax = plt.subplots(figsize=(8, 6))\n",
    "sns.heatmap(percentages, cmap='YlOrBr', annot=True, fmt=\".1f\", cbar=True, linewidths=0.5)\n",
    "\n",
    "ax.set_xticks(np.arange(len(group_locker_categories)) + 0.5)\n",
    "ax.set_yticks(np.arange(len(private_locker_categories)) + 0.5)\n",
    "ax.set_xticklabels(group_locker_categories)\n",
    "ax.set_yticklabels(private_locker_categories)\n",
    "\n",
    "plt.setp(ax.get_xticklabels(), rotation=45, ha='right', rotation_mode='anchor')\n",
    "\n",
    "ax.set_xlabel('Group Locker')\n",
    "ax.set_ylabel('Private Locker')\n",
    "ax.set_title('Percentage of Private Locker vs Group Locker')\n",
    "\n",
    "plt.tight_layout()\n",
    "plt.show()"
   ]
  },
  {
   "cell_type": "code",
   "execution_count": null,
   "metadata": {},
   "outputs": [],
   "source": [
    "import plotly.express as px\n",
    "geolocator = Nominatim(user_agent='myGeocoder')\n",
    "df['location'] = df['zipcode'].apply(lambda x: geolocator.geocode(x) if pd.notnull(x) else None)\n",
    "df['latitude'] = df['location'].apply(lambda loc: loc.latitude if loc else None)\n",
    "df['longitude'] = df['location'].apply(lambda loc: loc.longitude if loc else None)\n",
    "gdf = gpd.GeoDataFrame(df, geometry=gpd.points_from_xy(df.longitude, df.latitude))\n",
    "fig = px.scatter_mapbox(gdf, lat='latitude', lon='longitude', color='try_bike',\n",
    "                        color_discrete_map={'yes': 'green', 'no': 'red'},\n",
    "                        zoom=10, height=500)\n",
    "fig.update_layout(mapbox_style='open-street-map')\n",
    "fig.update_layout(title='Map of \"try_bike\" Responses')\n",
    "fig.show()"
   ]
  },
  {
   "cell_type": "markdown",
   "metadata": {},
   "source": [
    "## Part IV: An Unsupervised Machine Learning to Cluster San Diego Zipcode by Demographic Features"
   ]
  },
  {
   "cell_type": "markdown",
   "metadata": {},
   "source": [
    "#### Setup"
   ]
  },
  {
   "cell_type": "code",
   "execution_count": null,
   "metadata": {},
   "outputs": [],
   "source": [
    "%pip install scikit-learn\n",
    "from sklearn.cluster import KMeans"
   ]
  },
  {
   "cell_type": "code",
   "execution_count": null,
   "metadata": {},
   "outputs": [],
   "source": []
  }
 ],
 "metadata": {
  "kernelspec": {
   "display_name": "Python 3",
   "language": "python",
   "name": "python3"
  },
  "language_info": {
   "codemirror_mode": {
    "name": "ipython",
    "version": 3
   },
   "file_extension": ".py",
   "mimetype": "text/x-python",
   "name": "python",
   "nbconvert_exporter": "python",
   "pygments_lexer": "ipython3",
   "version": "3.8.5"
  }
 },
 "nbformat": 4,
 "nbformat_minor": 4
}

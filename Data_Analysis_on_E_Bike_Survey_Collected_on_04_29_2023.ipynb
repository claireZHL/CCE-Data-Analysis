{
 "cells": [
  {
   "cell_type": "code",
   "execution_count": 1,
   "metadata": {
    "is_executing": true
   },
   "outputs": [],
   "source": [
    "# Import Packages\n",
    "import pandas as pd\n",
    "import numpy as np\n",
    "import seaborn as sns\n",
    "import matplotlib.pyplot as plt\n",
    "import geopandas as gpd"
   ]
  },
  {
   "cell_type": "markdown",
   "metadata": {},
   "source": [
    "# Center For Community Service\n",
    "#### Project: Data Analysis on E-bike Survey Collected on 04/29/2023"
   ]
  },
  {
   "cell_type": "markdown",
   "metadata": {},
   "source": [
    "## Supporting Datasets"
   ]
  },
  {
   "cell_type": "markdown",
   "metadata": {},
   "source": [
    "##### CSV: San Diego Income by Zipcode"
   ]
  },
  {
   "cell_type": "code",
   "execution_count": 35,
   "metadata": {},
   "outputs": [
    {
     "data": {
      "text/html": [
       "<div>\n",
       "<style scoped>\n",
       "    .dataframe tbody tr th:only-of-type {\n",
       "        vertical-align: middle;\n",
       "    }\n",
       "\n",
       "    .dataframe tbody tr th {\n",
       "        vertical-align: top;\n",
       "    }\n",
       "\n",
       "    .dataframe thead th {\n",
       "        text-align: right;\n",
       "    }\n",
       "</style>\n",
       "<table border=\"1\" class=\"dataframe\">\n",
       "  <thead>\n",
       "    <tr style=\"text-align: right;\">\n",
       "      <th></th>\n",
       "      <th>ZIP Code</th>\n",
       "      <th>Per Capita Income</th>\n",
       "    </tr>\n",
       "  </thead>\n",
       "  <tbody>\n",
       "    <tr>\n",
       "      <th>0</th>\n",
       "      <td>92145</td>\n",
       "      <td>72060</td>\n",
       "    </tr>\n",
       "    <tr>\n",
       "      <th>1</th>\n",
       "      <td>92130</td>\n",
       "      <td>71263</td>\n",
       "    </tr>\n",
       "    <tr>\n",
       "      <th>2</th>\n",
       "      <td>92101</td>\n",
       "      <td>63001</td>\n",
       "    </tr>\n",
       "    <tr>\n",
       "      <th>3</th>\n",
       "      <td>92106</td>\n",
       "      <td>60984</td>\n",
       "    </tr>\n",
       "    <tr>\n",
       "      <th>4</th>\n",
       "      <td>92103</td>\n",
       "      <td>60318</td>\n",
       "    </tr>\n",
       "  </tbody>\n",
       "</table>\n",
       "</div>"
      ],
      "text/plain": [
       "   ZIP Code  Per Capita Income\n",
       "0     92145              72060\n",
       "1     92130              71263\n",
       "2     92101              63001\n",
       "3     92106              60984\n",
       "4     92103              60318"
      ]
     },
     "execution_count": 35,
     "metadata": {},
     "output_type": "execute_result"
    }
   ],
   "source": [
    "# Read csv file\n",
    "df = pd.read_csv(\"CA_Income_Zipcode.csv\")\n",
    "df.head()"
   ]
  },
  {
   "cell_type": "markdown",
   "metadata": {},
   "source": [
    "## Part I: Data Cleaning"
   ]
  },
  {
   "cell_type": "markdown",
   "metadata": {},
   "source": [
    "##### CSV File 1: 4.29.2023_Survey_Results.csv"
   ]
  },
  {
   "cell_type": "code",
   "execution_count": 2,
   "metadata": {},
   "outputs": [
    {
     "data": {
      "text/html": [
       "<div>\n",
       "<style scoped>\n",
       "    .dataframe tbody tr th:only-of-type {\n",
       "        vertical-align: middle;\n",
       "    }\n",
       "\n",
       "    .dataframe tbody tr th {\n",
       "        vertical-align: top;\n",
       "    }\n",
       "\n",
       "    .dataframe thead th {\n",
       "        text-align: right;\n",
       "    }\n",
       "</style>\n",
       "<table border=\"1\" class=\"dataframe\">\n",
       "  <thead>\n",
       "    <tr style=\"text-align: right;\">\n",
       "      <th></th>\n",
       "      <th>Timestamp</th>\n",
       "      <th>Who took this survey (initials)</th>\n",
       "      <th>Are you a bike rider?</th>\n",
       "      <th>What is your zip code?</th>\n",
       "      <th>Do you or anyone in your family ride an e-bike?</th>\n",
       "      <th>How do you commute - to work, school, or for other purposes?</th>\n",
       "      <th>How far (ROUND TRIP) do you commute for any purpose each day?</th>\n",
       "      <th>Would you commute by e-bike if given the opportunity?</th>\n",
       "      <th>Do you know the differences between Class 1, Class 1, and Class 3 e-bikes?</th>\n",
       "      <th>How comfortable would you be storing your bike in a bike locker while you are commuting? -- secure private locker like this:</th>\n",
       "      <th>How comfortable would you be storing your bike in a bike locker while you are commuting? -- group locker like this:</th>\n",
       "      <th>How familiar are you and those in your family with the rules of the road for e-bikes?</th>\n",
       "      <th>How concerned are you about e-bikes and e-bike safety in San Diego County?</th>\n",
       "      <th>Are you interested in learning more about e-bikes?</th>\n",
       "      <th>Any additional comments?</th>\n",
       "      <th>Who's survey is this?</th>\n",
       "      <th>Unnamed: 16</th>\n",
       "    </tr>\n",
       "  </thead>\n",
       "  <tbody>\n",
       "    <tr>\n",
       "      <th>0</th>\n",
       "      <td>April 29, 2023</td>\n",
       "      <td>JTB</td>\n",
       "      <td>No</td>\n",
       "      <td>92115.0</td>\n",
       "      <td>No</td>\n",
       "      <td>I do not commute</td>\n",
       "      <td>NaN</td>\n",
       "      <td>Maybe</td>\n",
       "      <td>No</td>\n",
       "      <td>Very</td>\n",
       "      <td>Very</td>\n",
       "      <td>Don't know</td>\n",
       "      <td>Not very</td>\n",
       "      <td>No</td>\n",
       "      <td>NaN</td>\n",
       "      <td>carsonator0898@gmail.com</td>\n",
       "      <td>NaN</td>\n",
       "    </tr>\n",
       "    <tr>\n",
       "      <th>1</th>\n",
       "      <td>April 29, 2023</td>\n",
       "      <td>JTB</td>\n",
       "      <td>No</td>\n",
       "      <td>92129.0</td>\n",
       "      <td>No</td>\n",
       "      <td>Car</td>\n",
       "      <td>No</td>\n",
       "      <td>No</td>\n",
       "      <td>A bit</td>\n",
       "      <td>NaN</td>\n",
       "      <td>NaN</td>\n",
       "      <td>Not very</td>\n",
       "      <td>somewhat</td>\n",
       "      <td>No</td>\n",
       "      <td>NaN</td>\n",
       "      <td>NaN</td>\n",
       "      <td>NaN</td>\n",
       "    </tr>\n",
       "    <tr>\n",
       "      <th>2</th>\n",
       "      <td>April 29, 2023</td>\n",
       "      <td>JTB</td>\n",
       "      <td>No</td>\n",
       "      <td>92115.0</td>\n",
       "      <td>Dad</td>\n",
       "      <td>Public transportation</td>\n",
       "      <td>1 mile</td>\n",
       "      <td>Maybe</td>\n",
       "      <td>A bit</td>\n",
       "      <td>Very</td>\n",
       "      <td>somewhat</td>\n",
       "      <td>Don't know</td>\n",
       "      <td>Very</td>\n",
       "      <td>Yes</td>\n",
       "      <td>NaN</td>\n",
       "      <td>risela.delosangles@gmail.com</td>\n",
       "      <td>NaN</td>\n",
       "    </tr>\n",
       "    <tr>\n",
       "      <th>3</th>\n",
       "      <td>April 29, 2023</td>\n",
       "      <td>JTB</td>\n",
       "      <td>No</td>\n",
       "      <td>92562.0</td>\n",
       "      <td>No</td>\n",
       "      <td>I do not commute</td>\n",
       "      <td>NaN</td>\n",
       "      <td>NaN</td>\n",
       "      <td>No</td>\n",
       "      <td>NaN</td>\n",
       "      <td>NaN</td>\n",
       "      <td>Don't know</td>\n",
       "      <td>Not concerned</td>\n",
       "      <td>May be</td>\n",
       "      <td>NaN</td>\n",
       "      <td>NaN</td>\n",
       "      <td>NaN</td>\n",
       "    </tr>\n",
       "    <tr>\n",
       "      <th>4</th>\n",
       "      <td>April 29, 2023</td>\n",
       "      <td>JTB</td>\n",
       "      <td>Yes</td>\n",
       "      <td>92109.0</td>\n",
       "      <td>No</td>\n",
       "      <td>I do not commute</td>\n",
       "      <td>NaN</td>\n",
       "      <td>NaN</td>\n",
       "      <td>No</td>\n",
       "      <td>NaN</td>\n",
       "      <td>NaN</td>\n",
       "      <td>Don't know</td>\n",
       "      <td>Not concerned</td>\n",
       "      <td>No</td>\n",
       "      <td>NaN</td>\n",
       "      <td>NaN</td>\n",
       "      <td>NaN</td>\n",
       "    </tr>\n",
       "  </tbody>\n",
       "</table>\n",
       "</div>"
      ],
      "text/plain": [
       "        Timestamp Who took this survey (initials) Are you a bike rider?  \\\n",
       "0  April 29, 2023                             JTB                    No   \n",
       "1  April 29, 2023                             JTB                    No   \n",
       "2  April 29, 2023                             JTB                    No   \n",
       "3  April 29, 2023                             JTB                    No   \n",
       "4  April 29, 2023                             JTB                   Yes   \n",
       "\n",
       "   What is your zip code? Do you or anyone in your family ride an e-bike?  \\\n",
       "0                 92115.0                                              No   \n",
       "1                 92129.0                                              No   \n",
       "2                 92115.0                                             Dad   \n",
       "3                 92562.0                                              No   \n",
       "4                 92109.0                                              No   \n",
       "\n",
       "  How do you commute - to work, school, or for other purposes?  \\\n",
       "0                                   I do not commute             \n",
       "1                                                Car             \n",
       "2                              Public transportation             \n",
       "3                                   I do not commute             \n",
       "4                                   I do not commute             \n",
       "\n",
       "  How far (ROUND TRIP) do you commute for any purpose each day?  \\\n",
       "0                                                NaN              \n",
       "1                                                 No              \n",
       "2                                             1 mile              \n",
       "3                                                NaN              \n",
       "4                                                NaN              \n",
       "\n",
       "  Would you commute by e-bike if given the opportunity?  \\\n",
       "0                                              Maybe      \n",
       "1                                                 No      \n",
       "2                                              Maybe      \n",
       "3                                                NaN      \n",
       "4                                                NaN      \n",
       "\n",
       "  Do you know the differences between Class 1, Class 1, and Class 3 e-bikes?  \\\n",
       "0                                                 No                           \n",
       "1                                              A bit                           \n",
       "2                                              A bit                           \n",
       "3                                                 No                           \n",
       "4                                                 No                           \n",
       "\n",
       "  How comfortable would you be storing your bike in a bike locker while you are commuting? -- secure private locker like this:  \\\n",
       "0                                               Very                                                                             \n",
       "1                                                NaN                                                                             \n",
       "2                                               Very                                                                             \n",
       "3                                                NaN                                                                             \n",
       "4                                                NaN                                                                             \n",
       "\n",
       "  How comfortable would you be storing your bike in a bike locker while you are commuting? -- group locker like this:  \\\n",
       "0                                               Very                                                                    \n",
       "1                                                NaN                                                                    \n",
       "2                                           somewhat                                                                    \n",
       "3                                                NaN                                                                    \n",
       "4                                                NaN                                                                    \n",
       "\n",
       "  How familiar are you and those in your family with the rules of the road for e-bikes?  \\\n",
       "0                                         Don't know                                      \n",
       "1                                           Not very                                      \n",
       "2                                         Don't know                                      \n",
       "3                                         Don't know                                      \n",
       "4                                         Don't know                                      \n",
       "\n",
       "  How concerned are you about e-bikes and e-bike safety in San Diego County?  \\\n",
       "0                                           Not very                           \n",
       "1                                           somewhat                           \n",
       "2                                               Very                           \n",
       "3                                      Not concerned                           \n",
       "4                                      Not concerned                           \n",
       "\n",
       "  Are you interested in learning more about e-bikes? Any additional comments?  \\\n",
       "0                                                 No                      NaN   \n",
       "1                                                 No                      NaN   \n",
       "2                                                Yes                      NaN   \n",
       "3                                             May be                      NaN   \n",
       "4                                                 No                      NaN   \n",
       "\n",
       "          Who's survey is this? Unnamed: 16  \n",
       "0      carsonator0898@gmail.com         NaN  \n",
       "1                           NaN         NaN  \n",
       "2  risela.delosangles@gmail.com         NaN  \n",
       "3                           NaN         NaN  \n",
       "4                           NaN         NaN  "
      ]
     },
     "execution_count": 2,
     "metadata": {},
     "output_type": "execute_result"
    }
   ],
   "source": [
    "# Read survey data from the csv file\n",
    "df = pd.read_csv(\"4.29.2023_Survey_Results.csv\")\n",
    "df.head()"
   ]
  },
  {
   "cell_type": "code",
   "execution_count": 3,
   "metadata": {
    "scrolled": false
   },
   "outputs": [],
   "source": [
    "# Keep numerical and binary columns\n",
    "quant_df = df.drop(\"Who took this survey (initials)\", axis=1)\n",
    "quant_df.drop(\"Any additional comments?\", axis=1, inplace=True)\n",
    "quant_df.drop(\"Who's survey is this?\", axis=1, inplace=True)\n",
    "quant_df.drop(\"Timestamp\", axis=1, inplace=True)\n",
    "quant_df.drop(\"Unnamed: 16\", axis=1, inplace=True)\n",
    "\n",
    "# Change headers\n",
    "quant_df.columns = ['bike_rider', 'zipcode', 'ebike_rider', 'commute_purpose',\n",
    "                   'miles', 'try_bike', 'ebike_class', 'private_locker', 'group_locker',\n",
    "                   'ebike_rules', 'safty', 'interested']"
   ]
  },
  {
   "cell_type": "code",
   "execution_count": 4,
   "metadata": {},
   "outputs": [],
   "source": [
    "# convert all letters to lowercase\n",
    "columns = quant_df.columns\n",
    "for column in columns:\n",
    "    if column != 'zipcode':\n",
    "        quant_df[column] = quant_df[column].str.lower()"
   ]
  },
  {
   "cell_type": "code",
   "execution_count": 5,
   "metadata": {},
   "outputs": [],
   "source": [
    "# Set cells to null if its unit is time\n",
    "quant_df['miles'] = quant_df['miles'].apply(lambda x: np.nan if pd.isnull(x) or 'min' in x else x)\n",
    "quant_df['miles'] = quant_df['miles'].str.extract(r'(\\d+)', expand=False).astype(float).astype(pd.Int64Dtype())"
   ]
  },
  {
   "cell_type": "markdown",
   "metadata": {},
   "source": [
    " "
   ]
  },
  {
   "cell_type": "markdown",
   "metadata": {},
   "source": [
    "##### CSV File 2: 6.08.2023_Online_Survey_Results.csv"
   ]
  },
  {
   "cell_type": "code",
   "execution_count": 6,
   "metadata": {},
   "outputs": [
    {
     "data": {
      "text/html": [
       "<div>\n",
       "<style scoped>\n",
       "    .dataframe tbody tr th:only-of-type {\n",
       "        vertical-align: middle;\n",
       "    }\n",
       "\n",
       "    .dataframe tbody tr th {\n",
       "        vertical-align: top;\n",
       "    }\n",
       "\n",
       "    .dataframe thead th {\n",
       "        text-align: right;\n",
       "    }\n",
       "</style>\n",
       "<table border=\"1\" class=\"dataframe\">\n",
       "  <thead>\n",
       "    <tr style=\"text-align: right;\">\n",
       "      <th></th>\n",
       "      <th>StartDate</th>\n",
       "      <th>EndDate</th>\n",
       "      <th>Status</th>\n",
       "      <th>IPAddress</th>\n",
       "      <th>Progress</th>\n",
       "      <th>Duration (in seconds)</th>\n",
       "      <th>Finished</th>\n",
       "      <th>RecordedDate</th>\n",
       "      <th>ResponseId</th>\n",
       "      <th>RecipientLastName</th>\n",
       "      <th>...</th>\n",
       "      <th>Q10</th>\n",
       "      <th>Q11</th>\n",
       "      <th>Q12</th>\n",
       "      <th>Q14</th>\n",
       "      <th>Q12 - Topics</th>\n",
       "      <th>Q12 - Parent Topics</th>\n",
       "      <th>Q14 - Topics</th>\n",
       "      <th>Q14 - Parent Topics</th>\n",
       "      <th>Q12 - Topic Hierarchy Level 1</th>\n",
       "      <th>Q14 - Topic Hierarchy Level 1</th>\n",
       "    </tr>\n",
       "  </thead>\n",
       "  <tbody>\n",
       "    <tr>\n",
       "      <th>0</th>\n",
       "      <td>Start Date</td>\n",
       "      <td>End Date</td>\n",
       "      <td>Response Type</td>\n",
       "      <td>IP Address</td>\n",
       "      <td>Progress</td>\n",
       "      <td>Duration (in seconds)</td>\n",
       "      <td>Finished</td>\n",
       "      <td>Recorded Date</td>\n",
       "      <td>Response ID</td>\n",
       "      <td>Recipient Last Name</td>\n",
       "      <td>...</td>\n",
       "      <td>How concern are you about e-bikes and e-bike s...</td>\n",
       "      <td>Are you interested in learning more about e-bi...</td>\n",
       "      <td>Any additional thoughts or comments?</td>\n",
       "      <td>Will you share your email so we can share addi...</td>\n",
       "      <td>Q12 - Topics</td>\n",
       "      <td>Q12 - Parent Topics</td>\n",
       "      <td>Q14 - Topics</td>\n",
       "      <td>Q14 - Parent Topics</td>\n",
       "      <td>Q12 - Topic Hierarchy Level 1</td>\n",
       "      <td>Q14 - Topic Hierarchy Level 1</td>\n",
       "    </tr>\n",
       "    <tr>\n",
       "      <th>1</th>\n",
       "      <td>{\"ImportId\":\"startDate\",\"timeZone\":\"America/De...</td>\n",
       "      <td>{\"ImportId\":\"endDate\",\"timeZone\":\"America/Denv...</td>\n",
       "      <td>{\"ImportId\":\"status\"}</td>\n",
       "      <td>{\"ImportId\":\"ipAddress\"}</td>\n",
       "      <td>{\"ImportId\":\"progress\"}</td>\n",
       "      <td>{\"ImportId\":\"duration\"}</td>\n",
       "      <td>{\"ImportId\":\"finished\"}</td>\n",
       "      <td>{\"ImportId\":\"recordedDate\",\"timeZone\":\"America...</td>\n",
       "      <td>{\"ImportId\":\"_recordId\"}</td>\n",
       "      <td>{\"ImportId\":\"recipientLastName\"}</td>\n",
       "      <td>...</td>\n",
       "      <td>{\"ImportId\":\"QID10\"}</td>\n",
       "      <td>{\"ImportId\":\"QID11\"}</td>\n",
       "      <td>{\"ImportId\":\"QID12_TEXT\"}</td>\n",
       "      <td>{\"ImportId\":\"QID14_TEXT\"}</td>\n",
       "      <td>{\"ImportId\":\"QID12_TEXT_b077f173_acwapq7pdun3T...</td>\n",
       "      <td>{\"ImportId\":\"QID12_TEXT_b077f173_acwapq7pdun3P...</td>\n",
       "      <td>{\"ImportId\":\"QID14_TEXT_b077f173_4l0j2qic9q6pT...</td>\n",
       "      <td>{\"ImportId\":\"QID14_TEXT_b077f173_4l0j2qic9q6pP...</td>\n",
       "      <td>{\"ImportId\":\"QID12_TEXT_b077f173_acwapq7pdun3T...</td>\n",
       "      <td>{\"ImportId\":\"QID14_TEXT_b077f173_4l0j2qic9q6pT...</td>\n",
       "    </tr>\n",
       "    <tr>\n",
       "      <th>2</th>\n",
       "      <td>2023-05-01 11:37:59</td>\n",
       "      <td>2023-05-01 11:39:22</td>\n",
       "      <td>Survey Preview</td>\n",
       "      <td>NaN</td>\n",
       "      <td>100</td>\n",
       "      <td>82</td>\n",
       "      <td>True</td>\n",
       "      <td>2023-05-01 11:39:23</td>\n",
       "      <td>R_3qe6UiEAvEfILiG</td>\n",
       "      <td>NaN</td>\n",
       "      <td>...</td>\n",
       "      <td>Not very</td>\n",
       "      <td>Yes</td>\n",
       "      <td>NaN</td>\n",
       "      <td>yes</td>\n",
       "      <td>NaN</td>\n",
       "      <td>NaN</td>\n",
       "      <td>Unknown</td>\n",
       "      <td>NaN</td>\n",
       "      <td>NaN</td>\n",
       "      <td>NaN</td>\n",
       "    </tr>\n",
       "    <tr>\n",
       "      <th>3</th>\n",
       "      <td>2023-05-01 11:56:26</td>\n",
       "      <td>2023-05-01 11:56:34</td>\n",
       "      <td>IP Address</td>\n",
       "      <td>128.54.0.29</td>\n",
       "      <td>8</td>\n",
       "      <td>8</td>\n",
       "      <td>False</td>\n",
       "      <td>2023-05-08 11:56:35</td>\n",
       "      <td>R_r22TjvRK1FENO6J</td>\n",
       "      <td>NaN</td>\n",
       "      <td>...</td>\n",
       "      <td>NaN</td>\n",
       "      <td>NaN</td>\n",
       "      <td>NaN</td>\n",
       "      <td>NaN</td>\n",
       "      <td>NaN</td>\n",
       "      <td>NaN</td>\n",
       "      <td>NaN</td>\n",
       "      <td>NaN</td>\n",
       "      <td>NaN</td>\n",
       "      <td>NaN</td>\n",
       "    </tr>\n",
       "    <tr>\n",
       "      <th>4</th>\n",
       "      <td>2023-05-01 11:56:27</td>\n",
       "      <td>2023-05-01 15:41:59</td>\n",
       "      <td>IP Address</td>\n",
       "      <td>174.66.189.65</td>\n",
       "      <td>62</td>\n",
       "      <td>13531</td>\n",
       "      <td>False</td>\n",
       "      <td>2023-05-08 15:42:03</td>\n",
       "      <td>R_1g7oEm3WFlUugjc</td>\n",
       "      <td>NaN</td>\n",
       "      <td>...</td>\n",
       "      <td>NaN</td>\n",
       "      <td>NaN</td>\n",
       "      <td>NaN</td>\n",
       "      <td>NaN</td>\n",
       "      <td>NaN</td>\n",
       "      <td>NaN</td>\n",
       "      <td>NaN</td>\n",
       "      <td>NaN</td>\n",
       "      <td>NaN</td>\n",
       "      <td>NaN</td>\n",
       "    </tr>\n",
       "    <tr>\n",
       "      <th>...</th>\n",
       "      <td>...</td>\n",
       "      <td>...</td>\n",
       "      <td>...</td>\n",
       "      <td>...</td>\n",
       "      <td>...</td>\n",
       "      <td>...</td>\n",
       "      <td>...</td>\n",
       "      <td>...</td>\n",
       "      <td>...</td>\n",
       "      <td>...</td>\n",
       "      <td>...</td>\n",
       "      <td>...</td>\n",
       "      <td>...</td>\n",
       "      <td>...</td>\n",
       "      <td>...</td>\n",
       "      <td>...</td>\n",
       "      <td>...</td>\n",
       "      <td>...</td>\n",
       "      <td>...</td>\n",
       "      <td>...</td>\n",
       "      <td>...</td>\n",
       "    </tr>\n",
       "    <tr>\n",
       "      <th>57</th>\n",
       "      <td>2023-05-25 19:51:07</td>\n",
       "      <td>2023-05-25 19:51:28</td>\n",
       "      <td>IP Address</td>\n",
       "      <td>166.199.151.142</td>\n",
       "      <td>23</td>\n",
       "      <td>20</td>\n",
       "      <td>False</td>\n",
       "      <td>2023-06-01 19:51:34</td>\n",
       "      <td>R_2YhWiUdbqFV6tgr</td>\n",
       "      <td>NaN</td>\n",
       "      <td>...</td>\n",
       "      <td>NaN</td>\n",
       "      <td>NaN</td>\n",
       "      <td>NaN</td>\n",
       "      <td>NaN</td>\n",
       "      <td>NaN</td>\n",
       "      <td>NaN</td>\n",
       "      <td>NaN</td>\n",
       "      <td>NaN</td>\n",
       "      <td>NaN</td>\n",
       "      <td>NaN</td>\n",
       "    </tr>\n",
       "    <tr>\n",
       "      <th>58</th>\n",
       "      <td>2023-05-25 22:34:28</td>\n",
       "      <td>2023-05-25 22:34:34</td>\n",
       "      <td>IP Address</td>\n",
       "      <td>72.22.164.236</td>\n",
       "      <td>8</td>\n",
       "      <td>6</td>\n",
       "      <td>False</td>\n",
       "      <td>2023-06-01 22:34:38</td>\n",
       "      <td>R_2X0y0cEgvBKvE67</td>\n",
       "      <td>NaN</td>\n",
       "      <td>...</td>\n",
       "      <td>NaN</td>\n",
       "      <td>NaN</td>\n",
       "      <td>NaN</td>\n",
       "      <td>NaN</td>\n",
       "      <td>NaN</td>\n",
       "      <td>NaN</td>\n",
       "      <td>NaN</td>\n",
       "      <td>NaN</td>\n",
       "      <td>NaN</td>\n",
       "      <td>NaN</td>\n",
       "    </tr>\n",
       "    <tr>\n",
       "      <th>59</th>\n",
       "      <td>2023-05-26 01:26:57</td>\n",
       "      <td>2023-05-26 01:27:26</td>\n",
       "      <td>IP Address</td>\n",
       "      <td>128.54.152.179</td>\n",
       "      <td>31</td>\n",
       "      <td>29</td>\n",
       "      <td>False</td>\n",
       "      <td>2023-06-02 01:27:28</td>\n",
       "      <td>R_Z7XIE13xJPVltEl</td>\n",
       "      <td>NaN</td>\n",
       "      <td>...</td>\n",
       "      <td>NaN</td>\n",
       "      <td>NaN</td>\n",
       "      <td>NaN</td>\n",
       "      <td>NaN</td>\n",
       "      <td>NaN</td>\n",
       "      <td>NaN</td>\n",
       "      <td>NaN</td>\n",
       "      <td>NaN</td>\n",
       "      <td>NaN</td>\n",
       "      <td>NaN</td>\n",
       "    </tr>\n",
       "    <tr>\n",
       "      <th>60</th>\n",
       "      <td>2023-05-26 08:20:36</td>\n",
       "      <td>2023-05-26 08:22:33</td>\n",
       "      <td>IP Address</td>\n",
       "      <td>172.58.19.160</td>\n",
       "      <td>77</td>\n",
       "      <td>117</td>\n",
       "      <td>False</td>\n",
       "      <td>2023-06-02 08:22:35</td>\n",
       "      <td>R_1k1eTFB14SH5zqQ</td>\n",
       "      <td>NaN</td>\n",
       "      <td>...</td>\n",
       "      <td>Somewhat</td>\n",
       "      <td>NaN</td>\n",
       "      <td>NaN</td>\n",
       "      <td>NaN</td>\n",
       "      <td>NaN</td>\n",
       "      <td>NaN</td>\n",
       "      <td>NaN</td>\n",
       "      <td>NaN</td>\n",
       "      <td>NaN</td>\n",
       "      <td>NaN</td>\n",
       "    </tr>\n",
       "    <tr>\n",
       "      <th>61</th>\n",
       "      <td>2023-05-26 23:07:22</td>\n",
       "      <td>2023-05-26 23:07:28</td>\n",
       "      <td>IP Address</td>\n",
       "      <td>128.54.203.102</td>\n",
       "      <td>8</td>\n",
       "      <td>5</td>\n",
       "      <td>False</td>\n",
       "      <td>2023-06-02 23:07:31</td>\n",
       "      <td>R_3qaE0DY5XbK3u3E</td>\n",
       "      <td>NaN</td>\n",
       "      <td>...</td>\n",
       "      <td>NaN</td>\n",
       "      <td>NaN</td>\n",
       "      <td>NaN</td>\n",
       "      <td>NaN</td>\n",
       "      <td>NaN</td>\n",
       "      <td>NaN</td>\n",
       "      <td>NaN</td>\n",
       "      <td>NaN</td>\n",
       "      <td>NaN</td>\n",
       "      <td>NaN</td>\n",
       "    </tr>\n",
       "  </tbody>\n",
       "</table>\n",
       "<p>62 rows × 43 columns</p>\n",
       "</div>"
      ],
      "text/plain": [
       "                                            StartDate  \\\n",
       "0                                          Start Date   \n",
       "1   {\"ImportId\":\"startDate\",\"timeZone\":\"America/De...   \n",
       "2                                 2023-05-01 11:37:59   \n",
       "3                                 2023-05-01 11:56:26   \n",
       "4                                 2023-05-01 11:56:27   \n",
       "..                                                ...   \n",
       "57                                2023-05-25 19:51:07   \n",
       "58                                2023-05-25 22:34:28   \n",
       "59                                2023-05-26 01:26:57   \n",
       "60                                2023-05-26 08:20:36   \n",
       "61                                2023-05-26 23:07:22   \n",
       "\n",
       "                                              EndDate                 Status  \\\n",
       "0                                            End Date          Response Type   \n",
       "1   {\"ImportId\":\"endDate\",\"timeZone\":\"America/Denv...  {\"ImportId\":\"status\"}   \n",
       "2                                 2023-05-01 11:39:22         Survey Preview   \n",
       "3                                 2023-05-01 11:56:34             IP Address   \n",
       "4                                 2023-05-01 15:41:59             IP Address   \n",
       "..                                                ...                    ...   \n",
       "57                                2023-05-25 19:51:28             IP Address   \n",
       "58                                2023-05-25 22:34:34             IP Address   \n",
       "59                                2023-05-26 01:27:26             IP Address   \n",
       "60                                2023-05-26 08:22:33             IP Address   \n",
       "61                                2023-05-26 23:07:28             IP Address   \n",
       "\n",
       "                   IPAddress                 Progress  \\\n",
       "0                 IP Address                 Progress   \n",
       "1   {\"ImportId\":\"ipAddress\"}  {\"ImportId\":\"progress\"}   \n",
       "2                        NaN                      100   \n",
       "3                128.54.0.29                        8   \n",
       "4              174.66.189.65                       62   \n",
       "..                       ...                      ...   \n",
       "57           166.199.151.142                       23   \n",
       "58             72.22.164.236                        8   \n",
       "59            128.54.152.179                       31   \n",
       "60             172.58.19.160                       77   \n",
       "61            128.54.203.102                        8   \n",
       "\n",
       "      Duration (in seconds)                 Finished  \\\n",
       "0     Duration (in seconds)                 Finished   \n",
       "1   {\"ImportId\":\"duration\"}  {\"ImportId\":\"finished\"}   \n",
       "2                        82                     True   \n",
       "3                         8                    False   \n",
       "4                     13531                    False   \n",
       "..                      ...                      ...   \n",
       "57                       20                    False   \n",
       "58                        6                    False   \n",
       "59                       29                    False   \n",
       "60                      117                    False   \n",
       "61                        5                    False   \n",
       "\n",
       "                                         RecordedDate  \\\n",
       "0                                       Recorded Date   \n",
       "1   {\"ImportId\":\"recordedDate\",\"timeZone\":\"America...   \n",
       "2                                 2023-05-01 11:39:23   \n",
       "3                                 2023-05-08 11:56:35   \n",
       "4                                 2023-05-08 15:42:03   \n",
       "..                                                ...   \n",
       "57                                2023-06-01 19:51:34   \n",
       "58                                2023-06-01 22:34:38   \n",
       "59                                2023-06-02 01:27:28   \n",
       "60                                2023-06-02 08:22:35   \n",
       "61                                2023-06-02 23:07:31   \n",
       "\n",
       "                  ResponseId                 RecipientLastName  ...  \\\n",
       "0                Response ID               Recipient Last Name  ...   \n",
       "1   {\"ImportId\":\"_recordId\"}  {\"ImportId\":\"recipientLastName\"}  ...   \n",
       "2          R_3qe6UiEAvEfILiG                               NaN  ...   \n",
       "3          R_r22TjvRK1FENO6J                               NaN  ...   \n",
       "4          R_1g7oEm3WFlUugjc                               NaN  ...   \n",
       "..                       ...                               ...  ...   \n",
       "57         R_2YhWiUdbqFV6tgr                               NaN  ...   \n",
       "58         R_2X0y0cEgvBKvE67                               NaN  ...   \n",
       "59         R_Z7XIE13xJPVltEl                               NaN  ...   \n",
       "60         R_1k1eTFB14SH5zqQ                               NaN  ...   \n",
       "61         R_3qaE0DY5XbK3u3E                               NaN  ...   \n",
       "\n",
       "                                                  Q10  \\\n",
       "0   How concern are you about e-bikes and e-bike s...   \n",
       "1                                {\"ImportId\":\"QID10\"}   \n",
       "2                                            Not very   \n",
       "3                                                 NaN   \n",
       "4                                                 NaN   \n",
       "..                                                ...   \n",
       "57                                                NaN   \n",
       "58                                                NaN   \n",
       "59                                                NaN   \n",
       "60                                           Somewhat   \n",
       "61                                                NaN   \n",
       "\n",
       "                                                  Q11  \\\n",
       "0   Are you interested in learning more about e-bi...   \n",
       "1                                {\"ImportId\":\"QID11\"}   \n",
       "2                                                 Yes   \n",
       "3                                                 NaN   \n",
       "4                                                 NaN   \n",
       "..                                                ...   \n",
       "57                                                NaN   \n",
       "58                                                NaN   \n",
       "59                                                NaN   \n",
       "60                                                NaN   \n",
       "61                                                NaN   \n",
       "\n",
       "                                     Q12  \\\n",
       "0   Any additional thoughts or comments?   \n",
       "1              {\"ImportId\":\"QID12_TEXT\"}   \n",
       "2                                    NaN   \n",
       "3                                    NaN   \n",
       "4                                    NaN   \n",
       "..                                   ...   \n",
       "57                                   NaN   \n",
       "58                                   NaN   \n",
       "59                                   NaN   \n",
       "60                                   NaN   \n",
       "61                                   NaN   \n",
       "\n",
       "                                                  Q14  \\\n",
       "0   Will you share your email so we can share addi...   \n",
       "1                           {\"ImportId\":\"QID14_TEXT\"}   \n",
       "2                                                 yes   \n",
       "3                                                 NaN   \n",
       "4                                                 NaN   \n",
       "..                                                ...   \n",
       "57                                                NaN   \n",
       "58                                                NaN   \n",
       "59                                                NaN   \n",
       "60                                                NaN   \n",
       "61                                                NaN   \n",
       "\n",
       "                                         Q12 - Topics  \\\n",
       "0                                        Q12 - Topics   \n",
       "1   {\"ImportId\":\"QID12_TEXT_b077f173_acwapq7pdun3T...   \n",
       "2                                                 NaN   \n",
       "3                                                 NaN   \n",
       "4                                                 NaN   \n",
       "..                                                ...   \n",
       "57                                                NaN   \n",
       "58                                                NaN   \n",
       "59                                                NaN   \n",
       "60                                                NaN   \n",
       "61                                                NaN   \n",
       "\n",
       "                                  Q12 - Parent Topics  \\\n",
       "0                                 Q12 - Parent Topics   \n",
       "1   {\"ImportId\":\"QID12_TEXT_b077f173_acwapq7pdun3P...   \n",
       "2                                                 NaN   \n",
       "3                                                 NaN   \n",
       "4                                                 NaN   \n",
       "..                                                ...   \n",
       "57                                                NaN   \n",
       "58                                                NaN   \n",
       "59                                                NaN   \n",
       "60                                                NaN   \n",
       "61                                                NaN   \n",
       "\n",
       "                                         Q14 - Topics  \\\n",
       "0                                        Q14 - Topics   \n",
       "1   {\"ImportId\":\"QID14_TEXT_b077f173_4l0j2qic9q6pT...   \n",
       "2                                             Unknown   \n",
       "3                                                 NaN   \n",
       "4                                                 NaN   \n",
       "..                                                ...   \n",
       "57                                                NaN   \n",
       "58                                                NaN   \n",
       "59                                                NaN   \n",
       "60                                                NaN   \n",
       "61                                                NaN   \n",
       "\n",
       "                                  Q14 - Parent Topics  \\\n",
       "0                                 Q14 - Parent Topics   \n",
       "1   {\"ImportId\":\"QID14_TEXT_b077f173_4l0j2qic9q6pP...   \n",
       "2                                                 NaN   \n",
       "3                                                 NaN   \n",
       "4                                                 NaN   \n",
       "..                                                ...   \n",
       "57                                                NaN   \n",
       "58                                                NaN   \n",
       "59                                                NaN   \n",
       "60                                                NaN   \n",
       "61                                                NaN   \n",
       "\n",
       "                        Q12 - Topic Hierarchy Level 1  \\\n",
       "0                       Q12 - Topic Hierarchy Level 1   \n",
       "1   {\"ImportId\":\"QID12_TEXT_b077f173_acwapq7pdun3T...   \n",
       "2                                                 NaN   \n",
       "3                                                 NaN   \n",
       "4                                                 NaN   \n",
       "..                                                ...   \n",
       "57                                                NaN   \n",
       "58                                                NaN   \n",
       "59                                                NaN   \n",
       "60                                                NaN   \n",
       "61                                                NaN   \n",
       "\n",
       "                        Q14 - Topic Hierarchy Level 1  \n",
       "0                       Q14 - Topic Hierarchy Level 1  \n",
       "1   {\"ImportId\":\"QID14_TEXT_b077f173_4l0j2qic9q6pT...  \n",
       "2                                                 NaN  \n",
       "3                                                 NaN  \n",
       "4                                                 NaN  \n",
       "..                                                ...  \n",
       "57                                                NaN  \n",
       "58                                                NaN  \n",
       "59                                                NaN  \n",
       "60                                                NaN  \n",
       "61                                                NaN  \n",
       "\n",
       "[62 rows x 43 columns]"
      ]
     },
     "execution_count": 6,
     "metadata": {},
     "output_type": "execute_result"
    }
   ],
   "source": [
    "df2= pd.read_csv(\"6.08.2023_Online_Survey_Results.csv\")\n",
    "df2"
   ]
  },
  {
   "cell_type": "code",
   "execution_count": 7,
   "metadata": {
    "scrolled": false
   },
   "outputs": [],
   "source": [
    "# Keep question columns only\n",
    "df2 = df2[['Q1', 'Q2', 'Q3',\n",
    "           'Q4_1', 'Q4_2', 'Q4_3', 'Q4_4', \n",
    "           'Q4_5', 'Q4_6', 'Q4_7', 'Q5', 'Q6',\n",
    "           'Q7', 'Q8', 'Q9', 'Q10', 'Q11']]\n",
    "\n",
    "# Drop row 1\n",
    "df2 = df2.drop(1)"
   ]
  },
  {
   "cell_type": "code",
   "execution_count": 8,
   "metadata": {},
   "outputs": [],
   "source": [
    "# Change column names\n",
    "df2.columns = ['bike_rider', 'zipcode', 'ebike_rider', 'commute_purpose_1', 'commute_purpose_2',\n",
    "               'commute_purpose_3', 'commute_purpose_4', 'commute_purpose_5', 'commute_purpose_6',\n",
    "               'commute_purpose_7', 'miles', 'try_bike', 'ebike_class', 'locker',\n",
    "               'ebike_rules', 'safty', 'interested']\n",
    "df2 = df2.drop(0)"
   ]
  },
  {
   "cell_type": "code",
   "execution_count": 9,
   "metadata": {},
   "outputs": [],
   "source": [
    "# Set cells to null if its unit is time\n",
    "df2['miles'] = df2['miles'].apply(lambda x: np.nan if pd.isnull(x) or 'min' in x else x)\n",
    "df2['miles'] = df2['miles'].str.extract(r'(\\d+)', expand=False).astype(float).astype(pd.Int64Dtype())"
   ]
  },
  {
   "cell_type": "code",
   "execution_count": 10,
   "metadata": {},
   "outputs": [],
   "source": [
    "# Keep U.S. zipcodes only\n",
    "df2['zipcode'] = df2['zipcode'].apply(lambda x: np.nan if pd.isnull(x) or len(x) != 5 else x)"
   ]
  },
  {
   "cell_type": "markdown",
   "metadata": {},
   "source": [
    " "
   ]
  },
  {
   "cell_type": "markdown",
   "metadata": {},
   "source": [
    "##### Merge quant_df Dataframe and df2 Dataframe"
   ]
  },
  {
   "cell_type": "code",
   "execution_count": 11,
   "metadata": {},
   "outputs": [],
   "source": [
    "# Combine two dataframes\n",
    "df = pd.concat([quant_df, df2], ignore_index=True)\n",
    "\n",
    "# Convert all letters to lowercase\n",
    "columns = df.columns\n",
    "for column in columns:\n",
    "    if column != 'zipcode' and column != 'miles':\n",
    "        df[column] = df[column].str.lower()\n",
    "\n",
    "# Drop the column for 'combination' among communte_purpose\n",
    "df = df.drop('commute_purpose_6', axis=1)"
   ]
  },
  {
   "cell_type": "code",
   "execution_count": 12,
   "metadata": {},
   "outputs": [],
   "source": [
    "# Convert all columns except for 'miles' and 'zipcode' to string\n",
    "columns = df.columns\n",
    "for column in columns:\n",
    "    if column != 'zipcode' and column != 'miles':\n",
    "        df[column] = df[column].astype(str)\n",
    "\n",
    "# Rename each commute purpose columns\n",
    "df = df.rename(columns={'commute_purpose_1': 'by_public', \n",
    "                        'commute_purpose_2': 'by_car',\n",
    "                        'commute_purpose_3': 'by_bike',\n",
    "                        'commute_purpose_4': 'by_ebike',\n",
    "                        'commute_purpose_5': 'by_walking',\n",
    "                        'commute_purpose_7': 'no_commute'})"
   ]
  },
  {
   "cell_type": "code",
   "execution_count": 13,
   "metadata": {},
   "outputs": [],
   "source": [
    "# Transfer information in 'commute_purpose' column in to 'by_' columns\n",
    "df['by_public'] = df.apply(lambda row: 1 if 'public' in row['commute_purpose']\n",
    "                                                          or 'trolley' in row['commute_purpose'] \n",
    "                                                          or 'mts' in row['commute_purpose'] \n",
    "                                                          or 'bus' in row['commute_purpose']\n",
    "                                          else row['by_public'], axis=1)\n",
    "\n",
    "df['by_car'] = df.apply(lambda row: 1 if 'car' in row['commute_purpose'] or 'uber' in row['commute_purpose'] \n",
    "                                      else row['by_car'], axis=1)\n",
    "df['by_bike'] = df.apply(lambda row: 1 if 'bike' in row['commute_purpose'] and 'e bike' not in row['commute_purpose']\n",
    "                                       else row['by_bike'], axis=1)\n",
    "df['by_ebike'] = df.apply(lambda row: 1 if 'e bike' in row['commute_purpose']\n",
    "                                       else row['by_ebike'], axis=1)\n",
    "df['by_walking'] = df.apply(lambda row: 1 if 'walk' in row['commute_purpose']\n",
    "                                       else row['by_walking'], axis=1)\n",
    "df['no_commute'] = df.apply(lambda row: 1 if 'i do not commute' in row['commute_purpose']\n",
    "                                       else row['no_commute'], axis=1)\n",
    "\n",
    "# Convert value in 'by_' columns to 1 if the cell != nan\n",
    "df['by_public'] = df['by_public'].apply(lambda x: 1 if x != 'nan' else 0)\n",
    "df['by_car'] = df['by_car'].apply(lambda x: 1 if x != 'nan' else 0)\n",
    "df['by_bike'] = df['by_bike'].apply(lambda x: 1 if x != 'nan' else 0)\n",
    "df['by_ebike'] = df['by_ebike'].apply(lambda x: 1 if x != 'nan' else 0)\n",
    "df['by_walking'] = df['by_walking'].apply(lambda x: 1 if x != 'nan' else 0)\n",
    "df['no_commute'] = df['no_commute'].apply(lambda x: 1 if x != 'nan' else 0)\n",
    "\n",
    "# Drop 'commute_purpose' column since it's been one-hot encoded into 'by_' columns\n",
    "df = df.drop('commute_purpose', axis=1)"
   ]
  },
  {
   "cell_type": "code",
   "execution_count": 14,
   "metadata": {},
   "outputs": [],
   "source": [
    "# Keep answersin the 'ebike_rider' column to either yes or no\n",
    "df['ebike_rider'] = df['ebike_rider'].apply(lambda x: 'yes' if x != 'nan' and x != 'no' else x)"
   ]
  },
  {
   "cell_type": "code",
   "execution_count": 15,
   "metadata": {},
   "outputs": [],
   "source": [
    "# Reorder the columns to make it align with the order of the survey questions\n",
    "df = df[['bike_rider', 'zipcode', 'ebike_rider',\n",
    "         'by_public', 'by_car', 'by_bike', 'by_ebike', 'by_walking', 'no_commute',\n",
    "         'miles', 'try_bike', 'ebike_class', 'private_locker', 'group_locker', 'locker',\n",
    "         'ebike_rules', 'safty', 'interested']]"
   ]
  },
  {
   "cell_type": "code",
   "execution_count": 16,
   "metadata": {
    "scrolled": true
   },
   "outputs": [
    {
     "data": {
      "text/html": [
       "<div>\n",
       "<style scoped>\n",
       "    .dataframe tbody tr th:only-of-type {\n",
       "        vertical-align: middle;\n",
       "    }\n",
       "\n",
       "    .dataframe tbody tr th {\n",
       "        vertical-align: top;\n",
       "    }\n",
       "\n",
       "    .dataframe thead th {\n",
       "        text-align: right;\n",
       "    }\n",
       "</style>\n",
       "<table border=\"1\" class=\"dataframe\">\n",
       "  <thead>\n",
       "    <tr style=\"text-align: right;\">\n",
       "      <th></th>\n",
       "      <th>bike_rider</th>\n",
       "      <th>zipcode</th>\n",
       "      <th>ebike_rider</th>\n",
       "      <th>by_public</th>\n",
       "      <th>by_car</th>\n",
       "      <th>by_bike</th>\n",
       "      <th>by_ebike</th>\n",
       "      <th>by_walking</th>\n",
       "      <th>no_commute</th>\n",
       "      <th>miles</th>\n",
       "      <th>try_bike</th>\n",
       "      <th>ebike_class</th>\n",
       "      <th>private_locker</th>\n",
       "      <th>group_locker</th>\n",
       "      <th>locker</th>\n",
       "      <th>ebike_rules</th>\n",
       "      <th>safty</th>\n",
       "      <th>interested</th>\n",
       "    </tr>\n",
       "  </thead>\n",
       "  <tbody>\n",
       "    <tr>\n",
       "      <th>0</th>\n",
       "      <td>no</td>\n",
       "      <td>92115</td>\n",
       "      <td>no</td>\n",
       "      <td>0</td>\n",
       "      <td>0</td>\n",
       "      <td>0</td>\n",
       "      <td>0</td>\n",
       "      <td>0</td>\n",
       "      <td>1</td>\n",
       "      <td>&lt;NA&gt;</td>\n",
       "      <td>maybe</td>\n",
       "      <td>no</td>\n",
       "      <td>very</td>\n",
       "      <td>very</td>\n",
       "      <td>nan</td>\n",
       "      <td>don't know</td>\n",
       "      <td>not very</td>\n",
       "      <td>no</td>\n",
       "    </tr>\n",
       "    <tr>\n",
       "      <th>1</th>\n",
       "      <td>no</td>\n",
       "      <td>92129</td>\n",
       "      <td>no</td>\n",
       "      <td>0</td>\n",
       "      <td>1</td>\n",
       "      <td>0</td>\n",
       "      <td>0</td>\n",
       "      <td>0</td>\n",
       "      <td>0</td>\n",
       "      <td>&lt;NA&gt;</td>\n",
       "      <td>no</td>\n",
       "      <td>a bit</td>\n",
       "      <td>nan</td>\n",
       "      <td>nan</td>\n",
       "      <td>nan</td>\n",
       "      <td>not very</td>\n",
       "      <td>somewhat</td>\n",
       "      <td>no</td>\n",
       "    </tr>\n",
       "    <tr>\n",
       "      <th>2</th>\n",
       "      <td>no</td>\n",
       "      <td>92115</td>\n",
       "      <td>yes</td>\n",
       "      <td>1</td>\n",
       "      <td>0</td>\n",
       "      <td>0</td>\n",
       "      <td>0</td>\n",
       "      <td>0</td>\n",
       "      <td>0</td>\n",
       "      <td>1</td>\n",
       "      <td>maybe</td>\n",
       "      <td>a bit</td>\n",
       "      <td>very</td>\n",
       "      <td>somewhat</td>\n",
       "      <td>nan</td>\n",
       "      <td>don't know</td>\n",
       "      <td>very</td>\n",
       "      <td>yes</td>\n",
       "    </tr>\n",
       "    <tr>\n",
       "      <th>3</th>\n",
       "      <td>no</td>\n",
       "      <td>92562</td>\n",
       "      <td>no</td>\n",
       "      <td>0</td>\n",
       "      <td>0</td>\n",
       "      <td>0</td>\n",
       "      <td>0</td>\n",
       "      <td>0</td>\n",
       "      <td>1</td>\n",
       "      <td>&lt;NA&gt;</td>\n",
       "      <td>nan</td>\n",
       "      <td>no</td>\n",
       "      <td>nan</td>\n",
       "      <td>nan</td>\n",
       "      <td>nan</td>\n",
       "      <td>don't know</td>\n",
       "      <td>not concerned</td>\n",
       "      <td>may be</td>\n",
       "    </tr>\n",
       "    <tr>\n",
       "      <th>4</th>\n",
       "      <td>yes</td>\n",
       "      <td>92109</td>\n",
       "      <td>no</td>\n",
       "      <td>0</td>\n",
       "      <td>0</td>\n",
       "      <td>0</td>\n",
       "      <td>0</td>\n",
       "      <td>0</td>\n",
       "      <td>1</td>\n",
       "      <td>&lt;NA&gt;</td>\n",
       "      <td>nan</td>\n",
       "      <td>no</td>\n",
       "      <td>nan</td>\n",
       "      <td>nan</td>\n",
       "      <td>nan</td>\n",
       "      <td>don't know</td>\n",
       "      <td>not concerned</td>\n",
       "      <td>no</td>\n",
       "    </tr>\n",
       "    <tr>\n",
       "      <th>...</th>\n",
       "      <td>...</td>\n",
       "      <td>...</td>\n",
       "      <td>...</td>\n",
       "      <td>...</td>\n",
       "      <td>...</td>\n",
       "      <td>...</td>\n",
       "      <td>...</td>\n",
       "      <td>...</td>\n",
       "      <td>...</td>\n",
       "      <td>...</td>\n",
       "      <td>...</td>\n",
       "      <td>...</td>\n",
       "      <td>...</td>\n",
       "      <td>...</td>\n",
       "      <td>...</td>\n",
       "      <td>...</td>\n",
       "      <td>...</td>\n",
       "      <td>...</td>\n",
       "    </tr>\n",
       "    <tr>\n",
       "      <th>120</th>\n",
       "      <td>no</td>\n",
       "      <td>93117</td>\n",
       "      <td>no</td>\n",
       "      <td>0</td>\n",
       "      <td>0</td>\n",
       "      <td>0</td>\n",
       "      <td>0</td>\n",
       "      <td>0</td>\n",
       "      <td>0</td>\n",
       "      <td>&lt;NA&gt;</td>\n",
       "      <td>nan</td>\n",
       "      <td>nan</td>\n",
       "      <td>nan</td>\n",
       "      <td>nan</td>\n",
       "      <td>nan</td>\n",
       "      <td>nan</td>\n",
       "      <td>nan</td>\n",
       "      <td>nan</td>\n",
       "    </tr>\n",
       "    <tr>\n",
       "      <th>121</th>\n",
       "      <td>no</td>\n",
       "      <td>NaN</td>\n",
       "      <td>nan</td>\n",
       "      <td>0</td>\n",
       "      <td>0</td>\n",
       "      <td>0</td>\n",
       "      <td>0</td>\n",
       "      <td>0</td>\n",
       "      <td>0</td>\n",
       "      <td>&lt;NA&gt;</td>\n",
       "      <td>nan</td>\n",
       "      <td>nan</td>\n",
       "      <td>nan</td>\n",
       "      <td>nan</td>\n",
       "      <td>nan</td>\n",
       "      <td>nan</td>\n",
       "      <td>nan</td>\n",
       "      <td>nan</td>\n",
       "    </tr>\n",
       "    <tr>\n",
       "      <th>122</th>\n",
       "      <td>no</td>\n",
       "      <td>91748</td>\n",
       "      <td>no</td>\n",
       "      <td>0</td>\n",
       "      <td>0</td>\n",
       "      <td>0</td>\n",
       "      <td>0</td>\n",
       "      <td>1</td>\n",
       "      <td>0</td>\n",
       "      <td>&lt;NA&gt;</td>\n",
       "      <td>nan</td>\n",
       "      <td>nan</td>\n",
       "      <td>nan</td>\n",
       "      <td>nan</td>\n",
       "      <td>nan</td>\n",
       "      <td>nan</td>\n",
       "      <td>nan</td>\n",
       "      <td>nan</td>\n",
       "    </tr>\n",
       "    <tr>\n",
       "      <th>123</th>\n",
       "      <td>yes</td>\n",
       "      <td>92119</td>\n",
       "      <td>no</td>\n",
       "      <td>0</td>\n",
       "      <td>0</td>\n",
       "      <td>0</td>\n",
       "      <td>0</td>\n",
       "      <td>0</td>\n",
       "      <td>1</td>\n",
       "      <td>5</td>\n",
       "      <td>maybe</td>\n",
       "      <td>a bit</td>\n",
       "      <td>nan</td>\n",
       "      <td>nan</td>\n",
       "      <td>very</td>\n",
       "      <td>somewhat</td>\n",
       "      <td>somewhat</td>\n",
       "      <td>nan</td>\n",
       "    </tr>\n",
       "    <tr>\n",
       "      <th>124</th>\n",
       "      <td>no</td>\n",
       "      <td>NaN</td>\n",
       "      <td>nan</td>\n",
       "      <td>0</td>\n",
       "      <td>0</td>\n",
       "      <td>0</td>\n",
       "      <td>0</td>\n",
       "      <td>0</td>\n",
       "      <td>0</td>\n",
       "      <td>&lt;NA&gt;</td>\n",
       "      <td>nan</td>\n",
       "      <td>nan</td>\n",
       "      <td>nan</td>\n",
       "      <td>nan</td>\n",
       "      <td>nan</td>\n",
       "      <td>nan</td>\n",
       "      <td>nan</td>\n",
       "      <td>nan</td>\n",
       "    </tr>\n",
       "  </tbody>\n",
       "</table>\n",
       "<p>125 rows × 18 columns</p>\n",
       "</div>"
      ],
      "text/plain": [
       "    bike_rider zipcode ebike_rider  by_public  by_car  by_bike  by_ebike  \\\n",
       "0           no   92115          no          0       0        0         0   \n",
       "1           no   92129          no          0       1        0         0   \n",
       "2           no   92115         yes          1       0        0         0   \n",
       "3           no   92562          no          0       0        0         0   \n",
       "4          yes   92109          no          0       0        0         0   \n",
       "..         ...     ...         ...        ...     ...      ...       ...   \n",
       "120         no   93117          no          0       0        0         0   \n",
       "121         no     NaN         nan          0       0        0         0   \n",
       "122         no   91748          no          0       0        0         0   \n",
       "123        yes   92119          no          0       0        0         0   \n",
       "124         no     NaN         nan          0       0        0         0   \n",
       "\n",
       "     by_walking  no_commute  miles try_bike ebike_class private_locker  \\\n",
       "0             0           1   <NA>    maybe          no           very   \n",
       "1             0           0   <NA>       no       a bit            nan   \n",
       "2             0           0      1    maybe       a bit           very   \n",
       "3             0           1   <NA>      nan          no            nan   \n",
       "4             0           1   <NA>      nan          no            nan   \n",
       "..          ...         ...    ...      ...         ...            ...   \n",
       "120           0           0   <NA>      nan         nan            nan   \n",
       "121           0           0   <NA>      nan         nan            nan   \n",
       "122           1           0   <NA>      nan         nan            nan   \n",
       "123           0           1      5    maybe       a bit            nan   \n",
       "124           0           0   <NA>      nan         nan            nan   \n",
       "\n",
       "    group_locker locker ebike_rules          safty interested  \n",
       "0           very    nan  don't know       not very         no  \n",
       "1            nan    nan    not very       somewhat         no  \n",
       "2       somewhat    nan  don't know           very        yes  \n",
       "3            nan    nan  don't know  not concerned     may be  \n",
       "4            nan    nan  don't know  not concerned         no  \n",
       "..           ...    ...         ...            ...        ...  \n",
       "120          nan    nan         nan            nan        nan  \n",
       "121          nan    nan         nan            nan        nan  \n",
       "122          nan    nan         nan            nan        nan  \n",
       "123          nan   very    somewhat       somewhat        nan  \n",
       "124          nan    nan         nan            nan        nan  \n",
       "\n",
       "[125 rows x 18 columns]"
      ]
     },
     "execution_count": 16,
     "metadata": {},
     "output_type": "execute_result"
    }
   ],
   "source": [
    "# Save df as quant_df, which is the name of the df that will be used in the analysis\n",
    "quant_df = df\n",
    "quant_df"
   ]
  },
  {
   "cell_type": "markdown",
   "metadata": {},
   "source": [
    "Here's a description of each feature (column) in the quant_df DataFrame:\n",
    "\n",
    "Header | Description\n",
    "-------|------------\n",
    "bike_rider | Are you a bike rider?\n",
    "zipcode | What is your zip code?\n",
    "ebike_rider | Do you or anyone in your family ride an e-bike?\n",
    "by_public | How do you commute - to work, school, or for other purposes? - Answered by public transportaion\n",
    "by_car | How do you commute - to work, school, or for other purposes? - Answered by car\n",
    "by_bike | How do you commute - to work, school, or for other purposes? - Answered by bike\n",
    "by_ebike | How do you commute - to work, school, or for other purposes? - Answered by e bike\n",
    "by_walking | How do you commute - to work, school, or for other purposes? - Answered by walking\n",
    "no_commute | How do you commute - to work, school, or for other purposes? - Answered no need for commute\n",
    "miles | How far (ROUND TRIP) do you commute for any purpose each day?\n",
    "try_bike | Would you commute by e-bike if given the opportunity?\n",
    "ebike_class | Do you know the differences between Class 1, Class 1, and Class 3 e-bikes?\n",
    "private_locker | How comfortable would you be storing your bike in a private bike locker while you are commuting?\n",
    "group_locker | How comfortable would you be storing your bike in a group bike locker while you are commuting?\n",
    "locker | How comfortable would you be storing your bike in a bike locker while you are commuting?\n",
    "ebike_rules | How familiar are you and those in your family with the rules of the road for e-bikes?\n",
    "safty | How concerned are you about e-bikes and e-bike safety in San Diego County?\n",
    "interested | Are you interested in learning more about e-bikes?\n"
   ]
  },
  {
   "cell_type": "markdown",
   "metadata": {},
   "source": [
    "## Part II: Analysis on Numerical and Categorical Features"
   ]
  },
  {
   "cell_type": "markdown",
   "metadata": {},
   "source": [
    "#### Survey Question: Are you a bike rider? | Column: bike_rider"
   ]
  },
  {
   "cell_type": "code",
   "execution_count": 17,
   "metadata": {},
   "outputs": [
    {
     "data": {
      "image/png": "[encoded data removed]",
      "text/plain": [
       "<Figure size 432x288 with 1 Axes>"
      ]
     },
     "metadata": {
      "needs_background": "light"
     },
     "output_type": "display_data"
    },
    {
     "name": "stdout",
     "output_type": "stream",
     "text": [
      "54% of the participants are bike riders\n",
      "46% of the participants are NOT bike riders\n"
     ]
    }
   ],
   "source": [
    "# count number of bike rider and non-bike rider\n",
    "bike_rider_count = quant_df['bike_rider'].value_counts()\n",
    "bike_rider_yes = bike_rider_count[0] + bike_rider_count[2] + bike_rider_count[4]\n",
    "bike_rider_no = bike_rider_count[1] + bike_rider_count[3]\n",
    "\n",
    "# create bar plot\n",
    "x = ['Bike Riders', 'None Bike Riders']\n",
    "y = [bike_rider_yes, bike_rider_no]\n",
    "plt.bar(x, y)\n",
    "\n",
    "# add label to bar plot\n",
    "plt.xlabel('Riders')\n",
    "plt.ylabel('Number of People')\n",
    "plt.title('Number of Bike Riders vs. None Bike Riders')\n",
    "\n",
    "# display the plot\n",
    "plt.show()\n",
    "\n",
    "# show number of bike riders vs. none bike riders\n",
    "bike_percent_yes = round(bike_rider_yes / (bike_rider_yes + bike_rider_no) * 100)\n",
    "bike_percent_no = round(bike_rider_no / (bike_rider_no + bike_rider_yes) * 100)\n",
    "print(f'{bike_percent_yes}% of the participants are bike riders')\n",
    "print(f'{bike_percent_no}% of the participants are NOT bike riders')"
   ]
  },
  {
   "cell_type": "markdown",
   "metadata": {},
   "source": [
    "#### Survey Question: What is your zip code? | Column: zipcode"
   ]
  },
  {
   "cell_type": "code",
   "execution_count": 18,
   "metadata": {},
   "outputs": [],
   "source": [
    "# ENTER CODE HERE\n",
    "..."
   ]
  },
  {
   "cell_type": "markdown",
   "metadata": {},
   "source": [
    "#### Survey Question: Are you a ebike_rider? | Column: ebike_rider"
   ]
  },
  {
   "cell_type": "code",
   "execution_count": 19,
   "metadata": {},
   "outputs": [
    {
     "data": {
      "image/png": "[encoded data removed]",
      "text/plain": [
       "<Figure size 432x288 with 1 Axes>"
      ]
     },
     "metadata": {
      "needs_background": "light"
     },
     "output_type": "display_data"
    },
    {
     "name": "stdout",
     "output_type": "stream",
     "text": [
      "29% of the participants are e-bike riders\n",
      "71% of the participants are NOT e-bike riders\n"
     ]
    }
   ],
   "source": [
    "# count number of ebike rider vs. non-ebike rider\n",
    "ebike_rider_no = quant_df[quant_df['ebike_rider'] == 'no'].shape[0]\n",
    "ebike_rider_yes = quant_df.shape[0] - ebike_rider_no\n",
    "\n",
    "# create bar plot\n",
    "x = ['E-Bike Riders', 'None E-Bike Riders']\n",
    "y = [ebike_rider_yes, ebike_rider_no]\n",
    "plt.bar(x, y)\n",
    "\n",
    "# add label to bar plot\n",
    "plt.xlabel('Riders')\n",
    "plt.ylabel('Number of People')\n",
    "plt.title('Number of E-Bike Riders vs. None E-Bike Riders')\n",
    "\n",
    "# display the plot\n",
    "plt.show()\n",
    "\n",
    "# show number of bike riders vs. none bike riders\n",
    "ebike_percent_yes = round(ebike_rider_yes / (ebike_rider_yes + ebike_rider_no) * 100)\n",
    "ebike_percent_no = round(ebike_rider_no / (ebike_rider_no + ebike_rider_yes) * 100)\n",
    "print(f'{ebike_percent_yes}% of the participants are e-bike riders')\n",
    "print(f'{ebike_percent_no}% of the participants are NOT e-bike riders')"
   ]
  },
  {
   "cell_type": "markdown",
   "metadata": {},
   "source": [
    "#### Survey Question: How do you commute - to work, school, or for other purposes? | Column: by_ ..., no_commute"
   ]
  },
  {
   "cell_type": "code",
   "execution_count": 20,
   "metadata": {},
   "outputs": [
    {
     "data": {
      "image/png": "[encoded data removed]",
      "text/plain": [
       "<Figure size 576x432 with 1 Axes>"
      ]
     },
     "metadata": {
      "needs_background": "light"
     },
     "output_type": "display_data"
    }
   ],
   "source": [
    "# Enter Code Here\n",
    "x_values = ['Public Transportation', 'Car', 'Bike', 'E Bike', 'Walk', 'No Commute']\n",
    "\n",
    "y_values = [df['by_public'].sum(), df['by_car'].sum(),\n",
    "     df['by_bike'].sum(), df['by_ebike'].sum(),\n",
    "     df['by_walking'].sum(), df['no_commute'].sum()]\n",
    "\n",
    "# Plotting the bar graph\n",
    "plt.figure(figsize=(8, 6))\n",
    "sns.barplot(x=x_values, y=y_values)\n",
    "plt.xlabel('Means of Commute')\n",
    "plt.ylabel('Number of People')\n",
    "plt.title('Number of People by Commute Option')\n",
    "plt.show()"
   ]
  },
  {
   "cell_type": "markdown",
   "metadata": {},
   "source": [
    "#### Survey Question: How far (ROUND TRIP) do you commute for any purpose each day? | Column: miles"
   ]
  },
  {
   "cell_type": "code",
   "execution_count": 21,
   "metadata": {},
   "outputs": [
    {
     "data": {
      "image/png": "[encoded data removed]",
      "text/plain": [
       "<Figure size 432x288 with 1 Axes>"
      ]
     },
     "metadata": {
      "needs_background": "light"
     },
     "output_type": "display_data"
    }
   ],
   "source": [
    "# count number of miles\n",
    "miles_count = quant_df['miles'].value_counts()\n",
    "\n",
    "# create bar plot\n",
    "x = miles_count.index\n",
    "y = miles_count.values\n",
    "plt.bar(x, y)\n",
    "\n",
    "# add label to bar plot\n",
    "plt.xlabel('Miles')\n",
    "plt.ylabel('Number of People')\n",
    "plt.title('Number of People by Miles')\n",
    "\n",
    "# display the plot\n",
    "plt.show()"
   ]
  },
  {
   "cell_type": "code",
   "execution_count": 22,
   "metadata": {},
   "outputs": [
    {
     "data": {
      "image/png": "[encoded data removed]",
      "text/plain": [
       "<Figure size 576x432 with 1 Axes>"
      ]
     },
     "metadata": {
      "needs_background": "light"
     },
     "output_type": "display_data"
    }
   ],
   "source": [
    "# count number of miles\n",
    "mile_counts = quant_df['miles'].value_counts(sort = False)\n",
    "\n",
    "# create bar plot\n",
    "fig, ax = plt.subplots(figsize = (8, 6))\n",
    "bars = ax.bar(mile_counts.index, mile_counts.values, color = 'teal')\n",
    "ax.set_xlabel('Miles')\n",
    "ax.set_ylabel('Number of People')\n",
    "ax.set_title('Number of Participants by Miles')\n",
    "\n",
    "# add a vertical line to show the average and median miles\n",
    "ax.grid(axis = 'y', alpha = 0.5)\n",
    "avg_miles = quant_df['miles'].mean()\n",
    "med_miles = quant_df['miles'].median()\n",
    "ax.axvline(x = avg_miles, color = 'orange', linestyle = '--', label = f'Average Miles: {avg_miles:.2f}')\n",
    "ax.axvline(x = med_miles, color = 'green', linestyle = '--', label = f'Median Miles: {med_miles}')\n",
    "ax.set_xticks(range(0, 51, 10))\n",
    "\n",
    "# show the plot\n",
    "ax.legend()\n",
    "plt.show()"
   ]
  },
  {
   "cell_type": "markdown",
   "metadata": {},
   "source": [
    "#### Survey Question: Would you commute by e-bike if given the opportunity? | Column: try_bike"
   ]
  },
  {
   "cell_type": "code",
   "execution_count": 23,
   "metadata": {},
   "outputs": [
    {
     "data": {
      "image/png": "[encoded data removed]",
      "text/plain": [
       "<Figure size 432x288 with 1 Axes>"
      ]
     },
     "metadata": {
      "needs_background": "light"
     },
     "output_type": "display_data"
    }
   ],
   "source": [
    "# Count the number of occurrences of each unique value in the try_bike column\n",
    "try_bike_counts = quant_df['try_bike'].value_counts()\n",
    "\n",
    "# Create a bar plot\n",
    "plt.bar(try_bike_counts.index, try_bike_counts.values)\n",
    "\n",
    "# Set the title and axis labels\n",
    "plt.title('Have you ever tried a bike before?')\n",
    "plt.xlabel('Answer')\n",
    "plt.ylabel('Count')\n",
    "\n",
    "# Show the plot\n",
    "plt.show()"
   ]
  },
  {
   "cell_type": "markdown",
   "metadata": {},
   "source": [
    "#### Survey Question: Do you know the differences between Class 1, Class 1, and Class 3 e-bikes? | Column: ebike_class"
   ]
  },
  {
   "cell_type": "code",
   "execution_count": 24,
   "metadata": {},
   "outputs": [
    {
     "data": {
      "text/plain": [
       "Text(0, 0.5, 'Count')"
      ]
     },
     "execution_count": 24,
     "metadata": {},
     "output_type": "execute_result"
    },
    {
     "data": {
      "image/png": "[encoded data removed]",
      "text/plain": [
       "<Figure size 504x360 with 1 Axes>"
      ]
     },
     "metadata": {
      "needs_background": "light"
     },
     "output_type": "display_data"
    }
   ],
   "source": [
    "# Count the number of occurrences of each unique value in the ebike_class column\n",
    "ebike_class_count = quant_df['ebike_class'].value_counts()\n",
    "\n",
    "# Create a bar graph\n",
    "f, ax = plt.subplots(figsize=(7, 5))\n",
    "sns.despine(f)\n",
    "sns.barplot(x=ebike_class_count.index, y = ebike_class_count.values, palette='magma', order = ['yes', 'a bit', 'no'])\n",
    "\n",
    "# Set title and labels to the graph\n",
    "plt.title('Do you know the differences between Class 1, Class 1, and Class 3 e-bikes?')\n",
    "plt.xlabel('Answer')\n",
    "plt.ylabel('Count')\n"
   ]
  },
  {
   "cell_type": "markdown",
   "metadata": {},
   "source": [
    "#### Survey Question: How comfortable would you be storing your bike in a private bike locker while you are commuting? | Column: private_locker"
   ]
  },
  {
   "cell_type": "code",
   "execution_count": 25,
   "metadata": {},
   "outputs": [
    {
     "data": {
      "image/png": "[encoded data removed]",
      "text/plain": [
       "<Figure size 576x432 with 1 Axes>"
      ]
     },
     "metadata": {
      "needs_background": "light"
     },
     "output_type": "display_data"
    }
   ],
   "source": [
    "# Count the occurrences of each option in the 'private_locker' column\n",
    "private_locker_counts = quant_df['private_locker'].value_counts()\n",
    "\n",
    "# Plotting the bar graph\n",
    "plt.figure(figsize=(8, 6))\n",
    "sns.barplot(x=private_locker_counts.index, y=private_locker_counts.values)\n",
    "plt.xlabel('Private Locker Option')\n",
    "plt.ylabel('Number of People')\n",
    "plt.title('Number of People by Private Locker Option')\n",
    "plt.show()"
   ]
  },
  {
   "cell_type": "markdown",
   "metadata": {},
   "source": [
    "#### Survey Question: How comfortable would you be storing your bike in a group bike locker while you are commuting? | Column: group_locker"
   ]
  },
  {
   "cell_type": "code",
   "execution_count": 26,
   "metadata": {},
   "outputs": [
    {
     "data": {
      "image/png": "[encoded data removed]",
      "text/plain": [
       "<Figure size 576x432 with 1 Axes>"
      ]
     },
     "metadata": {
      "needs_background": "light"
     },
     "output_type": "display_data"
    }
   ],
   "source": [
    "category_order = ['very', 'somewhat', 'not very', 'depends', \"don't know\"]\n",
    "quant_df['group_locker'] = pd.Categorical(quant_df['group_locker'], categories=category_order, ordered=True)\n",
    "group_locker_counts = quant_df['group_locker'].value_counts()\n",
    "plt.figure(figsize=(8, 6))\n",
    "sns.barplot(x=group_locker_counts.index, y=group_locker_counts.values)\n",
    "plt.xlabel('Group Locker Option')\n",
    "plt.ylabel('Number of People')\n",
    "plt.title('Number of People by Group Locker Option')\n",
    "plt.show()"
   ]
  },
  {
   "cell_type": "markdown",
   "metadata": {},
   "source": [
    "#### Survey Question: How familiar are you and those in your family with the rules of the road for e-bikes? | Column: ebike_rules"
   ]
  },
  {
   "cell_type": "code",
   "execution_count": 27,
   "metadata": {},
   "outputs": [
    {
     "data": {
      "image/png": "[encoded data removed]",
      "text/plain": [
       "<Figure size 576x432 with 1 Axes>"
      ]
     },
     "metadata": {
      "needs_background": "light"
     },
     "output_type": "display_data"
    }
   ],
   "source": [
    "order = ['very', 'somewhat', 'not very', \"don't know\"]\n",
    "ebike_rules_counts = quant_df['ebike_rules'].value_counts()\n",
    "plt.figure(figsize=(8, 6))\n",
    "sns.barplot(x=ebike_rules_counts.index, y=ebike_rules_counts.values, order=order)\n",
    "plt.xlabel('Ebike Rules Option')\n",
    "plt.ylabel('Number of People')\n",
    "plt.title('Number of People by Ebike Rules Option')\n",
    "plt.show()"
   ]
  },
  {
   "cell_type": "markdown",
   "metadata": {},
   "source": [
    "#### Survey Question: How concerned are you about e-bikes and e-bike safety in San Diego County? | Column: safty"
   ]
  },
  {
   "cell_type": "code",
   "execution_count": 28,
   "metadata": {},
   "outputs": [
    {
     "data": {
      "image/png": "[encoded data removed]",
      "text/plain": [
       "<Figure size 576x432 with 1 Axes>"
      ]
     },
     "metadata": {
      "needs_background": "light"
     },
     "output_type": "display_data"
    }
   ],
   "source": [
    "order = ['very', 'somewhat', 'not very', 'not concerned', \"don't know\"]\n",
    "safety_counts = quant_df['safty'].value_counts()\n",
    "plt.figure(figsize=(8, 6))\n",
    "sns.barplot(x=safety_counts.index, y=safety_counts.values, order=order)\n",
    "plt.xlabel('Safety Option')\n",
    "plt.ylabel('Number of People')\n",
    "plt.title('Number of People by Safety Option')\n",
    "plt.show()"
   ]
  },
  {
   "cell_type": "markdown",
   "metadata": {},
   "source": [
    "#### Survey Question: Are you interested in learning more about e-bikes? | Column: interested"
   ]
  },
  {
   "cell_type": "code",
   "execution_count": 29,
   "metadata": {},
   "outputs": [
    {
     "data": {
      "text/plain": [
       "Text(0, 0.5, 'Count')"
      ]
     },
     "execution_count": 29,
     "metadata": {},
     "output_type": "execute_result"
    },
    {
     "data": {
      "image/png": "[encoded data removed]",
      "text/plain": [
       "<Figure size 504x360 with 1 Axes>"
      ]
     },
     "metadata": {
      "needs_background": "light"
     },
     "output_type": "display_data"
    }
   ],
   "source": [
    "# Fix typo and category in answers\n",
    "quant_df['interested'] = quant_df['interested'].str.strip()\n",
    "quant_df['interested'] = quant_df['interested'].str.replace('may be', 'maybe')\n",
    "quant_df['interested'] = quant_df['interested'].str.replace('already know', 'yes')\n",
    "quant_df['interested'] = quant_df['interested'].str.replace('knows enough', 'yes')\n",
    "\n",
    "# Count the number of occurrences of each unique value in the interested column\n",
    "interested_count = quant_df['interested'].value_counts()\n",
    "\n",
    "f, ax = plt.subplots(figsize=(7, 5))\n",
    "sns.despine(f)\n",
    "sns.barplot(x=interested_count.index, y = interested_count.values, palette='magma', order = ['yes', 'maybe', 'no'])\n",
    "\n",
    "# Set title and labels to the graph\n",
    "plt.title('Are you interested in learning more about e-bikes?')\n",
    "plt.xlabel('Answer')\n",
    "plt.ylabel('Count')"
   ]
  },
  {
   "cell_type": "markdown",
   "metadata": {},
   "source": [
    "## Part III: Correlation Analysis"
   ]
  },
  {
   "cell_type": "markdown",
   "metadata": {},
   "source": [
    "### bike_rider vs. ibike_rider, persentage show by text"
   ]
  },
  {
   "cell_type": "code",
   "execution_count": 30,
   "metadata": {},
   "outputs": [
    {
     "data": {
      "image/png": "[encoded data removed]",
      "text/plain": [
       "<Figure size 432x432 with 2 Axes>"
      ]
     },
     "metadata": {
      "needs_background": "light"
     },
     "output_type": "display_data"
    }
   ],
   "source": [
    "correlation = quant_df['bike_rider'].eq('yes').astype(int).corr(quant_df['ebike_rider'].eq('yes').astype(int))\n",
    "\n",
    "yes_yes_count = quant_df[(quant_df['bike_rider'] == 'yes') & (quant_df['ebike_rider'] == 'yes')].shape[0]\n",
    "yes_no_count = quant_df[(quant_df['bike_rider'] == 'yes') & (quant_df['ebike_rider'] == 'no')].shape[0]\n",
    "no_yes_count = quant_df[(quant_df['bike_rider'] == 'no') & (quant_df['ebike_rider'] == 'yes')].shape[0]\n",
    "no_no_count = quant_df[(quant_df['bike_rider'] == 'no') & (quant_df['ebike_rider'] == 'no')].shape[0]\n",
    "\n",
    "total_count = len(quant_df)\n",
    "\n",
    "yes_yes_percent = round((yes_yes_count / total_count) * 100, 2)\n",
    "yes_no_percent = round((yes_no_count / total_count) * 100, 2)\n",
    "no_yes_percent = round((no_yes_count / total_count) * 100, 2)\n",
    "no_no_percent = round((no_no_count / total_count) * 100, 2)\n",
    "\n",
    "data = [[yes_yes_percent, yes_no_percent], [no_yes_percent, no_no_percent]]\n",
    "\n",
    "fig, ax = plt.subplots(figsize=(6, 6))\n",
    "sns.heatmap(data, cmap='YlOrBr', annot=True, fmt=\".2f\", cbar=True, linewidths=0.5)\n",
    "\n",
    "ax.set_xticklabels(['ebike_rider: Yes', 'ebike_rider: No'])\n",
    "ax.set_yticklabels(['bike_rider: Yes', 'bike_rider: No'])\n",
    "\n",
    "ax.set_xlabel('ebike_rider')\n",
    "ax.set_ylabel('bike_rider')\n",
    "ax.set_title('Percentage of Participants')\n",
    "\n",
    "plt.tight_layout()\n",
    "plt.show()"
   ]
  },
  {
   "cell_type": "markdown",
   "metadata": {},
   "source": [
    "### bike rider vs. miles, bar graph"
   ]
  },
  {
   "cell_type": "code",
   "execution_count": null,
   "metadata": {},
   "outputs": [],
   "source": []
  },
  {
   "cell_type": "code",
   "execution_count": 31,
   "metadata": {},
   "outputs": [
    {
     "data": {
      "image/png": "[encoded data removed]",
      "text/plain": [
       "<Figure size 432x288 with 1 Axes>"
      ]
     },
     "metadata": {
      "needs_background": "light"
     },
     "output_type": "display_data"
    }
   ],
   "source": [
    "quant_df_cleaned = quant_df[(quant_df['bike_rider'] == 'yes') | (quant_df['bike_rider'] == 'no')]\n",
    "\n",
    "mean_miles_yes = quant_df_cleaned[quant_df_cleaned['bike_rider'] == 'yes']['miles'].mean()\n",
    "mean_miles_no = quant_df_cleaned[quant_df_cleaned['bike_rider'] == 'no']['miles'].mean()\n",
    "\n",
    "dot_counts = quant_df_cleaned['bike_rider'].value_counts()\n",
    "\n",
    "color_palette = ['blue', 'green']  # Add your desired colors here\n",
    "\n",
    "bars = plt.bar(dot_counts.index, dot_counts.values, color=color_palette)\n",
    "\n",
    "median_miles_yes = quant_df_cleaned[quant_df_cleaned['bike_rider'] == 'yes']['miles'].median()\n",
    "median_miles_no = quant_df_cleaned[quant_df_cleaned['bike_rider'] == 'no']['miles'].median()\n",
    "\n",
    "plt.axvline(median_miles_yes, color=color_palette[0], linestyle='--', label=f'Median Mile (Yes): {median_miles_yes:.2f}')\n",
    "plt.axvline(median_miles_no, color=color_palette[1], linestyle='--', label=f'Median Mile (No): {median_miles_no:.2f}')\n",
    "\n",
    "plt.axvline(mean_miles_yes, color=color_palette[0], linestyle='-', label=f'Mean Mile (Yes): {mean_miles_yes:.2f}')\n",
    "plt.axvline(mean_miles_no, color=color_palette[1], linestyle='-', label=f'Mean Mile (No): {mean_miles_no:.2f}')\n",
    "\n",
    "plt.xlabel('Miles')\n",
    "plt.ylabel('Number of Participants')\n",
    "plt.title('Correlation between Bike Rider and Miles')\n",
    "\n",
    "legend_handles = [plt.bar([], [], color=color, label=f'Bike Rider ({response})')\n",
    "                  for color, response in zip(color_palette, quant_df_cleaned['bike_rider'].unique())]\n",
    "\n",
    "for handle, label in zip(legend_handles, ['Bike Rider (Yes)', 'Bike Rider (No)']):\n",
    "    handle.set_label(label)\n",
    "\n",
    "plt.legend(handles=legend_handles)\n",
    "plt.show()"
   ]
  },
  {
   "cell_type": "markdown",
   "metadata": {},
   "source": [
    "### ebike_rules vs. safety, persentage by text"
   ]
  },
  {
   "cell_type": "code",
   "execution_count": 32,
   "metadata": {},
   "outputs": [
    {
     "data": {
      "image/png": "[encoded data removed]",
      "text/plain": [
       "<Figure size 576x432 with 2 Axes>"
      ]
     },
     "metadata": {
      "needs_background": "light"
     },
     "output_type": "display_data"
    }
   ],
   "source": [
    "ebike_rules_categories = ['very', 'somewhat', 'not very', \"don't know\"]\n",
    "safety_categories = ['very', 'somewhat', 'not very', 'not concerned', \"don't know\"]\n",
    "\n",
    "percentages = []\n",
    "for ebike_rule in ebike_rules_categories:\n",
    "    row = []\n",
    "    for safety in safety_categories:\n",
    "        count = quant_df[(quant_df['ebike_rules'] == ebike_rule) & (quant_df['safty'] == safety)].shape[0]\n",
    "        percent = round((count / total_count) * 100, 2)\n",
    "        row.append(percent)\n",
    "    percentages.append(row)\n",
    "\n",
    "data = percentages\n",
    "\n",
    "fig, ax = plt.subplots(figsize=(8, 6))\n",
    "sns.heatmap(data, cmap='YlOrBr', annot=True, fmt=\".2f\", cbar=True, linewidths=0.5)\n",
    "\n",
    "ax.set_xticklabels(safety_categories)\n",
    "ax.set_yticklabels(ebike_rules_categories)\n",
    "\n",
    "ax.set_xlabel('Safety')\n",
    "ax.set_ylabel('ebike_rules')\n",
    "ax.set_title('Percentage of Participants')\n",
    "\n",
    "plt.tight_layout()\n",
    "plt.show()"
   ]
  },
  {
   "cell_type": "markdown",
   "metadata": {},
   "source": [
    "### ebike_rules vs. safety, persentage by heatmap"
   ]
  },
  {
   "cell_type": "code",
   "execution_count": 33,
   "metadata": {},
   "outputs": [
    {
     "data": {
      "image/png": "[encoded data removed]",
      "text/plain": [
       "<Figure size 576x432 with 2 Axes>"
      ]
     },
     "metadata": {
      "needs_background": "light"
     },
     "output_type": "display_data"
    }
   ],
   "source": [
    "#heatmap\n",
    "import matplotlib.patheffects as path_effects\n",
    "safety_categories = ['very', 'somewhat', 'not very', 'not concerned', \"don't know\"]\n",
    "ebike_rules_categories = ['very', 'somewhat', 'not very', \"don't know\"]\n",
    "\n",
    "percentages = []\n",
    "for safety in safety_categories:\n",
    "    row = []\n",
    "    for ebike_rule in ebike_rules_categories:\n",
    "        count = quant_df[(quant_df['safty'] == safety) & (quant_df['ebike_rules'] == ebike_rule)].shape[0]\n",
    "        percentage = (count / total_count) * 100\n",
    "        row.append(percentage)\n",
    "    percentages.append(row)\n",
    "\n",
    "percentages = np.array(percentages)\n",
    "\n",
    "fig, ax = plt.subplots(figsize=(8, 6))\n",
    "sns.heatmap(percentages, cmap='YlOrBr', annot=True, fmt=\".1f\", cbar=True, linewidths=0.5)\n",
    "\n",
    "ax.set_xticks(np.arange(len(ebike_rules_categories)))\n",
    "ax.set_yticks(np.arange(len(safety_categories)))\n",
    "ax.set_xticklabels(ebike_rules_categories)\n",
    "ax.set_yticklabels(safety_categories)\n",
    "\n",
    "ax.set_xlabel('eBike Rules')\n",
    "ax.set_ylabel('Safety Response')\n",
    "ax.set_title('Percentage of Safety Responses by eBike Rules')\n",
    "\n",
    "plt.tight_layout()\n",
    "plt.show()"
   ]
  },
  {
   "cell_type": "markdown",
   "metadata": {},
   "source": [
    "### private_locker vs. group_locker, persentage by heatmap"
   ]
  },
  {
   "cell_type": "code",
   "execution_count": 34,
   "metadata": {},
   "outputs": [
    {
     "data": {
      "image/png": "[encoded data removed]",
      "text/plain": [
       "<Figure size 576x432 with 2 Axes>"
      ]
     },
     "metadata": {
      "needs_background": "light"
     },
     "output_type": "display_data"
    }
   ],
   "source": [
    "#heatmap\n",
    "import seaborn as sns\n",
    "\n",
    "private_locker_categories = ['very', 'somewhat', 'not very', \"don't know\"]\n",
    "group_locker_categories = ['very', 'somewhat', 'not very', 'depends', \"don't know\"]\n",
    "\n",
    "percentages = []\n",
    "for private_locker in private_locker_categories:\n",
    "    row = []\n",
    "    for group_locker in group_locker_categories:\n",
    "        count = quant_df[(quant_df['private_locker'] == private_locker) & (quant_df['group_locker'] == group_locker)].shape[0]\n",
    "        percentage = (count / total_count) * 100\n",
    "        row.append(percentage)\n",
    "    percentages.append(row)\n",
    "\n",
    "percentages = np.array(percentages)\n",
    "fig, ax = plt.subplots(figsize=(8, 6))\n",
    "sns.heatmap(percentages, cmap='YlOrBr', annot=True, fmt=\".1f\", cbar=True, linewidths=0.5)\n",
    "\n",
    "ax.set_xticks(np.arange(len(group_locker_categories)) + 0.5)\n",
    "ax.set_yticks(np.arange(len(private_locker_categories)) + 0.5)\n",
    "ax.set_xticklabels(group_locker_categories)\n",
    "ax.set_yticklabels(private_locker_categories)\n",
    "\n",
    "plt.setp(ax.get_xticklabels(), rotation=45, ha='right', rotation_mode='anchor')\n",
    "\n",
    "ax.set_xlabel('Group Locker')\n",
    "ax.set_ylabel('Private Locker')\n",
    "ax.set_title('Percentage of Private Locker vs Group Locker')\n",
    "\n",
    "plt.tight_layout()\n",
    "plt.show()"
   ]
  },
  {
   "cell_type": "code",
   "execution_count": null,
   "metadata": {},
   "outputs": [],
   "source": []
  }
 ],
 "metadata": {
  "kernelspec": {
   "display_name": "Python 3",
   "language": "python",
   "name": "python3"
  },
  "language_info": {
   "codemirror_mode": {
    "name": "ipython",
    "version": 3
   },
   "file_extension": ".py",
   "mimetype": "text/x-python",
   "name": "python",
   "nbconvert_exporter": "python",
   "pygments_lexer": "ipython3",
   "version": "3.8.5"
  }
 },
 "nbformat": 4,
 "nbformat_minor": 4
}

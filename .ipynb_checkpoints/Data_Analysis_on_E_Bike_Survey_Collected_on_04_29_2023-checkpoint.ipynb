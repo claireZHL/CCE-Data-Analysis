{
 "cells": [
  {
   "cell_type": "code",
   "execution_count": 1,
   "metadata": {},
   "outputs": [],
   "source": [
    "# Import Packages\n",
    "import pandas as pd\n",
    "import numpy as np\n",
    "import seaborn as sns\n",
    "import matplotlib.pyplot as plt"
   ]
  },
  {
   "cell_type": "markdown",
   "metadata": {},
   "source": [
    "# Center For Community Service\n",
    "#### Project: Data Analysis on E-bike Survey Collected on 04/29/2023"
   ]
  },
  {
   "cell_type": "markdown",
   "metadata": {},
   "source": [
    "## Part I: Data Cleaning"
   ]
  },
  {
   "cell_type": "code",
   "execution_count": 2,
   "metadata": {},
   "outputs": [
    {
     "data": {
      "text/html": [
       "<div>\n",
       "<style scoped>\n",
       "    .dataframe tbody tr th:only-of-type {\n",
       "        vertical-align: middle;\n",
       "    }\n",
       "\n",
       "    .dataframe tbody tr th {\n",
       "        vertical-align: top;\n",
       "    }\n",
       "\n",
       "    .dataframe thead th {\n",
       "        text-align: right;\n",
       "    }\n",
       "</style>\n",
       "<table border=\"1\" class=\"dataframe\">\n",
       "  <thead>\n",
       "    <tr style=\"text-align: right;\">\n",
       "      <th></th>\n",
       "      <th>Timestamp</th>\n",
       "      <th>Who took this survey (initials)</th>\n",
       "      <th>Are you a bike rider?</th>\n",
       "      <th>What is your zip code?</th>\n",
       "      <th>Do you or anyone in your family ride an e-bike?</th>\n",
       "      <th>How do you commute - to work, school, or for other purposes?</th>\n",
       "      <th>How far (ROUND TRIP) do you commute for any purpose each day?</th>\n",
       "      <th>Would you commute by e-bike if given the opportunity?</th>\n",
       "      <th>Do you know the differences between Class 1, Class 1, and Class 3 e-bikes?</th>\n",
       "      <th>How comfortable would you be storing your bike in a bike locker while you are commuting? -- secure private locker like this:</th>\n",
       "      <th>How comfortable would you be storing your bike in a bike locker while you are commuting? -- group locker like this:</th>\n",
       "      <th>How familiar are you and those in your family with the rules of the road for e-bikes?</th>\n",
       "      <th>How concerned are you about e-bikes and e-bike safety in San Diego County?</th>\n",
       "      <th>Are you interested in learning more about e-bikes?</th>\n",
       "      <th>Any additional comments?</th>\n",
       "      <th>Who's survey is this?</th>\n",
       "      <th>Unnamed: 16</th>\n",
       "    </tr>\n",
       "  </thead>\n",
       "  <tbody>\n",
       "    <tr>\n",
       "      <th>0</th>\n",
       "      <td>April 29, 2023</td>\n",
       "      <td>JTB</td>\n",
       "      <td>No</td>\n",
       "      <td>92115.0</td>\n",
       "      <td>No</td>\n",
       "      <td>I do not commute</td>\n",
       "      <td>NaN</td>\n",
       "      <td>Maybe</td>\n",
       "      <td>No</td>\n",
       "      <td>Very</td>\n",
       "      <td>Very</td>\n",
       "      <td>Don't know</td>\n",
       "      <td>Not very</td>\n",
       "      <td>No</td>\n",
       "      <td>NaN</td>\n",
       "      <td>carsonator0898@gmail.com</td>\n",
       "      <td>NaN</td>\n",
       "    </tr>\n",
       "    <tr>\n",
       "      <th>1</th>\n",
       "      <td>April 29, 2023</td>\n",
       "      <td>JTB</td>\n",
       "      <td>No</td>\n",
       "      <td>92129.0</td>\n",
       "      <td>No</td>\n",
       "      <td>Car</td>\n",
       "      <td>No</td>\n",
       "      <td>No</td>\n",
       "      <td>A bit</td>\n",
       "      <td>NaN</td>\n",
       "      <td>NaN</td>\n",
       "      <td>Not very</td>\n",
       "      <td>somewhat</td>\n",
       "      <td>No</td>\n",
       "      <td>NaN</td>\n",
       "      <td>NaN</td>\n",
       "      <td>NaN</td>\n",
       "    </tr>\n",
       "    <tr>\n",
       "      <th>2</th>\n",
       "      <td>April 29, 2023</td>\n",
       "      <td>JTB</td>\n",
       "      <td>No</td>\n",
       "      <td>92115.0</td>\n",
       "      <td>Dad</td>\n",
       "      <td>Public transportation</td>\n",
       "      <td>1 mile</td>\n",
       "      <td>Maybe</td>\n",
       "      <td>A bit</td>\n",
       "      <td>Very</td>\n",
       "      <td>somewhat</td>\n",
       "      <td>Don't know</td>\n",
       "      <td>Very</td>\n",
       "      <td>Yes</td>\n",
       "      <td>NaN</td>\n",
       "      <td>risela.delosangles@gmail.com</td>\n",
       "      <td>NaN</td>\n",
       "    </tr>\n",
       "    <tr>\n",
       "      <th>3</th>\n",
       "      <td>April 29, 2023</td>\n",
       "      <td>JTB</td>\n",
       "      <td>No</td>\n",
       "      <td>92562.0</td>\n",
       "      <td>No</td>\n",
       "      <td>I do not commute</td>\n",
       "      <td>NaN</td>\n",
       "      <td>NaN</td>\n",
       "      <td>No</td>\n",
       "      <td>NaN</td>\n",
       "      <td>NaN</td>\n",
       "      <td>Don't know</td>\n",
       "      <td>Not concerned</td>\n",
       "      <td>May be</td>\n",
       "      <td>NaN</td>\n",
       "      <td>NaN</td>\n",
       "      <td>NaN</td>\n",
       "    </tr>\n",
       "    <tr>\n",
       "      <th>4</th>\n",
       "      <td>April 29, 2023</td>\n",
       "      <td>JTB</td>\n",
       "      <td>Yes</td>\n",
       "      <td>92109.0</td>\n",
       "      <td>No</td>\n",
       "      <td>I do not commute</td>\n",
       "      <td>NaN</td>\n",
       "      <td>NaN</td>\n",
       "      <td>No</td>\n",
       "      <td>NaN</td>\n",
       "      <td>NaN</td>\n",
       "      <td>Don't know</td>\n",
       "      <td>Not concerned</td>\n",
       "      <td>No</td>\n",
       "      <td>NaN</td>\n",
       "      <td>NaN</td>\n",
       "      <td>NaN</td>\n",
       "    </tr>\n",
       "  </tbody>\n",
       "</table>\n",
       "</div>"
      ],
      "text/plain": [
       "        Timestamp Who took this survey (initials) Are you a bike rider?  \\\n",
       "0  April 29, 2023                             JTB                    No   \n",
       "1  April 29, 2023                             JTB                    No   \n",
       "2  April 29, 2023                             JTB                    No   \n",
       "3  April 29, 2023                             JTB                    No   \n",
       "4  April 29, 2023                             JTB                   Yes   \n",
       "\n",
       "   What is your zip code? Do you or anyone in your family ride an e-bike?  \\\n",
       "0                 92115.0                                              No   \n",
       "1                 92129.0                                              No   \n",
       "2                 92115.0                                             Dad   \n",
       "3                 92562.0                                              No   \n",
       "4                 92109.0                                              No   \n",
       "\n",
       "  How do you commute - to work, school, or for other purposes?  \\\n",
       "0                                   I do not commute             \n",
       "1                                                Car             \n",
       "2                              Public transportation             \n",
       "3                                   I do not commute             \n",
       "4                                   I do not commute             \n",
       "\n",
       "  How far (ROUND TRIP) do you commute for any purpose each day?  \\\n",
       "0                                                NaN              \n",
       "1                                                 No              \n",
       "2                                             1 mile              \n",
       "3                                                NaN              \n",
       "4                                                NaN              \n",
       "\n",
       "  Would you commute by e-bike if given the opportunity?  \\\n",
       "0                                              Maybe      \n",
       "1                                                 No      \n",
       "2                                              Maybe      \n",
       "3                                                NaN      \n",
       "4                                                NaN      \n",
       "\n",
       "  Do you know the differences between Class 1, Class 1, and Class 3 e-bikes?  \\\n",
       "0                                                 No                           \n",
       "1                                              A bit                           \n",
       "2                                              A bit                           \n",
       "3                                                 No                           \n",
       "4                                                 No                           \n",
       "\n",
       "  How comfortable would you be storing your bike in a bike locker while you are commuting? -- secure private locker like this:  \\\n",
       "0                                               Very                                                                             \n",
       "1                                                NaN                                                                             \n",
       "2                                               Very                                                                             \n",
       "3                                                NaN                                                                             \n",
       "4                                                NaN                                                                             \n",
       "\n",
       "  How comfortable would you be storing your bike in a bike locker while you are commuting? -- group locker like this:  \\\n",
       "0                                               Very                                                                    \n",
       "1                                                NaN                                                                    \n",
       "2                                           somewhat                                                                    \n",
       "3                                                NaN                                                                    \n",
       "4                                                NaN                                                                    \n",
       "\n",
       "  How familiar are you and those in your family with the rules of the road for e-bikes?  \\\n",
       "0                                         Don't know                                      \n",
       "1                                           Not very                                      \n",
       "2                                         Don't know                                      \n",
       "3                                         Don't know                                      \n",
       "4                                         Don't know                                      \n",
       "\n",
       "  How concerned are you about e-bikes and e-bike safety in San Diego County?  \\\n",
       "0                                           Not very                           \n",
       "1                                           somewhat                           \n",
       "2                                               Very                           \n",
       "3                                      Not concerned                           \n",
       "4                                      Not concerned                           \n",
       "\n",
       "  Are you interested in learning more about e-bikes? Any additional comments?  \\\n",
       "0                                                 No                      NaN   \n",
       "1                                                 No                      NaN   \n",
       "2                                                Yes                      NaN   \n",
       "3                                             May be                      NaN   \n",
       "4                                                 No                      NaN   \n",
       "\n",
       "          Who's survey is this? Unnamed: 16  \n",
       "0      carsonator0898@gmail.com         NaN  \n",
       "1                           NaN         NaN  \n",
       "2  risela.delosangles@gmail.com         NaN  \n",
       "3                           NaN         NaN  \n",
       "4                           NaN         NaN  "
      ]
     },
     "execution_count": 2,
     "metadata": {},
     "output_type": "execute_result"
    }
   ],
   "source": [
    "# Read survey data from the csv file\n",
    "df = pd.read_csv(\"4.29.2023_Survey_Results.csv\")\n",
    "df.head()"
   ]
  },
  {
   "cell_type": "code",
   "execution_count": 3,
   "metadata": {},
   "outputs": [
    {
     "data": {
      "text/plain": [
       "(65, 17)"
      ]
     },
     "execution_count": 3,
     "metadata": {},
     "output_type": "execute_result"
    }
   ],
   "source": [
    "df.shape"
   ]
  },
  {
   "cell_type": "code",
   "execution_count": 4,
   "metadata": {
    "scrolled": true
   },
   "outputs": [
    {
     "data": {
      "text/html": [
       "<div>\n",
       "<style scoped>\n",
       "    .dataframe tbody tr th:only-of-type {\n",
       "        vertical-align: middle;\n",
       "    }\n",
       "\n",
       "    .dataframe tbody tr th {\n",
       "        vertical-align: top;\n",
       "    }\n",
       "\n",
       "    .dataframe thead th {\n",
       "        text-align: right;\n",
       "    }\n",
       "</style>\n",
       "<table border=\"1\" class=\"dataframe\">\n",
       "  <thead>\n",
       "    <tr style=\"text-align: right;\">\n",
       "      <th></th>\n",
       "      <th>bike_rider</th>\n",
       "      <th>zipcode</th>\n",
       "      <th>ebike_rider</th>\n",
       "      <th>commute_purpose</th>\n",
       "      <th>miles</th>\n",
       "      <th>try_bike</th>\n",
       "      <th>ebike_class</th>\n",
       "      <th>private_locker</th>\n",
       "      <th>group_locker</th>\n",
       "      <th>ebike_rules</th>\n",
       "      <th>safty</th>\n",
       "      <th>interested</th>\n",
       "    </tr>\n",
       "  </thead>\n",
       "  <tbody>\n",
       "    <tr>\n",
       "      <th>0</th>\n",
       "      <td>No</td>\n",
       "      <td>92115.0</td>\n",
       "      <td>No</td>\n",
       "      <td>I do not commute</td>\n",
       "      <td>NaN</td>\n",
       "      <td>Maybe</td>\n",
       "      <td>No</td>\n",
       "      <td>Very</td>\n",
       "      <td>Very</td>\n",
       "      <td>Don't know</td>\n",
       "      <td>Not very</td>\n",
       "      <td>No</td>\n",
       "    </tr>\n",
       "    <tr>\n",
       "      <th>1</th>\n",
       "      <td>No</td>\n",
       "      <td>92129.0</td>\n",
       "      <td>No</td>\n",
       "      <td>Car</td>\n",
       "      <td>No</td>\n",
       "      <td>No</td>\n",
       "      <td>A bit</td>\n",
       "      <td>NaN</td>\n",
       "      <td>NaN</td>\n",
       "      <td>Not very</td>\n",
       "      <td>somewhat</td>\n",
       "      <td>No</td>\n",
       "    </tr>\n",
       "    <tr>\n",
       "      <th>2</th>\n",
       "      <td>No</td>\n",
       "      <td>92115.0</td>\n",
       "      <td>Dad</td>\n",
       "      <td>Public transportation</td>\n",
       "      <td>1 mile</td>\n",
       "      <td>Maybe</td>\n",
       "      <td>A bit</td>\n",
       "      <td>Very</td>\n",
       "      <td>somewhat</td>\n",
       "      <td>Don't know</td>\n",
       "      <td>Very</td>\n",
       "      <td>Yes</td>\n",
       "    </tr>\n",
       "    <tr>\n",
       "      <th>3</th>\n",
       "      <td>No</td>\n",
       "      <td>92562.0</td>\n",
       "      <td>No</td>\n",
       "      <td>I do not commute</td>\n",
       "      <td>NaN</td>\n",
       "      <td>NaN</td>\n",
       "      <td>No</td>\n",
       "      <td>NaN</td>\n",
       "      <td>NaN</td>\n",
       "      <td>Don't know</td>\n",
       "      <td>Not concerned</td>\n",
       "      <td>May be</td>\n",
       "    </tr>\n",
       "    <tr>\n",
       "      <th>4</th>\n",
       "      <td>Yes</td>\n",
       "      <td>92109.0</td>\n",
       "      <td>No</td>\n",
       "      <td>I do not commute</td>\n",
       "      <td>NaN</td>\n",
       "      <td>NaN</td>\n",
       "      <td>No</td>\n",
       "      <td>NaN</td>\n",
       "      <td>NaN</td>\n",
       "      <td>Don't know</td>\n",
       "      <td>Not concerned</td>\n",
       "      <td>No</td>\n",
       "    </tr>\n",
       "  </tbody>\n",
       "</table>\n",
       "</div>"
      ],
      "text/plain": [
       "  bike_rider  zipcode ebike_rider        commute_purpose   miles try_bike  \\\n",
       "0         No  92115.0          No       I do not commute     NaN    Maybe   \n",
       "1         No  92129.0          No                    Car      No       No   \n",
       "2         No  92115.0         Dad  Public transportation  1 mile    Maybe   \n",
       "3         No  92562.0          No       I do not commute     NaN      NaN   \n",
       "4        Yes  92109.0          No       I do not commute     NaN      NaN   \n",
       "\n",
       "  ebike_class private_locker group_locker ebike_rules          safty  \\\n",
       "0          No           Very         Very  Don't know       Not very   \n",
       "1       A bit            NaN          NaN    Not very       somewhat   \n",
       "2       A bit           Very     somewhat  Don't know           Very   \n",
       "3          No            NaN          NaN  Don't know  Not concerned   \n",
       "4          No            NaN          NaN  Don't know  Not concerned   \n",
       "\n",
       "  interested  \n",
       "0         No  \n",
       "1         No  \n",
       "2        Yes  \n",
       "3     May be  \n",
       "4         No  "
      ]
     },
     "execution_count": 4,
     "metadata": {},
     "output_type": "execute_result"
    }
   ],
   "source": [
    "# Keep numerical and binary columns\n",
    "quant_df = df.drop(\"Who took this survey (initials)\", axis=1)\n",
    "quant_df.drop(\"Any additional comments?\", axis=1, inplace=True)\n",
    "quant_df.drop(\"Who's survey is this?\", axis=1, inplace=True)\n",
    "quant_df.drop(\"Timestamp\", axis=1, inplace=True)\n",
    "quant_df.drop(\"Unnamed: 16\", axis=1, inplace=True)\n",
    "\n",
    "# Change headers\n",
    "quant_df.columns = ['bike_rider', 'zipcode', 'ebike_rider', 'commute_purpose',\n",
    "                   'miles', 'try_bike', 'ebike_class', 'private_locker', 'group_locker',\n",
    "                   'ebike_rules', 'safty', 'interested']\n",
    "\n",
    "quant_df.head()"
   ]
  },
  {
   "cell_type": "code",
   "execution_count": 5,
   "metadata": {},
   "outputs": [
    {
     "data": {
      "text/plain": [
       "(65, 12)"
      ]
     },
     "execution_count": 5,
     "metadata": {},
     "output_type": "execute_result"
    }
   ],
   "source": [
    "quant_df.shape"
   ]
  },
  {
   "cell_type": "markdown",
   "metadata": {},
   "source": [
    "Here's a description of each feature (column) in the quant_df DataFrame:\n",
    "\n",
    "Header | Description\n",
    "-------|------------\n",
    "bike_rider | Are you a bike rider?\n",
    "zipcode | What is your zip code?\n",
    "ebike_rider | Do you or anyone in your family ride an e-bike?\n",
    "commute_purpose | How do you commute - to work, school, or for other purposes?\n",
    "miles | How far (ROUND TRIP) do you commute for any purpose each day?\n",
    "try_bike | Would you commute by e-bike if given the opportunity?\n",
    "ebike_class | Do you know the differences between Class 1, Class 1, and Class 3 e-bikes?\n",
    "private_locker | How comfortable would you be storing your bike in a private bike locker while you are commuting?\n",
    "group_locker | How comfortable would you be storing your bike in a group bike locker while you are commuting?\n",
    "ebike_rules | How familiar are you and those in your family with the rules of the road for e-bikes?\n",
    "safty | How concerned are you about e-bikes and e-bike safety in San Diego County?\n",
    "interested | Are you interested in learning more about e-bikes?\n"
   ]
  },
  {
   "cell_type": "code",
   "execution_count": 6,
   "metadata": {},
   "outputs": [
    {
     "data": {
      "text/html": [
       "<div>\n",
       "<style scoped>\n",
       "    .dataframe tbody tr th:only-of-type {\n",
       "        vertical-align: middle;\n",
       "    }\n",
       "\n",
       "    .dataframe tbody tr th {\n",
       "        vertical-align: top;\n",
       "    }\n",
       "\n",
       "    .dataframe thead th {\n",
       "        text-align: right;\n",
       "    }\n",
       "</style>\n",
       "<table border=\"1\" class=\"dataframe\">\n",
       "  <thead>\n",
       "    <tr style=\"text-align: right;\">\n",
       "      <th></th>\n",
       "      <th>bike_rider</th>\n",
       "      <th>zipcode</th>\n",
       "      <th>ebike_rider</th>\n",
       "      <th>commute_purpose</th>\n",
       "      <th>miles</th>\n",
       "      <th>try_bike</th>\n",
       "      <th>ebike_class</th>\n",
       "      <th>private_locker</th>\n",
       "      <th>group_locker</th>\n",
       "      <th>ebike_rules</th>\n",
       "      <th>safty</th>\n",
       "      <th>interested</th>\n",
       "    </tr>\n",
       "  </thead>\n",
       "  <tbody>\n",
       "    <tr>\n",
       "      <th>0</th>\n",
       "      <td>no</td>\n",
       "      <td>92115.0</td>\n",
       "      <td>no</td>\n",
       "      <td>i do not commute</td>\n",
       "      <td>NaN</td>\n",
       "      <td>maybe</td>\n",
       "      <td>no</td>\n",
       "      <td>very</td>\n",
       "      <td>very</td>\n",
       "      <td>don't know</td>\n",
       "      <td>not very</td>\n",
       "      <td>no</td>\n",
       "    </tr>\n",
       "    <tr>\n",
       "      <th>1</th>\n",
       "      <td>no</td>\n",
       "      <td>92129.0</td>\n",
       "      <td>no</td>\n",
       "      <td>car</td>\n",
       "      <td>no</td>\n",
       "      <td>no</td>\n",
       "      <td>a bit</td>\n",
       "      <td>NaN</td>\n",
       "      <td>NaN</td>\n",
       "      <td>not very</td>\n",
       "      <td>somewhat</td>\n",
       "      <td>no</td>\n",
       "    </tr>\n",
       "    <tr>\n",
       "      <th>2</th>\n",
       "      <td>no</td>\n",
       "      <td>92115.0</td>\n",
       "      <td>dad</td>\n",
       "      <td>public transportation</td>\n",
       "      <td>1 mile</td>\n",
       "      <td>maybe</td>\n",
       "      <td>a bit</td>\n",
       "      <td>very</td>\n",
       "      <td>somewhat</td>\n",
       "      <td>don't know</td>\n",
       "      <td>very</td>\n",
       "      <td>yes</td>\n",
       "    </tr>\n",
       "    <tr>\n",
       "      <th>3</th>\n",
       "      <td>no</td>\n",
       "      <td>92562.0</td>\n",
       "      <td>no</td>\n",
       "      <td>i do not commute</td>\n",
       "      <td>NaN</td>\n",
       "      <td>NaN</td>\n",
       "      <td>no</td>\n",
       "      <td>NaN</td>\n",
       "      <td>NaN</td>\n",
       "      <td>don't know</td>\n",
       "      <td>not concerned</td>\n",
       "      <td>may be</td>\n",
       "    </tr>\n",
       "    <tr>\n",
       "      <th>4</th>\n",
       "      <td>yes</td>\n",
       "      <td>92109.0</td>\n",
       "      <td>no</td>\n",
       "      <td>i do not commute</td>\n",
       "      <td>NaN</td>\n",
       "      <td>NaN</td>\n",
       "      <td>no</td>\n",
       "      <td>NaN</td>\n",
       "      <td>NaN</td>\n",
       "      <td>don't know</td>\n",
       "      <td>not concerned</td>\n",
       "      <td>no</td>\n",
       "    </tr>\n",
       "  </tbody>\n",
       "</table>\n",
       "</div>"
      ],
      "text/plain": [
       "  bike_rider  zipcode ebike_rider        commute_purpose   miles try_bike  \\\n",
       "0         no  92115.0          no       i do not commute     NaN    maybe   \n",
       "1         no  92129.0          no                    car      no       no   \n",
       "2         no  92115.0         dad  public transportation  1 mile    maybe   \n",
       "3         no  92562.0          no       i do not commute     NaN      NaN   \n",
       "4        yes  92109.0          no       i do not commute     NaN      NaN   \n",
       "\n",
       "  ebike_class private_locker group_locker ebike_rules          safty  \\\n",
       "0          no           very         very  don't know       not very   \n",
       "1       a bit            NaN          NaN    not very       somewhat   \n",
       "2       a bit           very     somewhat  don't know           very   \n",
       "3          no            NaN          NaN  don't know  not concerned   \n",
       "4          no            NaN          NaN  don't know  not concerned   \n",
       "\n",
       "  interested  \n",
       "0         no  \n",
       "1         no  \n",
       "2        yes  \n",
       "3     may be  \n",
       "4         no  "
      ]
     },
     "execution_count": 6,
     "metadata": {},
     "output_type": "execute_result"
    }
   ],
   "source": [
    "# convert all letters to lowercase\n",
    "columns = quant_df.columns\n",
    "for column in columns:\n",
    "    if column != 'zipcode':\n",
    "        quant_df[column] = quant_df[column].str.lower()\n",
    "\n",
    "\n",
    "# remove unit in miles\n",
    "quant_df.head()"
   ]
  },
  {
   "cell_type": "code",
   "execution_count": 7,
   "metadata": {},
   "outputs": [
    {
     "data": {
      "text/html": [
       "<div>\n",
       "<style scoped>\n",
       "    .dataframe tbody tr th:only-of-type {\n",
       "        vertical-align: middle;\n",
       "    }\n",
       "\n",
       "    .dataframe tbody tr th {\n",
       "        vertical-align: top;\n",
       "    }\n",
       "\n",
       "    .dataframe thead th {\n",
       "        text-align: right;\n",
       "    }\n",
       "</style>\n",
       "<table border=\"1\" class=\"dataframe\">\n",
       "  <thead>\n",
       "    <tr style=\"text-align: right;\">\n",
       "      <th></th>\n",
       "      <th>bike_rider</th>\n",
       "      <th>zipcode</th>\n",
       "      <th>ebike_rider</th>\n",
       "      <th>commute_purpose</th>\n",
       "      <th>miles</th>\n",
       "      <th>try_bike</th>\n",
       "      <th>ebike_class</th>\n",
       "      <th>private_locker</th>\n",
       "      <th>group_locker</th>\n",
       "      <th>ebike_rules</th>\n",
       "      <th>safty</th>\n",
       "      <th>interested</th>\n",
       "    </tr>\n",
       "  </thead>\n",
       "  <tbody>\n",
       "    <tr>\n",
       "      <th>0</th>\n",
       "      <td>no</td>\n",
       "      <td>92115.0</td>\n",
       "      <td>no</td>\n",
       "      <td>i do not commute</td>\n",
       "      <td>&lt;NA&gt;</td>\n",
       "      <td>maybe</td>\n",
       "      <td>no</td>\n",
       "      <td>very</td>\n",
       "      <td>very</td>\n",
       "      <td>don't know</td>\n",
       "      <td>not very</td>\n",
       "      <td>no</td>\n",
       "    </tr>\n",
       "    <tr>\n",
       "      <th>1</th>\n",
       "      <td>no</td>\n",
       "      <td>92129.0</td>\n",
       "      <td>no</td>\n",
       "      <td>car</td>\n",
       "      <td>&lt;NA&gt;</td>\n",
       "      <td>no</td>\n",
       "      <td>a bit</td>\n",
       "      <td>NaN</td>\n",
       "      <td>NaN</td>\n",
       "      <td>not very</td>\n",
       "      <td>somewhat</td>\n",
       "      <td>no</td>\n",
       "    </tr>\n",
       "    <tr>\n",
       "      <th>2</th>\n",
       "      <td>no</td>\n",
       "      <td>92115.0</td>\n",
       "      <td>dad</td>\n",
       "      <td>public transportation</td>\n",
       "      <td>1</td>\n",
       "      <td>maybe</td>\n",
       "      <td>a bit</td>\n",
       "      <td>very</td>\n",
       "      <td>somewhat</td>\n",
       "      <td>don't know</td>\n",
       "      <td>very</td>\n",
       "      <td>yes</td>\n",
       "    </tr>\n",
       "    <tr>\n",
       "      <th>3</th>\n",
       "      <td>no</td>\n",
       "      <td>92562.0</td>\n",
       "      <td>no</td>\n",
       "      <td>i do not commute</td>\n",
       "      <td>&lt;NA&gt;</td>\n",
       "      <td>NaN</td>\n",
       "      <td>no</td>\n",
       "      <td>NaN</td>\n",
       "      <td>NaN</td>\n",
       "      <td>don't know</td>\n",
       "      <td>not concerned</td>\n",
       "      <td>may be</td>\n",
       "    </tr>\n",
       "    <tr>\n",
       "      <th>4</th>\n",
       "      <td>yes</td>\n",
       "      <td>92109.0</td>\n",
       "      <td>no</td>\n",
       "      <td>i do not commute</td>\n",
       "      <td>&lt;NA&gt;</td>\n",
       "      <td>NaN</td>\n",
       "      <td>no</td>\n",
       "      <td>NaN</td>\n",
       "      <td>NaN</td>\n",
       "      <td>don't know</td>\n",
       "      <td>not concerned</td>\n",
       "      <td>no</td>\n",
       "    </tr>\n",
       "  </tbody>\n",
       "</table>\n",
       "</div>"
      ],
      "text/plain": [
       "  bike_rider  zipcode ebike_rider        commute_purpose  miles try_bike  \\\n",
       "0         no  92115.0          no       i do not commute   <NA>    maybe   \n",
       "1         no  92129.0          no                    car   <NA>       no   \n",
       "2         no  92115.0         dad  public transportation      1    maybe   \n",
       "3         no  92562.0          no       i do not commute   <NA>      NaN   \n",
       "4        yes  92109.0          no       i do not commute   <NA>      NaN   \n",
       "\n",
       "  ebike_class private_locker group_locker ebike_rules          safty  \\\n",
       "0          no           very         very  don't know       not very   \n",
       "1       a bit            NaN          NaN    not very       somewhat   \n",
       "2       a bit           very     somewhat  don't know           very   \n",
       "3          no            NaN          NaN  don't know  not concerned   \n",
       "4          no            NaN          NaN  don't know  not concerned   \n",
       "\n",
       "  interested  \n",
       "0         no  \n",
       "1         no  \n",
       "2        yes  \n",
       "3     may be  \n",
       "4         no  "
      ]
     },
     "execution_count": 7,
     "metadata": {},
     "output_type": "execute_result"
    }
   ],
   "source": [
    "# miles column cleaning - keep numbers only\n",
    "quant_df['miles'] = quant_df['miles'].str.extract(r'(\\d+)', expand=False).astype(float).astype(pd.Int64Dtype())\n",
    "quant_df.head()"
   ]
  },
  {
   "cell_type": "markdown",
   "metadata": {},
   "source": [
    "## Part II: Analysis on Numerical and Categorical Features"
   ]
  },
  {
   "cell_type": "markdown",
   "metadata": {},
   "source": [
    "#### Survey Question: Are you a bike rider? | Column: bike_rider"
   ]
  },
  {
   "cell_type": "code",
   "execution_count": 8,
   "metadata": {},
   "outputs": [
    {
     "data": {
      "image/png": "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\n",
      "text/plain": [
       "<Figure size 432x288 with 1 Axes>"
      ]
     },
     "metadata": {
      "needs_background": "light"
     },
     "output_type": "display_data"
    },
    {
     "name": "stdout",
     "output_type": "stream",
     "text": [
      "55% of the participants are bike riders\n",
      "45% of the participants are NOT bike riders\n"
     ]
    }
   ],
   "source": [
    "# count number of bike rider and non-bike rider\n",
    "bike_rider_count = quant_df['bike_rider'].value_counts()\n",
    "bike_rider_yes = bike_rider_count[0] + bike_rider_count[2] + bike_rider_count[4]\n",
    "bike_rider_no = bike_rider_count[1] + bike_rider_count[3]\n",
    "\n",
    "# create bar plot\n",
    "x = ['Bike Riders', 'None Bike Riders']\n",
    "y = [bike_rider_yes, bike_rider_no]\n",
    "plt.bar(x, y)\n",
    "\n",
    "# add label to bar plot\n",
    "plt.xlabel('Riders')\n",
    "plt.ylabel('Number of People')\n",
    "plt.title('Number of Bike Riders vs. None Bike Riders')\n",
    "\n",
    "# display the plot\n",
    "plt.show()\n",
    "\n",
    "# show number of bike riders vs. none bike riders\n",
    "bike_percent_yes = round(bike_rider_yes / (bike_rider_yes + bike_rider_no) * 100)\n",
    "bike_percent_no = round(bike_rider_no / (bike_rider_no + bike_rider_yes) * 100)\n",
    "print(f'{bike_percent_yes}% of the participants are bike riders')\n",
    "print(f'{bike_percent_no}% of the participants are NOT bike riders')"
   ]
  },
  {
   "cell_type": "markdown",
   "metadata": {},
   "source": [
    "#### Survey Question: What is your zip code? | Column: zipcode"
   ]
  },
  {
   "cell_type": "code",
   "execution_count": 9,
   "metadata": {},
   "outputs": [],
   "source": [
    "# ENTER CODE HERE\n"
   ]
  },
  {
   "cell_type": "markdown",
   "metadata": {},
   "source": [
    "#### Survey Question: Are you a ebike_rider? | Column: ebike_rider"
   ]
  },
  {
   "cell_type": "code",
   "execution_count": 10,
   "metadata": {},
   "outputs": [
    {
     "data": {
      "image/png": "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\n",
      "text/plain": [
       "<Figure size 432x288 with 1 Axes>"
      ]
     },
     "metadata": {
      "needs_background": "light"
     },
     "output_type": "display_data"
    },
    {
     "name": "stdout",
     "output_type": "stream",
     "text": [
      "23% of the participants are e-bike riders\n",
      "77% of the participants are NOT e-bike riders\n"
     ]
    }
   ],
   "source": [
    "# count number of ebike rider vs. non-ebike rider\n",
    "ebike_rider_no = quant_df[quant_df['ebike_rider'] == 'no'].shape[0]\n",
    "ebike_rider_yes = quant_df.shape[0] - ebike_rider_no\n",
    "\n",
    "# create bar plot\n",
    "x = ['E-Bike Riders', 'None E-Bike Riders']\n",
    "y = [ebike_rider_yes, ebike_rider_no]\n",
    "plt.bar(x, y)\n",
    "\n",
    "# add label to bar plot\n",
    "plt.xlabel('Riders')\n",
    "plt.ylabel('Number of People')\n",
    "plt.title('Number of E-Bike Riders vs. None E-Bike Riders')\n",
    "\n",
    "# display the plot\n",
    "plt.show()\n",
    "\n",
    "# show number of bike riders vs. none bike riders\n",
    "ebike_percent_yes = round(ebike_rider_yes / (ebike_rider_yes + ebike_rider_no) * 100)\n",
    "ebike_percent_no = round(ebike_rider_no / (ebike_rider_no + ebike_rider_yes) * 100)\n",
    "print(f'{ebike_percent_yes}% of the participants are e-bike riders')\n",
    "print(f'{ebike_percent_no}% of the participants are NOT e-bike riders')"
   ]
  },
  {
   "cell_type": "markdown",
   "metadata": {},
   "source": [
    "#### Survey Question: How do you commute - to work, school, or for other purposes? | Column: commute_purpose"
   ]
  },
  {
   "cell_type": "code",
   "execution_count": null,
   "metadata": {},
   "outputs": [],
   "source": []
  },
  {
   "cell_type": "markdown",
   "metadata": {},
   "source": [
    "#### Survey Question: How far (ROUND TRIP) do you commute for any purpose each day? | Column: miles"
   ]
  },
  {
   "cell_type": "code",
   "execution_count": 11,
   "metadata": {},
   "outputs": [
    {
     "data": {
      "image/png": "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\n",
      "text/plain": [
       "<Figure size 432x288 with 1 Axes>"
      ]
     },
     "metadata": {
      "needs_background": "light"
     },
     "output_type": "display_data"
    }
   ],
   "source": [
    "# count number of miles\n",
    "miles_count = quant_df['miles'].value_counts()\n",
    "\n",
    "# create bar plot\n",
    "x = miles_count.index\n",
    "y = miles_count.values\n",
    "plt.bar(x, y)\n",
    "\n",
    "# add label to bar plot\n",
    "plt.xlabel('Miles')\n",
    "plt.ylabel('Number of People')\n",
    "plt.title('Number of People by Miles')\n",
    "\n",
    "# display the plot\n",
    "plt.show()"
   ]
  },
  {
   "cell_type": "code",
   "execution_count": 12,
   "metadata": {},
   "outputs": [
    {
     "data": {
      "image/png": "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\n",
      "text/plain": [
       "<Figure size 576x432 with 1 Axes>"
      ]
     },
     "metadata": {
      "needs_background": "light"
     },
     "output_type": "display_data"
    }
   ],
   "source": [
    "# count number of miles\n",
    "mile_counts = quant_df['miles'].value_counts(sort = False)\n",
    "\n",
    "# create bar plot\n",
    "fig, ax = plt.subplots(figsize = (8, 6))\n",
    "bars = ax.bar(mile_counts.index, mile_counts.values, color = 'teal')\n",
    "ax.set_xlabel('Miles')\n",
    "ax.set_ylabel('Number of People')\n",
    "ax.set_title('Number of Participants by Miles')\n",
    "\n",
    "# add a vertical line to show the average and median miles\n",
    "ax.grid(axis = 'y', alpha = 0.5)\n",
    "avg_miles = quant_df['miles'].mean()\n",
    "med_miles = quant_df['miles'].median()\n",
    "ax.axvline(x = avg_miles, color = 'orange', linestyle = '--', label = f'Average Miles: {avg_miles:.2f}')\n",
    "ax.axvline(x = med_miles, color = 'green', linestyle = '--', label = f'Median Miles: {med_miles}')\n",
    "ax.set_xticks(range(0, 51, 10))\n",
    "\n",
    "# show the plot\n",
    "ax.legend()\n",
    "plt.show()"
   ]
  },
  {
   "cell_type": "markdown",
   "metadata": {},
   "source": [
    "#### Survey Question: Would you commute by e-bike if given the opportunity? | Column: try_bike"
   ]
  },
  {
   "cell_type": "code",
<<<<<<< HEAD
   "execution_count": 13,
=======
   "execution_count": 39,
>>>>>>> 986c3527053e92cb827ca4935d41c6feb3e8d6fe
   "metadata": {},
   "outputs": [
    {
     "data": {
<<<<<<< HEAD
      "image/png": "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\n",
=======
      "image/png": "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\n",
>>>>>>> 986c3527053e92cb827ca4935d41c6feb3e8d6fe
      "text/plain": [
       "<Figure size 1800x432 with 1 Axes>"
      ]
     },
     "metadata": {
      "needs_background": "light"
     },
     "output_type": "display_data"
    }
   ],
   "source": [
    "# Count the number of occurrences of each unique value in the try_bike column\n",
    "try_bike_counts = quant_df['try_bike'].value_counts()\n",
    "\n",
    "# Create a bar plot\n",
    "f, ax = plt.subplots(figsize=(25, 6))\n",
    "sns.despine(f)\n",
    "plt.bar(try_bike_counts.index, try_bike_counts.values)\n",
    "\n",
    "# Set the title and axis labels\n",
    "plt.title('Have you ever tried a bike before?', fontsize = 20)\n",
    "plt.xlabel('Answer')\n",
    "plt.ylabel('Count')\n",
    "\n",
    "# Show the plot\n",
    "plt.show()"
   ]
  },
  {
   "cell_type": "markdown",
   "metadata": {},
   "source": [
    "#### Survey Question: Do you know the differences between Class 1, Class 1, and Class 3 e-bikes? | Column: ebike_class"
   ]
  },
  {
   "cell_type": "code",
   "execution_count": 40,
   "metadata": {},
   "outputs": [
    {
     "data": {
      "text/plain": [
       "Text(0, 0.5, 'Count')"
      ]
     },
     "execution_count": 40,
     "metadata": {},
     "output_type": "execute_result"
    },
    {
     "data": {
      "image/png": "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\n",
      "text/plain": [
       "<Figure size 504x360 with 1 Axes>"
      ]
     },
     "metadata": {
      "needs_background": "light"
     },
     "output_type": "display_data"
    }
   ],
   "source": [
    "# Count the number of occurrences of each unique value in the ebike_class column\n",
    "ebike_class_count = quant_df['ebike_class'].value_counts()\n",
    "\n",
    "# Create a bar graph\n",
    "f, ax = plt.subplots(figsize=(7, 5))\n",
    "sns.despine(f)\n",
    "sns.barplot(x=ebike_class_count.index, y = ebike_class_count.values, palette='magma', order = ['yes', 'a bit', 'no'])\n",
    "\n",
    "# Set title and labels to the graph\n",
    "plt.title('Do you know the differences between Class 1, Class 1, and Class 3 e-bikes?')\n",
    "plt.xlabel('Answer')\n",
    "plt.ylabel('Count')\n"
   ]
  },
  {
   "cell_type": "markdown",
   "metadata": {},
   "source": [
    "#### Survey Question: How comfortable would you be storing your bike in a private bike locker while you are commuting? | Column: private_locker"
   ]
  },
  {
   "cell_type": "code",
   "execution_count": 15,
   "metadata": {},
   "outputs": [
    {
     "data": {
      "image/png": "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\n",
      "text/plain": [
       "<Figure size 800x600 with 1 Axes>"
      ]
     },
     "metadata": {},
     "output_type": "display_data"
    }
   ],
   "source": [
    "# Count the occurrences of each option in the 'private_locker' column\n",
    "private_locker_counts = quant_df['private_locker'].value_counts()\n",
    "\n",
    "# Plotting the bar graph\n",
    "plt.figure(figsize=(8, 6))\n",
    "sns.barplot(x=private_locker_counts.index, y=private_locker_counts.values)\n",
    "plt.xlabel('Private Locker Option')\n",
    "plt.ylabel('Number of People')\n",
    "plt.title('Number of People by Private Locker Option')\n",
    "plt.show()"
   ]
  },
  {
   "cell_type": "markdown",
   "metadata": {},
   "source": [
    "#### Survey Question: How comfortable would you be storing your bike in a group bike locker while you are commuting? | Column: group_locker"
   ]
  },
  {
   "cell_type": "code",
   "execution_count": 16,
   "metadata": {},
   "outputs": [
    {
     "data": {
      "image/png": "iVBORw0KGgoAAAANSUhEUgAAArwAAAIhCAYAAACsQmneAAAAOXRFWHRTb2Z0d2FyZQBNYXRwbG90bGliIHZlcnNpb24zLjcuMCwgaHR0cHM6Ly9tYXRwbG90bGliLm9yZy88F64QAAAACXBIWXMAAA9hAAAPYQGoP6dpAABe/0lEQVR4nO3dd3gUVd/G8XshyaaQBBIhjZDQe+8gvQkKqCCoVAuKFCkimscC+CgICiKIYKGIIqJSFFA6BJUiKAEFpBkICpEqoQZCzvsHb/ZhSSELCQnD93Nde+mcOWfmNzO7m5vJzMRmjDECAAAALCpPThcAAAAAZCcCLwAAACyNwAsAAABLI/ACAADA0gi8AAAAsDQCLwAAACyNwAsAAABLI/ACAADA0gi8AAAAsDQCL3ADZsyYIZvNJk9PTx04cCDV/MaNG6tChQo5UJm0Zs0a2Ww2ff311zmyflft379f9957rwICAmSz2TRw4MB0+0ZGRspmszle+fLlU+3atTVz5sxbV3AGUt4X+/fvz5Ll3epjuW3bNj3xxBMqXry4vLy85OXlpZIlS+rpp5/W5s2bb0kN2WH48OGy2Ww6duzYLVlfyvsgJ/fZpUuXNHnyZNWtW1f+/v7y8vJS2bJl9eKLL+r48eM3vNxDhw5p+PDhiomJSTUvZT8DuRGBF7gJiYmJevnll3O6jNvaoEGDtHHjRk2bNk3r16/XoEGDMuxfv359rV+/XuvXr3cEix49emjy5Mm3qGJr+uCDD1S9enVt3LhRAwYM0KJFi7R48WINHDhQ27dvV82aNbVv376cLhOZcO7cObVo0UL9+/dX1apVNXv2bH333Xfq1q2bPvzwQ1WtWlW7du26oWUfOnRII0aMSDPwPvnkk1q/fv1NVg9kD7ecLgC4nd1zzz36/PPPNWTIEFWuXDmny7mlzp8/L09Pz5s+o/P777+rVq1auv/++zPVP3/+/KpTp45junnz5oqIiNC4ceP0zDPP3FQtd6qffvpJffr00b333quvv/5aHh4ejnlNmzZV37599dVXX8nLyyvD5Zw7d07e3t7ZXe4dzxijCxcupHs8Bg0apOjoaH3xxRfq3Lmzo71Jkybq2LGjatWqpQ4dOmjr1q3KmzdvltVVuHBhFS5cOMuWB2QlzvACN2Ho0KEKDAzUCy+8kGG//fv3y2azacaMGanm2Ww2DR8+3DGd8mvBbdu26aGHHpK/v78CAgI0ePBgJSUladeuXbrnnnvk6+uryMhIjRkzJs11XrhwQYMHD1ZwcLC8vLzUqFEjbdmyJVW/zZs3q127dgoICJCnp6eqVq2qL7/80qlPypnUZcuW6fHHH1fBggXl7e2txMTEdLc5Li5OXbt2VaFChWS321W2bFmNHTtWycnJkv736/q9e/fq+++/d1ym4OrlAPnz51fp0qWdLi3Zs2ePHn30Uad1T5o0yeUapf8duzFjxuiNN95QkSJF5OnpqRo1amjlypWZqnHFihVq1qyZ/Pz85O3trfr162d6rHT9Y/npp5/KZrOleXbttddek7u7uw4dOpTu8keOHKm8efPqgw8+cAq7V3vooYcUGhrqmO7Zs6fy5cun3377TS1btpSvr6+aNWsmSTpx4oT69OmjsLAweXh4qFixYnrppZec3i838pnYsmWLHnzwQfn5+cnf319du3bV0aNH090uV3377beqW7euvL295evrqxYtWqS5T//44w898sgjCgoKkt1uV5EiRdS9e/cMPw+HDx9W9erVVbJkSe3Zs0eSlJCQoCFDhqho0aLy8PBQWFiYBg4cqLNnzzqNtdls6tevn6ZMmaKyZcvKbrfrk08+SXM98fHxmjZtmlq1auUUdlOUKlVKL7zwgrZv364FCxY42iMjI3Xfffdp/vz5qlSpkjw9PVWsWDFNmDDB0WfNmjWqWbOmJOmxxx5zfGZTjlValzQkJydrzJgxKlOmjOx2uwoVKqTu3bvrr7/+cuqXchnYpk2b1KBBA3l7e6tYsWJ68803nT6PwA0zAFw2ffp0I8ls2rTJvPvuu0aSWblypWN+o0aNTPny5R3TsbGxRpKZPn16qmVJMsOGDXNMDxs2zEgypUuXNv/973/N8uXLzdChQ40k069fP1OmTBkzYcIEs3z5cvPYY48ZSWbu3LmO8atXrzaSTHh4uGnfvr1ZuHCh+eyzz0yJEiWMn5+f2bdvn6PvqlWrjIeHh2nQoIGZM2eOWbJkienZs2eqWlO2NywszDz11FPm+++/N19//bVJSkpKc/8cOXLEhIWFmYIFC5opU6aYJUuWmH79+hlJ5plnnjHGGHPq1Cmzfv16ExwcbOrXr2/Wr19v1q9fby5cuJDufo+IiDD33nuvU9vFixdNoUKFTGhoqDHGmO3btxt/f39TsWJFM3PmTLNs2TLz3HPPmTx58pjhw4e7VOPVxy48PNzcfffdZu7cuearr74yNWvWNO7u7mbdunWp9lNsbKyj7dNPPzU2m83cf//9Zt68eWbhwoXmvvvuM3nz5jUrVqxId1uNyfyxTExMNMHBwaZLly5O4y9dumRCQ0PNQw89lO46kpKSjJeXl6lbt26GtVyrR48ext3d3URGRppRo0aZlStXmqVLl5rz58+bSpUqGR8fH/P222+bZcuWmVdeecW4ubmZNm3aOMbfyGciIiLCPP/882bp0qVm3LhxxsfHx1StWtVcvHgxw1pTxh89ejTdPrNmzTKSTMuWLc2CBQvMnDlzTPXq1Y2Hh4f54YcfHP1iYmJMvnz5TGRkpJkyZYpZuXKl+eyzz0ynTp1MQkKCMcb5+8EYY3777TcTHh5u6tat66jh7NmzpkqVKuauu+4y48aNMytWrDDvvvuu8ff3N02bNjXJyclO+yMsLMxUqlTJfP7552bVqlXm999/T3M7Pv/8cyPJTJ48Od1t3bFjh5Fknn76aUdbRESECQsLM0WKFDHTpk0z3333nenSpYuRZN566y1jzJXPbMq2vfzyy47P7MGDB53289Weeuopx3fXkiVLzJQpU0zBggVNeHi40/Fo1KiRCQwMNCVLljRTpkwxy5cvN3369DGSzCeffJLutgCZReAFbsDVP9ASExNNsWLFTI0aNRw/pLIi8I4dO9apX5UqVYwkM2/ePEfbpUuXTMGCBc2DDz7oaEsJSdWqVXP6obl//37j7u5unnzySUdbmTJlTNWqVc2lS5ec1nXfffeZkJAQc/nyZaft7d69e6b2z4svvmgkmY0bNzq1P/PMM8Zms5ldu3Y52tIKsemJiIgwbdq0MZcuXTKXLl0ysbGxpkePHkaSef75540xxrRq1coULlzYnDp1ymlsv379jKenpzlx4oRLNaYcu9DQUHP+/HlHv4SEBBMQEGCaN2/uaLs28J49e9YEBASYtm3bOq3j8uXLpnLlyqZWrVoZbq8rx3LYsGHGw8PD/PPPP462OXPmGEkmOjo63XXEx8cbSebhhx9ONS8pKcmxry9duuRUQ8p+nzZtmtOYKVOmGEnmyy+/dGofPXq0kWSWLVtmjLmxz8SgQYOc+qWE1M8++yzd7bt6fHqB9/LlyyY0NNRUrFjR8Z43xpjTp0+bQoUKmXr16jnamjZtavLnz2+OHDmS7vqu/n5Yvny58fPzMx07dnR6/4waNcrkyZPHEYpTfP3110aS+e6775z2h7+/v+O9m5E333zTSDJLlixJt8/58+eNJNO6dWtHW0REhLHZbCYmJsapb4sWLYyfn585e/asMcaYTZs2pXvcrg28O3fuNJJMnz59nPpt3LjRSDL/+c9/HG2NGjVK8/NYrlw506pVq+tuN3A9XNIA3CQPDw+9/vrr2rx5c6pLAW7Gfffd5zRdtmxZ2Ww2tW7d2tHm5uamEiVKpPmkiEcffdTp14sRERGqV6+eVq9eLUnau3ev/vjjD3Xp0kWSlJSU5Hi1adNGhw8fTnVjS4cOHTJV+6pVq1SuXDnVqlXLqb1nz54yxmjVqlWZWk5avvvuO7m7u8vd3V1FixbVl19+qf79++v111/XhQsXtHLlSj3wwAPy9vZOtU0XLlzQhg0bbqjGBx98UJ6eno5pX19ftW3bVmvXrtXly5fTrHXdunU6ceKEevTo4VRLcnKy7rnnHm3atCnVr6/Tcr1jKclx/fJHH33kaHvvvfdUsWJFNWzY8LrrSEv16tUd+9rd3V1jx45N1efa98SqVavk4+Ojjh07OrX37NlTkly6lONaKe/VFJ06dZKbm5vTfrgRu3bt0qFDh9StWzflyfO/H4v58uVThw4dtGHDBp07d07nzp1TdHS0OnXqpIIFC153uZ988onatGmjJ598Ul9++aXT+2fRokWqUKGCqlSp4vTeaNWqlWw2m9asWeO0rKZNm6pAgQI3tZ3Xuvbyg/Lly6e6F+HRRx9VQkKCfv31V5eXn3JcUo59ilq1aqls2bKp3gvBwcGpPo+VKlVK8/sNcBWBF8gCDz/8sKpVq6aXXnpJly5dypJlBgQEOE17eHjI29vb6YdmSvuFCxdSjQ8ODk6zLeWRRP/8848kaciQIU6hxt3dXX369JGkVI9xCgkJyVTtx48fT7NvyjWgN/NYpLvvvlubNm3S5s2btWPHDv3777+aMGGCPDw8dPz4cSUlJWnixImptqlNmzZO2+Rqjentz4sXL+rMmTNp1pqyjzt27JiqntGjR8sYoxMnTlx3m693LCUpKChInTt31gcffKDLly9r27Zt+uGHH9SvX78Ml33XXXfJy8srzVDx+eefa9OmTfr222/THOvt7S0/Pz+ntuPHjys4ODhVmCpUqJDc3Nxu6thfux/c3NwUGBh4U8uU/nes03s/JCcn6+TJkzp58qQuX76c6RuzvvjiC3l5eenJJ59MtT/++ecfbdu2LdX7wtfXV8aYG/7sFSlSRJIUGxubbp+UeeHh4U7t6b3PpBv7zF5vv167zMDAwFT97Ha7zp8/7/K6gWvxlAYgC9hsNo0ePVotWrTQhx9+mGp+Ski99qaWm/1BnZH4+Pg021J+qNx1112SpKioKD344INpLqN06dJO05l9IkNgYKAOHz6cqj3lxqmUdd8If39/1ahRI815BQoUUN68edWtWzf17ds3zT5Fixa9oRrT258eHh7Kly9fmutKWcbEiROdnixxtaCgoDTbM7PuawPCgAED9Omnn+qbb77RkiVLlD9//lRnRa+VN29eNW3aVMuWLdPhw4edwkm5cuUkKd0bCdN6PwQGBmrjxo0yxjjNP3LkiJKSkhz75EY+E/Hx8QoLC3NMJyUl6fjx42kGJVekjE/v/ZAnTx4VKFBANptNefPmTXXDVXpmzZqlV155RY0aNdKyZctUpUoVx7yUf2hMmzYtzbHXvv8y+9lr0qSJ3NzctGDBAvXu3TvNPik3q7Vo0cKpPb33mZR2GL2eq/frtf9IOHTo0E19DwCu4gwvkEWaN2+uFi1a6LXXXkt1xi8oKEienp7atm2bU/s333yTbfXMnj1bxhjH9IEDB7Ru3To1btxY0pUwW7JkSW3dulU1atRI8+Xr63tD627WrJl27NiR6tegM2fOlM1mU5MmTW54uzLi7e2tJk2aaMuWLapUqVKa25TyQ9jVGufNm+d0Jv306dNauHChGjRokO6jnerXr6/8+fNrx44d6e7j9J6KcLXrHcsU1atXV7169TR69GjNmjVLPXv2lI+Pz3WXHxUVpcuXL6t37943/RuKZs2a6cyZM05PAJDk+OMgKU9yuJHPxKxZs5ymv/zySyUlJaXaD64qXbq0wsLC9Pnnnzvt57Nnz2ru3LmOJzekPCHjq6++ytQfsQgICNCKFStUtmxZNWnSxHE5jXTlkqV9+/YpMDAwzfdFZGTkDW1LcHCwHn/8cS1dulRz5sxJNX/37t0aPXq0ypcvn+pRgNu3b9fWrVud2j7//HP5+vqqWrVqkq6ccZWUqbOuTZs2lSR99tlnTu2bNm3Szp07He8F4FbgDC+QhUaPHq3q1avryJEjKl++vKPdZrOpa9eumjZtmooXL67KlSvr559/1ueff55ttRw5ckQPPPCAevXqpVOnTmnYsGHy9PRUVFSUo88HH3yg1q1bq1WrVurZs6fCwsJ04sQJ7dy5U7/++qu++uqrG1r3oEGDNHPmTN1777167bXXFBERocWLF+v999/XM888o1KlSmXVZqby7rvv6u6771aDBg30zDPPKDIyUqdPn9bevXu1cOFCx7W5rtaYN29etWjRQoMHD1ZycrJGjx6thIQEjRgxIt1a8uXLp4kTJ6pHjx46ceKEOnbsqEKFCuno0aPaunWrjh49mqk/mJGZY5liwIAB6ty5s2w2m+PSlOupX7++Jk2apP79+6tatWp66qmnVL58eeXJk0eHDx/W3LlzJSnV5Qtp6d69uyZNmqQePXpo//79qlixon788UeNHDlSbdq0UfPmzSXd2Gdi3rx5cnNzU4sWLbR9+3a98sorqly5sjp16pSp7Vy4cGGa/4jr2LGjxowZoy5duui+++7T008/rcTERL311lv6999/9eabbzr6jhs3Tnfffbdq166tF198USVKlNA///yjb7/9Vh988EGq5fv6+mrJkiV68MEH1aJFC3377bdq0qSJBg4cqLlz56phw4YaNGiQKlWqpOTkZMXFxWnZsmV67rnnVLt27Uxt17XGjRunXbt2qWvXrlq7dq3atm0ru92uDRs26O2335avr6/mzp2b6h9qoaGhateunYYPH66QkBB99tlnWr58uUaPHu14vnLKX+GbNWuWypYtq3z58ik0NNTpkXUpSpcuraeeekoTJ05Unjx51Lp1a+3fv1+vvPKKwsPDr/tHZoAslXP3ywG3r2sfO3S1Rx991EhyekqDMVce6fPkk0+aoKAg4+PjY9q2bWv279+f7h3p195R3qNHD+Pj45Nqfdc+ESLlzv5PP/3UPPvss6ZgwYLGbrebBg0amM2bN6cav3XrVtOpUydTqFAh4+7uboKDg03Tpk3NlClTMrW96Tlw4IB59NFHTWBgoHF3dzelS5c2b731ltNd8Ma4/pSGzPSNjY01jz/+uAkLCzPu7u6mYMGCpl69eub11193ucaUpwmMHj3ajBgxwhQuXNh4eHiYqlWrmqVLlzotL63HkhljTHR0tLn33ntNQECAcXd3N2FhYebee+81X331VYbb4eqxNObKI8rsdru55557rrufrhUTE2Mee+wxU7RoUWO3242np6cpUaKE6d69u9Nj94xJ//1ojDHHjx83vXv3NiEhIcbNzc1ERESYqKioVI+cc/Uz8csvv5i2bduafPnyGV9fX/PII484PZUiPSnj03ulWLBggaldu7bx9PQ0Pj4+plmzZuann35KtbwdO3aYhx56yAQGBhoPDw9TpEgR07NnT8f2pfV5SUxMNB06dDCenp5m8eLFxhhjzpw5Y15++WVTunRp4+Hh4Xic3qBBg0x8fLxjrCTTt2/f627n1S5evGgmTZpkateubfLly2fsdrspXbq0GTp0qDl27Fiq/imfra+//tqUL1/eeHh4mMjISDNu3LhUfWfPnm3KlClj3N3dnY5VWo8lu3z5shk9erQpVaqUcXd3N3fddZfp2rWr41FmKa79HkvRo0cPExER4dK2A2mxGXPV728AAE7279+vokWL6q233tKQIUNyupzrWrhwodq1a6fFixc7btS73Q0fPlwjRozQ0aNHue4zm0RGRqpChQpatGhRTpcCZAsuaQAAC9ixY4cOHDig5557TlWqVHF6fB0A3Om4aQ0ALKBPnz5q166dChQooNmzZ2f6rn4AuBNwSQMAAAAsjTO8AAAAsDQCLwAAACyNwAsAAABL4ykNaUhOTtahQ4fk6+vLjR8AAAC5kDFGp0+fVmhoqPLkyfgcLoE3DYcOHVJ4eHhOlwEAAIDrOHjwoAoXLpxhHwJvGlL+NOTBgwcz9ac0AQAAcGslJCQoPDw8zT8Zfi0CbxpSLmPw8/Mj8AIAAORimbn8lJvWAAAAYGkEXgAAAFgagRcAAACWRuAFAACApRF4AQAAYGkEXgAAAFgagRcAAACWRuAFAACApRF4AQAAYGkEXgAAAFgagRcAAACWRuAFAACApRF4AQAAYGkEXgAAAFgagRcAAACWRuAFAACApRF4AQAAYGkEXgAAAFgagRcAAACW5pbTBQC3q7jXKuZ0Cfh/RV79LadLAADkYpzhBQAAgKUReAEAAGBpBF4AAABYGoEXAAAAlkbgBQAAgKUReAEAAGBpBF4AAABYGoEXAAAAlkbgBQAAgKUReAEAAGBpBF4AAABYGoEXAAAAlkbgBQAAgKUReAEAAGBpBF4AAABYGoEXAAAAlpajgXfUqFGqWbOmfH19VahQId1///3atWuXUx9jjIYPH67Q0FB5eXmpcePG2r59+3WXPXfuXJUrV052u13lypXT/Pnzs2szAAAAkIvlaOCNjo5W3759tWHDBi1fvlxJSUlq2bKlzp496+gzZswYjRs3Tu+99542bdqk4OBgtWjRQqdPn053uevXr1fnzp3VrVs3bd26Vd26dVOnTp20cePGW7FZAAAAyEVsxhiT00WkOHr0qAoVKqTo6Gg1bNhQxhiFhoZq4MCBeuGFFyRJiYmJCgoK0ujRo/X000+nuZzOnTsrISFB33//vaPtnnvuUYECBTR79uzr1pGQkCB/f3+dOnVKfn5+WbNxsJy41yrmdAn4f0Ve/S2nSwAA3GKu5LVcdQ3vqVOnJEkBAQGSpNjYWMXHx6tly5aOPna7XY0aNdK6devSXc769eudxkhSq1at0h2TmJiohIQEpxcAAACsIdcEXmOMBg8erLvvvlsVKlSQJMXHx0uSgoKCnPoGBQU55qUlPj7epTGjRo2Sv7+/4xUeHn4zmwIAAIBcJNcE3n79+mnbtm1pXnJgs9mcpo0xqdpuZkxUVJROnTrleB08eNDF6gEAAJBbueV0AZLUv39/ffvtt1q7dq0KFy7saA8ODpZ05YxtSEiIo/3IkSOpzuBeLTg4ONXZ3IzG2O122e32m9kEAAAA5FI5eobXGKN+/fpp3rx5WrVqlYoWLeo0v2jRogoODtby5csdbRcvXlR0dLTq1auX7nLr1q3rNEaSli1bluEYAAAAWFOOnuHt27evPv/8c33zzTfy9fV1nJX19/eXl5eXbDabBg4cqJEjR6pkyZIqWbKkRo4cKW9vbz366KOO5XTv3l1hYWEaNWqUJGnAgAFq2LChRo8erfbt2+ubb77RihUr9OOPP+bIdgIAACDn5GjgnTx5siSpcePGTu3Tp09Xz549JUlDhw7V+fPn1adPH508eVK1a9fWsmXL5Ovr6+gfFxenPHn+d7K6Xr16+uKLL/Tyyy/rlVdeUfHixTVnzhzVrl0727cJAAAAuUuueg5vbsFzeJEZPIc39+A5vABw57ltn8MLAAAAZDUCLwAAACyNwAsAAABLI/ACAADA0gi8AAAAsDQCLwAAACyNwAsAAABLI/ACAADA0gi8AAAAsDQCLwAAACyNwAsAAABLI/ACAADA0gi8AAAAsDQCLwAAACzNLacLsJLqz8/M6RLw/355q3tOlwAAAHIJzvACAADA0gi8AAAAsDQCLwAAACyNwAsAAABLI/ACAADA0gi8AAAAsDQCLwAAACyNwAsAAABLI/ACAADA0gi8AAAAsDQCLwAAACyNwAsAAABLI/ACAADA0gi8AAAAsDQCLwAAACyNwAsAAABLI/ACAADA0gi8AAAAsDQCLwAAACyNwAsAAABLI/ACAADA0gi8AAAAsDQCLwAAACyNwAsAAABLI/ACAADA0gi8AAAAsLQcDbxr165V27ZtFRoaKpvNpgULFjjNt9lsab7eeuutdJc5Y8aMNMdcuHAhm7cGAAAAuVGOBt6zZ8+qcuXKeu+999Kcf/jwYafXtGnTZLPZ1KFDhwyX6+fnl2qsp6dndmwCAAAAcjm3nFx569at1bp163TnBwcHO01/8803atKkiYoVK5bhcm02W6qxAAAAuDPdNtfw/vPPP1q8eLGeeOKJ6/Y9c+aMIiIiVLhwYd13333asmVLhv0TExOVkJDg9AIAAIA13DaB95NPPpGvr68efPDBDPuVKVNGM2bM0LfffqvZs2fL09NT9evX1549e9IdM2rUKPn7+zte4eHhWV0+AAAAcshtE3inTZumLl26XPda3Dp16qhr166qXLmyGjRooC+//FKlSpXSxIkT0x0TFRWlU6dOOV4HDx7M6vIBAACQQ3L0Gt7M+uGHH7Rr1y7NmTPH5bF58uRRzZo1MzzDa7fbZbfbb6ZEAAAA5FK3xRneqVOnqnr16qpcubLLY40xiomJUUhISDZUBgAAgNwuR8/wnjlzRnv37nVMx8bGKiYmRgEBASpSpIgkKSEhQV999ZXGjh2b5jK6d++usLAwjRo1SpI0YsQI1alTRyVLllRCQoImTJigmJgYTZo0Kfs3CAAAALlOjgbezZs3q0mTJo7pwYMHS5J69OihGTNmSJK++OILGWP0yCOPpLmMuLg45cnzvxPV//77r5566inFx8fL399fVatW1dq1a1WrVq3s2xAAAADkWjZjjMnpInKbhIQE+fv769SpU/Lz88v0uOrPz8zGquCKX97qnu3riHutYravA5lT5NXfcroEAMAt5kpeuy2u4QUAAABuFIEXAAAAlkbgBQAAgKUReAEAAGBpBF4AAABYGoEXAAAAlkbgBQAAgKUReAEAAGBpBF4AAABYGoEXAAAAlkbgBQAAgKUReAEAAGBpBF4AAABYGoEXAAAAlkbgBQAAgKUReAEAAGBpBF4AAABYGoEXAAAAlkbgBQAAgKUReAEAAGBpBF4AAABYGoEXAAAAlkbgBQAAgKUReAEAAGBpBF4AAABYGoEXAAAAlkbgBQAAgKUReAEAAGBpBF4AAABYGoEXAAAAlkbgBQAAgKUReAEAAGBpBF4AAABYGoEXAAAAlkbgBQAAgKUReAEAAGBpBF4AAABYGoEXAAAAlkbgBQAAgKUReAEAAGBpBF4AAABYGoEXAAAAlpajgXft2rVq27atQkNDZbPZtGDBAqf5PXv2lM1mc3rVqVPnusudO3euypUrJ7vdrnLlymn+/PnZtAUAAADI7XI08J49e1aVK1fWe++9l26fe+65R4cPH3a8vvvuuwyXuX79enXu3FndunXT1q1b1a1bN3Xq1EkbN27M6vIBAABwG3DLyZW3bt1arVu3zrCP3W5XcHBwppc5fvx4tWjRQlFRUZKkqKgoRUdHa/z48Zo9e3aaYxITE5WYmOiYTkhIyPT6AAAAkLvl+mt416xZo0KFCqlUqVLq1auXjhw5kmH/9evXq2XLlk5trVq10rp169IdM2rUKPn7+zte4eHhWVI7AAAAcl6uDrytW7fWrFmztGrVKo0dO1abNm1S06ZNnc7GXis+Pl5BQUFObUFBQYqPj093TFRUlE6dOuV4HTx4MMu2AQAAADkrRy9puJ7OnTs7/r9ChQqqUaOGIiIitHjxYj344IPpjrPZbE7TxphUbVez2+2y2+03XzAAAABynVx9hvdaISEhioiI0J49e9LtExwcnOps7pEjR1Kd9QUAAMCd4bYKvMePH9fBgwcVEhKSbp+6detq+fLlTm3Lli1TvXr1srs8AAAA5EI5eknDmTNntHfvXsd0bGysYmJiFBAQoICAAA0fPlwdOnRQSEiI9u/fr//85z+666679MADDzjGdO/eXWFhYRo1apQkacCAAWrYsKFGjx6t9u3b65tvvtGKFSv0448/3vLtAwAAQM7L0cC7efNmNWnSxDE9ePBgSVKPHj00efJk/fbbb5o5c6b+/fdfhYSEqEmTJpozZ458fX0dY+Li4pQnz/9OVNerV09ffPGFXn75Zb3yyisqXry45syZo9q1a9+6DQMAAECukaOBt3HjxjLGpDt/6dKl113GmjVrUrV17NhRHTt2vJnSAAAAYBG31TW8AAAAgKsIvAAAALA0Ai8AAAAsjcALAAAASyPwAgAAwNIIvAAAALA0Ai8AAAAsjcALAAAASyPwAgAAwNIIvAAAALA0Ai8AAAAsjcALAAAASyPwAgAAwNIIvAAAALA0Ai8AAAAs7YYC77///quPP/5YUVFROnHihCTp119/1d9//52lxQEAAAA3y83VAdu2bVPz5s3l7++v/fv3q1evXgoICND8+fN14MABzZw5MzvqBAAAAG6Iy2d4Bw8erJ49e2rPnj3y9PR0tLdu3Vpr167N0uIAAACAm+Vy4N20aZOefvrpVO1hYWGKj4/PkqIAAACArOJy4PX09FRCQkKq9l27dqlgwYJZUhQAAACQVVwOvO3bt9drr72mS5cuSZJsNpvi4uL04osvqkOHDlleIAAAAHAzXA68b7/9to4ePapChQrp/PnzatSokUqUKCFfX1+98cYb2VEjAAAAcMNcfkqDn5+ffvzxR61atUq//vqrkpOTVa1aNTVv3jw76gMAAABuisuBN0XTpk3VtGnTrKwFAAAAyHKZCrwTJkzI9AKfffbZGy4GAAAAyGqZCrzvvPNOphZms9kIvAAAAMhVMhV4Y2Njs7sOAAAAIFu4/JSGqxljZIzJqloAAACALHdDgXfq1KmqUKGCPD095enpqQoVKujjjz/O6toAAACAm+byUxpeeeUVvfPOO+rfv7/q1q0rSVq/fr0GDRqk/fv36/XXX8/yIgEAAIAb5XLgnTx5sj766CM98sgjjrZ27dqpUqVK6t+/P4EXAAAAuYrLlzRcvnxZNWrUSNVevXp1JSUlZUlRAAAAQFZxOfB27dpVkydPTtX+4YcfqkuXLllSFAAAAJBVbugvrU2dOlXLli1TnTp1JEkbNmzQwYMH1b17dw0ePNjRb9y4cVlTJQAAAHCDXA68v//+u6pVqyZJ2rdvnySpYMGCKliwoH7//XdHP5vNlkUlAgAAADfO5cC7evXq7KgDAAAAyBY39Ycn/vrrL/39999ZVQsAAACQ5VwOvMnJyXrttdfk7++viIgIFSlSRPnz59d///tfJScnZ0eNAAAAwA1z+ZKGl156SVOnTtWbb76p+vXryxijn376ScOHD9eFCxf0xhtvZEedAAAAwA1xOfB+8skn+vjjj9WuXTtHW+XKlRUWFqY+ffoQeAEAAJCruHxJw4kTJ1SmTJlU7WXKlNGJEyeypCgAAAAgq7gceCtXrqz33nsvVft7772nypUru7SstWvXqm3btgoNDZXNZtOCBQsc8y5duqQXXnhBFStWlI+Pj0JDQ9W9e3cdOnQow2XOmDFDNpst1evChQsu1QYAAABrcPmShjFjxujee+/VihUrVLduXdlsNq1bt04HDx7Ud99959Kyzp49q8qVK+uxxx5Thw4dnOadO3dOv/76q1555RVVrlxZJ0+e1MCBA9WuXTtt3rw5w+X6+flp165dTm2enp4u1QYAAABrcDnwNmrUSLt379akSZP0xx9/yBijBx98UH369FFoaKhLy2rdurVat26d5jx/f38tX77cqW3ixImqVauW4uLiVKRIkXSXa7PZFBwc7FItAAAAsKYb+tPCoaGhOXJz2qlTp2Sz2ZQ/f/4M+505c0YRERG6fPmyqlSpov/+97+qWrVquv0TExOVmJjomE5ISMiqkgEAAJDDbugPT/zwww/q2rWr6tWr5/jDE59++ql+/PHHLC3uahcuXNCLL76oRx99VH5+fun2K1OmjGbMmKFvv/1Ws2fPlqenp+rXr689e/akO2bUqFHy9/d3vMLDw7NjEwAAAJADXA68c+fOVatWreTl5aVff/3VcWb09OnTGjlyZJYXKF25ge3hhx9WcnKy3n///Qz71qlTR127dlXlypXVoEEDffnllypVqpQmTpyY7pioqCidOnXK8Tp48GBWbwIAAAByiMuB9/XXX9eUKVP00Ucfyd3d3dFer149/frrr1lanHQl7Hbq1EmxsbFavnx5hmd305InTx7VrFkzwzO8drtdfn5+Ti8AAABYg8uBd9euXWrYsGGqdj8/P/37779ZUZNDStjds2ePVqxYocDAQJeXYYxRTEyMQkJCsrQ2AAAA3B5cvmktJCREe/fuVWRkpFP7jz/+qGLFirm0rDNnzmjv3r2O6djYWMXExCggIEChoaHq2LGjfv31Vy1atEiXL19WfHy8JCkgIEAeHh6SpO7duyssLEyjRo2SJI0YMUJ16tRRyZIllZCQoAkTJigmJkaTJk1ydVMBAABgAS4H3qeffloDBgzQtGnTZLPZdOjQIa1fv15DhgzRq6++6tKyNm/erCZNmjimBw8eLEnq0aOHhg8frm+//VaSVKVKFadxq1evVuPGjSVJcXFxypPnfyeq//33Xz311FOKj4+Xv7+/qlatqrVr16pWrVqubioAAAAswOXAO3ToUJ06dUpNmjTRhQsX1LBhQ9ntdg0ZMkT9+vVzaVmNGzeWMSbd+RnNS7FmzRqn6XfeeUfvvPOOS3UAAADAum7oObxvvPGGXnrpJe3YsUPJyckqV66c8uXLl9W1AQAAADct0zetnTt3Tn379lVYWJgKFSqkJ598UpGRkapVqxZhFwAAALlWpgPvsGHDNGPGDN177716+OGHtXz5cj3zzDPZWRsAAABw0zJ9ScO8efM0depUPfzww5Kkrl27qn79+rp8+bLy5s2bbQUCAAAANyPTZ3gPHjyoBg0aOKZr1aolNzc3HTp0KFsKAwAAALJCpgPv5cuXHc++TeHm5qakpKQsLwoAAADIKpm+pMEYo549e8putzvaLly4oN69e8vHx8fRNm/evKytEAAAALgJmQ68PXr0SNXWtWvXLC0GAAAAyGqZDrzTp0/PzjoAAACAbJHpa3gBAACA2xGBFwAAAJZG4AUAAIClEXgBAABgaZkKvNWqVdPJkyclSa+99prOnTuXrUUBAAAAWSVTgXfnzp06e/asJGnEiBE6c+ZMthYFAAAAZJVMPZasSpUqeuyxx3T33XfLGKO3335b+fLlS7Pvq6++mqUFAgAAADcjU4F3xowZGjZsmBYtWiSbzabvv/9ebm6ph9psNgIvAAAAcpVMBd7SpUvriy++kCTlyZNHK1euVKFChbK1MAAAACArZPovraVITk7OjjoAAACAbOFy4JWkffv2afz48dq5c6dsNpvKli2rAQMGqHjx4lldHwAAAHBTXH4O79KlS1WuXDn9/PPPqlSpkipUqKCNGzeqfPnyWr58eXbUCAAAANwwl8/wvvjiixo0aJDefPPNVO0vvPCCWrRokWXFAQAAADfL5TO8O3fu1BNPPJGq/fHHH9eOHTuypCgAAAAgq7gceAsWLKiYmJhU7TExMTy5AQAAALmOy5c09OrVS0899ZT+/PNP1atXTzabTT/++KNGjx6t5557LjtqBAAAAG6Yy4H3lVdeka+vr8aOHauoqChJUmhoqIYPH65nn302ywsEAAAAbobLgddms2nQoEEaNGiQTp8+LUny9fXN8sIAAACArHBDz+FNQdAFAABAbufyTWsAAADA7YTACwAAAEsj8AIAAMDSXAq8ly5dUpMmTbR79+7sqgcAAADIUi4FXnd3d/3++++y2WzZVQ8AAACQpVy+pKF79+6aOnVqdtQCAAAAZDmXH0t28eJFffzxx1q+fLlq1KghHx8fp/njxo3LsuIAAACAm+Vy4P39999VrVo1SUp1LS+XOgAAACC3cTnwrl69OjvqAAAAALLFDT+WbO/evVq6dKnOnz8vSTLGZFlRAAAAQFZxOfAeP35czZo1U6lSpdSmTRsdPnxYkvTkk0/queeey/ICAQAAgJvhcuAdNGiQ3N3dFRcXJ29vb0d7586dtWTJkiwtDgAAALhZLl/Du2zZMi1dulSFCxd2ai9ZsqQOHDiQZYUBAAAAWcHlM7xnz551OrOb4tixY7Lb7S4ta+3atWrbtq1CQ0Nls9m0YMECp/nGGA0fPlyhoaHy8vJS48aNtX379usud+7cuSpXrpzsdrvKlSun+fPnu1QXAAAArMPlwNuwYUPNnDnTMW2z2ZScnKy33npLTZo0cWlZZ8+eVeXKlfXee++lOX/MmDEaN26c3nvvPW3atEnBwcFq0aKFTp8+ne4y169fr86dO6tbt27aunWrunXrpk6dOmnjxo0u1QYAAABrsBkXH6+wY8cONW7cWNWrV9eqVavUrl07bd++XSdOnNBPP/2k4sWL31ghNpvmz5+v+++/X9KVs7uhoaEaOHCgXnjhBUlSYmKigoKCNHr0aD399NNpLqdz585KSEjQ999/72i75557VKBAAc2ePTtTtSQkJMjf31+nTp2Sn59fpreh+vMzr98Jt8Qvb3XP9nXEvVYx29eBzCny6m85XQIA4BZzJa+5fIa3XLly2rZtm2rVqqUWLVro7NmzevDBB7Vly5YbDrtpiY2NVXx8vFq2bOlos9vtatSokdatW5fuuPXr1zuNkaRWrVplOCYxMVEJCQlOLwAAAFiDyzetSVJwcLBGjBiR1bU4iY+PlyQFBQU5tQcFBWV4c1x8fHyaY1KWl5ZRo0Zl+/YAAAAgZ9xQ4D158qSmTp2qnTt3ymazqWzZsnrssccUEBCQ1fWl+nPFxpjr/gljV8dERUVp8ODBjumEhASFh4ffQLUAAADIbVy+pCE6OlpFixbVhAkTdPLkSZ04cUITJkxQ0aJFFR0dnWWFBQcHS1KqM7NHjhxJdQb32nGujrHb7fLz83N6AQAAwBpcDrx9+/ZVp06dFBsbq3nz5mnevHn6888/9fDDD6tv375ZVljRokUVHBys5cuXO9ouXryo6Oho1atXL91xdevWdRojXXl2cEZjAAAAYF0uX9Kwb98+zZ07V3nz5nW05c2bV4MHD3Z6XFlmnDlzRnv37nVMx8bGKiYmRgEBASpSpIgGDhyokSNHqmTJkipZsqRGjhwpb29vPfroo44x3bt3V1hYmEaNGiVJGjBggBo2bKjRo0erffv2+uabb7RixQr9+OOPrm4qAAAALMDlwFutWjXt3LlTpUuXdmrfuXOnqlSp4tKyNm/e7PTs3pTraHv06KEZM2Zo6NChOn/+vPr06aOTJ0+qdu3aWrZsmXx9fR1j4uLilCfP/05U16tXT1988YVefvllvfLKKypevLjmzJmj2rVru7qpAAAAsIBMPYd327Ztjv/fuXOnhg4dqv79+6tOnTqSpA0bNmjSpEl688031blz5+yr9hbhOby3P57De2fhObwAcOdxJa9l6gxvlSpVZLPZdHU2Hjp0aKp+jz76qCUCLwAAAKwjU4E3NjY2u+sAAAAAskWmAm9ERER21wEAAABkixv6wxN///23fvrpJx05ckTJyclO85599tksKQwAAADICi4H3unTp6t3797y8PBQYGCg018ws9lsBF4AAADkKi4H3ldffVWvvvqqoqKinB4HBgAAAORGLifWc+fO6eGHHybsAgAA4Lbgcmp94okn9NVXX2VHLQAAAECWc/mShlGjRum+++7TkiVLVLFiRbm7uzvNHzduXJYVBwAAANwslwPvyJEjtXTpUsefFr72pjUAAAAgN3E58I4bN07Tpk1Tz549s6EcAAAAIGu5fA2v3W5X/fr1s6MWAAAAIMu5HHgHDBigiRMnZkctAAAAQJZz+ZKGn3/+WatWrdKiRYtUvnz5VDetzZs3L8uKAwAAAG6Wy4E3f/78evDBB7OjFgAAACDL3dCfFgYAAABuF/y5NAAAAFiay2d4ixYtmuHzdv/888+bKggAAADISi4H3oEDBzpNX7p0SVu2bNGSJUv0/PPPZ1VdAAAAQJZwOfAOGDAgzfZJkyZp8+bNN10QAAAAkJWy7Bre1q1ba+7cuVm1OAAAACBLZFng/frrrxUQEJBViwMAAACyhMuXNFStWtXppjVjjOLj43X06FG9//77WVocAAAAcLNcDrz333+/03SePHlUsGBBNW7cWGXKlMmqugAAAIAs4XLgHTZsWHbUAQAAAGQL/vAEAAAALC3TZ3jz5MmT4R+ckCSbzaakpKSbLgoAAADIKpkOvPPnz0933rp16zRx4kQZY7KkKAAAACCrZDrwtm/fPlXbH3/8oaioKC1cuFBdunTRf//73ywtDgAAALhZN3QN76FDh9SrVy9VqlRJSUlJiomJ0SeffKIiRYpkdX0AAADATXEp8J46dUovvPCCSpQooe3bt2vlypVauHChKlSokF31AQAAADcl05c0jBkzRqNHj1ZwcLBmz56d5iUOAAAAQG6T6cD74osvysvLSyVKlNAnn3yiTz75JM1+8+bNy7LiAAAAgJuV6cDbvXv36z6WDAAAAMhtMh14Z8yYkY1lAAAAANnD5T8tDAB3ovoT6+d0Cfh/P/X/KadLAHCb4U8LAwAAwNIIvAAAALA0Ai8AAAAsjcALAAAASyPwAgAAwNIIvAAAALC0XB94IyMjZbPZUr369u2bZv81a9ak2f+PP/64xZUDAAAgN8j1z+HdtGmTLl++7Jj+/fff1aJFCz300EMZjtu1a5f8/Pwc0wULFsy2GgEAAJB75frAe21QffPNN1W8eHE1atQow3GFChVS/vz5s7EyAAAA3A5y/SUNV7t48aI+++wzPf7447LZbBn2rVq1qkJCQtSsWTOtXr06w76JiYlKSEhwegEAAMAabqvAu2DBAv3777/q2bNnun1CQkL04Ycfau7cuZo3b55Kly6tZs2aae3atemOGTVqlPz9/R2v8PDwbKgeAAAAOSHXX9JwtalTp6p169YKDQ1Nt0/p0qVVunRpx3TdunV18OBBvf3222rYsGGaY6KiojR48GDHdEJCAqEXAADAIm6bwHvgwAGtWLFC8+bNc3lsnTp19Nlnn6U73263y26330x5AAAAyKVum0sapk+frkKFCunee+91eeyWLVsUEhKSDVUBAAAgt7stzvAmJydr+vTp6tGjh9zcnEuOiorS33//rZkzZ0qSxo8fr8jISJUvX95xk9vcuXM1d+7cnCgdAAAAOey2CLwrVqxQXFycHn/88VTzDh8+rLi4OMf0xYsXNWTIEP3999/y8vJS+fLltXjxYrVp0+ZWlgwAAIBc4rYIvC1btpQxJs15M2bMcJoeOnSohg4deguqAgAAwO3gtrmGFwAAALgRBF4AAABYGoEXAAAAlkbgBQAAgKUReAEAAGBpBF4AAABYGoEXAAAAlkbgBQAAgKUReAEAAGBpBF4AAABYGoEXAAAAlkbgBQAAgKUReAEAAGBpBF4AAABYGoEXAAAAlkbgBQAAgKUReAEAAGBpBF4AAABYGoEXAAAAlkbgBQAAgKUReAEAAGBpBF4AAABYGoEXAAAAlkbgBQAAgKUReAEAAGBpBF4AAABYGoEXAAAAlkbgBQAAgKUReAEAAGBpBF4AAABYGoEXAAAAlkbgBQAAgKUReAEAAGBpBF4AAABYGoEXAAAAlkbgBQAAgKUReAEAAGBpBF4AAABYGoEXAAAAlkbgBQAAgKUReAEAAGBpuTrwDh8+XDabzekVHByc4Zjo6GhVr15dnp6eKlasmKZMmXKLqgUAAEBu5JbTBVxP+fLltWLFCsd03rx50+0bGxurNm3aqFevXvrss8/0008/qU+fPipYsKA6dOhwK8oFAABALpPrA6+bm9t1z+qmmDJliooUKaLx48dLksqWLavNmzfr7bffJvACAADcoXL1JQ2StGfPHoWGhqpo0aJ6+OGH9eeff6bbd/369WrZsqVTW6tWrbR582ZdunQp3XGJiYlKSEhwegEAAMAacnXgrV27tmbOnKmlS5fqo48+Unx8vOrVq6fjx4+n2T8+Pl5BQUFObUFBQUpKStKxY8fSXc+oUaPk7+/veIWHh2fpdgAAACDn5OrA27p1a3Xo0EEVK1ZU8+bNtXjxYknSJ598ku4Ym83mNG2MSbP9alFRUTp16pTjdfDgwSyoHgAAALlBrr+G92o+Pj6qWLGi9uzZk+b84OBgxcfHO7UdOXJEbm5uCgwMTHe5drtddrs9S2sFAABA7pCrz/BeKzExUTt37lRISEia8+vWravly5c7tS1btkw1atSQu7v7rSgRAAAAuUyuDrxDhgxRdHS0YmNjtXHjRnXs2FEJCQnq0aOHpCuXInTv3t3Rv3fv3jpw4IAGDx6snTt3atq0aZo6daqGDBmSU5sAAACAHJarL2n466+/9Mgjj+jYsWMqWLCg6tSpow0bNigiIkKSdPjwYcXFxTn6Fy1aVN99950GDRqkSZMmKTQ0VBMmTOCRZAAAAHewXB14v/jiiwznz5gxI1Vbo0aN9Ouvv2ZTRQAAALjd5OpLGgAAAICbReAFAACApRF4AQAAYGkEXgAAAFgagRcAAACWRuAFAACApRF4AQAAYGkEXgAAAFgagRcAAACWRuAFAACApRF4AQAAYGkEXgAAAFgagRcAAACWRuAFAACApRF4AQAAYGkEXgAAAFgagRcAAACWRuAFAACApRF4AQAAYGkEXgAAAFgagRcAAACWRuAFAACApRF4AQAAYGkEXgAAAFgagRcAAACWRuAFAACApRF4AQAAYGkEXgAAAFgagRcAAACWRuAFAACApRF4AQAAYGkEXgAAAFgagRcAAACWRuAFAACApRF4AQAAYGkEXgAAAFgagRcAAACWRuAFAACApRF4AQAAYGkEXgAAAFgagRcAAACWlqsD76hRo1SzZk35+vqqUKFCuv/++7Vr164Mx6xZs0Y2my3V648//rhFVQMAACA3ydWBNzo6Wn379tWGDRu0fPlyJSUlqWXLljp79ux1x+7atUuHDx92vEqWLHkLKgYAAEBu45bTBWRkyZIlTtPTp09XoUKF9Msvv6hhw4YZji1UqJDy58+fjdUBAADgdpCrz/Be69SpU5KkgICA6/atWrWqQkJC1KxZM61evTrDvomJiUpISHB6AQAAwBpum8BrjNHgwYN19913q0KFCun2CwkJ0Ycffqi5c+dq3rx5Kl26tJo1a6a1a9emO2bUqFHy9/d3vMLDw7NjEwAAAJADcvUlDVfr16+ftm3bph9//DHDfqVLl1bp0qUd03Xr1tXBgwf19ttvp3sZRFRUlAYPHuyYTkhIIPQCAABYxG1xhrd///769ttvtXr1ahUuXNjl8XXq1NGePXvSnW+32+Xn5+f0AgAAgDXk6jO8xhj1799f8+fP15o1a1S0aNEbWs6WLVsUEhKSxdUBAADgdpCrA2/fvn31+eef65tvvpGvr6/i4+MlSf7+/vLy8pJ05XKEv//+WzNnzpQkjR8/XpGRkSpfvrwuXryozz77THPnztXcuXNzbDsAAACQc3J14J08ebIkqXHjxk7t06dPV8+ePSVJhw8fVlxcnGPexYsXNWTIEP3999/y8vJS+fLltXjxYrVp0+ZWlQ0AAIBcJFcHXmPMdfvMmDHDaXro0KEaOnRoNlUEAACA281tcdMaAAAAcKMIvAAAALA0Ai8AAAAsjcALAAAAS8vVN60BAJATohs2yukS8P8arY3O6RJgAZzhBQAAgKUReAEAAGBpBF4AAABYGoEXAAAAlkbgBQAAgKUReAEAAGBpBF4AAABYGoEXAAAAlkbgBQAAgKUReAEAAGBpBF4AAABYGoEXAAAAlkbgBQAAgKUReAEAAGBpBF4AAABYGoEXAAAAlkbgBQAAgKUReAEAAGBpBF4AAABYGoEXAAAAluaW0wUAAADkpPeeW5jTJeD/9RvbNluWyxleAAAAWBqBFwAAAJZG4AUAAIClEXgBAABgaQReAAAAWBqBFwAAAJZG4AUAAIClEXgBAABgaQReAAAAWBqBFwAAAJZG4AUAAIClEXgBAABgaQReAAAAWBqBFwAAAJZG4AUAAIClEXgBAABgabdF4H3//fdVtGhReXp6qnr16vrhhx8y7B8dHa3q1avL09NTxYoV05QpU25RpQAAAMhtcn3gnTNnjgYOHKiXXnpJW7ZsUYMGDdS6dWvFxcWl2T82NlZt2rRRgwYNtGXLFv3nP//Rs88+q7lz597iygEAAJAb5PrAO27cOD3xxBN68sknVbZsWY0fP17h4eGaPHlymv2nTJmiIkWKaPz48SpbtqyefPJJPf7443r77bdvceUAAADIDdxyuoCMXLx4Ub/88otefPFFp/aWLVtq3bp1aY5Zv369WrZs6dTWqlUrTZ06VZcuXZK7u3uqMYmJiUpMTHRMnzp1SpKUkJDgUr2XE8+71B/Zx9VjdyNOX7ic7etA5tyK4510Pinb14HMuRXH+2wSxzu3uBXH+3ziuWxfBzLHleOd0tcYc92+uTrwHjt2TJcvX1ZQUJBTe1BQkOLj49McEx8fn2b/pKQkHTt2TCEhIanGjBo1SiNGjEjVHh4efhPVIyf5T+yd0yXgVhrln9MV4Bbyf4HjfUfx53jfSYZOcn3M6dOn5X+d90muDrwpbDab07QxJlXb9fqn1Z4iKipKgwcPdkwnJyfrxIkTCgwMzHA9VpOQkKDw8HAdPHhQfn5+OV0OshnH+87C8b6zcLzvLHfq8TbG6PTp0woNDb1u31wdeO+66y7lzZs31dncI0eOpDqLmyI4ODjN/m5ubgoMDExzjN1ul91ud2rLnz//jRd+m/Pz87ujPjB3Oo73nYXjfWfheN9Z7sTjfb0zuyly9U1rHh4eql69upYvX+7Uvnz5ctWrVy/NMXXr1k3Vf9myZapRo0aa1+8CAADA2nJ14JWkwYMH6+OPP9a0adO0c+dODRo0SHFxcerd+8o1mlFRUerevbujf+/evXXgwAENHjxYO3fu1LRp0zR16lQNGTIkpzYBAAAAOShXX9IgSZ07d9bx48f12muv6fDhw6pQoYK+++47RURESJIOHz7s9EzeokWL6rvvvtOgQYM0adIkhYaGasKECerQoUNObcJtw263a9iwYaku74A1cbzvLBzvOwvH+87C8b4+m8nMsxwAAACA21Suv6QBAAAAuBkEXgAAAFgagRcAAACWRuAF4LLGjRtr4MCBOV0GcNu7XT5La9askc1m07///pvTpeRauelYRkZGavz48TldRq5C4AWQI2bMmHFH/4GXrDJ8+HBVqVIlp8sAkA2GDx+unj17OqZzU6i+3RB4kSmXLl3K6RIA5DIXL17M6RIAIFMIvBb0wQcfKCwsTMnJyU7t7dq1U48ePSRJCxcuVPXq1eXp6alixYppxIgRSkpKcvS12WyaMmWK2rdvLx8fH73++usqUaKE3n77badl/v7778qTJ4/27duX/RtmIV9//bUqVqwoLy8vBQYGqnnz5jp79qySk5P12muvqXDhwrLb7apSpYqWLFniGLd//37ZbDZ9+eWXatCggby8vFSzZk3t3r1bmzZtUo0aNZQvXz7dc889Onr0qNM6p0+frrJly8rT01NlypTR+++/75jXoUMH9e/f3zE9cOBA2Ww2bd++XZKUlJQkX19fLV261NEnOTlZQ4cOVUBAgIKDgzV8+HCn9Y0bN04VK1aUj4+PwsPD1adPH505c0bSlV+PPvbYYzp16pRsNptsNluq8XeCxo0b69lnn81wP8bFxal9+/bKly+f/Pz81KlTJ/3zzz+SrpwlHzFihLZu3erYjzNmzEi1nqVLl8rT0zPVr6OfffZZNWrUyDG9bt06NWzYUF5eXgoPD9ezzz6rs2fPOuZHRkbq9ddfV8+ePeXv769evXqpadOm6tevn9Nyjx8/LrvdrlWrVt3cDrKYs2fPqnv37sqXL59CQkI0duxYp/kXL17U0KFDFRYWJh8fH9WuXVtr1qxxzE/5rciCBQtUqlQpeXp6qkWLFjp48KDTcjLz/f7xxx/rgQcekLe3t0qWLKlvv/3WaRnfffedSpUqJS8vLzVp0kT79+93mn/gwAG1bdtWBQoUkI+Pj8qXL6/vvvsua3bUbeB6x1KSTp48qe7du6tAgQLy9vZW69attWfPHsf8lOO5dOlSlS1b1vHdffjw4TTX2bNnT0VHR+vdd991fN6vPS7pmT59uvz9/R1/ifZmv3tOnTqlvHnz6pdffpEkGWMUEBCgmjVrOsbPnj1bISEhmarvljCwnOPHjxsPDw+zYsUKR9uJEyeMh4eHWbp0qVmyZInx8/MzM2bMMPv27TPLli0zkZGRZvjw4Y7+kkyhQoXM1KlTzb59+8z+/fvNG2+8YcqVK+e0rkGDBpmGDRvesm2zgkOHDhk3Nzczbtw4Exsba7Zt22YmTZpkTp8+bcaNG2f8/PzM7NmzzR9//GGGDh1q3N3dze7du40xxsTGxhpJpkyZMmbJkiVmx44dpk6dOqZatWqmcePG5scffzS//vqrKVGihOndu7djnR9++KEJCQkxc+fONX/++aeZO3euCQgIMDNmzDDGGDNhwgRToUIFR/8qVaqYu+66y0yaNMkYY8y6deuMm5ubOX36tDHGmEaNGhk/Pz8zfPhws3v3bvPJJ58Ym81mli1b5ljGO++8Y1atWmX+/PNPs3LlSlO6dGnzzDPPGGOMSUxMNOPHjzd+fn7m8OHD5vDhw45l30mutx+Tk5NN1apVzd133202b95sNmzYYKpVq2YaNWpkjDHm3Llz5rnnnjPly5d37Mdz586lWk9SUpIJCgoyH3/8caq2Dz74wBhjzLZt20y+fPnMO++8Y3bv3m1++uknU7VqVdOzZ0/HmIiICOPn52feeusts2fPHrNnzx4za9YsU6BAAXPhwgVHv3fffddERkaa5OTk7Nhtt61nnnnGFC5c2Cxbtsxs27bN3HfffSZfvnxmwIABxhhjHn30UVOvXj2zdu1as3fvXvPWW28Zu93u+PxPnz7duLu7mxo1aph169aZzZs3m1q1apl69eo51pHZ7/fChQubzz//3OzZs8c8++yzJl++fOb48ePGGGPi4uKM3W43AwYMMH/88Yf57LPPTFBQkJFkTp48aYwx5t577zUtWrQw27ZtM/v27TMLFy400dHRt2ZH5gLXO5bGGNOuXTtTtmxZs3btWhMTE2NatWplSpQoYS5evGiM+d/xbN68udm0aZP55ZdfTNmyZc2jjz7qWMawYcNMjx49jDHG/Pvvv6Zu3bqmV69ejs97UlJSmvVFRESYd955xxhjzFtvvWUCAgLM+vXrHfNv9rvHGGOqVatm3n77bWOMMTExMaZAgQLGw8PDnDp1yhhjzFNPPWU6d+58U/s5KxF4Lapdu3bm8ccfd0x/8MEHJjg42CQlJZkGDRqYkSNHOvX/9NNPTUhIiGNakhk4cKBTn0OHDpm8efOajRs3GmOMuXjxoilYsKAjNCFzfvnlFyPJ7N+/P9W80NBQ88Ybbzi11axZ0/Tp08cY87/Ae3VwmT17tpFkVq5c6WgbNWqUKV26tGM6PDzcfP75507L/e9//2vq1q1rjLkSdmw2mzl69Kg5ceKEcXd3N6+//rp56KGHjDHGjBw50tSuXdsxtlGjRubuu+9OVecLL7yQ7nZ/+eWXJjAw0DE9ffp04+/vn27/O8H19uOyZctM3rx5TVxcnGP+9u3bjSTz888/G2Ou/ECsXLnyddf17LPPmqZNmzqmly5dajw8PMyJEyeMMcZ069bNPPXUU05jfvjhB5MnTx5z/vx5Y8yVH6L333+/U58LFy6YgIAAM2fOHEdblSpVnAIWjDl9+rTx8PAwX3zxhaPt+PHjxsvLywwYMMDs3bvX2Gw28/fffzuNa9asmYmKijLGXPnMSDIbNmxwzN+5c6eR5Phezuz3+8svv+yYPnPmjLHZbOb77783xhgTFRVlypYt6/QPlhdeeMEp8FasWPGOPcbXO5bGGLN7924jyfz000+OPseOHTNeXl7myy+/NMb873ju3bvX0WfSpEkmKCgo3XU3atTIKVSnJyXwvvjiiyYkJMRs27Yt1XJu9rtn8ODB5r777jPGGDN+/HjTsWNHU61aNbN48WJjjDGlSpUykydPvm6tt0qu/9PCuDFdunTRU089pffff192u12zZs3Sww8/7PgVxKZNm/TGG284+l++fFkXLlzQuXPn5O3tLUmqUaOG0zJDQkJ07733atq0aapVq5YWLVqkCxcu6KGHHrql23a7q1y5spo1a6aKFSuqVatWatmypTp27Ki8efPq0KFDql+/vlP/+vXra+vWrU5tlSpVcvx/UFCQJKlixYpObUeOHJEkHT16VAcPHtQTTzyhXr16OfokJSXJ399fklShQgUFBgYqOjpa7u7uqly5stq1a6cJEyZIunIJwtW/+r62BunK+yNlnZK0evVqjRw5Ujt27FBCQoKSkpJ04cIFnT17Vj4+Pq7tNAvLaD/u3LlT4eHhCg8Pd8wvV66c8ufPr507dzr9+vB6unTporp16+rQoUMKDQ3VrFmz1KZNGxUoUECS9Msvv2jv3r2aNWuWY4wxRsnJyYqNjVXZsmUlpf5esNvt6tq1q6ZNm6ZOnTopJiZGW7du1YIFC1zaD1a3b98+Xbx4UXXr1nW0BQQEqHTp0pKkX3/9VcYYlSpVymlcYmKiAgMDHdNubm5Ox6BMmTKO90OtWrUy/f1+9fvOx8dHvr6+Tu+7OnXqyGazOfpcXbd05XKYZ555RsuWLVPz5s3VoUOHVO9lq7resZSu7EM3NzfVrl3b0RYYGKjSpUtr586djjZvb28VL17cMX3t9+jNGDt2rM6ePavNmzerWLFiqebf7HdP48aNNXXqVCUnJys6OlrNmjVTkSJFFB0drWrVqmn37t2pfm7kJK7htai2bdsqOTlZixcv1sGDB/XDDz+oa9eukq5cezlixAjFxMQ4Xr/99pv27NkjT09PxzLSCiVPPvmkvvjiC50/f17Tp09X586dHV+gyJy8efNq+fLl+v7771WuXDlNnDhRpUuXVmxsrCQ5/ZCRroSOa9vc3d0d/58y79q2lGu4U/770UcfOR3z33//XRs2bHD0b9iwodasWaPo6Gg1btxYFSpU0OXLl/Xbb79p3bp1aty4cbo1XLvOAwcOqE2bNqpQoYLmzp2rX375RZMmTZLEDZDXymg/pnXsM2rPSK1atVS8eHHH53f+/PmO7wTpyvvk6aefdnqPbN26VXv27HH6gZze98Ly5cv1119/adq0aWrWrJkiIiJcqs/qjDEZzk9OTnackLj6GOzcuVPvvvuuU9+0jn1KW2a/36/3vrueJ598Un/++ae6deum3377TTVq1NDEiROvO84KMrN/0utz7Wc3reOQmeVnRoMGDXT58mV9+eWXac6/2e+ehg0b6vTp0/r111/1ww8/qHHjxmrUqJGio6O1evVqFSpUyPEP5dyAM7wW5eXlpQcffFCzZs3S3r17VapUKVWvXl2SVK1aNe3atUslSpRweblt2rSRj4+PJk+erO+//15r167N6tLvCDabTfXr11f9+vX16quvKiIiQitXrlRoaKh+/PFHNWzY0NF33bp1qlWr1g2vKygoSGFhYfrzzz/VpUuXdPs1btxYH374oTw8PPTaa6/JZrOpQYMGevvtt3X+/PlUZ54zsnnzZiUlJWns2LHKk+fKv6uv/dL18PDQ5cuXb2yj7hDlypVTXFycDh486DjTsmPHDp06dcrxg8SV/fjoo49q1qxZKly4sPLkyaN7773XMa9atWravn37DX0vVKxYUTVq1NBHH32kzz///I4JPq4oUaKE3N3dtWHDBhUpUkTSlZuaUs6CVa1aVZcvX9aRI0fUoEGDdJeTlJSkzZs3O74Tdu3apX///VdlypSRdHPf7ynKlSuX6gx9yj+OrxYeHq7evXurd+/eioqK0kcffeR086tVXe9YSlf2YVJSkjZu3Kh69epJunIz5+7du28qBLryea9Vq5b69++vVq1aKW/evHr++eczvZ7MfPf4+/urSpUqeu+992Sz2VSuXDmFhoZqy5YtWrRoUa46uysReC2tS5cuatu2rbZv3+50JufVV1/Vfffdp/DwcD300EPKkyePtm3bpt9++02vv/56hsvMmzevevbsqaioKJUoUSLVr7lwfRs3btTKlSvVsmVLFSpUSBs3btTRo0dVtmxZPf/88xo2bJiKFy+uKlWqaPr06YqJiXH6NfONGD58uJ599ln5+fmpdevWSkxM1ObNm3Xy5EkNHjxY0pXAO2DAALm5uTl+4DZu3FjPPfecqlWrJj8/v0yvr3jx4kpKStLEiRPVtm1b/fTTT5oyZYpTn8jISJ05c0YrV65U5cqV5e3tzW8LrtG8eXNVqlRJXbp00fjx45WUlKQ+ffqoUaNGjl9rR0ZGKjY2VjExMSpcuLB8fX1lt9vTXF6XLl00YsQIvfHGG+rYsaPTGb8XXnhBderUUd++fdWrVy/5+Pho586dWr58eaYC7JNPPql+/frJ29tbDzzwQNbsAAvJly+fnnjiCT3//PMKDAxUUFCQXnrpJcc/CEuVKqUuXbqoe/fuGjt2rKpWrapjx45p1apVqlixotq0aSPpylm5/v37a8KECXJ3d1e/fv1Up04dRwC+me/3FL1799bYsWM1ePBgPf300/rll19SPf1j4MCBat26tUqVKqWTJ09q1apVuepsXna63rGUpJIlS6p9+/bq1auXPvjgA/n6+urFF19UWFiY2rdvf8PrjoyM1MaNG7V//37ly5dPAQEBTuu9Vt26dfX999/rnnvukZubmwYNGpSp9WTmu0e68jPi3Xff1QMPPCCbzaYCBQqoXLlymjNnjuOSuFwjR64cxi2RlJRkQkJCjCSzb98+p3lLliwx9erVM15eXsbPz8/UqlXLfPjhh475ksz8+fPTXO6+ffuMJDNmzJjsLN+yduzYYVq1amUKFixo7Ha7KVWqlJk4caIxxpjLly+bESNGmLCwMOPu7m4qV67suJHEmP/dtLZlyxZH2+rVq51uJjEm7RvCZs2aZapUqWI8PDxMgQIFTMOGDc28efMc85OTk03BggVNjRo1HG1btmwxksyQIUOclpXWjRPt27d33E1sjDHjxo0zISEhxsvLy7Rq1crMnDkzVZ29e/c2gYGBRpIZNmxY5naghWRmPx44cMC0a9fO+Pj4GF9fX/PQQw+Z+Ph4x/wLFy6YDh06mPz58xtJZvr06Rmus2bNmkaSWbVqVap5P//8s2nRooXJly+f8fHxMZUqVXK6ifLqO7+vdfr0aePt7e24wRKpnT592nTt2tV4e3uboKAgM2bMGKf3wMWLF82rr75qIiMjjbu7uwkODjYPPPCA44ajlM/13LlzTbFixYyHh4dp2rRpqhtgb+T73d/f3+m9s3DhQlOiRAljt9tNgwYNzLRp05w+v/369TPFixc3drvdFCxY0HTr1s0cO3Ysy/dZbnW9Y2nMlacjdevWzfj7+zu+B1OeuGFM2t/T8+fPNxlFs127dpk6deoYLy8vI8nExsam2e/az2p0dLTx8fEx7777rjEma757jLnyPpFk3nvvPUfbgAEDjCTz+++/p7sdOcFmTBZdLII7xk8//aTGjRvrr7/+ctwwBeDOdvDgQUVGRmrTpk2qVq1aTpdjSTNmzNDAgQP5877ADeCSBmRaYmKiDh48qFdeeUWdOnUi7ALQpUuXdPjwYb344ouqU6cOYRdArsRTGpBps2fPVunSpXXq1CmNGTMmp8sBkAv89NNPioiI0C+//JLqOm0AyC24pAEAAACWxhleAAAAWBqBFwAAAJZG4AUAAIClEXgBAABgaQReAAAAWBqBFwDuEDNmzFD+/PlzuowsExkZqfHjx+d0GQBuAwReAJYUHx+vAQMGqESJEvL09FRQUJDuvvtuTZkyRefOncvp8tJlpRC3aNEiNW7cWL6+vvL29lbNmjU1Y8YMl5eTXlDftGmTnnrqqZsvFIDlEXgBWM6ff/6pqlWratmyZRo5cqS2bNmiFStWaNCgQVq4cKFWrFiR7thLly7dwkpvb8YYJSUlpTlv4sSJat++verVq6eNGzdq27Ztevjhh9W7d28NGTIkS9ZfsGBBeXt7Z8myAFicAQCLadWqlSlcuLA5c+ZMmvOTk5Md/y/JTJ482bRr1854e3ubV1991RhjzPvvv2+KFStm3N3dTalSpczMmTMdY2JjY40ks2XLFkfbyZMnjSSzevVqY4wxq1evNpLMokWLTKVKlYzdbje1atUy27Zty7D2iIgI884776Q7P6O6Uuro1auXKVSokLHb7aZ8+fJm4cKFxhhjpk+fbvz9/R19jx07ZmrWrGnatm1rzp8/b5KTk83o0aNN0aJFjaenp6lUqZL56quvHP1TtmnJkiWmevXqxt3d3axatSpVjXFxccbd3d0MHjw41bwJEyYYSWbDhg2Z2k8p869+DRs2LM19deDAAdOuXTvj4+NjfH19zUMPPWTi4+Md84cNG2YqV65sZs6caSIiIoyfn5/p3LmzSUhISHd/A7AGzvACsJTjx49r2bJl6tu3r3x8fNLsY7PZnKaHDRum9u3b67ffftPjjz+u+fPna8CAAXruuef0+++/6+mnn9Zjjz2m1atXu1zP888/r7ffflubNm1SoUKF1K5duxs+i3y9upKTk9W6dWutW7dOn332mXbs2KE333xTefPmTbWsv/76Sw0aNFCZMmU0b948eXp66uWXX9b06dM1efJkbd++XYMGDVLXrl0VHR3tNHbo0KEaNWqUdu7cqUqVKqVa9tdff61Lly6leSb36aefVr58+TR79uxM7ad69epp/Pjx8vPz0+HDh3X48OE0l2uM0f33368TJ04oOjpay5cv1759+9S5c2enfvv27dOCBQu0aNEiLVq0SNHR0XrzzTevv/MB3N5yOnEDQFbasGGDkWTmzZvn1B4YGGh8fHyMj4+PGTp0qKNdkhk4cKBT33r16plevXo5tT300EOmTZs2xhjXzvB+8cUXjj7Hjx83Xl5eZs6cOenWn9EZ3uvVtXTpUpMnTx6za9euNMennOHdtWuXKVKkiOnfv7/jbPeZM2eMp6enWbdundOYJ554wjzyyCNO27RgwYJ06zfGmN69ezudSb5WpUqVTOvWrZ2WmdF+uvbMdIqr99WyZctM3rx5TVxcnGP+9u3bjSTz888/G2OunOH19vZ2OqP7/PPPm9q1a2e4PQBuf5zhBWBJ157F/fnnnxUTE6Py5csrMTHRaV6NGjWcpnfu3Kn69es7tdWvX187d+50uY66des6/j8gIEClS5e+oeVkpq6YmBgVLlxYpUqVSncZ58+f19133637779fEyZMcOynHTt26MKFC2rRooXy5cvneM2cOVP79u1zWsa1+8tVxphUx+dm99POnTsVHh6u8PBwR1u5cuWUP39+p+VERkbK19fXMR0SEqIjR47cyGYAuI245XQBAJCVSpQoIZvNpj/++MOpvVixYpIkLy+vVGPSuvTh2kB2dUjLkyePoy2FK5cpXLtsV2RUV1rbdi273a7mzZtr8eLFev7551W4cGFJVy6HkKTFixcrLCws1ZirpXepSIpSpUrp1KlTOnTokEJDQ53mXbx4UX/++aeaNm163Vpd2U9phei02t3d3VOtI2XbAVgXZ3gBWEpgYKBatGih9957T2fPnr2hZZQtW1Y//vijU9u6detUtmxZSVeeDiBJhw8fdsyPiYlJc1kbNmxw/P/Jkye1e/dulSlTJlvqqlSpkv766y/t3r073WXkyZNHn376qapXr66mTZvq0KFDkq6cDbXb7YqLi1OJEiWcXlefNc2MDh06yM3NTWPHjk01b8qUKTp79qweeeQRp/aM9pOHh4cuX76c4TrLlSunuLg4HTx40NG2Y8cOnTp1yrF/ANy5OMMLwHLef/991a9fXzVq1NDw4cNVqVIl5cmTR5s2bdIff/yh6tWrZzj++eefV6dOnVStWjU1a9ZMCxcu1Lx58xyPM/Py8lKdOnX05ptvKjIyUseOHdPLL7+c5rJee+01BQYGKigoSC+99JLuuusu3X///Rmu/++//04VoIsUKXLduho1aqSGDRuqQ4cOGjdunEqUKKE//vhDNptN99xzj2NZefPm1axZs/TII4+oadOmWrNmjYKDgzVkyBANGjRIycnJuvvuu5WQkKB169YpX7586tGjx3X2unOtY8aM0ZAhQ+Tp6alu3brJ3d1d33zzjf7zn//oueeeU+3atTO9nyIjI3XmzBmtXLlSlStXlre3d6rHkTVv3lyVKlVSly5dNH78eCUlJalPnz5q1KjRTV+CAcACcvICYgDILocOHTL9+vUzRYsWNe7u7iZfvnymVq1a5q233jJnz5519JNk5s+fn2r89R7/tWPHDlOnTh3j5eVlqlSpYpYtW5bmTWsLFy405cuXNx4eHqZmzZomJiYmw7ojIiJSPYZLkpk+fXqm6jp+/Lh57LHHTGBgoPH09DQVKlQwixYtMsakvvnr0qVL5sEHHzRly5Y1//zzj0lOTjbvvvuuKV26tHF3dzcFCxY0rVq1MtHR0U7bdPLkyUwcAWO++eYb06BBA+Pj42M8PT1N9erVzbRp05z6ZHY/9e7d2wQGBmbJY8mu9s4775iIiIhMbQ+A25fNmKsuQgMAZIk1a9aoSZMmOnnypKX+nG9WYz8BuBW4hhcAAACWRuAFAACApXFJAwAAACyNM7wAAACwNAIvAAAALI3ACwAAAEsj8AIAAMDSCLwAAACwNAIvAAAALI3ACwAAAEsj8AIAAMDS/g8yXJhHgS0ttgAAAABJRU5ErkJggg==\n",
      "text/plain": [
       "<Figure size 800x600 with 1 Axes>"
      ]
     },
     "metadata": {},
     "output_type": "display_data"
    }
   ],
   "source": [
    "import matplotlib.pyplot as plt\n",
    "import seaborn as sns\n",
    "category_order = ['very', 'somewhat', 'not very', 'depends', \"don't know\"]\n",
    "quant_df['group_locker'] = pd.Categorical(quant_df['group_locker'], categories=category_order, ordered=True)\n",
    "group_locker_counts = quant_df['group_locker'].value_counts()\n",
    "plt.figure(figsize=(8, 6))\n",
    "sns.barplot(x=group_locker_counts.index, y=group_locker_counts.values)\n",
    "plt.xlabel('Group Locker Option')\n",
    "plt.ylabel('Number of People')\n",
    "plt.title('Number of People by Group Locker Option')\n",
    "plt.show()"
   ]
  },
  {
   "cell_type": "markdown",
   "metadata": {},
   "source": [
    "#### Survey Question: How familiar are you and those in your family with the rules of the road for e-bikes? | Column: ebike_rules"
   ]
  },
  {
   "cell_type": "code",
   "execution_count": 17,
   "metadata": {},
   "outputs": [
    {
     "data": {
      "image/png": "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\n",
      "text/plain": [
       "<Figure size 800x600 with 1 Axes>"
      ]
     },
     "metadata": {},
     "output_type": "display_data"
    }
   ],
   "source": [
    "import matplotlib.pyplot as plt\n",
    "import seaborn as sns\n",
    "order = ['very', 'somewhat', 'not very', \"don't know\"]\n",
    "ebike_rules_counts = quant_df['ebike_rules'].value_counts()\n",
    "plt.figure(figsize=(8, 6))\n",
    "sns.barplot(x=ebike_rules_counts.index, y=ebike_rules_counts.values, order=order)\n",
    "plt.xlabel('Ebike Rules Option')\n",
    "plt.ylabel('Number of People')\n",
    "plt.title('Number of People by Ebike Rules Option')\n",
    "plt.show()"
   ]
  },
  {
   "cell_type": "markdown",
   "metadata": {},
   "source": [
    "#### Survey Question: How concerned are you about e-bikes and e-bike safety in San Diego County? | Column: safty"
   ]
  },
  {
   "cell_type": "code",
   "execution_count": 18,
   "metadata": {},
   "outputs": [
    {
     "data": {
      "image/png": "iVBORw0KGgoAAAANSUhEUgAAAq8AAAIhCAYAAABg21M1AAAAOXRFWHRTb2Z0d2FyZQBNYXRwbG90bGliIHZlcnNpb24zLjcuMCwgaHR0cHM6Ly9tYXRwbG90bGliLm9yZy88F64QAAAACXBIWXMAAA9hAAAPYQGoP6dpAABQQ0lEQVR4nO3deZxO9f//8edlzGoWxjILYyh7tgZlnyGyhVJ9FGIKCdn3NkOWkCUqlWRLRVEpZYmsgywhS9bBFLJmxjaMef/+8Jvr6zIzzDDjmpPH/Xa7bnXe533OeZ1lZp7O9b7OZTPGGAEAAAAWkMPZBQAAAADpRXgFAACAZRBeAQAAYBmEVwAAAFgG4RUAAACWQXgFAACAZRBeAQAAYBmEVwAAAFgG4RUAAACWQXgF7rHp06fLZrPJw8NDhw8fTjE/IiJCZcuWdUJl0ooVK2Sz2fTNN984ZfsZdejQITVp0kT+/v6y2Wzq2bNnmn2LFCkim81mf3l7e+vRRx/VzJkz713Bt5B8XRw6dChT1ncvz+WGDRv01FNPqXDhwnJ3d1dAQICqVaumPn363PE6J02apGLFisnNzU02m03//vtvupeNjo5WVFRUhpZJL2OMvvjiC9WtW1d58uSRu7u7HnjgAXXt2lWxsbF3vN6LFy8qKipKK1asSDEvs68NwOoIr4CTJCQk6I033nB2GZbWq1cvbdiwQZ999pnWrVunXr163bJ/jRo1tG7dOq1bt84eCNq1a6fJkyffo4r/exYuXKjq1asrLi5Oo0eP1pIlS/Tee++pRo0amjNnzh2tc+vWrerevbvq1Kmj5cuXa926dfLx8Un38tHR0RoyZEimh9ekpCQ9//zzat26tQIDAzV9+nQtXrxYPXv21IIFC1S+fHmtXbv2jtZ98eJFDRkyJNXw2qRJE61bt05BQUF3uQfAf0NOZxcA3K8aNmyoL774Qn379lWFChWcXc49denSJXl4eMhms93Venbs2KFHHnlETz75ZLr6586dW1WrVrVP16tXT6GhoRo3bpw6d+58V7Xcr0aPHq2iRYtq8eLFypnz//6kPPfccxo9evQdrXPnzp2SpI4dO+qRRx7JlDozw6hRozRnzhy98847GjBggL09IiJCLVu21KOPPqqnn35af/75p3Lnzp1p282fP7/y58+faesDrI47r4CT9O/fX3nz5nX4I5iaQ4cOyWazafr06Snm2Ww2RUVF2aejoqJks9m0fft2Pfvss/Lz85O/v7969+6txMRE7dmzRw0bNpSPj4+KFCmSZri4fPmyevfurcDAQHl6eio8PFy///57in6bNm1Ss2bN5O/vLw8PDz388MOaO3euQ5/kO5xLlizRSy+9pPz588vLy0sJCQlp7vORI0fUpk0bFShQQO7u7ipdurTGjh2rpKQkSf/3lvj+/fv1888/24cCZPRt1dy5c6tkyZIOwzf27dunVq1aOWz7gw8+yHCN0v+du9GjR2v48OEqXLiwPDw8VLlyZS1btixdNf7yyy967LHH5OvrKy8vL9WoUSPdy0q3P5ezZs2SzWbTunXrUiw7dOhQubq66ujRo2mu//Tp08qXL59DcE2WI4fjn5g5c+bo8ccfV1BQkDw9PVW6dGkNHDhQFy5csPeJiIhQmzZtJEmPPvqobDabIiMj0308oqKi1K9fP0lS0aJF7dfGihUr1L59e/n7++vixYspaq1bt64eeuihNPfzypUrGjNmjEqXLq3+/funmB8QEKCRI0fqn3/+0dSpUx32p2zZslq9erWqVq0qT09PFSxYUG+++aauXbsm6fp1khxOhwwZYq85eb/TGjbw2WefqUKFCvLw8JC/v7+eeuop7d6926FPZGSkvL29tX//fjVu3Fje3t4KCQlRnz59bvkzCGRrBsA9NW3aNCPJbNy40bz33ntGklm2bJl9fnh4uHnooYfs0zExMUaSmTZtWop1STKDBw+2Tw8ePNhIMiVLljRvv/22Wbp0qenfv7+RZF599VVTqlQpM3HiRLN06VLz4osvGklm3rx59uV//fVXI8mEhISY5s2bmx9++MF8/vnnplixYsbX19ccOHDA3nf58uXGzc3N1KpVy8yZM8csWrTIREZGpqg1eX8LFixoXn75ZfPzzz+bb775xiQmJqZ6fE6cOGEKFixo8ufPbz766COzaNEi8+qrrxpJpnPnzsYYY86dO2fWrVtnAgMDTY0aNcy6devMunXrzOXLl9M87qGhoaZJkyYObVeuXDEFChQwwcHBxhhjdu7cafz8/Ey5cuXMzJkzzZIlS0yfPn1Mjhw5TFRUVIZqvPHchYSEmJo1a5p58+aZr7/+2lSpUsW4urqa6OjoFMcpJibG3jZr1ixjs9nMk08+aebPn29++OEH88QTTxgXFxfzyy+/pLmvxqT/XCYkJJjAwEDTunVrh+WvXr1qgoODzbPPPnvL7XTo0MFIMt26dTPr1683V65cSbPv22+/bcaPH28WLlxoVqxYYT766CNTtGhRU6dOHXufnTt3mjfeeMN+Ha1bt87s378/3ccjNjbWdOvWzUgy8+fPt18b586dM9u2bTOSzJQpUxzq2rlzp5FkPvjggzRrj46ONpLMgAED0uwTHx9vcuTIYRo0aGBvCw8PN3nz5jXBwcFm4sSJZvHixaZ79+5GkunatasxxpjLly+bRYsWGUmmffv29pqT9zu1a2PEiBFGknn++efNwoULzcyZM80DDzxg/Pz8zN69e+392rVrZ9zc3Ezp0qXNu+++a3755Rfz1ltvGZvNZoYMGZLmvgDZGeEVuMduDK8JCQnmgQceMJUrVzZJSUnGmMwJr2PHjnXoV7FiRfsf82RXr141+fPnNy1atLC3JQeesLAwez3GGHPo0CHj6upqOnToYG8rVaqUefjhh83Vq1cdtvXEE0+YoKAgc+3aNYf9bdu2bbqOz8CBA40ks2HDBof2zp07G5vNZvbs2WNvSy2QpiU0NNQ0btzYXL161Vy9etXExMSYdu3aGUmmX79+xhhjGjRoYAoVKmTOnTvnsOyrr75qPDw8zJkzZzJUY/K5Cw4ONpcuXbL3i4uLM/7+/qZevXr2tpsDyoULF4y/v79p2rSpwzauXbtmKlSoYB555JFb7m9GzuXgwYONm5ub+eeff+xtc+bMMZLMypUrb7mdU6dOmZo1axpJRpJxdXU11atXNyNHjjTx8fFpLpeUlGSuXr1qVq5caSSZbdu2pTgWGzdutLdl5HiMGTMmRdhLFh4ebipWrOjQ1rlzZ+Pr63vLer/66isjyXz00Udp9jHGmICAAFO6dGmH7Uky33//vUO/jh07mhw5cpjDhw8bY4w5efJkip/nZDdfG2fPnjWenp6mcePGDv2OHDli3N3dTatWrextydf43LlzHfo2btzYlCxZ8pb7AmRXDBsAnMjNzU3Dhg3Tpk2bUrzdfjeeeOIJh+nSpUvLZrOpUaNG9racOXOqWLFiqT7xoFWrVg7jUUNDQ1W9enX9+uuvkqT9+/frzz//VOvWrSVJiYmJ9lfjxo117Ngx7dmzx2GdTz/9dLpqX758ucqUKZNirGNkZKSMMVq+fHm61pOan376Sa6urnJ1dVXRokU1d+5cdevWTcOGDdPly5e1bNkyPfXUU/Ly8kqxT5cvX9b69evvqMYWLVrIw8PDPu3j46OmTZtq1apV9reObxYdHa0zZ86oXbt2DrUkJSWpYcOG2rhxo8Pb7Wm53bmUZB/vO2XKFHvb+++/r3Llyql27dq3XH/evHm1evVqbdy4Ue+8846aN2+uvXv3atCgQSpXrpxOnTpl73vw4EG1atVKgYGBcnFxkaurq8LDwyUpxdvdWXU8evTooa1bt9o/WBUXF6dZs2apXbt28vb2vu3yt2OMSTGW28fHR82aNXNoa9WqlZKSkrRq1aoMb2PdunW6dOmSw3AKSQoJCVHdunVTDCux2Wxq2rSpQ1v58uVT/dkHrIDwCjjZc889p7CwML3++uu6evVqpqzT39/fYdrNzU1eXl4OASq5/fLlyymWDwwMTLXt9OnTkqR//vlHktS3b197GEx+denSRZIcQoukdH9S+vTp06n2DQ4Ots+/UzVr1tTGjRu1adMm7dq1S//++68mTpwoNzc3nT59WomJiZo0aVKKfWrcuLHDPmW0xrSO55UrV3T+/PlUa00+xs8880yKekaNGiVjjM6cOXPbfb7duZSuj9ds2bKlPv74Y127dk3bt2/X6tWr9eqrr952/ckqV66sAQMG6Ouvv9bRo0fVq1cvHTp0yD6u+vz586pVq5Y2bNigYcOGacWKFdq4caPmz58v6fqH+G4ls45H8+bNVaRIEfs45unTp+vChQvq2rXrLZcrXLiwJCkmJibNPhcuXNCpU6cUEhLi0B4QEJCib/J5uZPrOXmZtK7Bm9eZ2s++u7t7qj/7gBXwtAHAyWw2m0aNGqX69evrk08+STE/+Y/OzR+uuJsQdzvHjx9PtS1v3rySpHz58kmSBg0apBYtWqS6jpIlSzpMp/fJAnnz5tWxY8dStCd/aCh523fCz89PlStXTnVenjx55OLiohdeeCHNIFO0aNE7qjGt4+nm5pbm3b7kdUyaNMnhCQk3Si0Upbad1NqSz2WyHj16aNasWfr++++1aNEi5c6d235nPaNcXV01ePBgjR8/Xjt27JB0/W710aNHtWLFCvvdVknpfpxVZh2PHDlyqGvXrnrttdc0duxYffjhh3rsscdSXK83q1SpkvLkyaMFCxZo5MiRqV7PCxYsUFJSkurXr+/Qnhy8b5R8Xm4+D+mRvExa1+Dd/IwAVsCdVyAbqFevnurXr6+hQ4emuBMXEBAgDw8Pbd++3aH9+++/z7J6vvzySxlj7NOHDx9WdHS0IiIiJF0PpsWLF9e2bdtUuXLlVF8ZeS7njR577DHt2rVLW7ZscWifOXOmbDab6tSpc8f7dSteXl6qU6eOfv/9d5UvXz7VfUoODRmtcf78+Q53ueLj4/XDDz+oVq1acnFxSbWeGjVqKHfu3Nq1a1eax9jNze22+3W7c5msUqVKql69ukaNGqXZs2crMjJSuXLluu36UwtQ0v8NA0i+G50c9tzd3R36ffzxx7fdhpSx45G8jbTu5nbo0EFubm5q3bq19uzZk647zG5uburXr592796tMWPGpJh/4sQJDRo0SAEBAerQoYPDvPj4eC1YsMCh7YsvvlCOHDnswzJuV/ONqlWrJk9PT33++ecO7X/99ZeWL1+uxx577LbrAKyMO69ANjFq1ChVqlRJJ06ccHhkj81mU5s2bfTZZ5/pwQcfVIUKFfTbb7/piy++yLJaTpw4oaeeekodO3bUuXPnNHjwYHl4eGjQoEH2Ph9//LEaNWqkBg0aKDIyUgULFtSZM2e0e/dubdmyRV9//fUdbbtXr16aOXOmmjRpoqFDhyo0NFQLFy7Uhx9+qM6dO6tEiRKZtZspvPfee6pZs6Zq1aqlzp07q0iRIoqPj9f+/fv1ww8/2MeyZrRGFxcX1a9fX71791ZSUpJGjRqluLg4DRkyJM1avL29NWnSJLVr105nzpzRM888owIFCujkyZPatm2bTp48ma4vV0jPuUzWo0cPtWzZUjabzT7843YaNGigQoUKqWnTpipVqpSSkpK0detWjR07Vt7e3urRo4ckqXr16sqTJ49eeeUVDR48WK6urpo9e7a2bduWru1k5HiUK1dO0vXz2a5dO7m6uqpkyZL2f1Dlzp1bbdu21eTJkxUaGppiPGhaBgwYoG3bttn/27JlS/n5+Wn79u0aM2aM4uPj9eOPP8rPz89hubx586pz5846cuSISpQooZ9++klTpkxR586d7cMRfHx8FBoaqu+//16PPfaY/P39lS9fPhUpUiRFHblz59abb76p1157TW3bttXzzz+v06dPa8iQIfLw8NDgwYPTtT+AZTnxw2LAfSm1T1Ina9WqlZHk8LQBY64/GqpDhw4mICDA5MqVyzRt2tQcOnQozacNnDx50mH5du3amVy5cqXY3s1PNkj+hPqsWbNM9+7dTf78+Y27u7upVauW2bRpU4rlt23bZv73v/+ZAgUKGFdXVxMYGGjq1q3r8InsW+1vWg4fPmxatWpl8ubNa1xdXU3JkiXNmDFj7E8wSJbRpw2kp29MTIx56aWXTMGCBY2rq6vJnz+/qV69uhk2bFiGa0x+2sCoUaPMkCFDTKFChYybm5t5+OGHzeLFix3Wl9rjkIwxZuXKlaZJkybG39/fuLq6moIFC5omTZqYr7/++pb7kdFzacz1x2a5u7ubhg0b3vY4JZszZ45p1aqVKV68uPH29jaurq6mcOHC5oUXXjC7du1y6BsdHW2qVatmvLy8TP78+U2HDh3Mli1b0ny8WmrXTHqPx6BBg0xwcLDJkSOHkWR+/fVXh/krVqwwksw777yT7n015vpTEmbPnm0iIiJM7ty5jZubmylatKjp3Lmz/ckBN0r+GVuxYoWpXLmycXd3N0FBQea1115L8aSOX375xTz88MPG3d3dSDLt2rVzOB43XxuffvqpKV++vHFzczN+fn6mefPmZufOnQ590vrZT/5dAViRzZgb3k8CAGSaQ4cOqWjRohozZoz69u3r7HJu64cfflCzZs20cOFC+4fU/qv69OmjyZMnKzY29o7GnaZXRESETp06ZR/7C+DuMWwAAO5zu3bt0uHDh9WnTx9VrFjR4ZFq/zXr16/X3r179eGHH6pTp05ZGlwBZA3CKwDc57p06aK1a9cqLCxMM2bMSPeTIayoWrVq8vLy0hNPPKFhw4Y5uxwAd4BhAwAAALAMHpUFAAAAyyC8AgAAwDIIrwAAALCM//wHtpKSknT06FH5+Pj8pz+EAAAAYFXGGMXHxys4OFg5ctz63up/PrwePXpUISEhzi4DAAAAtxEbG6tChQrdss9/Prwmfx1gbGysfH19nVwNAAAAbhYXF6eQkBB7bruV/3x4TR4q4OvrS3gFAADIxtIzxJMPbAEAAMAyCK8AAACwDMIrAAAALIPwCgAAAMsgvAIAAMAyCK8AAACwDMIrAAAALIPwCgAAAMsgvAIAAMAyCK8AAACwDMIrAAAALIPwCgAAAMsgvAIAAMAyCK8AAACwDMIrAAAALIPwCgAAAMsgvAIAAMAyCK8AAACwDMIrAAAALCOnswsAnO3I0HLOLgE3KPzWH84uAQCQjXHnFQAAAJZBeAUAAIBlEF4BAABgGYRXAAAAWAbhFQAAAJZBeAUAAIBlEF4BAABgGYRXAAAAWAbhFQAAAJZBeAUAAIBlEF4BAABgGYRXAAAAWIZTw+vIkSNVpUoV+fj4qECBAnryySe1Z88ehz6RkZGy2WwOr6pVqzqpYgAAADiTU8PrypUr1bVrV61fv15Lly5VYmKiHn/8cV24cMGhX8OGDXXs2DH766effnJSxQAAAHCmnM7c+KJFixymp02bpgIFCmjz5s2qXbu2vd3d3V2BgYH3ujwAAABkM9lqzOu5c+ckSf7+/g7tK1asUIECBVSiRAl17NhRJ06cSHMdCQkJiouLc3gBAADgvyHbhFdjjHr37q2aNWuqbNmy9vZGjRpp9uzZWr58ucaOHauNGzeqbt26SkhISHU9I0eOlJ+fn/0VEhJyr3YBAAAAWcxmjDHOLkKSunbtqoULF2rNmjUqVKhQmv2OHTum0NBQffXVV2rRokWK+QkJCQ7BNi4uTiEhITp37px8fX2zpHZY25Gh5ZxdAm5Q+K0/nF0CAOAei4uLk5+fX7rymlPHvCbr1q2bFixYoFWrVt0yuEpSUFCQQkNDtW/fvlTnu7u7y93dPSvKBAAAgJM5NbwaY9StWzd9++23WrFihYoWLXrbZU6fPq3Y2FgFBQXdgwoBAACQnTh1zGvXrl31+eef64svvpCPj4+OHz+u48eP69KlS5Kk8+fPq2/fvlq3bp0OHTqkFStWqGnTpsqXL5+eeuopZ5YOAAAAJ3DqndfJkydLkiIiIhzap02bpsjISLm4uOiPP/7QzJkz9e+//yooKEh16tTRnDlz5OPj44SKAQAA4ExOHzZwK56enlq8ePE9qgYAAADZXbZ5VBYAAABwO4RXAAAAWAbhFQAAAJZBeAUAAIBlEF4BAABgGYRXAAAAWAbhFQAAAJZBeAUAAIBlEF4BAABgGYRXAAAAWAbhFQAAAJZBeAUAAIBlEF4BAABgGYRXAAAAWAbhFQAAAJZBeAUAAIBlEF4BAABgGYRXAAAAWAbhFQAAAJZBeAUAAIBlEF4BAABgGYRXAAAAWAbhFQAAAJZBeAUAAIBlEF4BAABgGYRXAAAAWAbhFQAAAJZBeAUAAIBlEF4BAABgGYRXAAAAWAbhFQAAAJZBeAUAAIBlEF4BAABgGYRXAAAAWAbhFQAAAJZBeAUAAIBlEF4BAABgGYRXAAAAWAbhFQAAAJZBeAUAAIBlEF4BAABgGYRXAAAAWAbhFQAAAJZBeAUAAIBlEF4BAABgGYRXAAAAWAbhFQAAAJZBeAUAAIBlEF4BAABgGYRXAAAAWAbhFQAAAJZBeAUAAIBlEF4BAABgGYRXAAAAWAbhFQAAAJZBeAUAAIBlEF4BAABgGYRXAAAAWAbhFQAAAJZBeAUAAIBlEF4BAABgGYRXAAAAWAbhFQAAAJZBeAUAAIBlEF4BAABgGYRXAAAAWAbhFQAAAJZBeAUAAIBlEF4BAABgGYRXAAAAWAbhFQAAAJZBeAUAAIBlEF4BAABgGU4NryNHjlSVKlXk4+OjAgUK6Mknn9SePXsc+hhjFBUVpeDgYHl6eioiIkI7d+50UsUAAABwJqeG15UrV6pr165av369li5dqsTERD3++OO6cOGCvc/o0aM1btw4vf/++9q4caMCAwNVv359xcfHO7FyAAAAOIPNGGOcXUSykydPqkCBAlq5cqVq164tY4yCg4PVs2dPDRgwQJKUkJCggIAAjRo1Sp06dbrtOuPi4uTn56dz587J19c3q3cBFnRkaDlnl4AbFH7rD2eXAAC4xzKS17LVmNdz585Jkvz9/SVJMTExOn78uB5//HF7H3d3d4WHhys6OjrVdSQkJCguLs7hBQAAgP+GbBNejTHq3bu3atasqbJly0qSjh8/LkkKCAhw6BsQEGCfd7ORI0fKz8/P/goJCcnawgEAAHDPZJvw+uqrr2r79u368ssvU8yz2WwO08aYFG3JBg0apHPnztlfsbGxWVIvAAAA7r2czi5Akrp166YFCxZo1apVKlSokL09MDBQ0vU7sEFBQfb2EydOpLgbm8zd3V3u7u5ZWzAAAACcwql3Xo0xevXVVzV//nwtX75cRYsWdZhftGhRBQYGaunSpfa2K1euaOXKlapevfq9LhcAAABO5tQ7r127dtUXX3yh77//Xj4+PvZxrH5+fvL09JTNZlPPnj01YsQIFS9eXMWLF9eIESPk5eWlVq1aObN0AAAAOIFTw+vkyZMlSREREQ7t06ZNU2RkpCSpf//+unTpkrp06aKzZ8/q0Ucf1ZIlS+Tj43OPqwUAAICzZavnvGYFnvOK2+E5r9kLz3kFgPuPZZ/zCgAAANwK4RUAAACWQXgFAACAZRBeAQAAYBmEVwAAAFgG4RUAAACWQXgFAACAZRBeAQAAYBmEVwAAAFgG4RUAAACWQXgFAACAZRBeAQAAYBmEVwAAAFgG4RUAAACWQXgFAACAZRBeAQAAYBmEVwAAAFgG4RUAAACWQXgFAACAZRBeAQAAYBmEVwAAAFgG4RUAAACWQXgFAACAZRBeAQAAYBmEVwAAAFgG4RUAAACWQXgFAACAZRBeAQAAYBmEVwAAAFgG4RUAAACWQXgFAACAZRBeAQAAYBmEVwAAAFgG4RUAAACWQXgFAACAZRBeAQAAYBmEVwAAAFgG4RUAAACWQXgFAACAZRBeAQAAYBl3FF7//fdfffrppxo0aJDOnDkjSdqyZYv+/vvvTC0OAAAAuFHOjC6wfft21atXT35+fjp06JA6duwof39/ffvttzp8+LBmzpyZFXUCAAAAGb/z2rt3b0VGRmrfvn3y8PCwtzdq1EirVq3K1OIAAACAG2U4vG7cuFGdOnVK0V6wYEEdP348U4oCAAAAUpPh8Orh4aG4uLgU7Xv27FH+/PkzpSgAAAAgNRkOr82bN9fQoUN19epVSZLNZtORI0c0cOBAPf3005leIAAAAJAsw+H13Xff1cmTJ1WgQAFdunRJ4eHhKlasmHx8fDR8+PCsqBEAAACQdAdPG/D19dWaNWu0fPlybdmyRUlJSQoLC1O9evWyoj4AAADALsPhNVndunVVt27dzKwFAAAAuKV0hdeJEyeme4Xdu3e/42IAAACAW0lXeB0/fny6Vmaz2QivAAAAyDLpCq8xMTFZXQcAAABwWxl+2sCNjDEyxmRWLQAAAMAt3VF4nTp1qsqWLSsPDw95eHiobNmy+vTTTzO7NgAAAMBBhp828Oabb2r8+PHq1q2bqlWrJklat26devXqpUOHDmnYsGGZXiQAAAAg3UF4nTx5sqZMmaLnn3/e3tasWTOVL19e3bp1I7wCAAAgy2R42MC1a9dUuXLlFO2VKlVSYmJiphQFAAAApCbD4bVNmzaaPHlyivZPPvlErVu3zpSiAAAAgNTc0TdsTZ06VUuWLFHVqlUlSevXr1dsbKzatm2r3r172/uNGzcuc6oEAAAAdAfhdceOHQoLC5MkHThwQJKUP39+5c+fXzt27LD3s9lsmVQiAAAAcF2Gw+uvv/6aFXUAAAAAt3VXX1Lw119/6e+//86sWgAAAIBbynB4TUpK0tChQ+Xn56fQ0FAVLlxYuXPn1ttvv62kpKSsqBEAAACQdAfDBl5//XVNnTpV77zzjmrUqCFjjNauXauoqChdvnxZw4cPz4o6AQAAgIyH1xkzZujTTz9Vs2bN7G0VKlRQwYIF1aVLF8IrAAAAskyGhw2cOXNGpUqVStFeqlQpnTlzJlOKAgAAAFKT4fBaoUIFvf/++yna33//fVWoUCFTigIAAABSk+FhA6NHj1aTJk30yy+/qFq1arLZbIqOjlZsbKx++umnrKgRAAAAkHQHd17Dw8O1d+9ePfXUU/r333915swZtWjRQnv27FGtWrWyokYAAABA0h1+PWxwcDAfzAIAAMA9d0dfUrB69Wq1adNG1atXt39JwaxZs7RmzZpMLQ4AAAC4UYbD67x589SgQQN5enpqy5YtSkhIkCTFx8drxIgRmV4gAAAAkCzD4XXYsGH66KOPNGXKFLm6utrbq1evri1btmRqcQAAAMCNMhxe9+zZo9q1a6do9/X11b///psZNQEAAACpynB4DQoK0v79+1O0r1mzRg888ECG1rVq1So1bdpUwcHBstls+u677xzmR0ZGymazObyqVq2a0ZIBAADwH5Hh8NqpUyf16NFDGzZskM1m09GjRzV79mz17dtXXbp0ydC6Lly4kOaXHiRr2LChjh07Zn/xLFkAAID7V4YfldW/f3+dO3dOderU0eXLl1W7dm25u7urb9++evXVVzO0rkaNGqlRo0a37OPu7q7AwMCMlgkAAID/oDt6zuvw4cP1+uuva9euXUpKSlKZMmXk7e2d2bVJklasWKECBQood+7cCg8P1/Dhw1WgQIE0+yckJNifgCBJcXFxWVIXAAAA7r10h9eLFy+qX79++u6773T16lXVq1dPEydOVL58+bKsuEaNGunZZ59VaGioYmJi9Oabb6pu3bravHmz3N3dU11m5MiRGjJkyF1tt1K/mXe1PDLX5jFtnV0CAADIJtI95nXw4MGaPn26mjRpoueee05Lly5V586ds7I2tWzZUk2aNFHZsmXVtGlT/fzzz9q7d68WLlyY5jKDBg3SuXPn7K/Y2NgsrREAAAD3TrrvvM6fP19Tp07Vc889J0lq06aNatSooWvXrsnFxSXLCrxRUFCQQkNDtW/fvjT7uLu7p3lXFgAAANaW7juvsbGxqlWrln36kUceUc6cOXX06NEsKSw1p0+fVmxsrIKCgu7ZNgEAAJB9pPvO67Vr1+Tm5ua4cM6cSkxMvOONnz9/3uGZsTExMdq6dav8/f3l7++vqKgoPf300woKCtKhQ4f02muvKV++fHrqqafueJsAAACwrnSHV2OMIiMjHd6Sv3z5sl555RXlypXL3jZ//vx0b3zTpk2qU6eOfbp3796SpHbt2mny5Mn6448/NHPmTP37778KCgpSnTp1NGfOHPn4+KR7GwAAAPjvSHd4bdeuXYq2Nm3a3NXGIyIiZIxJc/7ixYvvav0AAAD4b0l3eJ02bVpW1gEAAADcVoa/HhYAAABwFsIrAAAALIPwCgAAAMsgvAIAAMAy0hVew8LCdPbsWUnS0KFDdfHixSwtCgAAAEhNusLr7t27deHCBUnSkCFDdP78+SwtCgAAAEhNuh6VVbFiRb344ouqWbOmjDF699135e3tnWrft956K1MLBAAAAJKlK7xOnz5dgwcP1o8//iibzaaff/5ZOXOmXNRmsxFeAQAAkGXSFV5Lliypr776SpKUI0cOLVu2TAUKFMjSwgAAAICbpfsbtpIlJSVlRR0AAADAbWU4vErSgQMHNGHCBO3evVs2m02lS5dWjx499OCDD2Z2fQAAAIBdhp/zunjxYpUpU0a//fabypcvr7Jly2rDhg166KGHtHTp0qyoEQAAAJB0B3deBw4cqF69eumdd95J0T5gwADVr18/04oDAAAAbpThO6+7d+9W+/btU7S/9NJL2rVrV6YUBQAAAKQmw+E1f/782rp1a4r2rVu38gQCAAAAZKkMDxvo2LGjXn75ZR08eFDVq1eXzWbTmjVrNGrUKPXp0ycragQAAAAk3UF4ffPNN+Xj46OxY8dq0KBBkqTg4GBFRUWpe/fumV4gAAAAkCzD4dVms6lXr17q1auX4uPjJUk+Pj6ZXhgAAABwszt6zmsyQisAAADupQx/YAsAAABwFsIrAAAALIPwCgAAAMvIUHi9evWq6tSpo71792ZVPQAAAECaMhReXV1dtWPHDtlstqyqBwAAAEhThocNtG3bVlOnTs2KWgAAAIBbyvCjsq5cuaJPP/1US5cuVeXKlZUrVy6H+ePGjcu04gAAAIAbZTi87tixQ2FhYZKUYuwrwwkAAACQlTIcXn/99desqAMAAAC4rTt+VNb+/fu1ePFiXbp0SZJkjMm0ogAAAIDUZDi8nj59Wo899phKlCihxo0b69ixY5KkDh06qE+fPpleIAAAAJAsw+G1V69ecnV11ZEjR+Tl5WVvb9mypRYtWpSpxQEAAAA3yvCY1yVLlmjx4sUqVKiQQ3vx4sV1+PDhTCsMAAAAuFmG77xeuHDB4Y5rslOnTsnd3T1TigIAAABSk+HwWrt2bc2cOdM+bbPZlJSUpDFjxqhOnTqZWhwAAABwowwPGxgzZowiIiK0adMmXblyRf3799fOnTt15swZrV27NitqBAAAACTdwZ3XMmXKaPv27XrkkUdUv359XbhwQS1atNDvv/+uBx98MCtqBAAAACTdwZ1XSQoMDNSQIUMyuxYAAADglu4ovJ49e1ZTp07V7t27ZbPZVLp0ab344ovy9/fP7PoAAAAAuwwPG1i5cqWKFi2qiRMn6uzZszpz5owmTpyookWLauXKlVlRIwAAACDpDu68du3aVf/73/80efJkubi4SJKuXbumLl26qGvXrtqxY0emFwkAAABId3Dn9cCBA+rTp489uEqSi4uLevfurQMHDmRqcQAAAMCNMhxew8LCtHv37hTtu3fvVsWKFTOjJgAAACBV6Ro2sH37dvv/d+/eXT169ND+/ftVtWpVSdL69ev1wQcf6J133smaKgEAAAClM7xWrFhRNptNxhh7W//+/VP0a9WqlVq2bJl51QEAcBdW1g53dgm4QfgqPtiNu5eu8BoTE5PVdQAAAAC3la7wGhoamtV1AAAAALd1R19S8Pfff2vt2rU6ceKEkpKSHOZ17949UwoDAAAAbpbh8Dpt2jS98sorcnNzU968eWWz2ezzbDYb4RUAAABZJsPh9a233tJbb72lQYMGKUeODD9pCwAAALhjGU6fFy9e1HPPPUdwBQAAwD2X4QTavn17ff3111lRCwAAAHBLGR42MHLkSD3xxBNatGiRypUrJ1dXV4f548aNy7TiAAAAgBtlOLyOGDFCixcvVsmSJSUpxQe2AAAAgKyS4fA6btw4ffbZZ4qMjMyCcgAAAIC0ZXjMq7u7u2rUqJEVtQAAAAC3lOHw2qNHD02aNCkragEAAABuKcPDBn777TctX75cP/74ox566KEUH9iaP39+phUHAAAA3CjD4TV37txq0aJFVtQCAAAA3NIdfT0sAAAA4Ax8TRYAAAAsI8N3XosWLXrL57kePHjwrgoCAAAA0pLh8NqzZ0+H6atXr+r333/XokWL1K9fv8yqCwAAAEghw+G1R48eqbZ/8MEH2rRp010XBAAAAKQl08a8NmrUSPPmzcus1QEAAAApZFp4/eabb+Tv759ZqwMAAABSyPCwgYcfftjhA1vGGB0/flwnT57Uhx9+mKnFAQAAADfKcHh98sknHaZz5Mih/PnzKyIiQqVKlcqsugAAAIAUMhxeBw8enBV1AAAAALfFlxQAAADAMtJ95zVHjhy3/HICSbLZbEpMTLzrogAAAIDUpDu8fvvtt2nOi46O1qRJk2SMyZSiAAAAgNSkO7w2b948Rduff/6pQYMG6YcfflDr1q319ttvZ2pxAAAAwI3uaMzr0aNH1bFjR5UvX16JiYnaunWrZsyYocKFC2d2fQAAAIBdhsLruXPnNGDAABUrVkw7d+7UsmXL9MMPP6hs2bJ3tPFVq1apadOmCg4Ols1m03fffecw3xijqKgoBQcHy9PTUxEREdq5c+cdbQsAAADWl+7wOnr0aD3wwAP68ccf9eWXXyo6Olq1atW6q41fuHBBFSpU0Pvvv5/mNseNG6f3339fGzduVGBgoOrXr6/4+Pi72i4AAACsKd1jXgcOHChPT08VK1ZMM2bM0IwZM1LtN3/+/HRvvFGjRmrUqFGq84wxmjBhgl5//XW1aNFCkjRjxgwFBAToiy++UKdOnVJdLiEhQQkJCfbpuLi4dNcDAACA7C3d4bVt27a3fVRWZoqJidHx48f1+OOP29vc3d0VHh6u6OjoNMPryJEjNWTIkHtVJgAAAO6hdIfX6dOnZ2EZKR0/flySFBAQ4NAeEBCgw4cPp7ncoEGD1Lt3b/t0XFycQkJCsqZIAAAA3FMZ/nrYe+3mu73GmFveAXZ3d5e7u3tWlwUAAAAnyLZfDxsYGCjp/+7AJjtx4kSKu7EAAAC4P2Tb8Fq0aFEFBgZq6dKl9rYrV65o5cqVql69uhMrAwAAgLM4ddjA+fPntX//fvt0TEyMtm7dKn9/fxUuXFg9e/bUiBEjVLx4cRUvXlwjRoyQl5eXWrVq5cSqAQAA4CxODa+bNm1SnTp17NPJH7Rq166dpk+frv79++vSpUvq0qWLzp49q0cffVRLliyRj4+Ps0oGAACAEzk1vEZERMgYk+Z8m82mqKgoRUVF3buiAAAAkG1l2zGvAAAAwM0IrwAAALAMwisAAAAsg/AKAAAAyyC8AgAAwDIIrwAAALAMwisAAAAsg/AKAAAAyyC8AgAAwDIIrwAAALAMwisAAAAsg/AKAAAAyyC8AgAAwDIIrwAAALAMwisAAAAsg/AKAAAAyyC8AgAAwDIIrwAAALAMwisAAAAsg/AKAAAAyyC8AgAAwDIIrwAAALAMwisAAAAsg/AKAAAAyyC8AgAAwDIIrwAAALCMnM4uAADupRqTaji7BNxgbbe1zi4BgMVw5xUAAACWQXgFAACAZRBeAQAAYBmEVwAAAFgG4RUAAACWQXgFAACAZRBeAQAAYBmEVwAAAFgG4RUAAACWQXgFAACAZRBeAQAAYBmEVwAAAFgG4RUAAACWQXgFAACAZRBeAQAAYBmEVwAAAFgG4RUAAACWQXgFAACAZRBeAQAAYBmEVwAAAFgG4RUAAACWQXgFAACAZRBeAQAAYBmEVwAAAFgG4RUAAACWQXgFAACAZRBeAQAAYBmEVwAAAFgG4RUAAACWQXgFAACAZRBeAQAAYBmEVwAAAFgG4RUAAACWQXgFAACAZRBeAQAAYBmEVwAAAFgG4RUAAACWQXgFAACAZRBeAQAAYBmEVwAAAFgG4RUAAACWQXgFAACAZRBeAQAAYBmEVwAAAFgG4RUAAACWQXgFAACAZWTr8BoVFSWbzebwCgwMdHZZAAAAcJKczi7gdh566CH98ssv9mkXFxcnVgMAAABnyvbhNWfOnNxtBQAAgKRsPmxAkvbt26fg4GAVLVpUzz33nA4ePHjL/gkJCYqLi3N4AQAA4L8hW4fXRx99VDNnztTixYs1ZcoUHT9+XNWrV9fp06fTXGbkyJHy8/Ozv0JCQu5hxQAAAMhK2Tq8NmrUSE8//bTKlSunevXqaeHChZKkGTNmpLnMoEGDdO7cOfsrNjb2XpULAACALJbtx7zeKFeuXCpXrpz27duXZh93d3e5u7vfw6oAAABwr2TrO683S0hI0O7duxUUFOTsUgAAAOAE2Tq89u3bVytXrlRMTIw2bNigZ555RnFxcWrXrp2zSwMAAIATZOthA3/99Zeef/55nTp1Svnz51fVqlW1fv16hYaGOrs0AAAAOEG2Dq9fffWVs0sAAABANpKthw0AAAAANyK8AgAAwDIIrwAAALAMwisAAAAsg/AKAAAAyyC8AgAAwDIIrwAAALAMwisAAAAsg/AKAAAAyyC8AgAAwDIIrwAAALAMwisAAAAsg/AKAAAAyyC8AgAAwDIIrwAAALAMwisAAAAsg/AKAAAAyyC8AgAAwDIIrwAAALAMwisAAAAsg/AKAAAAyyC8AgAAwDIIrwAAALAMwisAAAAsg/AKAAAAyyC8AgAAwDIIrwAAALAMwisAAAAsg/AKAAAAyyC8AgAAwDIIrwAAALAMwisAAAAsg/AKAAAAyyC8AgAAwDIIrwAAALAMwisAAAAsg/AKAAAAyyC8AgAAwDIIrwAAALAMwisAAAAsg/AKAAAAyyC8AgAAwDIIrwAAALAMwisAAAAsg/AKAAAAyyC8AgAAwDIIrwAAALAMwisAAAAsg/AKAAAAyyC8AgAAwDIIrwAAALAMwisAAAAsg/AKAAAAyyC8AgAAwDIIrwAAALAMwisAAAAsg/AKAAAAyyC8AgAAwDIIrwAAALAMwisAAAAsg/AKAAAAy8jp7AIAAAAyw/t9fnB2CbjBq2ObZsl6ufMKAAAAyyC8AgAAwDIIrwAAALAMwisAAAAsg/AKAAAAyyC8AgAAwDIIrwAAALAMwisAAAAsg/AKAAAAyyC8AgAAwDIIrwAAALAMwisAAAAswxLh9cMPP1TRokXl4eGhSpUqafXq1c4uCQAAAE6Q7cPrnDlz1LNnT73++uv6/fffVatWLTVq1EhHjhxxdmkAAAC4x7J9eB03bpzat2+vDh06qHTp0powYYJCQkI0efJkZ5cGAACAeyynswu4lStXrmjz5s0aOHCgQ/vjjz+u6OjoVJdJSEhQQkKCffrcuXOSpLi4uHRv91rCpTuoFlklI+fuTsRfvpal60fGZPX5TryUmKXrR8Zk9fm+kMj5zk6y+nxfSriYpetHxmTkfCf3Ncbctm+2Dq+nTp3StWvXFBAQ4NAeEBCg48ePp7rMyJEjNWTIkBTtISEhWVIjsp7fpFecXQLupZF+zq4A95DfAM73fcWP830/6f9BxpeJj4+X322uk2wdXpPZbDaHaWNMirZkgwYNUu/eve3TSUlJOnPmjPLmzZvmMv9FcXFxCgkJUWxsrHx9fZ1dDrIY5/v+wvm+v3C+7y/36/k2xig+Pl7BwcG37Zutw2u+fPnk4uKS4i7riRMnUtyNTebu7i53d3eHtty5c2dVidmer6/vfXXx3+843/cXzvf9hfN9f7kfz/ft7rgmy9Yf2HJzc1OlSpW0dOlSh/alS5eqevXqTqoKAAAAzpKt77xKUu/evfXCCy+ocuXKqlatmj755BMdOXJEr7zCOEgAAID7TbYPry1bttTp06c1dOhQHTt2TGXLltVPP/2k0NBQZ5eWrbm7u2vw4MEphlDgv4nzfX/hfN9fON/3F8737dlMep5JAAAAAGQD2XrMKwAAAHAjwisAAAAsg/AKAAAAyyC8Ave5iIgI9ezZ09llAPiPKlKkiCZMmODsMjIkO/1etOLxy2qEVwB3bfr06ff1l4FklqioKFWsWNHZZSAVnBvcraioKEVGRtqns1NAthrC633o6tWrzi4BQDZz5coVZ5cAJ+Hcw2oIr9ncxx9/rIIFCyopKcmhvVmzZmrXrp0k6YcfflClSpXk4eGhBx54QEOGDFFiYqK9r81m00cffaTmzZsrV65cGjZsmIoVK6Z3333XYZ07duxQjhw5dODAgazfsf+Qb775RuXKlZOnp6fy5s2revXq6cKFC0pKStLQoUNVqFAhubu7q2LFilq0aJF9uUOHDslms2nu3LmqVauWPD09VaVKFe3du1cbN25U5cqV5e3trYYNG+rkyZMO25w2bZpKly4tDw8PlSpVSh9++KF93tNPP61u3brZp3v27CmbzaadO3dKkhITE+Xj46PFixfb+yQlJal///7y9/dXYGCgoqKiHLY3btw4lStXTrly5VJISIi6dOmi8+fPS5JWrFihF198UefOnZPNZpPNZkux/P0gIiJC3bt3v+VxPHLkiJo3by5vb2/5+vrqf//7n/755x9J1+9eDxkyRNu2bbMfx+nTp6fYzuLFi+Xh4aF///3Xob179+4KDw+3T0dHR6t27dry9PRUSEiIunfvrgsXLtjnFylSRMOGDVNkZKT8/PzUsWNH1a1bV6+++qrDek+fPi13d3ctX7787g6QE92rc5Pss88+00MPPSR3d3cFBQU5HNNbbUf6vzu8s2bNUpEiReTn56fnnntO8fHx9j5JSUkaNWqUihUrJnd3dxUuXFjDhw+3z//777/VsmVL5cmTR3nz5lXz5s116NAh+/zIyEg9+eSTGjlypIKDg1WiRAn776P58+erTp068vLyUoUKFbRu3TqHfbvddXXixAk1bdpUnp6eKlq0qGbPnp2uc+RMFy5cUNu2beXt7a2goCCNHTs2RZ+zZ8+qbdu2ypMnj7y8vNSoUSPt27fPPj/53afFixerdOnS9t/dx44dS3WbkZGRWrlypd577z37NXXjObqVadOmyc/Pz/7to3d7fZ87d04uLi7avHmzJMkYI39/f1WpUsW+/JdffqmgoKB01XdPGGRrp0+fNm5ubuaXX36xt505c8a4ubmZxYsXm0WLFhlfX18zffp0c+DAAbNkyRJTpEgRExUVZe8vyRQoUMBMnTrVHDhwwBw6dMgMHz7clClTxmFbvXr1MrVr175n+/ZfcPToUZMzZ04zbtw4ExMTY7Zv324++OADEx8fb8aNG2d8fX3Nl19+af7880/Tv39/4+rqavbu3WuMMSYmJsZIMqVKlTKLFi0yu3btMlWrVjVhYWEmIiLCrFmzxmzZssUUK1bMvPLKK/ZtfvLJJyYoKMjMmzfPHDx40MybN8/4+/ub6dOnG2OMmThxoilbtqy9f8WKFU2+fPnMBx98YIwxJjo62uTMmdPEx8cbY4wJDw83vr6+Jioqyuzdu9fMmDHD2Gw2s2TJEvs6xo8fb5YvX24OHjxoli1bZkqWLGk6d+5sjDEmISHBTJgwwfj6+ppjx46ZY8eO2dd9P7ndcUxKSjIPP/ywqVmzptm0aZNZv369CQsLM+Hh4cYYYy5evGj69OljHnroIftxvHjxYortJCYmmoCAAPPpp5+maPv444+NMcZs377deHt7m/Hjx5u9e/eatWvXmocffthERkbalwkNDTW+vr5mzJgxZt++fWbfvn1m9uzZJk+ePOby5cv2fu+9954pUqSISUpKyorDdk/cq3NjjDEffvih8fDwMBMmTDB79uwxv/32mxk/fny6tmOMMYMHDzbe3t6mRYsW5o8//jCrVq0ygYGB5rXXXrP36d+/v8mTJ4+ZPn262b9/v1m9erWZMmWKMcaYCxcumOLFi5uXXnrJbN++3ezatcu0atXKlCxZ0iQkJBhjjGnXrp3x9vY2L7zwgtmxY4f5448/HH4f/fjjj2bPnj3mmWeeMaGhoebq1avGmPRdV40aNTJly5Y10dHRZtOmTaZ69erG09PTfgyyo86dO5tChQqZJUuWmO3bt5snnnjCeHt7mx49etj7NGvWzJQuXdqsWrXKbN261TRo0MAUK1bMXLlyxRhjzLRp04yrq6upV6+e2bhxo9m8ebMpXbq0adWqlX0dgwcPNu3atTPGGPPvv/+aatWqmY4dO9qvqcTExFTrCw0NtR+/MWPGGH9/f7Nu3Tr7/Lu9vo0xJiwszLz77rvGGGO2bt1q8uTJY9zc3My5c+eMMca8/PLLpmXLlnd1nDMT4dUCmjVrZl566SX79Mcff2wCAwNNYmKiqVWrlhkxYoRD/1mzZpmgoCD7tCTTs2dPhz5Hjx41Li4uZsOGDcYYY65cuWLy589vD0BIn82bNxtJ5tChQynmBQcHm+HDhzu0ValSxXTp0sUY83/h9cYQ8uWXXxpJZtmyZfa2kSNHmpIlS9qnQ0JCzBdffOGw3rfffttUq1bNGHP9D4zNZjMnT540Z86cMa6urmbYsGHm2WefNcYYM2LECPPoo4/alw0PDzc1a9ZMUeeAAQPS3O+5c+eavHnz2qenTZtm/Pz80ux/P7jdcVyyZIlxcXExR44csc/fuXOnkWR+++03Y8z1P24VKlS47ba6d+9u6tata59evHixcXNzM2fOnDHGGPPCCy+Yl19+2WGZ1atXmxw5cphLly4ZY67/QXzyyScd+ly+fNn4+/ubOXPm2NsqVqzo8I9hK7qX5yY4ONi8/vrrqc5L73a8vLxMXFycvU+/fv3sP7NxcXHG3d3dHlZvNnXqVFOyZEmHf2wkJCQYT09Ps3jxYmPM9fAaEBBgD7PGpP77KLm23bt3G2Nuf13t2bPHSDLr16+3z9+9e7eRlG3Da3x8vHFzczNfffWVve306dPG09PTHl737t1rJJm1a9fa+5w6dcp4enqauXPnGmOu/w6UZPbv32/v88EHH5iAgIA0tx0eHu4QkNOSHF4HDhxogoKCzPbt21Os526v7969e5snnnjCGGPMhAkTzDPPPGPCwsLMwoULjTHGlChRwkyePPm2td4rDBuwgNatW2vevHlKSEiQJM2ePVvPPfec/Tb/0KFD5e3tbX917NhRx44d08WLF+3rqFy5ssM6g4KC1KRJE3322WeSpB9//FGXL1/Ws88+e+927D+gQoUKeuyxx1SuXDk9++yzmjJlis6ePau4uDgdPXpUNWrUcOhfo0YN7d6926GtfPny9v8PCAiQJJUrV86h7cSJE5KkkydPKjY2Vu3bt3c458OGDbMP9yhbtqzy5s2rlStXavXq1apQoYKaNWumlStXSrr+Nv+Nby/fXIN0/fpI3qYk/frrr6pfv74KFiwoHx8ftW3bVqdPn3Z4uxC3Po67d+9WSEiIQkJC7PPLlCmj3Llzp7gmbqd169ZasWKFjh49Kun674TGjRsrT548kqTNmzdr+vTpDtdIgwYNlJSUpJiYGPt6bv694O7urjZt2th/L2zdulXbtm1z+JCJVd2Lc3PixAkdPXpUjz32WKrz07udIkWKyMfHJ81aExIS0tzG5s2btX//fvn4+NjPvb+/vy5fvuwwJKxcuXJyc3NLsfyNxyn5beLkbd/uutq9e7dy5szpcF2VKlUqW3+Y88CBA7py5YqqVatmb/P391fJkiXt08n79eijj9rb8ubNq5IlSzqcNy8vLz344IP26Zt/j96NsWPH6uOPP9aaNWsc/j4ku9vrOyIiQqtXr1ZSUpJWrlypiIgIRUREaOXKlTp+/Lj27t2b4u+GM+V0dgG4vaZNmyopKUkLFy5UlSpVtHr1ao0bN07S9bFPQ4YMUYsWLVIs5+HhYf//XLlypZjfoUMHvfDCCxo/frymTZumli1bysvLK+t25D/IxcVFS5cuVXR0tJYsWaJJkybp9ddft49FstlsDv2NMSnaXF1d7f+fPO/mtuQxz8n/nTJlisMv0uRakvvXrl1bK1askJubmyIiIlS2bFldu3ZNf/zxh6Kjo1N8wvXG7d28zcOHD6tx48Z65ZVX9Pbbb8vf319r1qxR+/bt+fDfTW51HFM797dqv5VHHnlEDz74oL766it17txZ3377raZNm2afn5SUpE6dOql79+4pli1cuLD9/9P6vVCxYkX99ddf+uyzz/TYY48pNDQ0Q/VlR/fi3Hh6et5yfnq3c6tab7eNpKQkVapUKdWxpvnz57f/f2rn/uZtJ9d04++fW11Xe/bscVjOCowxd9wnPectPetPj1q1amnhwoWaO3euBg4cmGL+3V7ftWvXVnx8vLZs2aLVq1fr7bffVkhIiEaMGKGKFSuqQIECKl26dKbsS2YgvFqAp6enWrRoodmzZ2v//v0qUaKEKlWqJEkKCwvTnj17VKxYsQyvt3HjxsqVK5cmT56sn3/+WatWrcrs0u8LNptNNWrUUI0aNfTWW28pNDRUy5YtU3BwsNasWaPatWvb+0ZHR+uRRx65420FBASoYMGCOnjwoFq3bp1mv4iICH3yySdyc3PT0KFDZbPZVKtWLb377ru6dOlSijvCt7Jp0yYlJiZq7NixypHj+ps1c+fOdejj5uama9eu3dlO3SfKlCmjI0eOKDY21n4HZNeuXTp37pz9j0JGjmOrVq00e/ZsFSpUSDly5FCTJk3s88LCwrRz5847+r1Qrlw5Va5cWVOmTNEXX3yhSZMmZXgdVpNZ58bHx0dFihTRsmXLVKdOnTvazu0UL15cnp6eWrZsmTp06JBiflhYmObMmaMCBQrI19c3XetMr9tdV6VLl1ZiYqI2bdpk/z23Z8+eFB8uzE6KFSsmV1dXrV+/3v4Pu7NnzzrcaSxTpowSExO1YcMGVa9eXdL1DzLu3bv3rgJdRn7eH3nkEXXr1k0NGjSQi4uL+vXrl+7tpOe68/PzU8WKFfX+++/LZrOpTJkyCg4O1u+//64ff/wxW911lXjagGW0bt1aCxcu1GeffaY2bdrY29966y3NnDlTUVFR2rlzp3bv3q05c+bojTfeuO06XVxcFBkZqUGDBqlYsWIOb5sgfTZs2KARI0Zo06ZNOnLkiObPn6+TJ0+qdOnS6tevn0aNGqU5c+Zoz549GjhwoLZu3aoePXrc1TajoqI0cuRIvffee9q7d6/++OMPTZs2zX43XroeXnfu3Kk//vhDtWrVsrfNnj1bYWFhGfqj9uCDDyoxMVGTJk3SwYMHNWvWLH300UcOfYoUKaLz589r2bJlOnXqlMOQFVxXr149lS9fXq1bt9aWLVv022+/qW3btgoPD7e/zVqkSBHFxMRo69atOnXqlH2oUGqS1zN8+HA988wzDu+0DBgwQOvWrVPXrl21detW7du3TwsWLHB4CsWtdOjQQe+8846uXbump5566u523AIy89xERUVp7Nixmjhxovbt26ctW7bY/wGQnu3cjoeHhwYMGKD+/ftr5syZOnDggNavX6+pU6dKun5d5MuXT82bN9fq1asVExOjlStXqkePHvrrr7/u6jjd7roqWbKkGjZsqI4dO2rDhg3avHmzOnTocNu7xc7k7e2t9u3bq1+/flq2bJl27NihyMhI+z/Upev/YGjevLk6duyoNWvWaNu2bWrTpo0KFiyo5s2b3/G2ixQpog0bNujQoUM6depUiqcK3axatWr6+eefNXToUI0fPz7d20nvdRcREaHPP/9c4eHhstlsypMnj8qUKaM5c+YoIiLiTnczSxBeLaJu3bry9/fXnj171KpVK3t7gwYN9OOPP2rp0qWqUqWKqlatqnHjxqX7bb727dvrypUreumll7Kq9P80X19frVq1So0bN1aJEiX0xhtvaOzYsWrUqJG6d++uPn36qE+fPipXrpwWLVqkBQsWqHjx4ne1zQ4dOujTTz/V9OnTVa5cOYWHh2v69OkqWrSovU/ZsmWVL18+VahQwR5Uw8PDde3atQz/C7pixYoaN26cRo0apbJly2r27NkaOXKkQ5/q1avrlVdeUcuWLZU/f36NHj36rvbxv8hms+m7775Tnjx5VLt2bdWrV08PPPCA5syZY+/z9NNPq2HDhqpTp47y58+vL7/8Ms31FS9eXFWqVNH27dtT3IUvX768Vq5cqX379qlWrVp6+OGH9eabb6b7UTfPP/+8cubMqVatWjmE4v+qzDw37dq104QJE/Thhx/qoYce0hNPPGF/pFJ6tpMeb775pvr06aO33npLpUuXVsuWLe3jG728vLRq1SoVLlxYLVq0UOnSpfXSSy/p0qVLd30nNj3X1bRp0xQSEqLw8HC1aNFCL7/8sgoUKHBX281qY8aMUe3atdWsWTPVq1dPNWvWtL+7mWzatGmqVKmSnnjiCVWrVk3GGP30008p3q7PiL59+8rFxUVlypRR/vz5deTIkdsuU6NGDS1cuFBvvvmmJk6cmK7tpPe6q1Onjq5du+YQVO/070ZWs5nMGpABS1q7dq0iIiL0119/2T8sBOD+FhsbqyJFimjjxo0KCwtzdjkA4IDwep9KSEhQbGysXn75ZQUFBVniQdIAstbVq1d17NgxDRw4UIcPH9batWudXRIApMCwgfvUl19+qZIlS+rcuXO8xQtA0vV3YkJDQ7V58+YU45oBILvgzisAAAAsgzuvAAAAsAzCKwAAACyD8AoAAADLILwCAADAMgivAAAAsAzCKwDcpe+++07FihWTi4uLevbs6exyMl1UVJQqVqzo7DIAQBLhFcB97MSJE+rUqZMKFy4sd3d3BQYGqkGDBlq3bl2G1tOpUyc988wzio2N1dtvv52uZYoUKaIJEybcQdUpxcbGqn379goODpabm5tCQ0PVo0cPnT59OsPrSv4qyRv17dtXy5Yty5RaAeBu5XR2AQDgLE8//bSuXr2qGTNm6IEHHtA///yjZcuW6cyZM+lex/nz53XixAk1aNBAwcHBWVht6g4ePKhq1aqpRIkS+vLLL1W0aFHt3LlT/fr1088//6z169fL39//rrbh7e0tb2/vTKoYAO6SAYD70NmzZ40ks2LFilv2Gzt2rClbtqzx8vIyhQoVMp07dzbx8fHGGGN+/fVXI8nh9euvvxpjjFm7dq2pVauW8fDwMIUKFTLdunUz58+fN8YYEx4enmK58+fPGx8fH/P11187bH/BggXGy8vLxMXFpVpfw4YNTaFChczFixcd2o8dO2a8vLzMK6+8Ym8LDQ01Q4cONc8//7zJlSuXCQoKMhMnTnSYf2NNoaGhxhhjBg8ebCpUqGDvd+3aNTNkyBBTsGBB4+bmZipUqGB+/vln+/yYmBgjycybN89EREQYT09PU758eRMdHX3LYw0A6cGwAQD3peS7id99950SEhLS7JcjRw5NnDhRO3bs0IwZM7R8+XL1799fklS9enXt2bNHkjRv3jwdO3ZM1atX1x9//KEGDRqoRYsW2r59u+bMmaM1a9bo1VdflSTNnz9fhQoV0tChQ3Xs2DEdO3ZMuXLl0nPPPadp06Y5bH/atGl65pln5OPjk6K2M2fOaPHixerSpYs8PT0d5gUGBqp169aaM2eOzA1fpDhmzBiVL19eW7Zs0aBBg9SrVy8tXbpUkrRx40b7No8dO2afvtl7772nsWPH6t1339X27dvVoEEDNWvWTPv27XPo9/rrr6tv377aunWrSpQooeeff16JiYlpHmsASBdnp2cAcJZvvvnG5MmTx3h4eJjq1aubQYMGmW3btt1ymblz55q8efPap5Pv4CbfcTXGmBdeeMG8/PLLDsutXr3a5MiRw1y6dMkYc/0u5/jx4x36bNiwwbi4uJi///7bGGPMyZMnjaura5p3h9evX28kmW+//TbV+ePGjTOSzD///GPfZsOGDR36tGzZ0jRq1Mg+ndr6br7zGhwcbIYPH+7Qp0qVKqZLly7GmP+78/rpp5/a5+/cudNIMrt37061VgBIL+68ArhvPf300zp69KgWLFigBg0aaMWKFQoLC9P06dPtfX799VfVr19fBQsWlI+Pj9q2bavTp0/rwoULaa538+bNmj59uv3urre3txo0aKCkpCTFxMSkudwjjzyihx56SDNnzpQkzZo1S4ULF1bt2rXvaP/M/7/jarPZ7G3VqlVz6FOtWjXt3r073euMi4vT0aNHVaNGDYf2GjVqpFhP+fLl7f8fFBQk6fqH5ADgbhBeAdzXPDw8VL9+fb311luKjo5WZGSkBg8eLEk6fPiwGjdurLJly2revHnavHmzPvjgA0nS1atX01xnUlKSOnXqpK1bt9pf27Zt0759+/Tggw/esp4OHTrYhw5MmzZNL774okP4vFGxYsVks9m0a9euVOf/+eefypMnj/Lly3fLbaa1/owsY4xJ0ebq6pqif1JSUoa3BQA3IrwCwA3KlCljv6u6adMmJSYmauzYsapatapKlCiho0eP3nYdYWFh2rlzp4oVK5bi5ebmJklyc3PTtWvXUizbpk0bHTlyRBMnTtTOnTvVrl27NLeTN29e1a9fXx9++KEuXbrkMO/48eOaPXu2WrZs6RAq169f79Bv/fr1KlWqlH3a1dU11bqS+fr6Kjg4WGvWrHFoj46OVunSpdNcDgAyC+EVwH3p9OnTqlu3rj7//HNt375dMTEx+vrrrzV69Gg1b95ckvTggw8qMTFRkyZN0sGDBzVr1ix99NFHt133gAEDtG7dOnXt2lVbt27Vvn37tGDBAnXr1s3ep0iRIlq1apX+/vtvnTp1yt6eJ08etWjRQv369dPjjz+uQoUK3XJb77//vhISEtSgQQOtWrVKsbGxWrRokX2ow/Dhwx36r127VqNHj9bevXv1wQcf6Ouvv1aPHj0c6lq2bJmOHz+us2fPprrNfv36adSoUZozZ4727NmjgQMHauvWrQ7rAYAs4+xBtwDgDJcvXzYDBw40YWFhxs/Pz3h5eZmSJUuaN954w+GxU+PGjTNBQUHG09PTNGjQwMycOdNIMmfPnjXGpP6BLWOM+e2330z9+vWNt7e3yZUrlylfvrzDh5zWrVtnypcvb9zd3c3Nv4qXLVtmJJm5c+ema18OHTpkIiMjTWBgoHF1dTUhISGmW7du5tSpUw79QkNDzZAhQ8z//vc/4+XlZQICAsyECRMc+ixYsMAUK1bM5MyZM12PynJ1dU3zUVm///67vS2t4wQAGWUz5oZnqAAAnG727Nnq0aOHjh49ah9mkBmKFCminj17/ie/whbA/YNv2AKAbOLixYuKiYnRyJEj1alTp0wNrgDwX8GYVwDIJkaPHq2KFSsqICBAgwYNcnY5AJAtMWwAAAAAlsGdVwAAAFgG4RUAAACWQXgFAACAZRBeAQAAYBmEVwAAAFgG4RUAAACWQXgFAACAZRBeAQAAYBn/D4TEz1Vh5R4NAAAAAElFTkSuQmCC\n",
      "text/plain": [
       "<Figure size 800x600 with 1 Axes>"
      ]
     },
     "metadata": {},
     "output_type": "display_data"
    }
   ],
   "source": [
    "import matplotlib.pyplot as plt\n",
    "import seaborn as sns\n",
    "order = ['very', 'somewhat', 'not very', 'not concerned', \"don't know\"]\n",
    "safety_counts = quant_df['safty'].value_counts()\n",
    "plt.figure(figsize=(8, 6))\n",
    "sns.barplot(x=safety_counts.index, y=safety_counts.values, order=order)\n",
    "plt.xlabel('Safety Option')\n",
    "plt.ylabel('Number of People')\n",
    "plt.title('Number of People by Safety Option')\n",
    "plt.show()"
   ]
  },
  {
   "cell_type": "markdown",
   "metadata": {},
   "source": [
    "#### Survey Question: Are you interested in learning more about e-bikes? | Column: interested"
   ]
  },
  {
   "cell_type": "code",
   "execution_count": 42,
   "metadata": {},
   "outputs": [
    {
     "data": {
      "text/plain": [
       "Text(0, 0.5, 'Count')"
      ]
     },
     "execution_count": 42,
     "metadata": {},
     "output_type": "execute_result"
    },
    {
     "data": {
      "image/png": "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\n",
      "text/plain": [
       "<Figure size 504x360 with 1 Axes>"
      ]
     },
     "metadata": {
      "needs_background": "light"
     },
     "output_type": "display_data"
    }
   ],
   "source": [
    "# Fix typo and category in answers\n",
    "quant_df['interested'] = quant_df['interested'].str.strip()\n",
    "quant_df['interested'] = quant_df['interested'].str.replace('may be', 'maybe')\n",
    "quant_df['interested'] = quant_df['interested'].str.replace('already know', 'yes')\n",
    "quant_df['interested'] = quant_df['interested'].str.replace('knows enough', 'yes')\n",
    "\n",
    "# Count the number of occurrences of each unique value in the interested column\n",
    "interested_count = quant_df['interested'].value_counts()\n",
    "\n",
    "f, ax = plt.subplots(figsize=(7, 5))\n",
    "sns.despine(f)\n",
    "sns.barplot(x=interested_count.index, y = interested_count.values, palette='magma', order = ['yes', 'maybe', 'no'])\n",
    "\n",
    "# Set title and labels to the graph\n",
    "plt.title('Are you interested in learning more about e-bikes?')\n",
    "plt.xlabel('Answer')\n",
    "plt.ylabel('Count')"
   ]
  },
  {
   "cell_type": "markdown",
   "metadata": {},
   "source": [
    "## Part III: ..."
   ]
  },
  {
   "cell_type": "code",
   "execution_count": null,
   "metadata": {},
   "outputs": [],
   "source": []
  }
 ],
 "metadata": {
  "kernelspec": {
   "display_name": "Python 3",
   "language": "python",
   "name": "python3"
  },
  "language_info": {
   "codemirror_mode": {
    "name": "ipython",
    "version": 3
   },
   "file_extension": ".py",
   "mimetype": "text/x-python",
   "name": "python",
   "nbconvert_exporter": "python",
   "pygments_lexer": "ipython3",
   "version": "3.8.5"
  }
 },
 "nbformat": 4,
 "nbformat_minor": 4
}

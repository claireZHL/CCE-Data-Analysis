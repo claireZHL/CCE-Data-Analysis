{
 "cells": [
  {
   "cell_type": "code",
   "execution_count": null,
   "metadata": {
    "is_executing": true
   },
   "outputs": [],
   "source": [
    "# Import Packages\n",
    "import pandas as pd\n",
    "import numpy as np\n",
    "import seaborn as sns\n",
    "import matplotlib.pyplot as plt\n",
    "import geopandas as gpd"
   ]
  },
  {
   "cell_type": "markdown",
   "metadata": {},
   "source": [
    "# Center For Community Service\n",
    "#### Project: Data Analysis on E-bike Survey Collected on 04/29/2023"
   ]
  },
  {
   "cell_type": "markdown",
   "metadata": {},
   "source": [
    "## Part I: Data Cleaning"
   ]
  },
  {
   "cell_type": "markdown",
   "metadata": {},
   "source": [
    "##### CSV File 1: 4.29.2023_Survey_Results.csv"
   ]
  },
  {
   "cell_type": "code",
   "execution_count": null,
   "metadata": {},
   "outputs": [],
   "source": [
    "# Read survey data from the csv file\n",
    "df = pd.read_csv(\"4.29.2023_Survey_Results.csv\")\n",
    "df.head()"
   ]
  },
  {
   "cell_type": "code",
   "execution_count": null,
   "metadata": {},
   "outputs": [],
   "source": [
    "df.shape"
   ]
  },
  {
   "cell_type": "code",
   "execution_count": null,
   "metadata": {
    "scrolled": true
   },
   "outputs": [],
   "source": [
    "# Keep numerical and binary columns\n",
    "quant_df = df.drop(\"Who took this survey (initials)\", axis=1)\n",
    "quant_df.drop(\"Any additional comments?\", axis=1, inplace=True)\n",
    "quant_df.drop(\"Who's survey is this?\", axis=1, inplace=True)\n",
    "quant_df.drop(\"Timestamp\", axis=1, inplace=True)\n",
    "quant_df.drop(\"Unnamed: 16\", axis=1, inplace=True)\n",
    "\n",
    "# Change headers\n",
    "quant_df.columns = ['bike_rider', 'zipcode', 'ebike_rider', 'commute_purpose',\n",
    "                   'miles', 'try_bike', 'ebike_class', 'private_locker', 'group_locker',\n",
    "                   'ebike_rules', 'safty', 'interested']\n",
    "\n",
    "quant_df.head()"
   ]
  },
  {
   "cell_type": "code",
   "execution_count": null,
   "metadata": {},
   "outputs": [],
   "source": [
    "quant_df.shape"
   ]
  },
  {
   "cell_type": "markdown",
   "metadata": {},
   "source": [
    "Here's a description of each feature (column) in the quant_df DataFrame:\n",
    "\n",
    "Header | Description\n",
    "-------|------------\n",
    "bike_rider | Are you a bike rider?\n",
    "zipcode | What is your zip code?\n",
    "ebike_rider | Do you or anyone in your family ride an e-bike?\n",
    "commute_purpose | How do you commute - to work, school, or for other purposes?\n",
    "miles | How far (ROUND TRIP) do you commute for any purpose each day?\n",
    "try_bike | Would you commute by e-bike if given the opportunity?\n",
    "ebike_class | Do you know the differences between Class 1, Class 1, and Class 3 e-bikes?\n",
    "private_locker | How comfortable would you be storing your bike in a private bike locker while you are commuting?\n",
    "group_locker | How comfortable would you be storing your bike in a group bike locker while you are commuting?\n",
    "ebike_rules | How familiar are you and those in your family with the rules of the road for e-bikes?\n",
    "safty | How concerned are you about e-bikes and e-bike safety in San Diego County?\n",
    "interested | Are you interested in learning more about e-bikes?\n"
   ]
  },
  {
   "cell_type": "code",
   "execution_count": null,
   "metadata": {},
   "outputs": [],
   "source": [
    "# convert all letters to lowercase\n",
    "columns = quant_df.columns\n",
    "for column in columns:\n",
    "    if column != 'zipcode':\n",
    "        quant_df[column] = quant_df[column].str.lower()\n",
    "\n",
    "\n",
    "# remove unit in miles\n",
    "quant_df.head()"
   ]
  },
  {
   "cell_type": "code",
   "execution_count": null,
   "metadata": {},
   "outputs": [],
   "source": [
    "# Remove cell with a time unit\n",
    "quant_df['miles'] = quant_df['miles'].astype(str)\n",
    "quant_df['miles'] = quant_df['miles'].apply(lambda x: np.nan if pd.isnull(x) or 'min' in x else x)\n",
    "\n",
    "# miles column cleaning - keep numbers only\n",
    "quant_df['miles'] = quant_df['miles'].str.extract(r'(\\d+)', expand=False).astype(float).astype(pd.Int64Dtype())\n",
    "quant_df.head()"
   ]
  },
  {
   "cell_type": "markdown",
   "metadata": {},
   "source": [
    "##### CSV File 2: 6.08.2023_Online_Survey_Results.csv"
   ]
  },
  {
   "cell_type": "code",
   "execution_count": null,
   "metadata": {},
   "outputs": [],
   "source": [
    "df2= pd.read_csv(\"6.08.2023_Online_Survey_Results.csv\")\n",
    "df2"
   ]
  },
  {
   "cell_type": "code",
   "execution_count": null,
   "metadata": {
    "scrolled": false
   },
   "outputs": [],
   "source": [
    "# Keep question columns only\n",
    "df2 = df2[['Q1', 'Q2', 'Q3',\n",
    "           'Q4_1', 'Q4_2', 'Q4_3', 'Q4_4', \n",
    "           'Q4_5', 'Q4_6', 'Q4_7', 'Q5', 'Q6',\n",
    "           'Q7', 'Q8', 'Q9', 'Q10', 'Q11']]\n",
    "\n",
    "# Drop row 1\n",
    "df2 = df2.drop(1)"
   ]
  },
  {
   "cell_type": "code",
   "execution_count": null,
   "metadata": {},
   "outputs": [],
   "source": [
    "# Change column names\n",
    "df2.columns = ['bike_rider', 'zipcode', 'ebike_rider', 'commute_purpose_1', 'commute_purpose_2',\n",
    "               'commute_purpose_3', 'commute_purpose_4', 'commute_purpose_5', 'commute_purpose_6',\n",
    "               'commute_purpose_7', 'miles', 'try_bike', 'ebike_class', 'locker',\n",
    "               'ebike_rules', 'safty', 'interested']\n",
    "df2 = df2.drop(0)"
   ]
  },
  {
   "cell_type": "code",
   "execution_count": null,
   "metadata": {},
   "outputs": [],
   "source": [
    "# Set cells to null if its unit is time\n",
    "df2['miles'] = df2['miles'].apply(lambda x: np.nan if pd.isnull(x) or 'min' in x else x)\n",
    "df2['miles'] = df2['miles'].str.extract(r'(\\d+)', expand=False).astype(float).astype(pd.Int64Dtype())\n",
    "df2"
   ]
  },
  {
   "cell_type": "markdown",
   "metadata": {},
   "source": [
    "## Part II: Analysis on Numerical and Categorical Features"
   ]
  },
  {
   "cell_type": "markdown",
   "metadata": {},
   "source": [
    "#### Survey Question: Are you a bike rider? | Column: bike_rider"
   ]
  },
  {
   "cell_type": "code",
   "execution_count": null,
   "metadata": {},
   "outputs": [],
   "source": [
    "# count number of bike rider and non-bike rider\n",
    "bike_rider_count = quant_df['bike_rider'].value_counts()\n",
    "bike_rider_yes = bike_rider_count[0] + bike_rider_count[2] + bike_rider_count[4]\n",
    "bike_rider_no = bike_rider_count[1] + bike_rider_count[3]\n",
    "\n",
    "# create bar plot\n",
    "x = ['Bike Riders', 'None Bike Riders']\n",
    "y = [bike_rider_yes, bike_rider_no]\n",
    "plt.bar(x, y)\n",
    "\n",
    "# add label to bar plot\n",
    "plt.xlabel('Riders')\n",
    "plt.ylabel('Number of People')\n",
    "plt.title('Number of Bike Riders vs. None Bike Riders')\n",
    "\n",
    "# display the plot\n",
    "plt.show()\n",
    "\n",
    "# show number of bike riders vs. none bike riders\n",
    "bike_percent_yes = round(bike_rider_yes / (bike_rider_yes + bike_rider_no) * 100)\n",
    "bike_percent_no = round(bike_rider_no / (bike_rider_no + bike_rider_yes) * 100)\n",
    "print(f'{bike_percent_yes}% of the participants are bike riders')\n",
    "print(f'{bike_percent_no}% of the participants are NOT bike riders')"
   ]
  },
  {
   "cell_type": "markdown",
   "metadata": {},
   "source": [
    "#### Survey Question: What is your zip code? | Column: zipcode"
   ]
  },
  {
   "cell_type": "code",
   "execution_count": null,
   "metadata": {},
   "outputs": [],
   "source": [
    "# ENTER CODE HERE\n",
    "..."
   ]
  },
  {
   "cell_type": "markdown",
   "metadata": {},
   "source": [
    "#### Survey Question: Are you a ebike_rider? | Column: ebike_rider"
   ]
  },
  {
   "cell_type": "code",
   "execution_count": null,
   "metadata": {},
   "outputs": [],
   "source": [
    "# count number of ebike rider vs. non-ebike rider\n",
    "ebike_rider_no = quant_df[quant_df['ebike_rider'] == 'no'].shape[0]\n",
    "ebike_rider_yes = quant_df.shape[0] - ebike_rider_no\n",
    "\n",
    "# create bar plot\n",
    "x = ['E-Bike Riders', 'None E-Bike Riders']\n",
    "y = [ebike_rider_yes, ebike_rider_no]\n",
    "plt.bar(x, y)\n",
    "\n",
    "# add label to bar plot\n",
    "plt.xlabel('Riders')\n",
    "plt.ylabel('Number of People')\n",
    "plt.title('Number of E-Bike Riders vs. None E-Bike Riders')\n",
    "\n",
    "# display the plot\n",
    "plt.show()\n",
    "\n",
    "# show number of bike riders vs. none bike riders\n",
    "ebike_percent_yes = round(ebike_rider_yes / (ebike_rider_yes + ebike_rider_no) * 100)\n",
    "ebike_percent_no = round(ebike_rider_no / (ebike_rider_no + ebike_rider_yes) * 100)\n",
    "print(f'{ebike_percent_yes}% of the participants are e-bike riders')\n",
    "print(f'{ebike_percent_no}% of the participants are NOT e-bike riders')"
   ]
  },
  {
   "cell_type": "markdown",
   "metadata": {},
   "source": [
    "#### Survey Question: How do you commute - to work, school, or for other purposes? | Column: commute_purpose"
   ]
  },
  {
   "cell_type": "code",
   "execution_count": null,
   "metadata": {},
   "outputs": [],
   "source": [
    "..."
   ]
  },
  {
   "cell_type": "markdown",
   "metadata": {},
   "source": [
    "#### Survey Question: How far (ROUND TRIP) do you commute for any purpose each day? | Column: miles"
   ]
  },
  {
   "cell_type": "code",
   "execution_count": null,
   "metadata": {},
   "outputs": [],
   "source": [
    "# count number of miles\n",
    "miles_count = quant_df['miles'].value_counts()\n",
    "\n",
    "# create bar plot\n",
    "x = miles_count.index\n",
    "y = miles_count.values\n",
    "plt.bar(x, y)\n",
    "\n",
    "# add label to bar plot\n",
    "plt.xlabel('Miles')\n",
    "plt.ylabel('Number of People')\n",
    "plt.title('Number of People by Miles')\n",
    "\n",
    "# display the plot\n",
    "plt.show()"
   ]
  },
  {
   "cell_type": "code",
   "execution_count": null,
   "metadata": {},
   "outputs": [],
   "source": [
    "# count number of miles\n",
    "mile_counts = quant_df['miles'].value_counts(sort = False)\n",
    "\n",
    "# create bar plot\n",
    "fig, ax = plt.subplots(figsize = (8, 6))\n",
    "bars = ax.bar(mile_counts.index, mile_counts.values, color = 'teal')\n",
    "ax.set_xlabel('Miles')\n",
    "ax.set_ylabel('Number of People')\n",
    "ax.set_title('Number of Participants by Miles')\n",
    "\n",
    "# add a vertical line to show the average and median miles\n",
    "ax.grid(axis = 'y', alpha = 0.5)\n",
    "avg_miles = quant_df['miles'].mean()\n",
    "med_miles = quant_df['miles'].median()\n",
    "ax.axvline(x = avg_miles, color = 'orange', linestyle = '--', label = f'Average Miles: {avg_miles:.2f}')\n",
    "ax.axvline(x = med_miles, color = 'green', linestyle = '--', label = f'Median Miles: {med_miles}')\n",
    "ax.set_xticks(range(0, 51, 10))\n",
    "\n",
    "# show the plot\n",
    "ax.legend()\n",
    "plt.show()"
   ]
  },
  {
   "cell_type": "markdown",
   "metadata": {},
   "source": [
    "#### Survey Question: Would you commute by e-bike if given the opportunity? | Column: try_bike"
   ]
  },
  {
   "cell_type": "code",
   "execution_count": null,
   "metadata": {},
   "outputs": [],
   "source": [
    "# Count the number of occurrences of each unique value in the try_bike column\n",
    "try_bike_counts = quant_df['try_bike'].value_counts()\n",
    "\n",
    "# Create a bar plot\n",
    "plt.bar(try_bike_counts.index, try_bike_counts.values)\n",
    "\n",
    "# Set the title and axis labels\n",
    "plt.title('Have you ever tried a bike before?')\n",
    "plt.xlabel('Answer')\n",
    "plt.ylabel('Count')\n",
    "\n",
    "# Show the plot\n",
    "plt.show()"
   ]
  },
  {
   "cell_type": "markdown",
   "metadata": {},
   "source": [
    "#### Survey Question: Do you know the differences between Class 1, Class 1, and Class 3 e-bikes? | Column: ebike_class"
   ]
  },
  {
   "cell_type": "code",
   "execution_count": null,
   "metadata": {},
   "outputs": [],
   "source": [
    "# Count the number of occurrences of each unique value in the ebike_class column\n",
    "ebike_class_count = quant_df['ebike_class'].value_counts()\n",
    "\n",
    "# Create a bar graph\n",
    "f, ax = plt.subplots(figsize=(7, 5))\n",
    "sns.despine(f)\n",
    "sns.barplot(x=ebike_class_count.index, y = ebike_class_count.values, palette='magma', order = ['yes', 'a bit', 'no'])\n",
    "\n",
    "# Set title and labels to the graph\n",
    "plt.title('Do you know the differences between Class 1, Class 1, and Class 3 e-bikes?')\n",
    "plt.xlabel('Answer')\n",
    "plt.ylabel('Count')\n"
   ]
  },
  {
   "cell_type": "markdown",
   "metadata": {},
   "source": [
    "#### Survey Question: How comfortable would you be storing your bike in a private bike locker while you are commuting? | Column: private_locker"
   ]
  },
  {
   "cell_type": "code",
   "execution_count": null,
   "metadata": {},
   "outputs": [],
   "source": [
    "# Count the occurrences of each option in the 'private_locker' column\n",
    "private_locker_counts = quant_df['private_locker'].value_counts()\n",
    "\n",
    "# Plotting the bar graph\n",
    "plt.figure(figsize=(8, 6))\n",
    "sns.barplot(x=private_locker_counts.index, y=private_locker_counts.values)\n",
    "plt.xlabel('Private Locker Option')\n",
    "plt.ylabel('Number of People')\n",
    "plt.title('Number of People by Private Locker Option')\n",
    "plt.show()"
   ]
  },
  {
   "cell_type": "markdown",
   "metadata": {},
   "source": [
    "#### Survey Question: How comfortable would you be storing your bike in a group bike locker while you are commuting? | Column: group_locker"
   ]
  },
  {
   "cell_type": "code",
   "execution_count": null,
   "metadata": {},
   "outputs": [],
   "source": [
    "category_order = ['very', 'somewhat', 'not very', 'depends', \"don't know\"]\n",
    "quant_df['group_locker'] = pd.Categorical(quant_df['group_locker'], categories=category_order, ordered=True)\n",
    "group_locker_counts = quant_df['group_locker'].value_counts()\n",
    "plt.figure(figsize=(8, 6))\n",
    "sns.barplot(x=group_locker_counts.index, y=group_locker_counts.values)\n",
    "plt.xlabel('Group Locker Option')\n",
    "plt.ylabel('Number of People')\n",
    "plt.title('Number of People by Group Locker Option')\n",
    "plt.show()"
   ]
  },
  {
   "cell_type": "markdown",
   "metadata": {},
   "source": [
    "#### Survey Question: How familiar are you and those in your family with the rules of the road for e-bikes? | Column: ebike_rules"
   ]
  },
  {
   "cell_type": "code",
   "execution_count": null,
   "metadata": {},
   "outputs": [],
   "source": [
    "order = ['very', 'somewhat', 'not very', \"don't know\"]\n",
    "ebike_rules_counts = quant_df['ebike_rules'].value_counts()\n",
    "plt.figure(figsize=(8, 6))\n",
    "sns.barplot(x=ebike_rules_counts.index, y=ebike_rules_counts.values, order=order)\n",
    "plt.xlabel('Ebike Rules Option')\n",
    "plt.ylabel('Number of People')\n",
    "plt.title('Number of People by Ebike Rules Option')\n",
    "plt.show()"
   ]
  },
  {
   "cell_type": "markdown",
   "metadata": {},
   "source": [
    "#### Survey Question: How concerned are you about e-bikes and e-bike safety in San Diego County? | Column: safty"
   ]
  },
  {
   "cell_type": "code",
   "execution_count": null,
   "metadata": {},
   "outputs": [],
   "source": [
    "order = ['very', 'somewhat', 'not very', 'not concerned', \"don't know\"]\n",
    "safety_counts = quant_df['safty'].value_counts()\n",
    "plt.figure(figsize=(8, 6))\n",
    "sns.barplot(x=safety_counts.index, y=safety_counts.values, order=order)\n",
    "plt.xlabel('Safety Option')\n",
    "plt.ylabel('Number of People')\n",
    "plt.title('Number of People by Safety Option')\n",
    "plt.show()"
   ]
  },
  {
   "cell_type": "markdown",
   "metadata": {},
   "source": [
    "#### Survey Question: Are you interested in learning more about e-bikes? | Column: interested"
   ]
  },
  {
   "cell_type": "code",
   "execution_count": null,
   "metadata": {},
   "outputs": [],
   "source": [
    "# Fix typo and category in answers\n",
    "quant_df['interested'] = quant_df['interested'].str.strip()\n",
    "quant_df['interested'] = quant_df['interested'].str.replace('may be', 'maybe')\n",
    "quant_df['interested'] = quant_df['interested'].str.replace('already know', 'yes')\n",
    "quant_df['interested'] = quant_df['interested'].str.replace('knows enough', 'yes')\n",
    "\n",
    "# Count the number of occurrences of each unique value in the interested column\n",
    "interested_count = quant_df['interested'].value_counts()\n",
    "\n",
    "f, ax = plt.subplots(figsize=(7, 5))\n",
    "sns.despine(f)\n",
    "sns.barplot(x=interested_count.index, y = interested_count.values, palette='magma', order = ['yes', 'maybe', 'no'])\n",
    "\n",
    "# Set title and labels to the graph\n",
    "plt.title('Are you interested in learning more about e-bikes?')\n",
    "plt.xlabel('Answer')\n",
    "plt.ylabel('Count')"
   ]
  },
  {
   "cell_type": "markdown",
   "metadata": {},
   "source": [
    "## Part III: Correlation Analysis"
   ]
  },
  {
   "cell_type": "markdown",
   "metadata": {},
   "source": [
    "### bike_rider vs. ibike_rider, persentage show by text"
   ]
  },
  {
   "cell_type": "code",
   "execution_count": null,
   "metadata": {},
   "outputs": [],
   "source": [
    "correlation = quant_df['bike_rider'].eq('yes').astype(int).corr(quant_df['ebike_rider'].eq('yes').astype(int))\n",
    "\n",
    "yes_yes_count = quant_df[(quant_df['bike_rider'] == 'yes') & (quant_df['ebike_rider'] == 'yes')].shape[0]\n",
    "yes_no_count = quant_df[(quant_df['bike_rider'] == 'yes') & (quant_df['ebike_rider'] == 'no')].shape[0]\n",
    "no_yes_count = quant_df[(quant_df['bike_rider'] == 'no') & (quant_df['ebike_rider'] == 'yes')].shape[0]\n",
    "no_no_count = quant_df[(quant_df['bike_rider'] == 'no') & (quant_df['ebike_rider'] == 'no')].shape[0]\n",
    "\n",
    "total_count = len(quant_df)\n",
    "yes_yes_percent = round((yes_yes_count / total_count) * 100, 2)\n",
    "yes_no_percent = round((yes_no_count / total_count) * 100, 2)\n",
    "no_yes_percent = round((no_yes_count / total_count) * 100, 2)\n",
    "no_no_percent = round((no_no_count / total_count) * 100, 2)\n",
    "\n",
    "print(f\"Correlation between bike_rider and ebike_rider: {correlation}\")\n",
    "print(f\"Percentage of participants who answered 'yes-yes': {yes_yes_percent}%\")\n",
    "print(f\"Percentage of participants who answered 'yes-no': {yes_no_percent}%\")\n",
    "print(f\"Percentage of participants who answered 'no-yes': {no_yes_percent}%\")\n",
    "print(f\"Percentage of participants who answered 'no-no': {no_no_percent}%\")"
   ]
  },
  {
   "cell_type": "markdown",
   "metadata": {},
   "source": [
    "### bike rider vs. miles, bar graph"
   ]
  },
  {
   "cell_type": "raw",
   "metadata": {},
   "source": [
    "quant_df_cleaned = quant_df[(quant_df['bike_rider'] == 'yes') | (quant_df['bike_rider'] == 'no')]\n",
    "\n",
    "mean_miles_yes = quant_df_cleaned[quant_df_cleaned['bike_rider'] == 'yes']['miles'].mean()\n",
    "mean_miles_no = quant_df_cleaned[quant_df_cleaned['bike_rider'] == 'no']['miles'].mean()\n",
    "\n",
    "dot_counts = quant_df_cleaned['bike_rider'].value_counts()\n",
    "\n",
    "color_palette = ['blue', 'green']  # Add your desired colors here\n",
    "\n",
    "bars = plt.bar(dot_counts.index, dot_counts.values, color=color_palette)\n",
    "\n",
    "median_miles_yes = quant_df_cleaned[quant_df_cleaned['bike_rider'] == 'yes']['miles'].median()\n",
    "median_miles_no = quant_df_cleaned[quant_df_cleaned['bike_rider'] == 'no']['miles'].median()\n",
    "\n",
    "plt.axvline(median_miles_yes, color=color_palette[0], linestyle='--', label=f'Median Mile (Yes): {median_miles_yes:.2f}')\n",
    "plt.axvline(median_miles_no, color=color_palette[1], linestyle='--', label=f'Median Mile (No): {median_miles_no:.2f}')\n",
    "\n",
    "plt.axvline(mean_miles_yes, color=color_palette[0], linestyle='-', label=f'Mean Mile (Yes): {mean_miles_yes:.2f}')\n",
    "plt.axvline(mean_miles_no, color=color_palette[1], linestyle='-', label=f'Mean Mile (No): {mean_miles_no:.2f}')\n",
    "\n",
    "plt.xlabel('Miles')\n",
    "plt.ylabel('Number of Participants')\n",
    "plt.title('Correlation between Bike Rider and Miles')\n",
    "\n",
    "legend_handles = [plt.bar([], [], color=color, label=f'Bike Rider ({response})')\n",
    "                  for color, response in zip(color_palette, quant_df_cleaned['bike_rider'].unique())]\n",
    "\n",
    "for handle, label in zip(legend_handles, ['Bike Rider (Yes)', 'Bike Rider (No)']):\n",
    "    handle.set_label(label)\n",
    "\n",
    "plt.legend(handles=legend_handles)\n",
    "plt.show()"
   ]
  },
  {
   "cell_type": "markdown",
   "metadata": {},
   "source": [
    "### ebike_rules vs. safety, persentage by text"
   ]
  },
  {
   "cell_type": "code",
   "execution_count": null,
   "metadata": {},
   "outputs": [],
   "source": [
    "ebike_rules_categories = ['very', 'somewhat', 'not very', \"don't know\"]\n",
    "safety_categories = ['very', 'somewhat', 'not very', 'not concerned', \"don't know\"]\n",
    "\n",
    "percentages = []\n",
    "for ebike_rule in ebike_rules_categories:\n",
    "    row = []\n",
    "    for safety in safety_categories:\n",
    "        count = quant_df[(quant_df['ebike_rules'] == ebike_rule) & (quant_df['safty'] == safety)].shape[0]\n",
    "        percent = round((count / total_count) * 100, 2)\n",
    "        row.append(percent)\n",
    "    percentages.append(row)\n",
    "\n",
    "print(\"Percentage of Participants:\")\n",
    "print(\"--------------------------------------\")\n",
    "print(\"ebike_rules  |   Safety       |  Percentage\")\n",
    "print(\"--------------------------------------\")\n",
    "for i in range(len(ebike_rules_categories)):\n",
    "    for j in range(len(safety_categories)):\n",
    "        print(f\"{ebike_rules_categories[i]:<12} | {safety_categories[j]:<15} | {percentages[i][j]:>10}%\")"
   ]
  },
  {
   "cell_type": "markdown",
   "metadata": {},
   "source": [
    "### ebike_rules vs. safety, persentage by grouped bar chart"
   ]
  },
  {
   "cell_type": "code",
   "execution_count": null,
   "metadata": {},
   "outputs": [],
   "source": [
    "#grouped bar chart\n",
    "safety_categories = ['very', 'somewhat', 'not very', 'not concerned', \"don't know\"]\n",
    "ebike_rules_categories = ['very', 'somewhat', 'not very', \"don't know\"]\n",
    "\n",
    "percentages = []\n",
    "for safety in safety_categories:\n",
    "    row = []\n",
    "    for ebike_rule in ebike_rules_categories:\n",
    "        count = quant_df[(quant_df['safty'] == safety) & (quant_df['ebike_rules'] == ebike_rule)].shape[0]\n",
    "        percentage = (count / total_count) * 100\n",
    "        row.append(percentage)\n",
    "    percentages.append(row)\n",
    "\n",
    "percentages = np.array(percentages)\n",
    "bar_width = 0.2\n",
    "x = np.arange(len(ebike_rules_categories))\n",
    "\n",
    "fig, ax = plt.subplots(figsize=(10, 6))\n",
    "for i in range(len(safety_categories)):\n",
    "    ax.bar(x + (i * bar_width), percentages[i], bar_width, label=safety_categories[i])\n",
    "\n",
    "ax.set_xlabel('ebike_rules')\n",
    "ax.set_ylabel('Percentage')\n",
    "ax.set_title('Percentage of Safety Responses by ebike_rules')\n",
    "ax.set_xticks(x + bar_width * (len(safety_categories) - 1) / 2)\n",
    "ax.set_xticklabels(ebike_rules_categories)\n",
    "ax.legend()\n",
    "\n",
    "plt.show()"
   ]
  },
  {
   "cell_type": "markdown",
   "metadata": {},
   "source": [
    "### ebike_rules vs. safety, persentage by Clustered Bar Chart"
   ]
  },
  {
   "cell_type": "code",
   "execution_count": null,
   "metadata": {},
   "outputs": [],
   "source": [
    "#Clustered Bar Chart\n",
    "ebike_rules_categories = ['very', 'somewhat', 'not very', \"don't know\"]\n",
    "safety_categories = ['very', 'somewhat', 'not very', 'not concerned', \"don't know\"]\n",
    "\n",
    "percentages = []\n",
    "for ebike_rule in ebike_rules_categories:\n",
    "    row = []\n",
    "    for safety in safety_categories:\n",
    "        count = quant_df[(quant_df['ebike_rules'] == ebike_rule) & (quant_df['safty'] == safety)].shape[0]\n",
    "        percentage = (count / total_count) * 100\n",
    "        row.append(percentage)\n",
    "    percentages.append(row)\n",
    "\n",
    "percentages = np.array(percentages)\n",
    "bar_width = 0.15\n",
    "\n",
    "r1 = np.arange(len(ebike_rules_categories))\n",
    "r2 = [x + bar_width for x in r1]\n",
    "r3 = [x + bar_width for x in r2]\n",
    "r4 = [x + bar_width for x in r3]\n",
    "r5 = [x + bar_width for x in r4]\n",
    "\n",
    "fig, ax = plt.subplots(figsize=(10, 6))\n",
    "rects1 = ax.bar(r1, percentages[:, 0], width=bar_width, label=safety_categories[0])\n",
    "rects2 = ax.bar(r2, percentages[:, 1], width=bar_width, label=safety_categories[1])\n",
    "rects3 = ax.bar(r3, percentages[:, 2], width=bar_width, label=safety_categories[2])\n",
    "rects4 = ax.bar(r4, percentages[:, 3], width=bar_width, label=safety_categories[3])\n",
    "rects5 = ax.bar(r5, percentages[:, 4], width=bar_width, label=safety_categories[4])\n",
    "\n",
    "ax.set_xlabel('eBike Rules')\n",
    "ax.set_ylabel('Percentage')\n",
    "ax.set_title('Percentage of eBike Rules by Safety Response')\n",
    "ax.set_xticks(r3)\n",
    "ax.set_xticklabels(ebike_rules_categories)\n",
    "ax.legend()\n",
    "\n",
    "plt.tight_layout()\n",
    "plt.show()"
   ]
  },
  {
   "cell_type": "markdown",
   "metadata": {},
   "source": [
    "### ebike_rules vs. safety, persentage by heatmap"
   ]
  },
  {
   "cell_type": "code",
   "execution_count": null,
   "metadata": {},
   "outputs": [],
   "source": [
    "#heatmap\n",
    "import matplotlib.patheffects as path_effects\n",
    "safety_categories = ['very', 'somewhat', 'not very', 'not concerned', \"don't know\"]\n",
    "ebike_rules_categories = ['very', 'somewhat', 'not very', \"don't know\"]\n",
    "\n",
    "percentages = []\n",
    "for safety in safety_categories:\n",
    "    row = []\n",
    "    for ebike_rule in ebike_rules_categories:\n",
    "        count = quant_df[(quant_df['safty'] == safety) & (quant_df['ebike_rules'] == ebike_rule)].shape[0]\n",
    "        percentage = (count / total_count) * 100\n",
    "        row.append(percentage)\n",
    "    percentages.append(row)\n",
    "\n",
    "percentages = np.array(percentages)\n",
    "\n",
    "fig, ax = plt.subplots(figsize=(8, 6))\n",
    "im = ax.imshow(percentages, cmap='hot')\n",
    "cbar = ax.figure.colorbar(im, ax=ax)\n",
    "cbar.ax.set_ylabel('Percentage', rotation=-90, va='bottom')\n",
    "\n",
    "ax.set_xticks(np.arange(len(ebike_rules_categories)))\n",
    "ax.set_yticks(np.arange(len(safety_categories)))\n",
    "ax.set_xticklabels(ebike_rules_categories)\n",
    "ax.set_yticklabels(safety_categories)\n",
    "\n",
    "plt.setp(ax.get_xticklabels(), rotation=45, ha='right', rotation_mode='anchor')\n",
    "\n",
    "for i in range(len(safety_categories)):\n",
    "    for j in range(len(ebike_rules_categories)):\n",
    "        percentage = percentages[i, j]\n",
    "        text_color = 'black' if percentage >= 10 else 'white'\n",
    "        box_color = im.cmap(im.norm(percentage))\n",
    "        text = ax.text(j, i, f'{percentage:.2f}%', ha='center', va='center', color=text_color, weight='bold')\n",
    "        text.set_path_effects([path_effects.Stroke(linewidth=3, foreground=box_color), path_effects.Normal()])\n",
    "\n",
    "ax.set_xlabel('eBike Rules')\n",
    "ax.set_ylabel('Safety Response')\n",
    "ax.set_title('Percentage of Safety Responses by eBike Rules')\n",
    "\n",
    "plt.tight_layout()\n",
    "plt.show()"
   ]
  },
  {
   "cell_type": "markdown",
   "metadata": {},
   "source": [
    "### private_locker vs. group_locker, persentage by heatmap"
   ]
  },
  {
   "cell_type": "code",
   "execution_count": null,
   "metadata": {},
   "outputs": [],
   "source": [
    "#heatmap\n",
    "import seaborn as sns\n",
    "\n",
    "private_locker_categories = ['very', 'somewhat', 'not very', \"don't know\"]\n",
    "group_locker_categories = ['very', 'somewhat', 'not very', 'depends', \"don't know\"]\n",
    "\n",
    "percentages = []\n",
    "for private_locker in private_locker_categories:\n",
    "    row = []\n",
    "    for group_locker in group_locker_categories:\n",
    "        count = quant_df[(quant_df['private_locker'] == private_locker) & (quant_df['group_locker'] == group_locker)].shape[0]\n",
    "        percentage = (count / total_count) * 100\n",
    "        row.append(percentage)\n",
    "    percentages.append(row)\n",
    "\n",
    "percentages = np.array(percentages)\n",
    "fig, ax = plt.subplots(figsize=(8, 6))\n",
    "sns.heatmap(percentages, cmap='YlOrBr', annot=True, fmt=\".1f\", cbar=True, linewidths=0.5)\n",
    "\n",
    "ax.set_xticks(np.arange(len(group_locker_categories)) + 0.5)\n",
    "ax.set_yticks(np.arange(len(private_locker_categories)) + 0.5)\n",
    "ax.set_xticklabels(group_locker_categories)\n",
    "ax.set_yticklabels(private_locker_categories)\n",
    "\n",
    "plt.setp(ax.get_xticklabels(), rotation=45, ha='right', rotation_mode='anchor')\n",
    "\n",
    "ax.set_xlabel('Group Locker')\n",
    "ax.set_ylabel('Private Locker')\n",
    "ax.set_title('Percentage of Private Locker vs Group Locker')\n",
    "\n",
    "plt.tight_layout()\n",
    "plt.show()"
   ]
  },
  {
   "cell_type": "code",
   "execution_count": null,
   "metadata": {},
   "outputs": [],
   "source": []
  }
 ],
 "metadata": {
  "kernelspec": {
   "display_name": "Python 3",
   "language": "python",
   "name": "python3"
  },
  "language_info": {
   "codemirror_mode": {
    "name": "ipython",
    "version": 3
   },
   "file_extension": ".py",
   "mimetype": "text/x-python",
   "name": "python",
   "nbconvert_exporter": "python",
   "pygments_lexer": "ipython3",
   "version": "3.8.5"
  }
 },
 "nbformat": 4,
 "nbformat_minor": 4
}

{
 "cells": [
  {
   "cell_type": "markdown",
   "id": "28434356",
   "metadata": {},
   "source": [
    "# Step 4:  Survey Data Normalization"
   ]
  },
  {
   "cell_type": "markdown",
   "id": "6eed6421",
   "metadata": {},
   "source": [
    "### E-Bike Project under Center for Community Energy (CCE)"
   ]
  },
  {
   "cell_type": "markdown",
   "id": "3d26392e",
   "metadata": {},
   "source": [
    "##### Contributors\n",
    "- Zhihan Li (Claire)\n",
    "- Ethan Hu"
   ]
  },
  {
   "cell_type": "markdown",
   "id": "6031e967",
   "metadata": {},
   "source": [
    "### Introduciton\n",
    "\n",
    "[...]"
   ]
  },
  {
   "cell_type": "code",
   "execution_count": null,
   "id": "d8628c47",
   "metadata": {},
   "outputs": [],
   "source": []
  }
 ],
 "metadata": {
  "kernelspec": {
   "display_name": "Python 3 (ipykernel)",
   "language": "python",
   "name": "python3"
  },
  "language_info": {
   "codemirror_mode": {
    "name": "ipython",
    "version": 3
   },
   "file_extension": ".py",
   "mimetype": "text/x-python",
   "name": "python",
   "nbconvert_exporter": "python",
   "pygments_lexer": "ipython3",
   "version": "3.11.4"
  }
 },
 "nbformat": 4,
 "nbformat_minor": 5
}

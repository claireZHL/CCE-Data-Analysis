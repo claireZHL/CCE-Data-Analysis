{
 "cells": [
  {
   "cell_type": "code",
   "execution_count": 1,
   "metadata": {
    "is_executing": true
   },
   "outputs": [],
   "source": [
    "# Import Packages\n",
    "import pandas as pd\n",
    "import numpy as np"
   ]
  },
  {
   "cell_type": "markdown",
   "metadata": {},
   "source": [
    "# Center For Community Service\n"
   ]
  },
  {
   "cell_type": "markdown",
   "metadata": {},
   "source": [
    "## Part I: Data Cleaning"
   ]
  },
  {
   "cell_type": "markdown",
   "metadata": {},
   "source": [
    "##### CSV File 1: 4.29.2023_Survey_Results.csv"
   ]
  },
  {
   "cell_type": "code",
   "execution_count": 3,
   "metadata": {},
   "outputs": [],
   "source": [
    "# Read survey data from the csv file\n",
    "df = pd.read_csv(\"4.29.2023_Survey_Results.csv\")"
   ]
  },
  {
   "cell_type": "code",
   "execution_count": 4,
   "metadata": {
    "scrolled": false
   },
   "outputs": [],
   "source": [
    "# Keep numerical and binary columns\n",
    "quant_df = df.drop(\"Who took this survey (initials)\", axis=1)\n",
    "quant_df.drop(\"Any additional comments?\", axis=1, inplace=True)\n",
    "quant_df.drop(\"Who's survey is this?\", axis=1, inplace=True)\n",
    "quant_df.drop(\"Timestamp\", axis=1, inplace=True)\n",
    "quant_df.drop(\"Unnamed: 16\", axis=1, inplace=True)\n",
    "\n",
    "# Change headers\n",
    "quant_df.columns = ['bike_rider', 'zipcode', 'ebike_rider', 'commute_purpose',\n",
    "                   'miles', 'try_bike', 'ebike_class', 'private_locker', 'group_locker',\n",
    "                   'ebike_rules', 'safty', 'interested']"
   ]
  },
  {
   "cell_type": "code",
   "execution_count": 5,
   "metadata": {},
   "outputs": [],
   "source": [
    "# convert zipcode values to string\n",
    "quant_df['zipcode'] = quant_df['zipcode'].apply(lambda x: str(x).replace('.0', ''))\n",
    "\n",
    "# convert all letters to lowercase\n",
    "columns = quant_df.columns\n",
    "for column in columns:\n",
    "    quant_df[column] = quant_df[column].str.lower()"
   ]
  },
  {
   "cell_type": "code",
   "execution_count": 6,
   "metadata": {},
   "outputs": [],
   "source": [
    "# Set cells to null if its unit is time\n",
    "quant_df['miles'] = quant_df['miles'].apply(lambda x: np.nan if pd.isnull(x) or 'min' in x else x)\n",
    "quant_df['miles'] = quant_df['miles'].str.extract(r'(\\d+)', expand=False).astype(float).astype(pd.Int64Dtype())"
   ]
  },
  {
   "cell_type": "markdown",
   "metadata": {},
   "source": [
    " "
   ]
  },
  {
   "cell_type": "markdown",
   "metadata": {},
   "source": [
    "##### CSV File 2: 6.08.2023_Online_Survey_Results.csv"
   ]
  },
  {
   "cell_type": "code",
   "execution_count": 7,
   "metadata": {},
   "outputs": [],
   "source": [
    "df2= pd.read_csv(\"6.08.2023_Online_Survey_Results.csv\")"
   ]
  },
  {
   "cell_type": "code",
   "execution_count": 8,
   "metadata": {
    "scrolled": false
   },
   "outputs": [],
   "source": [
    "# Keep question columns only\n",
    "df2 = df2[['Q1', 'Q2', 'Q3',\n",
    "           'Q4_1', 'Q4_2', 'Q4_3', 'Q4_4', \n",
    "           'Q4_5', 'Q4_6', 'Q4_7', 'Q5', 'Q6',\n",
    "           'Q7', 'Q8', 'Q9', 'Q10', 'Q11']]\n",
    "\n",
    "# Drop row 1\n",
    "df2 = df2.drop(1)"
   ]
  },
  {
   "cell_type": "code",
   "execution_count": 9,
   "metadata": {},
   "outputs": [],
   "source": [
    "# Change column names\n",
    "df2.columns = ['bike_rider', 'zipcode', 'ebike_rider', 'commute_purpose_1', 'commute_purpose_2',\n",
    "               'commute_purpose_3', 'commute_purpose_4', 'commute_purpose_5', 'commute_purpose_6',\n",
    "               'commute_purpose_7', 'miles', 'try_bike', 'ebike_class', 'locker',\n",
    "               'ebike_rules', 'safty', 'interested']\n",
    "df2 = df2.drop(0)"
   ]
  },
  {
   "cell_type": "code",
   "execution_count": 10,
   "metadata": {},
   "outputs": [],
   "source": [
    "# Set cells to null if its unit is time\n",
    "df2['miles'] = df2['miles'].apply(lambda x: np.nan if pd.isnull(x) or 'min' in x else x)\n",
    "df2['miles'] = df2['miles'].str.extract(r'(\\d+)', expand=False).astype(float).astype(pd.Int64Dtype())"
   ]
  },
  {
   "cell_type": "code",
   "execution_count": 11,
   "metadata": {},
   "outputs": [],
   "source": [
    "# Keep U.S. zipcodes only\n",
    "df2['zipcode'] = df2['zipcode'].apply(lambda x: np.nan if pd.isnull(x) or len(x) != 5 else x)"
   ]
  },
  {
   "cell_type": "markdown",
   "metadata": {},
   "source": [
    " "
   ]
  },
  {
   "cell_type": "markdown",
   "metadata": {},
   "source": [
    "##### Merge quant_df Dataframe and df2 Dataframe"
   ]
  },
  {
   "cell_type": "code",
   "execution_count": 12,
   "metadata": {},
   "outputs": [],
   "source": [
    "# Combine two dataframes\n",
    "df = pd.concat([quant_df, df2], ignore_index=True)\n",
    "\n",
    "# Convert all letters to lowercase\n",
    "columns = df.columns\n",
    "for column in columns:\n",
    "    if column != 'zipcode' and column != 'miles':\n",
    "        df[column] = df[column].str.lower()\n",
    "\n",
    "# Drop the column for 'combination' among communte_purpose\n",
    "df = df.drop('commute_purpose_6', axis=1)"
   ]
  },
  {
   "cell_type": "code",
   "execution_count": 13,
   "metadata": {},
   "outputs": [],
   "source": [
    "# Convert all columns except for 'miles' and 'zipcode' to string\n",
    "columns = df.columns\n",
    "for column in columns:\n",
    "    if column != 'zipcode' and column != 'miles':\n",
    "        df[column] = df[column].astype(str)\n",
    "\n",
    "# Rename each commute purpose columns\n",
    "df = df.rename(columns={'commute_purpose_1': 'by_public', \n",
    "                        'commute_purpose_2': 'by_car',\n",
    "                        'commute_purpose_3': 'by_bike',\n",
    "                        'commute_purpose_4': 'by_ebike',\n",
    "                        'commute_purpose_5': 'by_walking',\n",
    "                        'commute_purpose_7': 'no_commute'})"
   ]
  },
  {
   "cell_type": "code",
   "execution_count": 14,
   "metadata": {},
   "outputs": [],
   "source": [
    "# Transfer information in 'commute_purpose' column in to 'by_' columns\n",
    "df['by_public'] = df.apply(lambda row: 1 if 'public' in row['commute_purpose']\n",
    "                                                          or 'trolley' in row['commute_purpose'] \n",
    "                                                          or 'mts' in row['commute_purpose'] \n",
    "                                                          or 'bus' in row['commute_purpose']\n",
    "                                          else row['by_public'], axis=1)\n",
    "\n",
    "df['by_car'] = df.apply(lambda row: 1 if 'car' in row['commute_purpose'] or 'uber' in row['commute_purpose'] \n",
    "                                      else row['by_car'], axis=1)\n",
    "df['by_bike'] = df.apply(lambda row: 1 if 'bike' in row['commute_purpose'] and 'e bike' not in row['commute_purpose']\n",
    "                                       else row['by_bike'], axis=1)\n",
    "df['by_ebike'] = df.apply(lambda row: 1 if 'e bike' in row['commute_purpose']\n",
    "                                       else row['by_ebike'], axis=1)\n",
    "df['by_walking'] = df.apply(lambda row: 1 if 'walk' in row['commute_purpose']\n",
    "                                       else row['by_walking'], axis=1)\n",
    "df['no_commute'] = df.apply(lambda row: 1 if 'i do not commute' in row['commute_purpose']\n",
    "                                       else row['no_commute'], axis=1)\n",
    "\n",
    "# Convert value in 'by_' columns to 1 if the cell != nan\n",
    "df['by_public'] = df['by_public'].apply(lambda x: 1 if x != 'nan' else 0)\n",
    "df['by_car'] = df['by_car'].apply(lambda x: 1 if x != 'nan' else 0)\n",
    "df['by_bike'] = df['by_bike'].apply(lambda x: 1 if x != 'nan' else 0)\n",
    "df['by_ebike'] = df['by_ebike'].apply(lambda x: 1 if x != 'nan' else 0)\n",
    "df['by_walking'] = df['by_walking'].apply(lambda x: 1 if x != 'nan' else 0)\n",
    "df['no_commute'] = df['no_commute'].apply(lambda x: 1 if x != 'nan' else 0)\n",
    "\n",
    "# Drop 'commute_purpose' column since it's been one-hot encoded into 'by_' columns\n",
    "df = df.drop('commute_purpose', axis=1)"
   ]
  },
  {
   "cell_type": "code",
   "execution_count": 15,
   "metadata": {},
   "outputs": [],
   "source": [
    "# Keep answersin the 'ebike_rider' column to either yes or no\n",
    "df['ebike_rider'] = df['ebike_rider'].apply(lambda x: 'yes' if x != 'nan' and x != 'no' else x)"
   ]
  },
  {
   "cell_type": "code",
   "execution_count": 16,
   "metadata": {},
   "outputs": [],
   "source": [
    "# Reorder the columns to make it align with the order of the survey questions\n",
    "df = df[['bike_rider', 'zipcode', 'ebike_rider',\n",
    "         'by_public', 'by_car', 'by_bike', 'by_ebike', 'by_walking', 'no_commute',\n",
    "         'miles', 'try_bike', 'ebike_class', 'private_locker', 'group_locker', 'locker',\n",
    "         'ebike_rules', 'safty', 'interested']]"
   ]
  },
  {
   "cell_type": "code",
   "execution_count": 17,
   "metadata": {
    "scrolled": true
   },
   "outputs": [],
   "source": [
    "# Save df as quant_df, which is the name of the df that will be used in the analysis\n",
    "quant_df = df"
   ]
  },
  {
   "cell_type": "markdown",
   "metadata": {},
   "source": [
    " "
   ]
  },
  {
   "cell_type": "markdown",
   "metadata": {},
   "source": [
    "##### CSV File 3: June_10_2023_Survey_Data.csv"
   ]
  },
  {
   "cell_type": "code",
   "execution_count": 18,
   "metadata": {},
   "outputs": [],
   "source": [
    "df3 = pd.read_csv('June_10_2023_Survey_Data.csv')"
   ]
  },
  {
   "cell_type": "code",
   "execution_count": 19,
   "metadata": {
    "scrolled": true
   },
   "outputs": [],
   "source": [
    "concatenated_df = pd.concat([quant_df, df3], sort=False)\n",
    "\n",
    "# Reset the index of the concatenated dataframe\n",
    "concatenated_df = concatenated_df.reindex(columns=df.columns)"
   ]
  },
  {
   "cell_type": "code",
   "execution_count": 20,
   "metadata": {},
   "outputs": [],
   "source": [
    "def replace_with_yes(row):\n",
    "    if type(row) != float:\n",
    "        if 'yes' in row:\n",
    "            return 'yes'\n",
    "    return row\n",
    "\n",
    "def replace_with_no(row):\n",
    "    if type(row) != float:\n",
    "        if 'no' in row or 'but' in row:\n",
    "            return 'no'\n",
    "    return row\n",
    "\n",
    "def replace_with_maybe(row):\n",
    "    if type(row) != float:\n",
    "        if 'may' in row:\n",
    "            return 'maybe'\n",
    "    return row\n",
    "\n",
    "def replace_with_dn(row):\n",
    "    if type(row) != float:\n",
    "        if \"don't know\" in row or 'don’t know' in row:\n",
    "            return 'don\\'t know'\n",
    "    return row\n",
    "\n",
    "def replace_with_nan(row):\n",
    "    if type(row) != float:\n",
    "        if 'nan' in row:\n",
    "            return np.nan\n",
    "    return row\n",
    "\n",
    "def replace_with_depends(row):\n",
    "    if type(row) != float:\n",
    "        if 'depends' in row:\n",
    "            return 'somewhat'\n",
    "    return row"
   ]
  },
  {
   "cell_type": "code",
   "execution_count": 21,
   "metadata": {},
   "outputs": [],
   "source": [
    "concatenated_df['bike_rider'] = concatenated_df['bike_rider'].apply(replace_with_yes)\n",
    "concatenated_df['bike_rider'] =concatenated_df['bike_rider'].apply(replace_with_no)"
   ]
  },
  {
   "cell_type": "code",
   "execution_count": 22,
   "metadata": {},
   "outputs": [],
   "source": [
    "concatenated_df['ebike_rules'] = concatenated_df['ebike_rules'].apply(replace_with_dn)"
   ]
  },
  {
   "cell_type": "code",
   "execution_count": 23,
   "metadata": {},
   "outputs": [],
   "source": [
    "# convert zipcode values to string\n",
    "concatenated_df['zipcode'] = concatenated_df['zipcode'].apply(lambda x: str(x).replace('.0', ''))"
   ]
  },
  {
   "cell_type": "code",
   "execution_count": 24,
   "metadata": {},
   "outputs": [],
   "source": [
    "concatenated_df['try_bike'] = concatenated_df['try_bike'].apply(replace_with_nan)\n",
    "concatenated_df['private_locker'] = concatenated_df['private_locker'].apply(replace_with_nan)\n",
    "concatenated_df['group_locker'] = concatenated_df['group_locker'].apply(replace_with_nan)\n",
    "concatenated_df['group_locker'] = concatenated_df['group_locker'].apply(replace_with_depends)\n",
    "concatenated_df['locker'] = concatenated_df['locker'].apply(replace_with_nan)\n",
    "concatenated_df['safty'] = concatenated_df['safty'].apply(replace_with_nan)\n",
    "concatenated_df['interested'] = concatenated_df['interested'].apply(replace_with_nan)\n",
    "concatenated_df['interested'] = concatenated_df['interested'].apply(replace_with_no)\n",
    "concatenated_df['interested'] = concatenated_df['interested'].apply(replace_with_yes)\n",
    "concatenated_df['interested'] = concatenated_df['interested'].apply(replace_with_maybe)"
   ]
  },
  {
   "cell_type": "code",
   "execution_count": 25,
   "metadata": {},
   "outputs": [
    {
     "data": {
      "text/html": [
       "<div>\n",
       "<style scoped>\n",
       "    .dataframe tbody tr th:only-of-type {\n",
       "        vertical-align: middle;\n",
       "    }\n",
       "\n",
       "    .dataframe tbody tr th {\n",
       "        vertical-align: top;\n",
       "    }\n",
       "\n",
       "    .dataframe thead th {\n",
       "        text-align: right;\n",
       "    }\n",
       "</style>\n",
       "<table border=\"1\" class=\"dataframe\">\n",
       "  <thead>\n",
       "    <tr style=\"text-align: right;\">\n",
       "      <th></th>\n",
       "      <th>bike_rider</th>\n",
       "      <th>zipcode</th>\n",
       "      <th>ebike_rider</th>\n",
       "      <th>by_public</th>\n",
       "      <th>by_car</th>\n",
       "      <th>by_bike</th>\n",
       "      <th>by_ebike</th>\n",
       "      <th>by_walking</th>\n",
       "      <th>no_commute</th>\n",
       "      <th>miles</th>\n",
       "      <th>try_bike</th>\n",
       "      <th>ebike_class</th>\n",
       "      <th>private_locker</th>\n",
       "      <th>group_locker</th>\n",
       "      <th>locker</th>\n",
       "      <th>ebike_rules</th>\n",
       "      <th>safty</th>\n",
       "      <th>interested</th>\n",
       "    </tr>\n",
       "  </thead>\n",
       "  <tbody>\n",
       "    <tr>\n",
       "      <th>0</th>\n",
       "      <td>no</td>\n",
       "      <td>92115</td>\n",
       "      <td>no</td>\n",
       "      <td>0</td>\n",
       "      <td>0</td>\n",
       "      <td>0.0</td>\n",
       "      <td>0</td>\n",
       "      <td>0</td>\n",
       "      <td>1</td>\n",
       "      <td>&lt;NA&gt;</td>\n",
       "      <td>maybe</td>\n",
       "      <td>no</td>\n",
       "      <td>very</td>\n",
       "      <td>very</td>\n",
       "      <td>NaN</td>\n",
       "      <td>don't know</td>\n",
       "      <td>not very</td>\n",
       "      <td>no</td>\n",
       "    </tr>\n",
       "    <tr>\n",
       "      <th>1</th>\n",
       "      <td>no</td>\n",
       "      <td>92129</td>\n",
       "      <td>no</td>\n",
       "      <td>0</td>\n",
       "      <td>1</td>\n",
       "      <td>0.0</td>\n",
       "      <td>0</td>\n",
       "      <td>0</td>\n",
       "      <td>0</td>\n",
       "      <td>&lt;NA&gt;</td>\n",
       "      <td>no</td>\n",
       "      <td>a bit</td>\n",
       "      <td>NaN</td>\n",
       "      <td>NaN</td>\n",
       "      <td>NaN</td>\n",
       "      <td>not very</td>\n",
       "      <td>somewhat</td>\n",
       "      <td>no</td>\n",
       "    </tr>\n",
       "    <tr>\n",
       "      <th>2</th>\n",
       "      <td>no</td>\n",
       "      <td>92115</td>\n",
       "      <td>yes</td>\n",
       "      <td>1</td>\n",
       "      <td>0</td>\n",
       "      <td>0.0</td>\n",
       "      <td>0</td>\n",
       "      <td>0</td>\n",
       "      <td>0</td>\n",
       "      <td>1</td>\n",
       "      <td>maybe</td>\n",
       "      <td>a bit</td>\n",
       "      <td>very</td>\n",
       "      <td>somewhat</td>\n",
       "      <td>NaN</td>\n",
       "      <td>don't know</td>\n",
       "      <td>very</td>\n",
       "      <td>yes</td>\n",
       "    </tr>\n",
       "    <tr>\n",
       "      <th>3</th>\n",
       "      <td>no</td>\n",
       "      <td>92562</td>\n",
       "      <td>no</td>\n",
       "      <td>0</td>\n",
       "      <td>0</td>\n",
       "      <td>0.0</td>\n",
       "      <td>0</td>\n",
       "      <td>0</td>\n",
       "      <td>1</td>\n",
       "      <td>&lt;NA&gt;</td>\n",
       "      <td>NaN</td>\n",
       "      <td>no</td>\n",
       "      <td>NaN</td>\n",
       "      <td>NaN</td>\n",
       "      <td>NaN</td>\n",
       "      <td>don't know</td>\n",
       "      <td>not concerned</td>\n",
       "      <td>maybe</td>\n",
       "    </tr>\n",
       "    <tr>\n",
       "      <th>4</th>\n",
       "      <td>yes</td>\n",
       "      <td>92109</td>\n",
       "      <td>no</td>\n",
       "      <td>0</td>\n",
       "      <td>0</td>\n",
       "      <td>0.0</td>\n",
       "      <td>0</td>\n",
       "      <td>0</td>\n",
       "      <td>1</td>\n",
       "      <td>&lt;NA&gt;</td>\n",
       "      <td>NaN</td>\n",
       "      <td>no</td>\n",
       "      <td>NaN</td>\n",
       "      <td>NaN</td>\n",
       "      <td>NaN</td>\n",
       "      <td>don't know</td>\n",
       "      <td>not concerned</td>\n",
       "      <td>no</td>\n",
       "    </tr>\n",
       "    <tr>\n",
       "      <th>...</th>\n",
       "      <td>...</td>\n",
       "      <td>...</td>\n",
       "      <td>...</td>\n",
       "      <td>...</td>\n",
       "      <td>...</td>\n",
       "      <td>...</td>\n",
       "      <td>...</td>\n",
       "      <td>...</td>\n",
       "      <td>...</td>\n",
       "      <td>...</td>\n",
       "      <td>...</td>\n",
       "      <td>...</td>\n",
       "      <td>...</td>\n",
       "      <td>...</td>\n",
       "      <td>...</td>\n",
       "      <td>...</td>\n",
       "      <td>...</td>\n",
       "      <td>...</td>\n",
       "    </tr>\n",
       "    <tr>\n",
       "      <th>36</th>\n",
       "      <td>no</td>\n",
       "      <td>91945</td>\n",
       "      <td>no</td>\n",
       "      <td>0</td>\n",
       "      <td>1</td>\n",
       "      <td>NaN</td>\n",
       "      <td>0</td>\n",
       "      <td>0</td>\n",
       "      <td>0</td>\n",
       "      <td>20</td>\n",
       "      <td>NaN</td>\n",
       "      <td>a bit</td>\n",
       "      <td>NaN</td>\n",
       "      <td>NaN</td>\n",
       "      <td>somewhat</td>\n",
       "      <td>not very</td>\n",
       "      <td>NaN</td>\n",
       "      <td>yes</td>\n",
       "    </tr>\n",
       "    <tr>\n",
       "      <th>37</th>\n",
       "      <td>yes</td>\n",
       "      <td>92108</td>\n",
       "      <td>no</td>\n",
       "      <td>0</td>\n",
       "      <td>1</td>\n",
       "      <td>NaN</td>\n",
       "      <td>0</td>\n",
       "      <td>0</td>\n",
       "      <td>0</td>\n",
       "      <td>10</td>\n",
       "      <td>NaN</td>\n",
       "      <td>no</td>\n",
       "      <td>NaN</td>\n",
       "      <td>NaN</td>\n",
       "      <td>somewhat</td>\n",
       "      <td>not very</td>\n",
       "      <td>NaN</td>\n",
       "      <td>yes</td>\n",
       "    </tr>\n",
       "    <tr>\n",
       "      <th>38</th>\n",
       "      <td>yes</td>\n",
       "      <td>92117</td>\n",
       "      <td>no</td>\n",
       "      <td>0</td>\n",
       "      <td>1</td>\n",
       "      <td>NaN</td>\n",
       "      <td>0</td>\n",
       "      <td>0</td>\n",
       "      <td>0</td>\n",
       "      <td>15</td>\n",
       "      <td>NaN</td>\n",
       "      <td>no</td>\n",
       "      <td>NaN</td>\n",
       "      <td>NaN</td>\n",
       "      <td>very</td>\n",
       "      <td>not very</td>\n",
       "      <td>NaN</td>\n",
       "      <td>maybe</td>\n",
       "    </tr>\n",
       "    <tr>\n",
       "      <th>39</th>\n",
       "      <td>yes</td>\n",
       "      <td>92102</td>\n",
       "      <td>no</td>\n",
       "      <td>0</td>\n",
       "      <td>1</td>\n",
       "      <td>NaN</td>\n",
       "      <td>0</td>\n",
       "      <td>0</td>\n",
       "      <td>0</td>\n",
       "      <td>12</td>\n",
       "      <td>NaN</td>\n",
       "      <td>no</td>\n",
       "      <td>NaN</td>\n",
       "      <td>NaN</td>\n",
       "      <td>somewhat</td>\n",
       "      <td>somewhat</td>\n",
       "      <td>NaN</td>\n",
       "      <td>maybe</td>\n",
       "    </tr>\n",
       "    <tr>\n",
       "      <th>40</th>\n",
       "      <td>no</td>\n",
       "      <td>92139</td>\n",
       "      <td>no</td>\n",
       "      <td>1</td>\n",
       "      <td>0</td>\n",
       "      <td>NaN</td>\n",
       "      <td>0</td>\n",
       "      <td>0</td>\n",
       "      <td>0</td>\n",
       "      <td>15</td>\n",
       "      <td>NaN</td>\n",
       "      <td>no</td>\n",
       "      <td>NaN</td>\n",
       "      <td>NaN</td>\n",
       "      <td>no opinon</td>\n",
       "      <td>don't know</td>\n",
       "      <td>NaN</td>\n",
       "      <td>no</td>\n",
       "    </tr>\n",
       "  </tbody>\n",
       "</table>\n",
       "<p>166 rows × 18 columns</p>\n",
       "</div>"
      ],
      "text/plain": [
       "   bike_rider zipcode ebike_rider  by_public  by_car  by_bike  by_ebike  \\\n",
       "0          no   92115          no          0       0      0.0         0   \n",
       "1          no   92129          no          0       1      0.0         0   \n",
       "2          no   92115         yes          1       0      0.0         0   \n",
       "3          no   92562          no          0       0      0.0         0   \n",
       "4         yes   92109          no          0       0      0.0         0   \n",
       "..        ...     ...         ...        ...     ...      ...       ...   \n",
       "36         no   91945          no          0       1      NaN         0   \n",
       "37        yes   92108          no          0       1      NaN         0   \n",
       "38        yes   92117          no          0       1      NaN         0   \n",
       "39        yes   92102          no          0       1      NaN         0   \n",
       "40         no   92139          no          1       0      NaN         0   \n",
       "\n",
       "    by_walking  no_commute  miles try_bike ebike_class private_locker  \\\n",
       "0            0           1   <NA>    maybe          no           very   \n",
       "1            0           0   <NA>       no       a bit            NaN   \n",
       "2            0           0      1    maybe       a bit           very   \n",
       "3            0           1   <NA>      NaN          no            NaN   \n",
       "4            0           1   <NA>      NaN          no            NaN   \n",
       "..         ...         ...    ...      ...         ...            ...   \n",
       "36           0           0     20      NaN       a bit            NaN   \n",
       "37           0           0     10      NaN          no            NaN   \n",
       "38           0           0     15      NaN          no            NaN   \n",
       "39           0           0     12      NaN          no            NaN   \n",
       "40           0           0     15      NaN          no            NaN   \n",
       "\n",
       "   group_locker     locker ebike_rules          safty interested  \n",
       "0          very        NaN  don't know       not very         no  \n",
       "1           NaN        NaN    not very       somewhat         no  \n",
       "2      somewhat        NaN  don't know           very        yes  \n",
       "3           NaN        NaN  don't know  not concerned      maybe  \n",
       "4           NaN        NaN  don't know  not concerned         no  \n",
       "..          ...        ...         ...            ...        ...  \n",
       "36          NaN   somewhat    not very            NaN        yes  \n",
       "37          NaN   somewhat    not very            NaN        yes  \n",
       "38          NaN       very    not very            NaN      maybe  \n",
       "39          NaN   somewhat    somewhat            NaN      maybe  \n",
       "40          NaN  no opinon  don't know            NaN         no  \n",
       "\n",
       "[166 rows x 18 columns]"
      ]
     },
     "execution_count": 25,
     "metadata": {},
     "output_type": "execute_result"
    }
   ],
   "source": [
    "concatenated_df"
   ]
  },
  {
   "cell_type": "markdown",
   "metadata": {},
   "source": [
    "Here's a description of each feature (column) in the quant_df DataFrame:\n",
    "\n",
    "Header | Description\n",
    "-------|------------\n",
    "bike_rider | Are you a bike rider?\n",
    "zipcode | What is your zip code?\n",
    "ebike_rider | Do you or anyone in your family ride an e-bike?\n",
    "by_public | How do you commute - to work, school, or for other purposes? - Answered by public transportaion\n",
    "by_car | How do you commute - to work, school, or for other purposes? - Answered by car\n",
    "by_bike | How do you commute - to work, school, or for other purposes? - Answered by bike\n",
    "by_ebike | How do you commute - to work, school, or for other purposes? - Answered by e bike\n",
    "by_walking | How do you commute - to work, school, or for other purposes? - Answered by walking\n",
    "no_commute | How do you commute - to work, school, or for other purposes? - Answered no need for commute\n",
    "miles | How far (ROUND TRIP) do you commute for any purpose each day?\n",
    "try_bike | Would you commute by e-bike if given the opportunity?\n",
    "ebike_class | Do you know the differences between Class 1, Class 1, and Class 3 e-bikes?\n",
    "private_locker | How comfortable would you be storing your bike in a private bike locker while you are commuting?\n",
    "group_locker | How comfortable would you be storing your bike in a group bike locker while you are commuting?\n",
    "locker | How comfortable would you be storing your bike in a bike locker while you are commuting?\n",
    "ebike_rules | How familiar are you and those in your family with the rules of the road for e-bikes?\n",
    "safty | How concerned are you about e-bikes and e-bike safety in San Diego County?\n",
    "interested | Are you interested in learning more about e-bikes?\n"
   ]
  },
  {
   "cell_type": "markdown",
   "metadata": {},
   "source": [
    "#### Export Data Frame as Excel"
   ]
  },
  {
   "cell_type": "code",
   "execution_count": null,
   "metadata": {},
   "outputs": [],
   "source": [
    "# Export DataFrame to Excel\n",
    "excel_filename = 'cce_survey_data.xlsx'\n",
    "concatenated_df.to_excel(excel_filename, index=False)"
   ]
  }
 ],
 "metadata": {
  "kernelspec": {
   "display_name": "Python 3 (ipykernel)",
   "language": "python",
   "name": "python3"
  },
  "language_info": {
   "codemirror_mode": {
    "name": "ipython",
    "version": 3
   },
   "file_extension": ".py",
   "mimetype": "text/x-python",
   "name": "python",
   "nbconvert_exporter": "python",
   "pygments_lexer": "ipython3",
   "version": "3.11.4"
  }
 },
 "nbformat": 4,
 "nbformat_minor": 4
}
